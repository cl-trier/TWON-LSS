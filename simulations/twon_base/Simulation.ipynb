{
 "cells": [
  {
   "cell_type": "code",
   "execution_count": null,
   "id": "e1a77c62",
   "metadata": {},
   "outputs": [],
   "source": [
    "import json\n",
    "import logging\n",
    "\n",
    "import rich\n",
    "import dotenv\n",
    "\n",
    "import networkx"
   ]
  },
  {
   "cell_type": "code",
   "execution_count": null,
   "id": "9053d18b",
   "metadata": {},
   "outputs": [],
   "source": [
    "from twon_lss.simulations.twon_base import (\n",
    "    Simulation,\n",
    "    SimulationArgs,\n",
    "    Ranker,\n",
    "    Agent,\n",
    "    AgentInstructions,\n",
    ")\n",
    "\n",
    "from twon_lss.schemas import Post, User, Feed, Network\n",
    "from twon_lss.utility import LLM, Message"
   ]
  },
  {
   "cell_type": "code",
   "execution_count": null,
   "id": "3d5bd4cf",
   "metadata": {},
   "outputs": [],
   "source": [
    "logging.getLogger().setLevel(logging.DEBUG)"
   ]
  },
  {
   "cell_type": "code",
   "execution_count": null,
   "id": "74419be0",
   "metadata": {},
   "outputs": [],
   "source": [
    "NUM_AGENTS: int = 10\n",
    "LENGTH_AGENT_MEMORY: int = 10"
   ]
  },
  {
   "cell_type": "code",
   "execution_count": null,
   "id": "4acca23f",
   "metadata": {},
   "outputs": [],
   "source": [
    "ENV = dotenv.dotenv_values(\"../\" * 3 + \".env\")\n",
    "AGENTS_INSTRUCTIONS_CFG = json.load(open(\"./data/agents.instructions.json\"))\n",
    "AGENTS_PERSONAS_CFG = json.load(open(\"./data/agents.personas.json\"))[:NUM_AGENTS]\n",
    "\n",
    "rich.print(AGENTS_INSTRUCTIONS_CFG)\n",
    "rich.print(len(AGENTS_PERSONAS_CFG))"
   ]
  },
  {
   "cell_type": "code",
   "execution_count": null,
   "id": "19175a08",
   "metadata": {},
   "outputs": [],
   "source": [
    "RANKER = Ranker(\n",
    "    llm=LLM(api_key=ENV[\"HF_TOKEN\"], model=\"BAAI/bge-m3\", url=\"https://router.huggingface.co/hf-inference/models/BAAI/bge-m3/pipeline/sentence-similarity\"),\n",
    ")"
   ]
  },
  {
   "cell_type": "code",
   "execution_count": null,
   "id": "21e9b4c3",
   "metadata": {},
   "outputs": [],
   "source": [
    "# solution for real user name\n",
    "USERS = [User() for _ in range(NUM_AGENTS)]"
   ]
  },
  {
   "cell_type": "code",
   "execution_count": null,
   "id": "6042b00c",
   "metadata": {},
   "outputs": [],
   "source": [
    "NETWORK = Network.from_graph(networkx.random_regular_graph(4, len(USERS)), USERS)\n",
    "networkx.draw(NETWORK.root)"
   ]
  },
  {
   "cell_type": "code",
   "execution_count": null,
   "id": "4d3c7224",
   "metadata": {},
   "outputs": [],
   "source": [
    "histories = [\n",
    "    [message.get(\"content\") for message in personas[\"messages\"] if message.get(\"role\") == \"assistant\"]\n",
    "    for personas in AGENTS_PERSONAS_CFG\n",
    "]\n",
    "histories[0][:2], histories[1][:2]"
   ]
  },
  {
   "cell_type": "code",
   "execution_count": null,
   "id": "4bca1856",
   "metadata": {},
   "outputs": [],
   "source": [
    "FEED = Feed(\n",
    "    [\n",
    "        Post(user=user, content=post)\n",
    "        for user, history in zip(USERS, histories, strict=False)\n",
    "        for post in history[:2]\n",
    "    ]\n",
    ")\n",
    "len(FEED)"
   ]
  },
  {
   "cell_type": "code",
   "execution_count": null,
   "id": "9ffbf4ce",
   "metadata": {},
   "outputs": [],
   "source": [
    "AGENT_LLM = LLM(api_key=ENV[\"HF_TOKEN\"])"
   ]
  },
  {
   "cell_type": "code",
   "execution_count": null,
   "id": "45917ea9",
   "metadata": {},
   "outputs": [],
   "source": [
    "INDIVIDUALS = {\n",
    "    user: Agent(\n",
    "        llm=AGENT_LLM,\n",
    "        instructions=AgentInstructions(\n",
    "            persona=AGENTS_INSTRUCTIONS_CFG[\"persona\"], **AGENTS_INSTRUCTIONS_CFG[\"actions\"]\n",
    "        ),\n",
    "        memory=history[\"messages\"][1:LENGTH_AGENT_MEMORY + 1],\n",
    "    )\n",
    "    for user, history in zip(\n",
    "        USERS, AGENTS_PERSONAS_CFG, strict=False\n",
    "    )\n",
    "}\n",
    "rich.print(INDIVIDUALS.get(USERS[0]))"
   ]
  },
  {
   "cell_type": "code",
   "execution_count": null,
   "id": "6b8cbbea",
   "metadata": {},
   "outputs": [],
   "source": [
    "simulation = Simulation(\n",
    "    args=SimulationArgs(num_steps=2, num_posts_to_interact_with=2),\n",
    "    ranker=RANKER,\n",
    "    individuals=INDIVIDUALS,\n",
    "    network=NETWORK,\n",
    "    feed=FEED,\n",
    ")"
   ]
  },
  {
   "cell_type": "code",
   "execution_count": null,
   "id": "e25425df",
   "metadata": {},
   "outputs": [],
   "source": [
    "simulation()"
   ]
  }
 ],
 "metadata": {
  "kernelspec": {
   "display_name": "twon-lss",
   "language": "python",
   "name": "python3"
  },
  "language_info": {
   "codemirror_mode": {
    "name": "ipython",
    "version": 3
   },
   "file_extension": ".py",
   "mimetype": "text/x-python",
   "name": "python",
   "nbconvert_exporter": "python",
   "pygments_lexer": "ipython3",
   "version": "3.10.12"
  }
 },
 "nbformat": 4,
 "nbformat_minor": 5
}
