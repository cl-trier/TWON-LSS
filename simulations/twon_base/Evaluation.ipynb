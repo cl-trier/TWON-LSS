{
 "cells": [
  {
   "cell_type": "code",
   "execution_count": null,
   "id": "e61729d1",
   "metadata": {},
   "outputs": [],
   "source": [
    "import pandas \n",
    "import seaborn\n",
    "\n",
    "import json"
   ]
  },
  {
   "cell_type": "code",
   "execution_count": null,
   "id": "b5b74bc9",
   "metadata": {},
   "outputs": [],
   "source": [
    "data = pandas.DataFrame(json.loads(open(\"output/feed.json\").read()))\n",
    "len(data)"
   ]
  },
  {
   "cell_type": "code",
   "execution_count": null,
   "id": "668b50cc",
   "metadata": {},
   "outputs": [],
   "source": []
  }
 ],
 "metadata": {
  "kernelspec": {
   "display_name": "twon-lss",
   "language": "python",
   "name": "python3"
  },
  "language_info": {
   "codemirror_mode": {
    "name": "ipython",
    "version": 3
   },
   "file_extension": ".py",
   "mimetype": "text/x-python",
   "name": "python",
   "nbconvert_exporter": "python",
   "pygments_lexer": "ipython3",
   "version": "3.10.12"
  }
 },
 "nbformat": 4,
 "nbformat_minor": 5
}
