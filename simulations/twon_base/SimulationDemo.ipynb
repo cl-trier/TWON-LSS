{
 "cells": [
  {
   "cell_type": "code",
   "execution_count": null,
   "id": "e1a77c62",
   "metadata": {},
   "outputs": [],
   "source": [
    "import json\n",
    "import logging\n",
    "\n",
    "import rich\n",
    "import dotenv\n",
    "\n",
    "import networkx\n",
    "\n",
    "import random\n",
    "\n",
    "from pathlib import Path"
   ]
  },
  {
   "cell_type": "code",
   "execution_count": null,
   "id": "9053d18b",
   "metadata": {},
   "outputs": [],
   "source": [
    "from twon_lss.simulations.twon_base import (\n",
    "    Simulation,\n",
    "    SimulationArgs,\n",
    "    RankerArgs,\n",
    "    SemanticSimilarityRanker,\n",
    "    Agent,\n",
    "    AgentInstructions,\n",
    ")\n",
    "\n",
    "from twon_lss.schemas import Post, User, Feed, Network\n",
    "from twon_lss.utility import LLM, Message"
   ]
  },
  {
   "cell_type": "code",
   "execution_count": null,
   "id": "3d5bd4cf",
   "metadata": {},
   "outputs": [],
   "source": [
    "logging.getLogger().setLevel(logging.DEBUG)"
   ]
  },
  {
   "cell_type": "code",
   "execution_count": null,
   "id": "74419be0",
   "metadata": {},
   "outputs": [],
   "source": [
    "# Fixed across experiments\n",
    "LENGTH_AGENT_MEMORY: int = 21 # actions (42 prompt-completion pairs) => Past 7 Rounds (2 Reads + 1 Write)\n",
    "PERSISTENCE: int = 4\n",
    "NUM_POSTS_TO_INTERACT_WITH: int = 2\n",
    "STEPS: int = 5\n",
    "\n",
    "# Varies across experiments\n",
    "NUM_AGENTS: int = 8\n",
    "\n",
    "# Fix seed\n",
    "random.seed(42)"
   ]
  },
  {
   "cell_type": "code",
   "execution_count": null,
   "id": "4acca23f",
   "metadata": {},
   "outputs": [],
   "source": [
    "ENV = dotenv.dotenv_values(\"../\" * 2 + \".env\")\n",
    "AGENTS_INSTRUCTIONS_CFG = json.load(open(\"./data/agents.instructions.json\"))\n",
    "AGENTS_PERSONAS_CFG = json.load(open(\"./data/agents.personas.json\"))\n",
    "AGENTS_PERSONAS_CFG = random.sample(AGENTS_PERSONAS_CFG, k=NUM_AGENTS)\n",
    "\n",
    "rich.print(AGENTS_INSTRUCTIONS_CFG)\n",
    "rich.print(len(AGENTS_PERSONAS_CFG))"
   ]
  },
  {
   "cell_type": "code",
   "execution_count": null,
   "id": "19175a08",
   "metadata": {},
   "outputs": [],
   "source": [
    "RANKER = SemanticSimilarityRanker(\n",
    "    llm=LLM(api_key=ENV[\"HF_TOKEN\"], model=\"mxbai-embed-large-v1\", url=\"https://router.huggingface.co/hf-inference/models/mixedbread-ai/mxbai-embed-large-v1/pipeline/feature-extraction\"),\n",
    "    args=RankerArgs(persistence=PERSISTENCE)\n",
    ")"
   ]
  },
  {
   "cell_type": "code",
   "execution_count": null,
   "id": "9ffbf4ce",
   "metadata": {},
   "outputs": [],
   "source": [
    "AGENT_LLM = LLM(api_key=ENV[\"HF_TOKEN\"], model=\"meta-llama/Llama-3.1-8B-Instruct:cerebras\")"
   ]
  },
  {
   "cell_type": "code",
   "execution_count": null,
   "id": "8d10f9ec",
   "metadata": {},
   "outputs": [],
   "source": [
    "usernames = [LLM.generate_username(AGENT_LLM, history.get(\"messages\", [])) for history in AGENTS_PERSONAS_CFG]\n",
    "USERS = [User(id=username) for username in usernames]\n",
    "usernames[:5]"
   ]
  },
  {
   "cell_type": "code",
   "execution_count": null,
   "id": "9d62168d",
   "metadata": {},
   "outputs": [],
   "source": [
    "NETWORK = Network.from_graph(networkx.complete_graph(n = len(USERS)), USERS)\n",
    "networkx.draw(NETWORK.root)"
   ]
  },
  {
   "cell_type": "code",
   "execution_count": null,
   "id": "4d3c7224",
   "metadata": {},
   "outputs": [],
   "source": [
    "histories = [\n",
    "    [message.get(\"content\") for message in personas[\"messages\"] if message.get(\"role\") == \"assistant\"]\n",
    "    for personas in AGENTS_PERSONAS_CFG\n",
    "]\n",
    "histories[0][:2]"
   ]
  },
  {
   "cell_type": "code",
   "execution_count": null,
   "id": "4bca1856",
   "metadata": {},
   "outputs": [],
   "source": [
    "FEED = Feed(\n",
    "    [\n",
    "        Post(user=user, content=post)\n",
    "        for user, history in zip(USERS, histories, strict=False)\n",
    "        for post in history[:2]\n",
    "    ]\n",
    ")\n",
    "len(FEED)"
   ]
  },
  {
   "cell_type": "code",
   "execution_count": null,
   "id": "45917ea9",
   "metadata": {},
   "outputs": [],
   "source": [
    "INDIVIDUALS = {\n",
    "    user: Agent(\n",
    "        llm=AGENT_LLM,\n",
    "        instructions=AgentInstructions(\n",
    "            persona=AGENTS_INSTRUCTIONS_CFG[\"persona\"], **AGENTS_INSTRUCTIONS_CFG[\"actions\"]\n",
    "        ),\n",
    "        memory=history[\"messages\"][1:LENGTH_AGENT_MEMORY*2 + 1],\n",
    "        memory_length=LENGTH_AGENT_MEMORY\n",
    "    )\n",
    "    for user, history in zip(\n",
    "        USERS, AGENTS_PERSONAS_CFG, strict=False\n",
    "    )\n",
    "}\n",
    "rich.print(INDIVIDUALS.get(USERS[0]))"
   ]
  },
  {
   "cell_type": "code",
   "execution_count": null,
   "id": "6b8cbbea",
   "metadata": {},
   "outputs": [],
   "source": [
    "simulation = Simulation(\n",
    "    args=SimulationArgs(num_steps=STEPS, num_posts_to_interact_with=NUM_POSTS_TO_INTERACT_WITH),\n",
    "    ranker=RANKER,\n",
    "    individuals=INDIVIDUALS,\n",
    "    network=NETWORK,\n",
    "    feed=FEED,\n",
    "    output_path=Path(\"Output/\").mkdir(exist_ok=True) or \"Output/\"\n",
    ")"
   ]
  },
  {
   "cell_type": "code",
   "execution_count": null,
   "id": "e25425df",
   "metadata": {},
   "outputs": [],
   "source": [
    "simulation()"
   ]
  },
  {
   "cell_type": "code",
   "execution_count": null,
   "id": "c62b9372",
   "metadata": {},
   "outputs": [],
   "source": []
  }
 ],
 "metadata": {
  "kernelspec": {
   "display_name": "twon-lss",
   "language": "python",
   "name": "python3"
  },
  "language_info": {
   "codemirror_mode": {
    "name": "ipython",
    "version": 3
   },
   "file_extension": ".py",
   "mimetype": "text/x-python",
   "name": "python",
   "nbconvert_exporter": "python",
   "pygments_lexer": "ipython3",
   "version": "3.10.12"
  }
 },
 "nbformat": 4,
 "nbformat_minor": 5
}
