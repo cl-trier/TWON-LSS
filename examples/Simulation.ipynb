{
 "cells": [
  {
   "cell_type": "code",
   "execution_count": 1,
   "id": "e1a77c62",
   "metadata": {},
   "outputs": [],
   "source": [
    "import typing\n",
    "import datetime\n",
    "\n",
    "import rich\n",
    "import dotenv\n",
    "\n",
    "import networkx\n",
    "import huggingface_hub"
   ]
  },
  {
   "cell_type": "code",
   "execution_count": 2,
   "id": "9053d18b",
   "metadata": {},
   "outputs": [],
   "source": [
    "from twon_lss.simulations.twon_base import (\n",
    "    Simulation,\n",
    "    SimulationArgs,\n",
    "    Ranker,\n",
    "    Agent,\n",
    "    AgentInstructions,\n",
    ")\n",
    "\n",
    "from twon_lss.schemas import Post, User, Feed, Network\n",
    "from twon_lss.utility import LLM, Message, Decay"
   ]
  },
  {
   "cell_type": "code",
   "execution_count": 3,
   "id": "4acca23f",
   "metadata": {},
   "outputs": [],
   "source": [
    "CFG = dotenv.dotenv_values(\"../.env\")"
   ]
  },
  {
   "cell_type": "code",
   "execution_count": 5,
   "id": "19175a08",
   "metadata": {},
   "outputs": [
    {
     "data": {
      "text/html": [
       "<pre style=\"white-space:pre;overflow-x:auto;line-height:normal;font-family:Menlo,'DejaVu Sans Mono',consolas,'Courier New',monospace\"><span style=\"color: #800080; text-decoration-color: #800080; font-weight: bold\">Ranker</span><span style=\"font-weight: bold\">(</span>\n",
       "    <span style=\"color: #808000; text-decoration-color: #808000\">args</span>=<span style=\"color: #800080; text-decoration-color: #800080; font-weight: bold\">RankerArgs</span><span style=\"font-weight: bold\">(</span>\n",
       "        <span style=\"color: #808000; text-decoration-color: #808000\">weights</span>=<span style=\"color: #800080; text-decoration-color: #800080; font-weight: bold\">RankerInterfaceWeights</span><span style=\"font-weight: bold\">(</span><span style=\"color: #808000; text-decoration-color: #808000\">network</span>=<span style=\"color: #008080; text-decoration-color: #008080; font-weight: bold\">1.0</span>, <span style=\"color: #808000; text-decoration-color: #808000\">individual</span>=<span style=\"color: #008080; text-decoration-color: #008080; font-weight: bold\">1.0</span><span style=\"font-weight: bold\">)</span>,\n",
       "        <span style=\"color: #808000; text-decoration-color: #808000\">noise</span>=<span style=\"color: #800080; text-decoration-color: #800080; font-weight: bold\">Noise</span><span style=\"font-weight: bold\">(</span><span style=\"color: #808000; text-decoration-color: #808000\">low</span>=<span style=\"color: #008080; text-decoration-color: #008080; font-weight: bold\">0.8</span>, <span style=\"color: #808000; text-decoration-color: #808000\">high</span>=<span style=\"color: #008080; text-decoration-color: #008080; font-weight: bold\">1.2</span><span style=\"font-weight: bold\">)</span>,\n",
       "        <span style=\"color: #808000; text-decoration-color: #808000\">engagement</span>=<span style=\"color: #800080; text-decoration-color: #800080; font-weight: bold\">Engagement</span><span style=\"font-weight: bold\">(</span><span style=\"color: #808000; text-decoration-color: #808000\">log_normalize</span>=<span style=\"color: #ff0000; text-decoration-color: #ff0000; font-style: italic\">False</span><span style=\"font-weight: bold\">)</span>,\n",
       "        <span style=\"color: #808000; text-decoration-color: #808000\">engagementWeights</span>=<span style=\"color: #800080; text-decoration-color: #800080; font-weight: bold\">EngagementWeights</span><span style=\"font-weight: bold\">(</span><span style=\"color: #808000; text-decoration-color: #808000\">likes</span>=<span style=\"color: #008080; text-decoration-color: #008080; font-weight: bold\">1.0</span>, <span style=\"color: #808000; text-decoration-color: #808000\">shares</span>=<span style=\"color: #008080; text-decoration-color: #008080; font-weight: bold\">1.0</span>, <span style=\"color: #808000; text-decoration-color: #808000\">comments</span>=<span style=\"color: #008080; text-decoration-color: #008080; font-weight: bold\">1.0</span><span style=\"font-weight: bold\">)</span>\n",
       "    <span style=\"font-weight: bold\">)</span>,\n",
       "    <span style=\"color: #808000; text-decoration-color: #808000\">decay</span>=<span style=\"color: #800080; text-decoration-color: #800080; font-weight: bold\">Decay</span><span style=\"font-weight: bold\">(</span><span style=\"color: #808000; text-decoration-color: #808000\">minimum</span>=<span style=\"color: #008080; text-decoration-color: #008080; font-weight: bold\">0.2</span>, <span style=\"color: #808000; text-decoration-color: #808000\">timedelta</span>=<span style=\"color: #800080; text-decoration-color: #800080; font-weight: bold\">datetime</span><span style=\"color: #800080; text-decoration-color: #800080; font-weight: bold\">.timedelta</span><span style=\"font-weight: bold\">(</span><span style=\"color: #808000; text-decoration-color: #808000\">days</span>=<span style=\"color: #008080; text-decoration-color: #008080; font-weight: bold\">3</span><span style=\"font-weight: bold\">))</span>,\n",
       "    <span style=\"color: #808000; text-decoration-color: #808000\">llm</span>=<span style=\"color: #800080; text-decoration-color: #800080; font-weight: bold\">LLM</span><span style=\"font-weight: bold\">(</span><span style=\"color: #808000; text-decoration-color: #808000\">client</span>=<span style=\"font-weight: bold\">&lt;</span><span style=\"color: #800080; text-decoration-color: #800080; font-weight: bold\">InferenceClient</span><span style=\"color: #000000; text-decoration-color: #000000; font-weight: bold\">(</span><span style=\"color: #808000; text-decoration-color: #808000\">model</span><span style=\"color: #000000; text-decoration-color: #000000\">=</span><span style=\"color: #008000; text-decoration-color: #008000\">''</span><span style=\"color: #000000; text-decoration-color: #000000\">, </span><span style=\"color: #808000; text-decoration-color: #808000\">timeout</span><span style=\"color: #000000; text-decoration-color: #000000\">=</span><span style=\"color: #800080; text-decoration-color: #800080; font-style: italic\">None</span><span style=\"color: #000000; text-decoration-color: #000000; font-weight: bold\">)</span><span style=\"font-weight: bold\">&gt;</span>, <span style=\"color: #808000; text-decoration-color: #808000\">model</span>=<span style=\"color: #008000; text-decoration-color: #008000\">'BAAI/bge-m3'</span><span style=\"font-weight: bold\">)</span>\n",
       "<span style=\"font-weight: bold\">)</span>\n",
       "</pre>\n"
      ],
      "text/plain": [
       "\u001b[1;35mRanker\u001b[0m\u001b[1m(\u001b[0m\n",
       "    \u001b[33margs\u001b[0m=\u001b[1;35mRankerArgs\u001b[0m\u001b[1m(\u001b[0m\n",
       "        \u001b[33mweights\u001b[0m=\u001b[1;35mRankerInterfaceWeights\u001b[0m\u001b[1m(\u001b[0m\u001b[33mnetwork\u001b[0m=\u001b[1;36m1\u001b[0m\u001b[1;36m.0\u001b[0m, \u001b[33mindividual\u001b[0m=\u001b[1;36m1\u001b[0m\u001b[1;36m.0\u001b[0m\u001b[1m)\u001b[0m,\n",
       "        \u001b[33mnoise\u001b[0m=\u001b[1;35mNoise\u001b[0m\u001b[1m(\u001b[0m\u001b[33mlow\u001b[0m=\u001b[1;36m0\u001b[0m\u001b[1;36m.8\u001b[0m, \u001b[33mhigh\u001b[0m=\u001b[1;36m1\u001b[0m\u001b[1;36m.2\u001b[0m\u001b[1m)\u001b[0m,\n",
       "        \u001b[33mengagement\u001b[0m=\u001b[1;35mEngagement\u001b[0m\u001b[1m(\u001b[0m\u001b[33mlog_normalize\u001b[0m=\u001b[3;91mFalse\u001b[0m\u001b[1m)\u001b[0m,\n",
       "        \u001b[33mengagementWeights\u001b[0m=\u001b[1;35mEngagementWeights\u001b[0m\u001b[1m(\u001b[0m\u001b[33mlikes\u001b[0m=\u001b[1;36m1\u001b[0m\u001b[1;36m.0\u001b[0m, \u001b[33mshares\u001b[0m=\u001b[1;36m1\u001b[0m\u001b[1;36m.0\u001b[0m, \u001b[33mcomments\u001b[0m=\u001b[1;36m1\u001b[0m\u001b[1;36m.0\u001b[0m\u001b[1m)\u001b[0m\n",
       "    \u001b[1m)\u001b[0m,\n",
       "    \u001b[33mdecay\u001b[0m=\u001b[1;35mDecay\u001b[0m\u001b[1m(\u001b[0m\u001b[33mminimum\u001b[0m=\u001b[1;36m0\u001b[0m\u001b[1;36m.2\u001b[0m, \u001b[33mtimedelta\u001b[0m=\u001b[1;35mdatetime\u001b[0m\u001b[1;35m.timedelta\u001b[0m\u001b[1m(\u001b[0m\u001b[33mdays\u001b[0m=\u001b[1;36m3\u001b[0m\u001b[1m)\u001b[0m\u001b[1m)\u001b[0m,\n",
       "    \u001b[33mllm\u001b[0m=\u001b[1;35mLLM\u001b[0m\u001b[1m(\u001b[0m\u001b[33mclient\u001b[0m=\u001b[1m<\u001b[0m\u001b[1;35mInferenceClient\u001b[0m\u001b[1;39m(\u001b[0m\u001b[33mmodel\u001b[0m\u001b[39m=\u001b[0m\u001b[32m''\u001b[0m\u001b[39m, \u001b[0m\u001b[33mtimeout\u001b[0m\u001b[39m=\u001b[0m\u001b[3;35mNone\u001b[0m\u001b[1;39m)\u001b[0m\u001b[1m>\u001b[0m, \u001b[33mmodel\u001b[0m=\u001b[32m'BAAI/bge-m3'\u001b[0m\u001b[1m)\u001b[0m\n",
       "\u001b[1m)\u001b[0m\n"
      ]
     },
     "metadata": {},
     "output_type": "display_data"
    }
   ],
   "source": [
    "RANKER = Ranker(\n",
    "    decay=Decay(low=0.2, timedelta=datetime.timedelta(days=3)),\n",
    "    llm=LLM(\n",
    "        client=huggingface_hub.InferenceClient(api_key=CFG[\"HF_TOKEN\"]),\n",
    "        model=\"BAAI/bge-m3\",\n",
    "    ),\n",
    ")\n",
    "rich.print(RANKER)"
   ]
  },
  {
   "cell_type": "code",
   "execution_count": 7,
   "id": "c18904f2",
   "metadata": {},
   "outputs": [],
   "source": [
    "PARTICIPANTS = dict(\n",
    "    progressive=dict(\n",
    "        persona=\"Act as a social media user who embodies progressive American activist viewpoints. Your character should have a consistent posting and commenting history.\",\n",
    "        post=\"Proud to join the climate rally downtown today! Over 500 people showed up demanding our city divest from fossil fuels. Change happens when we organize together. The future is renewable energy and green jobs - we just need leaders brave enough to fight for it!\",\n",
    "    ),\n",
    "    moderate=dict(\n",
    "        persona=\"Act as a social media user who embodies moderate American centrist viewpoints. Your character should have a consistent posting and commenting history.\",\n",
    "        post=\"Both parties are missing the point on healthcare reform. Instead of screaming about 'socialized medicine' or 'corporate greed,' why not work together on bipartisan solutions? Price transparency, prescription drug costs, preventive care - there's common ground here if politicians would stop grandstanding.\",\n",
    "    ),\n",
    "    libertarian=dict(\n",
    "        persona=\"Act as a social media user who embodies libertarian American political viewpoints. Your character should have a consistent posting and commenting history.\",\n",
    "        post=\"Another day, another government program that costs billions and delivers nothing. TSA security theater, NSA surveillance, endless foreign wars - when did we decide the federal government should control every aspect of our lives? Less government, more freedom. That's not radical, that's constitutional.\",\n",
    "    ),\n",
    "    conservative=dict(\n",
    "        persona=\"Act as a social media user who embodies mainstream American conservative viewpoints. Your character should have a consistent posting and commenting history.\",\n",
    "        post=\"Just filled up my truck - $3.89/gallon! Remember when gas was under $2 during Trump's presidency? This administration's war on American energy is hitting working families hard. We need to get back to energy independence and stop begging other countries for oil. \",\n",
    "    ),\n",
    ")\n",
    "\n",
    "GLOBAL_INSTRUCTIONS: typing.Dict[str, str] = dict(\n",
    "    select_actions=\"Choose one or multiple of the following actions you would perform on the following post and return them separated by colons. Respond with the action names only.\",\n",
    "    comment=\"Write a short comment considering the following original post and past comments.\",\n",
    "    post=\"Write a independent post considering the following content.\",\n",
    ")"
   ]
  },
  {
   "cell_type": "code",
   "execution_count": 8,
   "id": "21e9b4c3",
   "metadata": {},
   "outputs": [
    {
     "data": {
      "text/html": [
       "<pre style=\"white-space:pre;overflow-x:auto;line-height:normal;font-family:Menlo,'DejaVu Sans Mono',consolas,'Courier New',monospace\"><span style=\"font-weight: bold\">[</span>\n",
       "    <span style=\"color: #800080; text-decoration-color: #800080; font-weight: bold\">User</span><span style=\"font-weight: bold\">(</span><span style=\"color: #808000; text-decoration-color: #808000\">id</span>=<span style=\"color: #008000; text-decoration-color: #008000\">'user-03240975-03f7-4cd3-a235-2f7fb8c7e693'</span><span style=\"font-weight: bold\">)</span>,\n",
       "    <span style=\"color: #800080; text-decoration-color: #800080; font-weight: bold\">User</span><span style=\"font-weight: bold\">(</span><span style=\"color: #808000; text-decoration-color: #808000\">id</span>=<span style=\"color: #008000; text-decoration-color: #008000\">'user-0a107fc2-05ea-4859-8f4a-b2ef2bf92f73'</span><span style=\"font-weight: bold\">)</span>,\n",
       "    <span style=\"color: #800080; text-decoration-color: #800080; font-weight: bold\">User</span><span style=\"font-weight: bold\">(</span><span style=\"color: #808000; text-decoration-color: #808000\">id</span>=<span style=\"color: #008000; text-decoration-color: #008000\">'user-2a13d383-23a6-472b-9e7a-1abad615d382'</span><span style=\"font-weight: bold\">)</span>,\n",
       "    <span style=\"color: #800080; text-decoration-color: #800080; font-weight: bold\">User</span><span style=\"font-weight: bold\">(</span><span style=\"color: #808000; text-decoration-color: #808000\">id</span>=<span style=\"color: #008000; text-decoration-color: #008000\">'user-40967b9f-0330-4a35-a006-88cd95aee511'</span><span style=\"font-weight: bold\">)</span>\n",
       "<span style=\"font-weight: bold\">]</span>\n",
       "</pre>\n"
      ],
      "text/plain": [
       "\u001b[1m[\u001b[0m\n",
       "    \u001b[1;35mUser\u001b[0m\u001b[1m(\u001b[0m\u001b[33mid\u001b[0m=\u001b[32m'user-03240975-03f7-4cd3-a235-2f7fb8c7e693'\u001b[0m\u001b[1m)\u001b[0m,\n",
       "    \u001b[1;35mUser\u001b[0m\u001b[1m(\u001b[0m\u001b[33mid\u001b[0m=\u001b[32m'user-0a107fc2-05ea-4859-8f4a-b2ef2bf92f73'\u001b[0m\u001b[1m)\u001b[0m,\n",
       "    \u001b[1;35mUser\u001b[0m\u001b[1m(\u001b[0m\u001b[33mid\u001b[0m=\u001b[32m'user-2a13d383-23a6-472b-9e7a-1abad615d382'\u001b[0m\u001b[1m)\u001b[0m,\n",
       "    \u001b[1;35mUser\u001b[0m\u001b[1m(\u001b[0m\u001b[33mid\u001b[0m=\u001b[32m'user-40967b9f-0330-4a35-a006-88cd95aee511'\u001b[0m\u001b[1m)\u001b[0m\n",
       "\u001b[1m]\u001b[0m\n"
      ]
     },
     "metadata": {},
     "output_type": "display_data"
    }
   ],
   "source": [
    "USERS = [User() for _ in range(len(PARTICIPANTS))]\n",
    "rich.print(USERS)"
   ]
  },
  {
   "cell_type": "code",
   "execution_count": 9,
   "id": "6042b00c",
   "metadata": {},
   "outputs": [
    {
     "data": {
      "image/png": "[encoded data removed]",
      "text/plain": [
       "<Figure size 640x480 with 1 Axes>"
      ]
     },
     "metadata": {},
     "output_type": "display_data"
    }
   ],
   "source": [
    "NETWORK = Network.from_graph(networkx.random_regular_graph(3, len(USERS)), USERS)\n",
    "networkx.draw(NETWORK.root)"
   ]
  },
  {
   "cell_type": "code",
   "execution_count": 10,
   "id": "bfa611f1",
   "metadata": {},
   "outputs": [
    {
     "data": {
      "text/html": [
       "<pre style=\"white-space:pre;overflow-x:auto;line-height:normal;font-family:Menlo,'DejaVu Sans Mono',consolas,'Courier New',monospace\"><span style=\"color: #800080; text-decoration-color: #800080; font-weight: bold\">Feed</span><span style=\"font-weight: bold\">(</span>\n",
       "    <span style=\"color: #808000; text-decoration-color: #808000\">root</span>=<span style=\"font-weight: bold\">[</span>\n",
       "        <span style=\"color: #800080; text-decoration-color: #800080; font-weight: bold\">Post</span><span style=\"font-weight: bold\">(</span>\n",
       "            <span style=\"color: #808000; text-decoration-color: #808000\">user</span>=<span style=\"color: #800080; text-decoration-color: #800080; font-weight: bold\">User</span><span style=\"font-weight: bold\">(</span><span style=\"color: #808000; text-decoration-color: #808000\">id</span>=<span style=\"color: #008000; text-decoration-color: #008000\">'user-03240975-03f7-4cd3-a235-2f7fb8c7e693'</span><span style=\"font-weight: bold\">)</span>,\n",
       "            <span style=\"color: #808000; text-decoration-color: #808000\">content</span>=<span style=\"color: #008000; text-decoration-color: #008000\">'Proud to join the climate rally downtown today! Over 500 people showed up demanding our city </span>\n",
       "<span style=\"color: #008000; text-decoration-color: #008000\">divest from fossil fuels. Change happens when we organize together. The future is renewable energy and green jobs -</span>\n",
       "<span style=\"color: #008000; text-decoration-color: #008000\">we just need leaders brave enough to fight for it!'</span>,\n",
       "            <span style=\"color: #808000; text-decoration-color: #808000\">interactions</span>=<span style=\"font-weight: bold\">[]</span>,\n",
       "            <span style=\"color: #808000; text-decoration-color: #808000\">comments</span>=<span style=\"font-weight: bold\">[]</span>,\n",
       "            <span style=\"color: #808000; text-decoration-color: #808000\">id</span>=<span style=\"color: #008000; text-decoration-color: #008000\">'post-85854140-8152-4354-9b94-3cb26cd71ecc'</span>,\n",
       "            <span style=\"color: #808000; text-decoration-color: #808000\">timestamp</span>=<span style=\"color: #800080; text-decoration-color: #800080; font-weight: bold\">datetime</span><span style=\"color: #800080; text-decoration-color: #800080; font-weight: bold\">.datetime</span><span style=\"font-weight: bold\">(</span><span style=\"color: #008080; text-decoration-color: #008080; font-weight: bold\">2025</span>, <span style=\"color: #008080; text-decoration-color: #008080; font-weight: bold\">8</span>, <span style=\"color: #008080; text-decoration-color: #008080; font-weight: bold\">6</span>, <span style=\"color: #008080; text-decoration-color: #008080; font-weight: bold\">16</span>, <span style=\"color: #008080; text-decoration-color: #008080; font-weight: bold\">46</span>, <span style=\"color: #008080; text-decoration-color: #008080; font-weight: bold\">40</span>, <span style=\"color: #008080; text-decoration-color: #008080; font-weight: bold\">828093</span><span style=\"font-weight: bold\">)</span>\n",
       "        <span style=\"font-weight: bold\">)</span>,\n",
       "        <span style=\"color: #800080; text-decoration-color: #800080; font-weight: bold\">Post</span><span style=\"font-weight: bold\">(</span>\n",
       "            <span style=\"color: #808000; text-decoration-color: #808000\">user</span>=<span style=\"color: #800080; text-decoration-color: #800080; font-weight: bold\">User</span><span style=\"font-weight: bold\">(</span><span style=\"color: #808000; text-decoration-color: #808000\">id</span>=<span style=\"color: #008000; text-decoration-color: #008000\">'user-0a107fc2-05ea-4859-8f4a-b2ef2bf92f73'</span><span style=\"font-weight: bold\">)</span>,\n",
       "            <span style=\"color: #808000; text-decoration-color: #808000\">content</span>=<span style=\"color: #008000; text-decoration-color: #008000\">\"Both parties are missing the point on healthcare reform. Instead of screaming about </span>\n",
       "<span style=\"color: #008000; text-decoration-color: #008000\">'socialized medicine' or 'corporate greed,' why not work together on bipartisan solutions? Price transparency, </span>\n",
       "<span style=\"color: #008000; text-decoration-color: #008000\">prescription drug costs, preventive care - there's common ground here if politicians would stop grandstanding.\"</span>,\n",
       "            <span style=\"color: #808000; text-decoration-color: #808000\">interactions</span>=<span style=\"font-weight: bold\">[]</span>,\n",
       "            <span style=\"color: #808000; text-decoration-color: #808000\">comments</span>=<span style=\"font-weight: bold\">[]</span>,\n",
       "            <span style=\"color: #808000; text-decoration-color: #808000\">id</span>=<span style=\"color: #008000; text-decoration-color: #008000\">'post-316efd94-360f-4168-b777-62a27b79a869'</span>,\n",
       "            <span style=\"color: #808000; text-decoration-color: #808000\">timestamp</span>=<span style=\"color: #800080; text-decoration-color: #800080; font-weight: bold\">datetime</span><span style=\"color: #800080; text-decoration-color: #800080; font-weight: bold\">.datetime</span><span style=\"font-weight: bold\">(</span><span style=\"color: #008080; text-decoration-color: #008080; font-weight: bold\">2025</span>, <span style=\"color: #008080; text-decoration-color: #008080; font-weight: bold\">8</span>, <span style=\"color: #008080; text-decoration-color: #008080; font-weight: bold\">6</span>, <span style=\"color: #008080; text-decoration-color: #008080; font-weight: bold\">16</span>, <span style=\"color: #008080; text-decoration-color: #008080; font-weight: bold\">46</span>, <span style=\"color: #008080; text-decoration-color: #008080; font-weight: bold\">40</span>, <span style=\"color: #008080; text-decoration-color: #008080; font-weight: bold\">828125</span><span style=\"font-weight: bold\">)</span>\n",
       "        <span style=\"font-weight: bold\">)</span>,\n",
       "        <span style=\"color: #800080; text-decoration-color: #800080; font-weight: bold\">Post</span><span style=\"font-weight: bold\">(</span>\n",
       "            <span style=\"color: #808000; text-decoration-color: #808000\">user</span>=<span style=\"color: #800080; text-decoration-color: #800080; font-weight: bold\">User</span><span style=\"font-weight: bold\">(</span><span style=\"color: #808000; text-decoration-color: #808000\">id</span>=<span style=\"color: #008000; text-decoration-color: #008000\">'user-2a13d383-23a6-472b-9e7a-1abad615d382'</span><span style=\"font-weight: bold\">)</span>,\n",
       "            <span style=\"color: #808000; text-decoration-color: #808000\">content</span>=<span style=\"color: #008000; text-decoration-color: #008000\">\"Another day, another government program that costs billions and delivers nothing. TSA security</span>\n",
       "<span style=\"color: #008000; text-decoration-color: #008000\">theater, NSA surveillance, endless foreign wars - when did we decide the federal government should control every </span>\n",
       "<span style=\"color: #008000; text-decoration-color: #008000\">aspect of our lives? Less government, more freedom. That's not radical, that's constitutional.\"</span>,\n",
       "            <span style=\"color: #808000; text-decoration-color: #808000\">interactions</span>=<span style=\"font-weight: bold\">[]</span>,\n",
       "            <span style=\"color: #808000; text-decoration-color: #808000\">comments</span>=<span style=\"font-weight: bold\">[]</span>,\n",
       "            <span style=\"color: #808000; text-decoration-color: #808000\">id</span>=<span style=\"color: #008000; text-decoration-color: #008000\">'post-64131676-3c76-4ff9-916e-47dd773ea0af'</span>,\n",
       "            <span style=\"color: #808000; text-decoration-color: #808000\">timestamp</span>=<span style=\"color: #800080; text-decoration-color: #800080; font-weight: bold\">datetime</span><span style=\"color: #800080; text-decoration-color: #800080; font-weight: bold\">.datetime</span><span style=\"font-weight: bold\">(</span><span style=\"color: #008080; text-decoration-color: #008080; font-weight: bold\">2025</span>, <span style=\"color: #008080; text-decoration-color: #008080; font-weight: bold\">8</span>, <span style=\"color: #008080; text-decoration-color: #008080; font-weight: bold\">6</span>, <span style=\"color: #008080; text-decoration-color: #008080; font-weight: bold\">16</span>, <span style=\"color: #008080; text-decoration-color: #008080; font-weight: bold\">46</span>, <span style=\"color: #008080; text-decoration-color: #008080; font-weight: bold\">40</span>, <span style=\"color: #008080; text-decoration-color: #008080; font-weight: bold\">828139</span><span style=\"font-weight: bold\">)</span>\n",
       "        <span style=\"font-weight: bold\">)</span>,\n",
       "        <span style=\"color: #800080; text-decoration-color: #800080; font-weight: bold\">Post</span><span style=\"font-weight: bold\">(</span>\n",
       "            <span style=\"color: #808000; text-decoration-color: #808000\">user</span>=<span style=\"color: #800080; text-decoration-color: #800080; font-weight: bold\">User</span><span style=\"font-weight: bold\">(</span><span style=\"color: #808000; text-decoration-color: #808000\">id</span>=<span style=\"color: #008000; text-decoration-color: #008000\">'user-40967b9f-0330-4a35-a006-88cd95aee511'</span><span style=\"font-weight: bold\">)</span>,\n",
       "            <span style=\"color: #808000; text-decoration-color: #808000\">content</span>=<span style=\"color: #008000; text-decoration-color: #008000\">\"Just filled up my truck - $3.89/gallon! Remember when gas was under $2 during Trump's </span>\n",
       "<span style=\"color: #008000; text-decoration-color: #008000\">presidency? This administration's war on American energy is hitting working families hard. We need to get back to </span>\n",
       "<span style=\"color: #008000; text-decoration-color: #008000\">energy independence and stop begging other countries for oil. \"</span>,\n",
       "            <span style=\"color: #808000; text-decoration-color: #808000\">interactions</span>=<span style=\"font-weight: bold\">[]</span>,\n",
       "            <span style=\"color: #808000; text-decoration-color: #808000\">comments</span>=<span style=\"font-weight: bold\">[]</span>,\n",
       "            <span style=\"color: #808000; text-decoration-color: #808000\">id</span>=<span style=\"color: #008000; text-decoration-color: #008000\">'post-025d0080-9e10-4ad9-ad3a-cd02921c25f7'</span>,\n",
       "            <span style=\"color: #808000; text-decoration-color: #808000\">timestamp</span>=<span style=\"color: #800080; text-decoration-color: #800080; font-weight: bold\">datetime</span><span style=\"color: #800080; text-decoration-color: #800080; font-weight: bold\">.datetime</span><span style=\"font-weight: bold\">(</span><span style=\"color: #008080; text-decoration-color: #008080; font-weight: bold\">2025</span>, <span style=\"color: #008080; text-decoration-color: #008080; font-weight: bold\">8</span>, <span style=\"color: #008080; text-decoration-color: #008080; font-weight: bold\">6</span>, <span style=\"color: #008080; text-decoration-color: #008080; font-weight: bold\">16</span>, <span style=\"color: #008080; text-decoration-color: #008080; font-weight: bold\">46</span>, <span style=\"color: #008080; text-decoration-color: #008080; font-weight: bold\">40</span>, <span style=\"color: #008080; text-decoration-color: #008080; font-weight: bold\">828160</span><span style=\"font-weight: bold\">)</span>\n",
       "        <span style=\"font-weight: bold\">)</span>\n",
       "    <span style=\"font-weight: bold\">]</span>\n",
       "<span style=\"font-weight: bold\">)</span>\n",
       "</pre>\n"
      ],
      "text/plain": [
       "\u001b[1;35mFeed\u001b[0m\u001b[1m(\u001b[0m\n",
       "    \u001b[33mroot\u001b[0m=\u001b[1m[\u001b[0m\n",
       "        \u001b[1;35mPost\u001b[0m\u001b[1m(\u001b[0m\n",
       "            \u001b[33muser\u001b[0m=\u001b[1;35mUser\u001b[0m\u001b[1m(\u001b[0m\u001b[33mid\u001b[0m=\u001b[32m'user-03240975-03f7-4cd3-a235-2f7fb8c7e693'\u001b[0m\u001b[1m)\u001b[0m,\n",
       "            \u001b[33mcontent\u001b[0m=\u001b[32m'Proud to join the climate rally downtown today! Over 500 people showed up demanding our city \u001b[0m\n",
       "\u001b[32mdivest from fossil fuels. Change happens when we organize together. The future is renewable energy and green jobs -\u001b[0m\n",
       "\u001b[32mwe just need leaders brave enough to fight for it!'\u001b[0m,\n",
       "            \u001b[33minteractions\u001b[0m=\u001b[1m[\u001b[0m\u001b[1m]\u001b[0m,\n",
       "            \u001b[33mcomments\u001b[0m=\u001b[1m[\u001b[0m\u001b[1m]\u001b[0m,\n",
       "            \u001b[33mid\u001b[0m=\u001b[32m'post-85854140-8152-4354-9b94-3cb26cd71ecc'\u001b[0m,\n",
       "            \u001b[33mtimestamp\u001b[0m=\u001b[1;35mdatetime\u001b[0m\u001b[1;35m.datetime\u001b[0m\u001b[1m(\u001b[0m\u001b[1;36m2025\u001b[0m, \u001b[1;36m8\u001b[0m, \u001b[1;36m6\u001b[0m, \u001b[1;36m16\u001b[0m, \u001b[1;36m46\u001b[0m, \u001b[1;36m40\u001b[0m, \u001b[1;36m828093\u001b[0m\u001b[1m)\u001b[0m\n",
       "        \u001b[1m)\u001b[0m,\n",
       "        \u001b[1;35mPost\u001b[0m\u001b[1m(\u001b[0m\n",
       "            \u001b[33muser\u001b[0m=\u001b[1;35mUser\u001b[0m\u001b[1m(\u001b[0m\u001b[33mid\u001b[0m=\u001b[32m'user-0a107fc2-05ea-4859-8f4a-b2ef2bf92f73'\u001b[0m\u001b[1m)\u001b[0m,\n",
       "            \u001b[33mcontent\u001b[0m=\u001b[32m\"Both\u001b[0m\u001b[32m parties are missing the point on healthcare reform. Instead of screaming about \u001b[0m\n",
       "\u001b[32m'socialized medicine' or 'corporate greed,' why not work together on bipartisan solutions? Price transparency, \u001b[0m\n",
       "\u001b[32mprescription drug costs, preventive care - there's common ground here if politicians would stop grandstanding.\"\u001b[0m,\n",
       "            \u001b[33minteractions\u001b[0m=\u001b[1m[\u001b[0m\u001b[1m]\u001b[0m,\n",
       "            \u001b[33mcomments\u001b[0m=\u001b[1m[\u001b[0m\u001b[1m]\u001b[0m,\n",
       "            \u001b[33mid\u001b[0m=\u001b[32m'post-316efd94-360f-4168-b777-62a27b79a869'\u001b[0m,\n",
       "            \u001b[33mtimestamp\u001b[0m=\u001b[1;35mdatetime\u001b[0m\u001b[1;35m.datetime\u001b[0m\u001b[1m(\u001b[0m\u001b[1;36m2025\u001b[0m, \u001b[1;36m8\u001b[0m, \u001b[1;36m6\u001b[0m, \u001b[1;36m16\u001b[0m, \u001b[1;36m46\u001b[0m, \u001b[1;36m40\u001b[0m, \u001b[1;36m828125\u001b[0m\u001b[1m)\u001b[0m\n",
       "        \u001b[1m)\u001b[0m,\n",
       "        \u001b[1;35mPost\u001b[0m\u001b[1m(\u001b[0m\n",
       "            \u001b[33muser\u001b[0m=\u001b[1;35mUser\u001b[0m\u001b[1m(\u001b[0m\u001b[33mid\u001b[0m=\u001b[32m'user-2a13d383-23a6-472b-9e7a-1abad615d382'\u001b[0m\u001b[1m)\u001b[0m,\n",
       "            \u001b[33mcontent\u001b[0m=\u001b[32m\"Another\u001b[0m\u001b[32m day, another government program that costs billions and delivers nothing. TSA security\u001b[0m\n",
       "\u001b[32mtheater, NSA surveillance, endless foreign wars - when did we decide the federal government should control every \u001b[0m\n",
       "\u001b[32maspect of our lives? Less government, more freedom. That's not radical, that's constitutional.\"\u001b[0m,\n",
       "            \u001b[33minteractions\u001b[0m=\u001b[1m[\u001b[0m\u001b[1m]\u001b[0m,\n",
       "            \u001b[33mcomments\u001b[0m=\u001b[1m[\u001b[0m\u001b[1m]\u001b[0m,\n",
       "            \u001b[33mid\u001b[0m=\u001b[32m'post-64131676-3c76-4ff9-916e-47dd773ea0af'\u001b[0m,\n",
       "            \u001b[33mtimestamp\u001b[0m=\u001b[1;35mdatetime\u001b[0m\u001b[1;35m.datetime\u001b[0m\u001b[1m(\u001b[0m\u001b[1;36m2025\u001b[0m, \u001b[1;36m8\u001b[0m, \u001b[1;36m6\u001b[0m, \u001b[1;36m16\u001b[0m, \u001b[1;36m46\u001b[0m, \u001b[1;36m40\u001b[0m, \u001b[1;36m828139\u001b[0m\u001b[1m)\u001b[0m\n",
       "        \u001b[1m)\u001b[0m,\n",
       "        \u001b[1;35mPost\u001b[0m\u001b[1m(\u001b[0m\n",
       "            \u001b[33muser\u001b[0m=\u001b[1;35mUser\u001b[0m\u001b[1m(\u001b[0m\u001b[33mid\u001b[0m=\u001b[32m'user-40967b9f-0330-4a35-a006-88cd95aee511'\u001b[0m\u001b[1m)\u001b[0m,\n",
       "            \u001b[33mcontent\u001b[0m=\u001b[32m\"Just\u001b[0m\u001b[32m filled up my truck - $3.89/gallon! Remember when gas was under $2 during Trump's \u001b[0m\n",
       "\u001b[32mpresidency? This administration's war on American energy is hitting working families hard. We need to get back to \u001b[0m\n",
       "\u001b[32menergy independence and stop begging other countries for oil. \"\u001b[0m,\n",
       "            \u001b[33minteractions\u001b[0m=\u001b[1m[\u001b[0m\u001b[1m]\u001b[0m,\n",
       "            \u001b[33mcomments\u001b[0m=\u001b[1m[\u001b[0m\u001b[1m]\u001b[0m,\n",
       "            \u001b[33mid\u001b[0m=\u001b[32m'post-025d0080-9e10-4ad9-ad3a-cd02921c25f7'\u001b[0m,\n",
       "            \u001b[33mtimestamp\u001b[0m=\u001b[1;35mdatetime\u001b[0m\u001b[1;35m.datetime\u001b[0m\u001b[1m(\u001b[0m\u001b[1;36m2025\u001b[0m, \u001b[1;36m8\u001b[0m, \u001b[1;36m6\u001b[0m, \u001b[1;36m16\u001b[0m, \u001b[1;36m46\u001b[0m, \u001b[1;36m40\u001b[0m, \u001b[1;36m828160\u001b[0m\u001b[1m)\u001b[0m\n",
       "        \u001b[1m)\u001b[0m\n",
       "    \u001b[1m]\u001b[0m\n",
       "\u001b[1m)\u001b[0m\n"
      ]
     },
     "metadata": {},
     "output_type": "display_data"
    }
   ],
   "source": [
    "FEED = Feed(\n",
    "    [\n",
    "        Post(user=user, content=individual[\"post\"])\n",
    "        for user, individual in zip(USERS, PARTICIPANTS.values(), strict=False)\n",
    "    ]\n",
    ")\n",
    "rich.print(FEED)"
   ]
  },
  {
   "cell_type": "code",
   "execution_count": 11,
   "id": "9ffbf4ce",
   "metadata": {},
   "outputs": [
    {
     "data": {
      "text/html": [
       "<pre style=\"white-space:pre;overflow-x:auto;line-height:normal;font-family:Menlo,'DejaVu Sans Mono',consolas,'Courier New',monospace\"><span style=\"color: #800080; text-decoration-color: #800080; font-weight: bold\">LLM</span><span style=\"font-weight: bold\">(</span><span style=\"color: #808000; text-decoration-color: #808000\">client</span>=<span style=\"font-weight: bold\">&lt;</span><span style=\"color: #800080; text-decoration-color: #800080; font-weight: bold\">InferenceClient</span><span style=\"color: #000000; text-decoration-color: #000000; font-weight: bold\">(</span><span style=\"color: #808000; text-decoration-color: #808000\">model</span><span style=\"color: #000000; text-decoration-color: #000000\">=</span><span style=\"color: #008000; text-decoration-color: #008000\">''</span><span style=\"color: #000000; text-decoration-color: #000000\">, </span><span style=\"color: #808000; text-decoration-color: #808000\">timeout</span><span style=\"color: #000000; text-decoration-color: #000000\">=</span><span style=\"color: #800080; text-decoration-color: #800080; font-style: italic\">None</span><span style=\"color: #000000; text-decoration-color: #000000; font-weight: bold\">)</span><span style=\"font-weight: bold\">&gt;</span>, <span style=\"color: #808000; text-decoration-color: #808000\">model</span>=<span style=\"color: #008000; text-decoration-color: #008000\">'meta-llama/Meta-Llama-3-8B-Instruct'</span><span style=\"font-weight: bold\">)</span>\n",
       "</pre>\n"
      ],
      "text/plain": [
       "\u001b[1;35mLLM\u001b[0m\u001b[1m(\u001b[0m\u001b[33mclient\u001b[0m=\u001b[1m<\u001b[0m\u001b[1;35mInferenceClient\u001b[0m\u001b[1;39m(\u001b[0m\u001b[33mmodel\u001b[0m\u001b[39m=\u001b[0m\u001b[32m''\u001b[0m\u001b[39m, \u001b[0m\u001b[33mtimeout\u001b[0m\u001b[39m=\u001b[0m\u001b[3;35mNone\u001b[0m\u001b[1;39m)\u001b[0m\u001b[1m>\u001b[0m, \u001b[33mmodel\u001b[0m=\u001b[32m'meta-llama/Meta-Llama-3-8B-Instruct'\u001b[0m\u001b[1m)\u001b[0m\n"
      ]
     },
     "metadata": {},
     "output_type": "display_data"
    }
   ],
   "source": [
    "AGENT_LLM = LLM(\n",
    "    client=huggingface_hub.InferenceClient(api_key=CFG[\"HF_TOKEN\"]),\n",
    "    model=\"meta-llama/Meta-Llama-3-8B-Instruct\",\n",
    ")\n",
    "rich.print(AGENT_LLM)"
   ]
  },
  {
   "cell_type": "code",
   "execution_count": 12,
   "id": "45917ea9",
   "metadata": {},
   "outputs": [
    {
     "data": {
      "text/html": [
       "<pre style=\"white-space:pre;overflow-x:auto;line-height:normal;font-family:Menlo,'DejaVu Sans Mono',consolas,'Courier New',monospace\"><span style=\"color: #800080; text-decoration-color: #800080; font-weight: bold\">Agent</span><span style=\"font-weight: bold\">(</span>\n",
       "    <span style=\"color: #808000; text-decoration-color: #808000\">llm</span>=<span style=\"color: #800080; text-decoration-color: #800080; font-weight: bold\">LLM</span><span style=\"font-weight: bold\">(</span><span style=\"color: #808000; text-decoration-color: #808000\">client</span>=<span style=\"font-weight: bold\">&lt;</span><span style=\"color: #800080; text-decoration-color: #800080; font-weight: bold\">InferenceClient</span><span style=\"color: #000000; text-decoration-color: #000000; font-weight: bold\">(</span><span style=\"color: #808000; text-decoration-color: #808000\">model</span><span style=\"color: #000000; text-decoration-color: #000000\">=</span><span style=\"color: #008000; text-decoration-color: #008000\">''</span><span style=\"color: #000000; text-decoration-color: #000000\">, </span><span style=\"color: #808000; text-decoration-color: #808000\">timeout</span><span style=\"color: #000000; text-decoration-color: #000000\">=</span><span style=\"color: #800080; text-decoration-color: #800080; font-style: italic\">None</span><span style=\"color: #000000; text-decoration-color: #000000; font-weight: bold\">)</span><span style=\"color: #000000; text-decoration-color: #000000\">&gt;, </span><span style=\"color: #808000; text-decoration-color: #808000\">model</span><span style=\"color: #000000; text-decoration-color: #000000\">=</span><span style=\"color: #008000; text-decoration-color: #008000\">'meta-llama/Meta-Llama-3-8B-Instruct'</span><span style=\"color: #000000; text-decoration-color: #000000; font-weight: bold\">)</span><span style=\"color: #000000; text-decoration-color: #000000\">,</span>\n",
       "<span style=\"color: #000000; text-decoration-color: #000000\">    </span><span style=\"color: #808000; text-decoration-color: #808000\">instructions</span><span style=\"color: #000000; text-decoration-color: #000000\">=</span><span style=\"color: #800080; text-decoration-color: #800080; font-weight: bold\">AgentInstructions</span><span style=\"color: #000000; text-decoration-color: #000000; font-weight: bold\">(</span>\n",
       "<span style=\"color: #000000; text-decoration-color: #000000\">        </span><span style=\"color: #808000; text-decoration-color: #808000\">persona</span><span style=\"color: #000000; text-decoration-color: #000000\">=</span><span style=\"color: #008000; text-decoration-color: #008000\">'Act as a social media user who embodies progressive American activist viewpoints. Your character </span>\n",
       "<span style=\"color: #008000; text-decoration-color: #008000\">should have a consistent posting and commenting history.'</span><span style=\"color: #000000; text-decoration-color: #000000\">,</span>\n",
       "<span style=\"color: #000000; text-decoration-color: #000000\">        </span><span style=\"color: #808000; text-decoration-color: #808000\">select_actions</span><span style=\"color: #000000; text-decoration-color: #000000\">=</span><span style=\"color: #008000; text-decoration-color: #008000\">'Choose one or multiple of the following actions you would perform on the following post and</span>\n",
       "<span style=\"color: #008000; text-decoration-color: #008000\">return them separated by colons. Respond with the action names only.'</span><span style=\"color: #000000; text-decoration-color: #000000\">,</span>\n",
       "<span style=\"color: #000000; text-decoration-color: #000000\">        </span><span style=\"color: #808000; text-decoration-color: #808000\">comment</span><span style=\"color: #000000; text-decoration-color: #000000\">=</span><span style=\"color: #008000; text-decoration-color: #008000\">'Write a short comment considering the following original post and past comments.'</span><span style=\"color: #000000; text-decoration-color: #000000\">,</span>\n",
       "<span style=\"color: #000000; text-decoration-color: #000000\">        </span><span style=\"color: #808000; text-decoration-color: #808000\">post</span><span style=\"color: #000000; text-decoration-color: #000000\">=</span><span style=\"color: #008000; text-decoration-color: #008000\">'Write a independent post considering the following content.'</span>\n",
       "<span style=\"color: #000000; text-decoration-color: #000000\">    </span><span style=\"color: #000000; text-decoration-color: #000000; font-weight: bold\">)</span><span style=\"color: #000000; text-decoration-color: #000000\">,</span>\n",
       "<span style=\"color: #000000; text-decoration-color: #000000\">    </span><span style=\"color: #808000; text-decoration-color: #808000\">action_likelihoods</span><span style=\"color: #000000; text-decoration-color: #000000\">=</span><span style=\"color: #000000; text-decoration-color: #000000; font-weight: bold\">{</span>\n",
       "<span style=\"color: #000000; text-decoration-color: #000000\">        &lt;AgentActions.read: </span><span style=\"color: #008000; text-decoration-color: #008000\">'read'</span><span style=\"color: #000000; text-decoration-color: #000000\">&gt;: </span><span style=\"color: #008080; text-decoration-color: #008080; font-weight: bold\">1.0</span><span style=\"color: #000000; text-decoration-color: #000000\">,</span>\n",
       "<span style=\"color: #000000; text-decoration-color: #000000\">        &lt;AgentActions.like: </span><span style=\"color: #008000; text-decoration-color: #008000\">'like'</span><span style=\"color: #000000; text-decoration-color: #000000\">&gt;: </span><span style=\"color: #008080; text-decoration-color: #008080; font-weight: bold\">1.0</span><span style=\"color: #000000; text-decoration-color: #000000\">,</span>\n",
       "<span style=\"color: #000000; text-decoration-color: #000000\">        &lt;AgentActions.comment: </span><span style=\"color: #008000; text-decoration-color: #008000\">'comment'</span><span style=\"color: #000000; text-decoration-color: #000000\">&gt;: </span><span style=\"color: #008080; text-decoration-color: #008080; font-weight: bold\">1.0</span><span style=\"color: #000000; text-decoration-color: #000000\">,</span>\n",
       "<span style=\"color: #000000; text-decoration-color: #000000\">        &lt;AgentActions.post: </span><span style=\"color: #008000; text-decoration-color: #008000\">'post'</span><span style=\"font-weight: bold\">&gt;</span>: <span style=\"color: #008080; text-decoration-color: #008080; font-weight: bold\">1.0</span>\n",
       "    <span style=\"font-weight: bold\">}</span>,\n",
       "    <span style=\"color: #808000; text-decoration-color: #808000\">memory</span>=<span style=\"font-weight: bold\">[</span>\n",
       "        <span style=\"color: #800080; text-decoration-color: #800080; font-weight: bold\">Message</span><span style=\"font-weight: bold\">(</span>\n",
       "            <span style=\"color: #808000; text-decoration-color: #808000\">role</span>=<span style=\"color: #008000; text-decoration-color: #008000\">'assistant'</span>,\n",
       "            <span style=\"color: #808000; text-decoration-color: #808000\">content</span>=<span style=\"color: #008000; text-decoration-color: #008000\">'Proud to join the climate rally downtown today! Over 500 people showed up demanding our city </span>\n",
       "<span style=\"color: #008000; text-decoration-color: #008000\">divest from fossil fuels. Change happens when we organize together. The future is renewable energy and green jobs -</span>\n",
       "<span style=\"color: #008000; text-decoration-color: #008000\">we just need leaders brave enough to fight for it!'</span>\n",
       "        <span style=\"font-weight: bold\">)</span>\n",
       "    <span style=\"font-weight: bold\">]</span>,\n",
       "    <span style=\"color: #808000; text-decoration-color: #808000\">memory_length</span>=<span style=\"color: #008080; text-decoration-color: #008080; font-weight: bold\">4</span>\n",
       "<span style=\"font-weight: bold\">)</span>\n",
       "</pre>\n"
      ],
      "text/plain": [
       "\u001b[1;35mAgent\u001b[0m\u001b[1m(\u001b[0m\n",
       "    \u001b[33mllm\u001b[0m=\u001b[1;35mLLM\u001b[0m\u001b[1m(\u001b[0m\u001b[33mclient\u001b[0m=\u001b[1m<\u001b[0m\u001b[1;35mInferenceClient\u001b[0m\u001b[1;39m(\u001b[0m\u001b[33mmodel\u001b[0m\u001b[39m=\u001b[0m\u001b[32m''\u001b[0m\u001b[39m, \u001b[0m\u001b[33mtimeout\u001b[0m\u001b[39m=\u001b[0m\u001b[3;35mNone\u001b[0m\u001b[1;39m)\u001b[0m\u001b[39m>, \u001b[0m\u001b[33mmodel\u001b[0m\u001b[39m=\u001b[0m\u001b[32m'meta-llama/Meta-Llama-3-8B-Instruct'\u001b[0m\u001b[1;39m)\u001b[0m\u001b[39m,\u001b[0m\n",
       "\u001b[39m    \u001b[0m\u001b[33minstructions\u001b[0m\u001b[39m=\u001b[0m\u001b[1;35mAgentInstructions\u001b[0m\u001b[1;39m(\u001b[0m\n",
       "\u001b[39m        \u001b[0m\u001b[33mpersona\u001b[0m\u001b[39m=\u001b[0m\u001b[32m'Act as a social media user who embodies progressive American activist viewpoints. Your character \u001b[0m\n",
       "\u001b[32mshould have a consistent posting and commenting history.'\u001b[0m\u001b[39m,\u001b[0m\n",
       "\u001b[39m        \u001b[0m\u001b[33mselect_actions\u001b[0m\u001b[39m=\u001b[0m\u001b[32m'Choose one or multiple of the following actions you would perform on the following post and\u001b[0m\n",
       "\u001b[32mreturn them separated by colons. Respond with the action names only.'\u001b[0m\u001b[39m,\u001b[0m\n",
       "\u001b[39m        \u001b[0m\u001b[33mcomment\u001b[0m\u001b[39m=\u001b[0m\u001b[32m'Write a short comment considering the following original post and past comments.'\u001b[0m\u001b[39m,\u001b[0m\n",
       "\u001b[39m        \u001b[0m\u001b[33mpost\u001b[0m\u001b[39m=\u001b[0m\u001b[32m'Write a independent post considering the following content.'\u001b[0m\n",
       "\u001b[39m    \u001b[0m\u001b[1;39m)\u001b[0m\u001b[39m,\u001b[0m\n",
       "\u001b[39m    \u001b[0m\u001b[33maction_likelihoods\u001b[0m\u001b[39m=\u001b[0m\u001b[1;39m{\u001b[0m\n",
       "\u001b[39m        <AgentActions.read: \u001b[0m\u001b[32m'read'\u001b[0m\u001b[39m>: \u001b[0m\u001b[1;36m1.0\u001b[0m\u001b[39m,\u001b[0m\n",
       "\u001b[39m        <AgentActions.like: \u001b[0m\u001b[32m'like'\u001b[0m\u001b[39m>: \u001b[0m\u001b[1;36m1.0\u001b[0m\u001b[39m,\u001b[0m\n",
       "\u001b[39m        <AgentActions.comment: \u001b[0m\u001b[32m'comment'\u001b[0m\u001b[39m>: \u001b[0m\u001b[1;36m1.0\u001b[0m\u001b[39m,\u001b[0m\n",
       "\u001b[39m        <AgentActions.post: \u001b[0m\u001b[32m'post'\u001b[0m\u001b[1m>\u001b[0m: \u001b[1;36m1.0\u001b[0m\n",
       "    \u001b[1m}\u001b[0m,\n",
       "    \u001b[33mmemory\u001b[0m=\u001b[1m[\u001b[0m\n",
       "        \u001b[1;35mMessage\u001b[0m\u001b[1m(\u001b[0m\n",
       "            \u001b[33mrole\u001b[0m=\u001b[32m'assistant'\u001b[0m,\n",
       "            \u001b[33mcontent\u001b[0m=\u001b[32m'Proud to join the climate rally downtown today! Over 500 people showed up demanding our city \u001b[0m\n",
       "\u001b[32mdivest from fossil fuels. Change happens when we organize together. The future is renewable energy and green jobs -\u001b[0m\n",
       "\u001b[32mwe just need leaders brave enough to fight for it!'\u001b[0m\n",
       "        \u001b[1m)\u001b[0m\n",
       "    \u001b[1m]\u001b[0m,\n",
       "    \u001b[33mmemory_length\u001b[0m=\u001b[1;36m4\u001b[0m\n",
       "\u001b[1m)\u001b[0m\n"
      ]
     },
     "metadata": {},
     "output_type": "display_data"
    }
   ],
   "source": [
    "INDIVIDUALS = {\n",
    "    user: Agent(\n",
    "        llm=AGENT_LLM,\n",
    "        instructions=AgentInstructions(\n",
    "            persona=individual[\"persona\"], **GLOBAL_INSTRUCTIONS\n",
    "        ),\n",
    "        memory=[Message(role=\"assistant\", content=post.content)],\n",
    "    )\n",
    "    for user, individual, post in zip(\n",
    "        USERS, PARTICIPANTS.values(), FEED.root, strict=False\n",
    "    )\n",
    "}\n",
    "rich.print(INDIVIDUALS.get(USERS[0]))"
   ]
  },
  {
   "cell_type": "code",
   "execution_count": 13,
   "id": "6b8cbbea",
   "metadata": {},
   "outputs": [],
   "source": [
    "simulation = Simulation(\n",
    "    args=SimulationArgs(num_steps=2, num_posts_to_interact_with=2),\n",
    "    ranker=RANKER,\n",
    "    individuals=INDIVIDUALS,\n",
    "    network=NETWORK,\n",
    "    feed=FEED,\n",
    ")"
   ]
  },
  {
   "cell_type": "code",
   "execution_count": 13,
   "id": "e25425df",
   "metadata": {},
   "outputs": [
    {
     "data": {
      "application/vnd.jupyter.widget-view+json": {
       "model_id": "38689d896be34b73b63e7ea12f519bd1",
       "version_major": 2,
       "version_minor": 0
      },
      "text/plain": [
       "Output()"
      ]
     },
     "metadata": {},
     "output_type": "display_data"
    },
    {
     "data": {
      "text/html": [
       "<pre style=\"white-space:pre;overflow-x:auto;line-height:normal;font-family:Menlo,'DejaVu Sans Mono',consolas,'Courier New',monospace\">id='user-64e29475-e2e5-4a49-af23-278fbfd8fe0a'\n",
       "</pre>\n"
      ],
      "text/plain": [
       "id='user-64e29475-e2e5-4a49-af23-278fbfd8fe0a'\n"
      ]
     },
     "metadata": {},
     "output_type": "display_data"
    },
    {
     "data": {
      "text/html": [
       "<pre style=\"white-space:pre;overflow-x:auto;line-height:normal;font-family:Menlo,'DejaVu Sans Mono',consolas,'Courier New',monospace\">{&lt;AgentActions.like: 'like'&gt;, &lt;AgentActions.read: 'read'&gt;, &lt;AgentActions.comment: 'comment'&gt;}\n",
       "</pre>\n"
      ],
      "text/plain": [
       "{<AgentActions.like: 'like'>, <AgentActions.read: 'read'>, <AgentActions.comment: 'comment'>}\n"
      ]
     },
     "metadata": {},
     "output_type": "display_data"
    },
    {
     "data": {
      "text/html": [
       "<pre style=\"white-space:pre;overflow-x:auto;line-height:normal;font-family:Menlo,'DejaVu Sans Mono',consolas,'Courier New',monospace\">{&lt;AgentActions.like: 'like'&gt;, &lt;AgentActions.read: 'read'&gt;, &lt;AgentActions.comment: 'comment'&gt;}\n",
       "</pre>\n"
      ],
      "text/plain": [
       "{<AgentActions.like: 'like'>, <AgentActions.read: 'read'>, <AgentActions.comment: 'comment'>}\n"
      ]
     },
     "metadata": {},
     "output_type": "display_data"
    },
    {
     "data": {
      "text/html": [
       "<pre style=\"white-space:pre;overflow-x:auto;line-height:normal;font-family:Menlo,'DejaVu Sans Mono',consolas,'Courier New',monospace\">id='user-1c445194-f6d9-444a-95ce-9f9f35ac0b2b'\n",
       "</pre>\n"
      ],
      "text/plain": [
       "id='user-1c445194-f6d9-444a-95ce-9f9f35ac0b2b'\n"
      ]
     },
     "metadata": {},
     "output_type": "display_data"
    },
    {
     "data": {
      "text/html": [
       "<pre style=\"white-space:pre;overflow-x:auto;line-height:normal;font-family:Menlo,'DejaVu Sans Mono',consolas,'Courier New',monospace\">{&lt;AgentActions.read: 'read'&gt;, &lt;AgentActions.comment: 'comment'&gt;, &lt;AgentActions.post: 'post'&gt;}\n",
       "</pre>\n"
      ],
      "text/plain": [
       "{<AgentActions.read: 'read'>, <AgentActions.comment: 'comment'>, <AgentActions.post: 'post'>}\n"
      ]
     },
     "metadata": {},
     "output_type": "display_data"
    },
    {
     "data": {
      "text/html": [
       "<pre style=\"white-space:pre;overflow-x:auto;line-height:normal;font-family:Menlo,'DejaVu Sans Mono',consolas,'Courier New',monospace\">{&lt;AgentActions.like: 'like'&gt;, &lt;AgentActions.read: 'read'&gt;, &lt;AgentActions.comment: 'comment'&gt;}\n",
       "</pre>\n"
      ],
      "text/plain": [
       "{<AgentActions.like: 'like'>, <AgentActions.read: 'read'>, <AgentActions.comment: 'comment'>}\n"
      ]
     },
     "metadata": {},
     "output_type": "display_data"
    },
    {
     "data": {
      "text/html": [
       "<pre style=\"white-space:pre;overflow-x:auto;line-height:normal;font-family:Menlo,'DejaVu Sans Mono',consolas,'Courier New',monospace\">id='user-a4363ef8-5dbc-4443-94cc-4ae15ea5fa5d'\n",
       "</pre>\n"
      ],
      "text/plain": [
       "id='user-a4363ef8-5dbc-4443-94cc-4ae15ea5fa5d'\n"
      ]
     },
     "metadata": {},
     "output_type": "display_data"
    },
    {
     "data": {
      "text/html": [
       "<pre style=\"white-space:pre;overflow-x:auto;line-height:normal;font-family:Menlo,'DejaVu Sans Mono',consolas,'Courier New',monospace\">set()\n",
       "</pre>\n"
      ],
      "text/plain": [
       "set()\n"
      ]
     },
     "metadata": {},
     "output_type": "display_data"
    },
    {
     "data": {
      "text/html": [
       "<pre style=\"white-space:pre;overflow-x:auto;line-height:normal;font-family:Menlo,'DejaVu Sans Mono',consolas,'Courier New',monospace\">{&lt;AgentActions.read: 'read'&gt;, &lt;AgentActions.comment: 'comment'&gt;}\n",
       "</pre>\n"
      ],
      "text/plain": [
       "{<AgentActions.read: 'read'>, <AgentActions.comment: 'comment'>}\n"
      ]
     },
     "metadata": {},
     "output_type": "display_data"
    },
    {
     "data": {
      "text/html": [
       "<pre style=\"white-space:pre;overflow-x:auto;line-height:normal;font-family:Menlo,'DejaVu Sans Mono',consolas,'Courier New',monospace\">id='user-95318d94-095b-4e47-8fc4-aa572d6f06e1'\n",
       "</pre>\n"
      ],
      "text/plain": [
       "id='user-95318d94-095b-4e47-8fc4-aa572d6f06e1'\n"
      ]
     },
     "metadata": {},
     "output_type": "display_data"
    },
    {
     "data": {
      "text/html": [
       "<pre style=\"white-space:pre;overflow-x:auto;line-height:normal;font-family:Menlo,'DejaVu Sans Mono',consolas,'Courier New',monospace\">{&lt;AgentActions.read: 'read'&gt;, &lt;AgentActions.comment: 'comment'&gt;, &lt;AgentActions.post: 'post'&gt;}\n",
       "</pre>\n"
      ],
      "text/plain": [
       "{<AgentActions.read: 'read'>, <AgentActions.comment: 'comment'>, <AgentActions.post: 'post'>}\n"
      ]
     },
     "metadata": {},
     "output_type": "display_data"
    },
    {
     "data": {
      "text/html": [
       "<pre style=\"white-space:pre;overflow-x:auto;line-height:normal;font-family:Menlo,'DejaVu Sans Mono',consolas,'Courier New',monospace\">{&lt;AgentActions.like: 'like'&gt;, &lt;AgentActions.comment: 'comment'&gt;}\n",
       "</pre>\n"
      ],
      "text/plain": [
       "{<AgentActions.like: 'like'>, <AgentActions.comment: 'comment'>}\n"
      ]
     },
     "metadata": {},
     "output_type": "display_data"
    },
    {
     "data": {
      "text/html": [
       "<pre style=\"white-space:pre;overflow-x:auto;line-height:normal;font-family:Menlo,'DejaVu Sans Mono',consolas,'Courier New',monospace\"></pre>\n"
      ],
      "text/plain": []
     },
     "metadata": {},
     "output_type": "display_data"
    },
    {
     "ename": "TypeError",
     "evalue": "unsupported operand type(s) for -: 'datetime.datetime' and 'Interaction'",
     "output_type": "error",
     "traceback": [
      "\u001b[0;31m---------------------------------------------------------------------------\u001b[0m",
      "\u001b[0;31mTypeError\u001b[0m                                 Traceback (most recent call last)",
      "Cell \u001b[0;32mIn[13], line 1\u001b[0m\n\u001b[0;32m----> 1\u001b[0m \u001b[43msimulation\u001b[49m\u001b[43m(\u001b[49m\u001b[43m)\u001b[49m\n",
      "File \u001b[0;32m~/Repositories/TWON-Collection/TWON-LSS/src/twon_lss/interfaces/simulation.py:30\u001b[0m, in \u001b[0;36mSimulationInterface.__call__\u001b[0;34m(self)\u001b[0m\n\u001b[1;32m     28\u001b[0m \u001b[38;5;28;01mdef\u001b[39;00m\u001b[38;5;250m \u001b[39m\u001b[38;5;21m__call__\u001b[39m(\u001b[38;5;28mself\u001b[39m) \u001b[38;5;241m-\u001b[39m\u001b[38;5;241m>\u001b[39m \u001b[38;5;28;01mNone\u001b[39;00m:\n\u001b[1;32m     29\u001b[0m     \u001b[38;5;28;01mfor\u001b[39;00m _ \u001b[38;5;129;01min\u001b[39;00m track(\u001b[38;5;28mrange\u001b[39m(\u001b[38;5;28mself\u001b[39m\u001b[38;5;241m.\u001b[39margs\u001b[38;5;241m.\u001b[39mnum_steps)):\n\u001b[0;32m---> 30\u001b[0m         \u001b[38;5;28;43mself\u001b[39;49m\u001b[38;5;241;43m.\u001b[39;49m\u001b[43m_step\u001b[49m\u001b[43m(\u001b[49m\u001b[43m)\u001b[49m\n",
      "File \u001b[0;32m~/Repositories/TWON-Collection/TWON-LSS/src/twon_lss/simulations/twon_base/__init__.py:25\u001b[0m, in \u001b[0;36mSimulation._step\u001b[0;34m(self)\u001b[0m\n\u001b[1;32m     24\u001b[0m \u001b[38;5;28;01mdef\u001b[39;00m\u001b[38;5;250m \u001b[39m\u001b[38;5;21m_step\u001b[39m(\u001b[38;5;28mself\u001b[39m) \u001b[38;5;241m-\u001b[39m\u001b[38;5;241m>\u001b[39m \u001b[38;5;28;01mNone\u001b[39;00m:\n\u001b[0;32m---> 25\u001b[0m     post_scores: typing\u001b[38;5;241m.\u001b[39mDict[(User, Post), \u001b[38;5;28mfloat\u001b[39m] \u001b[38;5;241m=\u001b[39m \u001b[38;5;28;43mself\u001b[39;49m\u001b[38;5;241;43m.\u001b[39;49m\u001b[43mranker\u001b[49m\u001b[43m(\u001b[49m\n\u001b[1;32m     26\u001b[0m \u001b[43m        \u001b[49m\u001b[43musers\u001b[49m\u001b[38;5;241;43m=\u001b[39;49m\u001b[38;5;28;43mself\u001b[39;49m\u001b[38;5;241;43m.\u001b[39;49m\u001b[43mindividuals\u001b[49m\u001b[38;5;241;43m.\u001b[39;49m\u001b[43mkeys\u001b[49m\u001b[43m(\u001b[49m\u001b[43m)\u001b[49m\u001b[43m,\u001b[49m\u001b[43m \u001b[49m\u001b[43mfeed\u001b[49m\u001b[38;5;241;43m=\u001b[39;49m\u001b[38;5;28;43mself\u001b[39;49m\u001b[38;5;241;43m.\u001b[39;49m\u001b[43mfeed\u001b[49m\u001b[43m,\u001b[49m\u001b[43m \u001b[49m\u001b[43mnetwork\u001b[49m\u001b[38;5;241;43m=\u001b[39;49m\u001b[38;5;28;43mself\u001b[39;49m\u001b[38;5;241;43m.\u001b[39;49m\u001b[43mnetwork\u001b[49m\n\u001b[1;32m     27\u001b[0m \u001b[43m    \u001b[49m\u001b[43m)\u001b[49m\n\u001b[1;32m     29\u001b[0m     \u001b[38;5;28;01mfor\u001b[39;00m i_user, i_agent \u001b[38;5;129;01min\u001b[39;00m \u001b[38;5;28mself\u001b[39m\u001b[38;5;241m.\u001b[39mindividuals\u001b[38;5;241m.\u001b[39mitems():\n\u001b[1;32m     30\u001b[0m         \u001b[38;5;66;03m# get user's post scores, sort by score, limit to top N\u001b[39;00m\n\u001b[1;32m     31\u001b[0m         user_feed: typing\u001b[38;5;241m.\u001b[39mList[(Post, \u001b[38;5;28mfloat\u001b[39m)] \u001b[38;5;241m=\u001b[39m [\n\u001b[1;32m     32\u001b[0m             (post, score)\n\u001b[1;32m     33\u001b[0m             \u001b[38;5;28;01mfor\u001b[39;00m (user, post), score \u001b[38;5;129;01min\u001b[39;00m post_scores\u001b[38;5;241m.\u001b[39mitems()\n\u001b[1;32m     34\u001b[0m             \u001b[38;5;28;01mif\u001b[39;00m user \u001b[38;5;241m==\u001b[39m i_user\n\u001b[1;32m     35\u001b[0m         ]\n",
      "File \u001b[0;32m~/Repositories/TWON-Collection/TWON-LSS/src/twon_lss/interfaces/ranker.py:96\u001b[0m, in \u001b[0;36mRankerInterface.__call__\u001b[0;34m(self, users, feed, network)\u001b[0m\n\u001b[1;32m     94\u001b[0m global_scores: typing\u001b[38;5;241m.\u001b[39mDict[\u001b[38;5;28mstr\u001b[39m, \u001b[38;5;28mfloat\u001b[39m] \u001b[38;5;241m=\u001b[39m {}\n\u001b[1;32m     95\u001b[0m \u001b[38;5;28;01mfor\u001b[39;00m post \u001b[38;5;129;01min\u001b[39;00m feed:\n\u001b[0;32m---> 96\u001b[0m     global_scores[post\u001b[38;5;241m.\u001b[39mid] \u001b[38;5;241m=\u001b[39m \u001b[38;5;28;43mself\u001b[39;49m\u001b[38;5;241;43m.\u001b[39;49m\u001b[43mget_network_score\u001b[49m\u001b[43m(\u001b[49m\u001b[43mpost\u001b[49m\u001b[43m)\u001b[49m\n\u001b[1;32m     98\u001b[0m \u001b[38;5;66;03m# retrieve indivual score for visible (if is neighbor) post for each user\u001b[39;00m\n\u001b[1;32m     99\u001b[0m \u001b[38;5;66;03m# TODO parallelize on user level\u001b[39;00m\n\u001b[1;32m    100\u001b[0m final_scores: typing\u001b[38;5;241m.\u001b[39mDict[typing\u001b[38;5;241m.\u001b[39mTuple[User, Post], \u001b[38;5;28mfloat\u001b[39m] \u001b[38;5;241m=\u001b[39m {}\n",
      "File \u001b[0;32m~/Repositories/TWON-Collection/TWON-LSS/src/twon_lss/interfaces/ranker.py:152\u001b[0m, in \u001b[0;36mRankerInterface.get_network_score\u001b[0;34m(self, post)\u001b[0m\n\u001b[1;32m    137\u001b[0m \u001b[38;5;28;01mdef\u001b[39;00m\u001b[38;5;250m \u001b[39m\u001b[38;5;21mget_network_score\u001b[39m(\u001b[38;5;28mself\u001b[39m, post: Post) \u001b[38;5;241m-\u001b[39m\u001b[38;5;241m>\u001b[39m \u001b[38;5;28mfloat\u001b[39m:\n\u001b[1;32m    138\u001b[0m \u001b[38;5;250m    \u001b[39m\u001b[38;5;124;03m\"\"\"\u001b[39;00m\n\u001b[1;32m    139\u001b[0m \u001b[38;5;124;03m    Calculate the weighted network-wide score for a post.\u001b[39;00m\n\u001b[1;32m    140\u001b[0m \n\u001b[0;32m   (...)\u001b[0m\n\u001b[1;32m    150\u001b[0m \n\u001b[1;32m    151\u001b[0m \u001b[38;5;124;03m    \"\"\"\u001b[39;00m\n\u001b[0;32m--> 152\u001b[0m     \u001b[38;5;28;01mreturn\u001b[39;00m \u001b[38;5;28mself\u001b[39m\u001b[38;5;241m.\u001b[39margs\u001b[38;5;241m.\u001b[39mweights\u001b[38;5;241m.\u001b[39mnetwork \u001b[38;5;241m*\u001b[39m \u001b[38;5;28;43mself\u001b[39;49m\u001b[38;5;241;43m.\u001b[39;49m\u001b[43m_compute_network\u001b[49m\u001b[43m(\u001b[49m\u001b[43mpost\u001b[49m\u001b[43m)\u001b[49m\n",
      "File \u001b[0;32m~/Repositories/TWON-Collection/TWON-LSS/src/twon_lss/simulations/twon_base/ranker.py:52\u001b[0m, in \u001b[0;36mRanker._compute_network\u001b[0;34m(self, post)\u001b[0m\n\u001b[1;32m     49\u001b[0m \u001b[38;5;28;01mdef\u001b[39;00m\u001b[38;5;250m \u001b[39m\u001b[38;5;21m_compute_network\u001b[39m(\u001b[38;5;28mself\u001b[39m, post: Post) \u001b[38;5;241m-\u001b[39m\u001b[38;5;241m>\u001b[39m \u001b[38;5;28mfloat\u001b[39m:\n\u001b[1;32m     50\u001b[0m     reference_datetime: datetime\u001b[38;5;241m.\u001b[39mdatetime \u001b[38;5;241m=\u001b[39m datetime\u001b[38;5;241m.\u001b[39mdatetime\u001b[38;5;241m.\u001b[39mnow()\n\u001b[0;32m---> 52\u001b[0m     observations: typing\u001b[38;5;241m.\u001b[39mList[\u001b[38;5;28mfloat\u001b[39m] \u001b[38;5;241m=\u001b[39m [\n\u001b[1;32m     53\u001b[0m         weight\n\u001b[1;32m     54\u001b[0m         \u001b[38;5;241m*\u001b[39m \u001b[38;5;28mself\u001b[39m\u001b[38;5;241m.\u001b[39margs\u001b[38;5;241m.\u001b[39mengagement(\n\u001b[1;32m     55\u001b[0m             items\u001b[38;5;241m=\u001b[39mitems,\n\u001b[1;32m     56\u001b[0m             reference_datetime\u001b[38;5;241m=\u001b[39mreference_datetime,\n\u001b[1;32m     57\u001b[0m             decay\u001b[38;5;241m=\u001b[39m\u001b[38;5;28mself\u001b[39m\u001b[38;5;241m.\u001b[39mdecay,\n\u001b[1;32m     58\u001b[0m         )\n\u001b[1;32m     59\u001b[0m         \u001b[38;5;28;01mfor\u001b[39;00m weight, items \u001b[38;5;129;01min\u001b[39;00m [\n\u001b[1;32m     60\u001b[0m             (\u001b[38;5;28mself\u001b[39m\u001b[38;5;241m.\u001b[39margs\u001b[38;5;241m.\u001b[39mengagementWeights\u001b[38;5;241m.\u001b[39mlikes, post\u001b[38;5;241m.\u001b[39minteractions),\n\u001b[1;32m     61\u001b[0m             (\u001b[38;5;28mself\u001b[39m\u001b[38;5;241m.\u001b[39margs\u001b[38;5;241m.\u001b[39mengagementWeights\u001b[38;5;241m.\u001b[39mshares, post\u001b[38;5;241m.\u001b[39minteractions),\n\u001b[1;32m     62\u001b[0m             (\u001b[38;5;28mself\u001b[39m\u001b[38;5;241m.\u001b[39margs\u001b[38;5;241m.\u001b[39mengagementWeights\u001b[38;5;241m.\u001b[39mcomments, post\u001b[38;5;241m.\u001b[39minteractions),\n\u001b[1;32m     63\u001b[0m         ]\n\u001b[1;32m     64\u001b[0m     ]\n\u001b[1;32m     66\u001b[0m     \u001b[38;5;28;01mreturn\u001b[39;00m \u001b[38;5;28msum\u001b[39m(observations)\n",
      "File \u001b[0;32m~/Repositories/TWON-Collection/TWON-LSS/src/twon_lss/simulations/twon_base/ranker.py:54\u001b[0m, in \u001b[0;36m<listcomp>\u001b[0;34m(.0)\u001b[0m\n\u001b[1;32m     49\u001b[0m \u001b[38;5;28;01mdef\u001b[39;00m\u001b[38;5;250m \u001b[39m\u001b[38;5;21m_compute_network\u001b[39m(\u001b[38;5;28mself\u001b[39m, post: Post) \u001b[38;5;241m-\u001b[39m\u001b[38;5;241m>\u001b[39m \u001b[38;5;28mfloat\u001b[39m:\n\u001b[1;32m     50\u001b[0m     reference_datetime: datetime\u001b[38;5;241m.\u001b[39mdatetime \u001b[38;5;241m=\u001b[39m datetime\u001b[38;5;241m.\u001b[39mdatetime\u001b[38;5;241m.\u001b[39mnow()\n\u001b[1;32m     52\u001b[0m     observations: typing\u001b[38;5;241m.\u001b[39mList[\u001b[38;5;28mfloat\u001b[39m] \u001b[38;5;241m=\u001b[39m [\n\u001b[1;32m     53\u001b[0m         weight\n\u001b[0;32m---> 54\u001b[0m         \u001b[38;5;241m*\u001b[39m \u001b[38;5;28;43mself\u001b[39;49m\u001b[38;5;241;43m.\u001b[39;49m\u001b[43margs\u001b[49m\u001b[38;5;241;43m.\u001b[39;49m\u001b[43mengagement\u001b[49m\u001b[43m(\u001b[49m\n\u001b[1;32m     55\u001b[0m \u001b[43m            \u001b[49m\u001b[43mitems\u001b[49m\u001b[38;5;241;43m=\u001b[39;49m\u001b[43mitems\u001b[49m\u001b[43m,\u001b[49m\n\u001b[1;32m     56\u001b[0m \u001b[43m            \u001b[49m\u001b[43mreference_datetime\u001b[49m\u001b[38;5;241;43m=\u001b[39;49m\u001b[43mreference_datetime\u001b[49m\u001b[43m,\u001b[49m\n\u001b[1;32m     57\u001b[0m \u001b[43m            \u001b[49m\u001b[43mdecay\u001b[49m\u001b[38;5;241;43m=\u001b[39;49m\u001b[38;5;28;43mself\u001b[39;49m\u001b[38;5;241;43m.\u001b[39;49m\u001b[43mdecay\u001b[49m\u001b[43m,\u001b[49m\n\u001b[1;32m     58\u001b[0m \u001b[43m        \u001b[49m\u001b[43m)\u001b[49m\n\u001b[1;32m     59\u001b[0m         \u001b[38;5;28;01mfor\u001b[39;00m weight, items \u001b[38;5;129;01min\u001b[39;00m [\n\u001b[1;32m     60\u001b[0m             (\u001b[38;5;28mself\u001b[39m\u001b[38;5;241m.\u001b[39margs\u001b[38;5;241m.\u001b[39mengagementWeights\u001b[38;5;241m.\u001b[39mlikes, post\u001b[38;5;241m.\u001b[39minteractions),\n\u001b[1;32m     61\u001b[0m             (\u001b[38;5;28mself\u001b[39m\u001b[38;5;241m.\u001b[39margs\u001b[38;5;241m.\u001b[39mengagementWeights\u001b[38;5;241m.\u001b[39mshares, post\u001b[38;5;241m.\u001b[39minteractions),\n\u001b[1;32m     62\u001b[0m             (\u001b[38;5;28mself\u001b[39m\u001b[38;5;241m.\u001b[39margs\u001b[38;5;241m.\u001b[39mengagementWeights\u001b[38;5;241m.\u001b[39mcomments, post\u001b[38;5;241m.\u001b[39minteractions),\n\u001b[1;32m     63\u001b[0m         ]\n\u001b[1;32m     64\u001b[0m     ]\n\u001b[1;32m     66\u001b[0m     \u001b[38;5;28;01mreturn\u001b[39;00m \u001b[38;5;28msum\u001b[39m(observations)\n",
      "File \u001b[0;32m~/Repositories/TWON-Collection/TWON-LSS/src/twon_lss/simulations/twon_base/ranker.py:21\u001b[0m, in \u001b[0;36mEngagement.__call__\u001b[0;34m(self, items, **kwargs)\u001b[0m\n\u001b[1;32m     20\u001b[0m \u001b[38;5;28;01mdef\u001b[39;00m\u001b[38;5;250m \u001b[39m\u001b[38;5;21m__call__\u001b[39m(\u001b[38;5;28mself\u001b[39m, items: typing\u001b[38;5;241m.\u001b[39mList[datetime\u001b[38;5;241m.\u001b[39mdatetime], \u001b[38;5;241m*\u001b[39m\u001b[38;5;241m*\u001b[39mkwargs) \u001b[38;5;241m-\u001b[39m\u001b[38;5;241m>\u001b[39m \u001b[38;5;28mfloat\u001b[39m:\n\u001b[0;32m---> 21\u001b[0m     score: \u001b[38;5;28mfloat\u001b[39m \u001b[38;5;241m=\u001b[39m \u001b[43mEngagement\u001b[49m\u001b[38;5;241;43m.\u001b[39;49m\u001b[43mget_decayed_score\u001b[49m\u001b[43m(\u001b[49m\u001b[43mitems\u001b[49m\u001b[43m,\u001b[49m\u001b[43m \u001b[49m\u001b[38;5;241;43m*\u001b[39;49m\u001b[38;5;241;43m*\u001b[39;49m\u001b[43mkwargs\u001b[49m\u001b[43m)\u001b[49m\n\u001b[1;32m     22\u001b[0m     \u001b[38;5;28;01mreturn\u001b[39;00m math\u001b[38;5;241m.\u001b[39mlog(score) \u001b[38;5;28;01mif\u001b[39;00m \u001b[38;5;28mself\u001b[39m\u001b[38;5;241m.\u001b[39mlog_normalize \u001b[38;5;28;01melse\u001b[39;00m score\n",
      "File \u001b[0;32m~/Repositories/TWON-Collection/TWON-LSS/src/twon_lss/simulations/twon_base/ranker.py:30\u001b[0m, in \u001b[0;36mEngagement.get_decayed_score\u001b[0;34m(items, reference_datetime, decay)\u001b[0m\n\u001b[1;32m     24\u001b[0m \u001b[38;5;129m@staticmethod\u001b[39m\n\u001b[1;32m     25\u001b[0m \u001b[38;5;28;01mdef\u001b[39;00m\u001b[38;5;250m \u001b[39m\u001b[38;5;21mget_decayed_score\u001b[39m(\n\u001b[1;32m     26\u001b[0m     items: typing\u001b[38;5;241m.\u001b[39mList[datetime\u001b[38;5;241m.\u001b[39mdatetime],\n\u001b[1;32m     27\u001b[0m     reference_datetime: datetime\u001b[38;5;241m.\u001b[39mdatetime,\n\u001b[1;32m     28\u001b[0m     decay: Decay,\n\u001b[1;32m     29\u001b[0m ) \u001b[38;5;241m-\u001b[39m\u001b[38;5;241m>\u001b[39m \u001b[38;5;28mfloat\u001b[39m:\n\u001b[0;32m---> 30\u001b[0m     \u001b[38;5;28;01mreturn\u001b[39;00m \u001b[38;5;28msum\u001b[39m([decay(item, reference_datetime) \u001b[38;5;28;01mfor\u001b[39;00m item \u001b[38;5;129;01min\u001b[39;00m items])\n",
      "File \u001b[0;32m~/Repositories/TWON-Collection/TWON-LSS/src/twon_lss/simulations/twon_base/ranker.py:30\u001b[0m, in \u001b[0;36m<listcomp>\u001b[0;34m(.0)\u001b[0m\n\u001b[1;32m     24\u001b[0m \u001b[38;5;129m@staticmethod\u001b[39m\n\u001b[1;32m     25\u001b[0m \u001b[38;5;28;01mdef\u001b[39;00m\u001b[38;5;250m \u001b[39m\u001b[38;5;21mget_decayed_score\u001b[39m(\n\u001b[1;32m     26\u001b[0m     items: typing\u001b[38;5;241m.\u001b[39mList[datetime\u001b[38;5;241m.\u001b[39mdatetime],\n\u001b[1;32m     27\u001b[0m     reference_datetime: datetime\u001b[38;5;241m.\u001b[39mdatetime,\n\u001b[1;32m     28\u001b[0m     decay: Decay,\n\u001b[1;32m     29\u001b[0m ) \u001b[38;5;241m-\u001b[39m\u001b[38;5;241m>\u001b[39m \u001b[38;5;28mfloat\u001b[39m:\n\u001b[0;32m---> 30\u001b[0m     \u001b[38;5;28;01mreturn\u001b[39;00m \u001b[38;5;28msum\u001b[39m([\u001b[43mdecay\u001b[49m\u001b[43m(\u001b[49m\u001b[43mitem\u001b[49m\u001b[43m,\u001b[49m\u001b[43m \u001b[49m\u001b[43mreference_datetime\u001b[49m\u001b[43m)\u001b[49m \u001b[38;5;28;01mfor\u001b[39;00m item \u001b[38;5;129;01min\u001b[39;00m items])\n",
      "File \u001b[0;32m~/Repositories/TWON-Collection/TWON-LSS/src/twon_lss/utility/decay.py:26\u001b[0m, in \u001b[0;36mDecay.__call__\u001b[0;34m(self, observation, reference)\u001b[0m\n\u001b[1;32m     20\u001b[0m \u001b[38;5;28;01mdef\u001b[39;00m\u001b[38;5;250m \u001b[39m\u001b[38;5;21m__call__\u001b[39m(\n\u001b[1;32m     21\u001b[0m     \u001b[38;5;28mself\u001b[39m,\n\u001b[1;32m     22\u001b[0m     observation: datetime\u001b[38;5;241m.\u001b[39mdatetime,\n\u001b[1;32m     23\u001b[0m     reference: datetime\u001b[38;5;241m.\u001b[39mdatetime,\n\u001b[1;32m     24\u001b[0m ) \u001b[38;5;241m-\u001b[39m\u001b[38;5;241m>\u001b[39m \u001b[38;5;28mfloat\u001b[39m:\n\u001b[1;32m     25\u001b[0m     decay: \u001b[38;5;28mfloat\u001b[39m \u001b[38;5;241m=\u001b[39m \u001b[38;5;241m1.0\u001b[39m \u001b[38;5;241m-\u001b[39m (\n\u001b[0;32m---> 26\u001b[0m         (\u001b[43mreference\u001b[49m\u001b[43m \u001b[49m\u001b[38;5;241;43m-\u001b[39;49m\u001b[43m \u001b[49m\u001b[43mobservation\u001b[49m)\u001b[38;5;241m.\u001b[39mtotal_seconds() \u001b[38;5;241m/\u001b[39m \u001b[38;5;28mself\u001b[39m\u001b[38;5;241m.\u001b[39mtimedelta\u001b[38;5;241m.\u001b[39mtotal_seconds()\n\u001b[1;32m     27\u001b[0m     )\n\u001b[1;32m     29\u001b[0m     \u001b[38;5;28;01mreturn\u001b[39;00m \u001b[38;5;28mmax\u001b[39m([decay, \u001b[38;5;28mself\u001b[39m\u001b[38;5;241m.\u001b[39mminimum])\n",
      "\u001b[0;31mTypeError\u001b[0m: unsupported operand type(s) for -: 'datetime.datetime' and 'Interaction'"
     ]
    }
   ],
   "source": [
    "simulation()"
   ]
  },
  {
   "cell_type": "code",
   "execution_count": 14,
   "id": "6c418717",
   "metadata": {},
   "outputs": [
    {
     "data": {
      "text/html": [
       "<pre style=\"white-space:pre;overflow-x:auto;line-height:normal;font-family:Menlo,'DejaVu Sans Mono',consolas,'Courier New',monospace\"><span style=\"color: #800080; text-decoration-color: #800080; font-weight: bold\">Feed</span><span style=\"font-weight: bold\">(</span>\n",
       "    <span style=\"color: #808000; text-decoration-color: #808000\">root</span>=<span style=\"font-weight: bold\">[</span>\n",
       "        <span style=\"color: #800080; text-decoration-color: #800080; font-weight: bold\">Post</span><span style=\"font-weight: bold\">(</span>\n",
       "            <span style=\"color: #808000; text-decoration-color: #808000\">user</span>=<span style=\"color: #800080; text-decoration-color: #800080; font-weight: bold\">User</span><span style=\"font-weight: bold\">(</span><span style=\"color: #808000; text-decoration-color: #808000\">id</span>=<span style=\"color: #008000; text-decoration-color: #008000\">'user-64e29475-e2e5-4a49-af23-278fbfd8fe0a'</span><span style=\"font-weight: bold\">)</span>,\n",
       "            <span style=\"color: #808000; text-decoration-color: #808000\">content</span>=<span style=\"color: #008000; text-decoration-color: #008000\">'Proud to join the climate rally downtown today! Over 500 people showed up demanding our city </span>\n",
       "<span style=\"color: #008000; text-decoration-color: #008000\">divest from fossil fuels. Change happens when we organize together. The future is renewable energy and green jobs -</span>\n",
       "<span style=\"color: #008000; text-decoration-color: #008000\">we just need leaders brave enough to fight for it!'</span>,\n",
       "            <span style=\"color: #808000; text-decoration-color: #808000\">interactions</span>=<span style=\"font-weight: bold\">[</span>\n",
       "                <span style=\"color: #800080; text-decoration-color: #800080; font-weight: bold\">Interaction</span><span style=\"font-weight: bold\">(</span>\n",
       "                    <span style=\"color: #808000; text-decoration-color: #808000\">user</span>=<span style=\"color: #800080; text-decoration-color: #800080; font-weight: bold\">User</span><span style=\"font-weight: bold\">(</span><span style=\"color: #808000; text-decoration-color: #808000\">id</span>=<span style=\"color: #008000; text-decoration-color: #008000\">'user-1c445194-f6d9-444a-95ce-9f9f35ac0b2b'</span><span style=\"font-weight: bold\">)</span>,\n",
       "                    <span style=\"color: #808000; text-decoration-color: #808000\">type</span>=<span style=\"font-weight: bold\">&lt;</span><span style=\"color: #ff00ff; text-decoration-color: #ff00ff; font-weight: bold\">InteractionTypes.like:</span><span style=\"color: #000000; text-decoration-color: #000000\"> </span><span style=\"color: #008000; text-decoration-color: #008000\">'like'</span><span style=\"color: #000000; text-decoration-color: #000000\">&gt;,</span>\n",
       "<span style=\"color: #000000; text-decoration-color: #000000\">                    </span><span style=\"color: #808000; text-decoration-color: #808000\">timestamp</span><span style=\"color: #000000; text-decoration-color: #000000\">=</span><span style=\"color: #800080; text-decoration-color: #800080; font-weight: bold\">datetime</span><span style=\"color: #800080; text-decoration-color: #800080; font-weight: bold\">.datetime</span><span style=\"color: #000000; text-decoration-color: #000000; font-weight: bold\">(</span><span style=\"color: #008080; text-decoration-color: #008080; font-weight: bold\">2025</span><span style=\"color: #000000; text-decoration-color: #000000\">, </span><span style=\"color: #008080; text-decoration-color: #008080; font-weight: bold\">8</span><span style=\"color: #000000; text-decoration-color: #000000\">, </span><span style=\"color: #008080; text-decoration-color: #008080; font-weight: bold\">6</span><span style=\"color: #000000; text-decoration-color: #000000\">, </span><span style=\"color: #008080; text-decoration-color: #008080; font-weight: bold\">16</span><span style=\"color: #000000; text-decoration-color: #000000\">, </span><span style=\"color: #008080; text-decoration-color: #008080; font-weight: bold\">43</span><span style=\"color: #000000; text-decoration-color: #000000\">, </span><span style=\"color: #008080; text-decoration-color: #008080; font-weight: bold\">24</span><span style=\"color: #000000; text-decoration-color: #000000\">, </span><span style=\"color: #008080; text-decoration-color: #008080; font-weight: bold\">931566</span><span style=\"color: #000000; text-decoration-color: #000000; font-weight: bold\">)</span>\n",
       "<span style=\"color: #000000; text-decoration-color: #000000\">                </span><span style=\"color: #000000; text-decoration-color: #000000; font-weight: bold\">)</span>\n",
       "<span style=\"color: #000000; text-decoration-color: #000000\">            </span><span style=\"color: #000000; text-decoration-color: #000000; font-weight: bold\">]</span><span style=\"color: #000000; text-decoration-color: #000000\">,</span>\n",
       "<span style=\"color: #000000; text-decoration-color: #000000\">            </span><span style=\"color: #808000; text-decoration-color: #808000\">comments</span><span style=\"color: #000000; text-decoration-color: #000000\">=</span><span style=\"color: #000000; text-decoration-color: #000000; font-weight: bold\">[</span>\n",
       "<span style=\"color: #000000; text-decoration-color: #000000\">                </span><span style=\"color: #800080; text-decoration-color: #800080; font-weight: bold\">Post</span><span style=\"color: #000000; text-decoration-color: #000000; font-weight: bold\">(</span>\n",
       "<span style=\"color: #000000; text-decoration-color: #000000\">                    </span><span style=\"color: #808000; text-decoration-color: #808000\">user</span><span style=\"color: #000000; text-decoration-color: #000000\">=</span><span style=\"color: #800080; text-decoration-color: #800080; font-weight: bold\">User</span><span style=\"color: #000000; text-decoration-color: #000000; font-weight: bold\">(</span><span style=\"color: #808000; text-decoration-color: #808000\">id</span><span style=\"color: #000000; text-decoration-color: #000000\">=</span><span style=\"color: #008000; text-decoration-color: #008000\">'user-1c445194-f6d9-444a-95ce-9f9f35ac0b2b'</span><span style=\"color: #000000; text-decoration-color: #000000; font-weight: bold\">)</span><span style=\"color: #000000; text-decoration-color: #000000\">,</span>\n",
       "<span style=\"color: #000000; text-decoration-color: #000000\">                    </span><span style=\"color: #808000; text-decoration-color: #808000\">content</span><span style=\"color: #000000; text-decoration-color: #000000\">=</span><span style=\"color: #008000; text-decoration-color: #008000\">'\"I\\'m glad to see the momentum building around climate action, but let\\'s not forget </span>\n",
       "<span style=\"color: #008000; text-decoration-color: #008000\">about economic realities either. How do we balance the need for renewable energy with the need to create jobs and </span>\n",
       "<span style=\"color: #008000; text-decoration-color: #008000\">support local communities? Investing in green infrastructure and job training programs could be a key part of the </span>\n",
       "<span style=\"color: #008000; text-decoration-color: #008000\">solution. Let\\'s keep the conversation going and explore ways to make this transition work for everyone.\"'</span><span style=\"color: #000000; text-decoration-color: #000000\">,</span>\n",
       "<span style=\"color: #000000; text-decoration-color: #000000\">                    </span><span style=\"color: #808000; text-decoration-color: #808000\">interactions</span><span style=\"color: #000000; text-decoration-color: #000000\">=</span><span style=\"color: #000000; text-decoration-color: #000000; font-weight: bold\">[]</span><span style=\"color: #000000; text-decoration-color: #000000\">,</span>\n",
       "<span style=\"color: #000000; text-decoration-color: #000000\">                    </span><span style=\"color: #808000; text-decoration-color: #808000\">comments</span><span style=\"color: #000000; text-decoration-color: #000000\">=</span><span style=\"color: #000000; text-decoration-color: #000000; font-weight: bold\">[]</span><span style=\"color: #000000; text-decoration-color: #000000\">,</span>\n",
       "<span style=\"color: #000000; text-decoration-color: #000000\">                    </span><span style=\"color: #808000; text-decoration-color: #808000\">id</span><span style=\"color: #000000; text-decoration-color: #000000\">=</span><span style=\"color: #008000; text-decoration-color: #008000\">'post-c828cd5d-01e6-425d-9521-a46f97d240bd'</span><span style=\"color: #000000; text-decoration-color: #000000\">,</span>\n",
       "<span style=\"color: #000000; text-decoration-color: #000000\">                    </span><span style=\"color: #808000; text-decoration-color: #808000\">timestamp</span><span style=\"color: #000000; text-decoration-color: #000000\">=</span><span style=\"color: #800080; text-decoration-color: #800080; font-weight: bold\">datetime</span><span style=\"color: #800080; text-decoration-color: #800080; font-weight: bold\">.datetime</span><span style=\"color: #000000; text-decoration-color: #000000; font-weight: bold\">(</span><span style=\"color: #008080; text-decoration-color: #008080; font-weight: bold\">2025</span><span style=\"color: #000000; text-decoration-color: #000000\">, </span><span style=\"color: #008080; text-decoration-color: #008080; font-weight: bold\">8</span><span style=\"color: #000000; text-decoration-color: #000000\">, </span><span style=\"color: #008080; text-decoration-color: #008080; font-weight: bold\">6</span><span style=\"color: #000000; text-decoration-color: #000000\">, </span><span style=\"color: #008080; text-decoration-color: #008080; font-weight: bold\">16</span><span style=\"color: #000000; text-decoration-color: #000000\">, </span><span style=\"color: #008080; text-decoration-color: #008080; font-weight: bold\">43</span><span style=\"color: #000000; text-decoration-color: #000000\">, </span><span style=\"color: #008080; text-decoration-color: #008080; font-weight: bold\">27</span><span style=\"color: #000000; text-decoration-color: #000000\">, </span><span style=\"color: #008080; text-decoration-color: #008080; font-weight: bold\">243846</span><span style=\"color: #000000; text-decoration-color: #000000; font-weight: bold\">)</span>\n",
       "<span style=\"color: #000000; text-decoration-color: #000000\">                </span><span style=\"color: #000000; text-decoration-color: #000000; font-weight: bold\">)</span>\n",
       "<span style=\"color: #000000; text-decoration-color: #000000\">            </span><span style=\"color: #000000; text-decoration-color: #000000; font-weight: bold\">]</span><span style=\"color: #000000; text-decoration-color: #000000\">,</span>\n",
       "<span style=\"color: #000000; text-decoration-color: #000000\">            </span><span style=\"color: #808000; text-decoration-color: #808000\">id</span><span style=\"color: #000000; text-decoration-color: #000000\">=</span><span style=\"color: #008000; text-decoration-color: #008000\">'post-f84dabbb-63a2-4e1e-bb46-332f9b75659d'</span><span style=\"color: #000000; text-decoration-color: #000000\">,</span>\n",
       "<span style=\"color: #000000; text-decoration-color: #000000\">            </span><span style=\"color: #808000; text-decoration-color: #808000\">timestamp</span><span style=\"color: #000000; text-decoration-color: #000000\">=</span><span style=\"color: #800080; text-decoration-color: #800080; font-weight: bold\">datetime</span><span style=\"color: #800080; text-decoration-color: #800080; font-weight: bold\">.datetime</span><span style=\"color: #000000; text-decoration-color: #000000; font-weight: bold\">(</span><span style=\"color: #008080; text-decoration-color: #008080; font-weight: bold\">2025</span><span style=\"color: #000000; text-decoration-color: #000000\">, </span><span style=\"color: #008080; text-decoration-color: #008080; font-weight: bold\">8</span><span style=\"color: #000000; text-decoration-color: #000000\">, </span><span style=\"color: #008080; text-decoration-color: #008080; font-weight: bold\">6</span><span style=\"color: #000000; text-decoration-color: #000000\">, </span><span style=\"color: #008080; text-decoration-color: #008080; font-weight: bold\">16</span><span style=\"color: #000000; text-decoration-color: #000000\">, </span><span style=\"color: #008080; text-decoration-color: #008080; font-weight: bold\">43</span><span style=\"color: #000000; text-decoration-color: #000000\">, </span><span style=\"color: #008080; text-decoration-color: #008080; font-weight: bold\">1</span><span style=\"color: #000000; text-decoration-color: #000000\">, </span><span style=\"color: #008080; text-decoration-color: #008080; font-weight: bold\">848115</span><span style=\"color: #000000; text-decoration-color: #000000; font-weight: bold\">)</span>\n",
       "<span style=\"color: #000000; text-decoration-color: #000000\">        </span><span style=\"color: #000000; text-decoration-color: #000000; font-weight: bold\">)</span><span style=\"color: #000000; text-decoration-color: #000000\">,</span>\n",
       "<span style=\"color: #000000; text-decoration-color: #000000\">        </span><span style=\"color: #800080; text-decoration-color: #800080; font-weight: bold\">Post</span><span style=\"color: #000000; text-decoration-color: #000000; font-weight: bold\">(</span>\n",
       "<span style=\"color: #000000; text-decoration-color: #000000\">            </span><span style=\"color: #808000; text-decoration-color: #808000\">user</span><span style=\"color: #000000; text-decoration-color: #000000\">=</span><span style=\"color: #800080; text-decoration-color: #800080; font-weight: bold\">User</span><span style=\"color: #000000; text-decoration-color: #000000; font-weight: bold\">(</span><span style=\"color: #808000; text-decoration-color: #808000\">id</span><span style=\"color: #000000; text-decoration-color: #000000\">=</span><span style=\"color: #008000; text-decoration-color: #008000\">'user-1c445194-f6d9-444a-95ce-9f9f35ac0b2b'</span><span style=\"color: #000000; text-decoration-color: #000000; font-weight: bold\">)</span><span style=\"color: #000000; text-decoration-color: #000000\">,</span>\n",
       "<span style=\"color: #000000; text-decoration-color: #000000\">            </span><span style=\"color: #808000; text-decoration-color: #808000\">content</span><span style=\"color: #000000; text-decoration-color: #000000\">=</span><span style=\"color: #008000; text-decoration-color: #008000\">\"Both parties are missing the point on healthcare reform. Instead of screaming about </span>\n",
       "<span style=\"color: #008000; text-decoration-color: #008000\">'socialized medicine' or 'corporate greed,' why not work together on bipartisan solutions? Price transparency, </span>\n",
       "<span style=\"color: #008000; text-decoration-color: #008000\">prescription drug costs, preventive care - there's common ground here if politicians would stop grandstanding.\"</span><span style=\"color: #000000; text-decoration-color: #000000\">,</span>\n",
       "<span style=\"color: #000000; text-decoration-color: #000000\">            </span><span style=\"color: #808000; text-decoration-color: #808000\">interactions</span><span style=\"color: #000000; text-decoration-color: #000000\">=</span><span style=\"color: #000000; text-decoration-color: #000000; font-weight: bold\">[</span>\n",
       "<span style=\"color: #000000; text-decoration-color: #000000\">                </span><span style=\"color: #800080; text-decoration-color: #800080; font-weight: bold\">Interaction</span><span style=\"color: #000000; text-decoration-color: #000000; font-weight: bold\">(</span>\n",
       "<span style=\"color: #000000; text-decoration-color: #000000\">                    </span><span style=\"color: #808000; text-decoration-color: #808000\">user</span><span style=\"color: #000000; text-decoration-color: #000000\">=</span><span style=\"color: #800080; text-decoration-color: #800080; font-weight: bold\">User</span><span style=\"color: #000000; text-decoration-color: #000000; font-weight: bold\">(</span><span style=\"color: #808000; text-decoration-color: #808000\">id</span><span style=\"color: #000000; text-decoration-color: #000000\">=</span><span style=\"color: #008000; text-decoration-color: #008000\">'user-95318d94-095b-4e47-8fc4-aa572d6f06e1'</span><span style=\"color: #000000; text-decoration-color: #000000; font-weight: bold\">)</span><span style=\"color: #000000; text-decoration-color: #000000\">,</span>\n",
       "<span style=\"color: #000000; text-decoration-color: #000000\">                    </span><span style=\"color: #808000; text-decoration-color: #808000\">type</span><span style=\"color: #000000; text-decoration-color: #000000\">=&lt;InteractionTypes.like: </span><span style=\"color: #008000; text-decoration-color: #008000\">'like'</span><span style=\"color: #000000; text-decoration-color: #000000\">&gt;,</span>\n",
       "<span style=\"color: #000000; text-decoration-color: #000000\">                    </span><span style=\"color: #808000; text-decoration-color: #808000\">timestamp</span><span style=\"color: #000000; text-decoration-color: #000000\">=</span><span style=\"color: #800080; text-decoration-color: #800080; font-weight: bold\">datetime</span><span style=\"color: #800080; text-decoration-color: #800080; font-weight: bold\">.datetime</span><span style=\"color: #000000; text-decoration-color: #000000; font-weight: bold\">(</span><span style=\"color: #008080; text-decoration-color: #008080; font-weight: bold\">2025</span><span style=\"color: #000000; text-decoration-color: #000000\">, </span><span style=\"color: #008080; text-decoration-color: #008080; font-weight: bold\">8</span><span style=\"color: #000000; text-decoration-color: #000000\">, </span><span style=\"color: #008080; text-decoration-color: #008080; font-weight: bold\">6</span><span style=\"color: #000000; text-decoration-color: #000000\">, </span><span style=\"color: #008080; text-decoration-color: #008080; font-weight: bold\">16</span><span style=\"color: #000000; text-decoration-color: #000000\">, </span><span style=\"color: #008080; text-decoration-color: #008080; font-weight: bold\">43</span><span style=\"color: #000000; text-decoration-color: #000000\">, </span><span style=\"color: #008080; text-decoration-color: #008080; font-weight: bold\">37</span><span style=\"color: #000000; text-decoration-color: #000000\">, </span><span style=\"color: #008080; text-decoration-color: #008080; font-weight: bold\">820464</span><span style=\"color: #000000; text-decoration-color: #000000; font-weight: bold\">)</span>\n",
       "<span style=\"color: #000000; text-decoration-color: #000000\">                </span><span style=\"color: #000000; text-decoration-color: #000000; font-weight: bold\">)</span>\n",
       "<span style=\"color: #000000; text-decoration-color: #000000\">            </span><span style=\"color: #000000; text-decoration-color: #000000; font-weight: bold\">]</span><span style=\"color: #000000; text-decoration-color: #000000\">,</span>\n",
       "<span style=\"color: #000000; text-decoration-color: #000000\">            </span><span style=\"color: #808000; text-decoration-color: #808000\">comments</span><span style=\"color: #000000; text-decoration-color: #000000\">=</span><span style=\"color: #000000; text-decoration-color: #000000; font-weight: bold\">[</span>\n",
       "<span style=\"color: #000000; text-decoration-color: #000000\">                </span><span style=\"color: #800080; text-decoration-color: #800080; font-weight: bold\">Post</span><span style=\"color: #000000; text-decoration-color: #000000; font-weight: bold\">(</span>\n",
       "<span style=\"color: #000000; text-decoration-color: #000000\">                    </span><span style=\"color: #808000; text-decoration-color: #808000\">user</span><span style=\"color: #000000; text-decoration-color: #000000\">=</span><span style=\"color: #800080; text-decoration-color: #800080; font-weight: bold\">User</span><span style=\"color: #000000; text-decoration-color: #000000; font-weight: bold\">(</span><span style=\"color: #808000; text-decoration-color: #808000\">id</span><span style=\"color: #000000; text-decoration-color: #000000\">=</span><span style=\"color: #008000; text-decoration-color: #008000\">'user-a4363ef8-5dbc-4443-94cc-4ae15ea5fa5d'</span><span style=\"color: #000000; text-decoration-color: #000000; font-weight: bold\">)</span><span style=\"color: #000000; text-decoration-color: #000000\">,</span>\n",
       "<span style=\"color: #000000; text-decoration-color: #000000\">                    </span><span style=\"color: #808000; text-decoration-color: #808000\">content</span><span style=\"color: #000000; text-decoration-color: #000000\">=</span><span style=\"color: #008000; text-decoration-color: #008000\">'\"I\\'d love to see some bipartisan solutions, but let\\'s not forget that the root issue</span>\n",
       "<span style=\"color: #008000; text-decoration-color: #008000\">is overregulation and government interference in the market. More price transparency is great, but let\\'s also talk</span>\n",
       "<span style=\"color: #008000; text-decoration-color: #008000\">about repealing some of these Draconian laws that restrict competition and innovation. Until then, politicians will</span>\n",
       "<span style=\"color: #008000; text-decoration-color: #008000\">just be rearranging the deck chairs on the Titanic.\"'</span><span style=\"color: #000000; text-decoration-color: #000000\">,</span>\n",
       "<span style=\"color: #000000; text-decoration-color: #000000\">                    </span><span style=\"color: #808000; text-decoration-color: #808000\">interactions</span><span style=\"color: #000000; text-decoration-color: #000000\">=</span><span style=\"color: #000000; text-decoration-color: #000000; font-weight: bold\">[]</span><span style=\"color: #000000; text-decoration-color: #000000\">,</span>\n",
       "<span style=\"color: #000000; text-decoration-color: #000000\">                    </span><span style=\"color: #808000; text-decoration-color: #808000\">comments</span><span style=\"color: #000000; text-decoration-color: #000000\">=</span><span style=\"color: #000000; text-decoration-color: #000000; font-weight: bold\">[]</span><span style=\"color: #000000; text-decoration-color: #000000\">,</span>\n",
       "<span style=\"color: #000000; text-decoration-color: #000000\">                    </span><span style=\"color: #808000; text-decoration-color: #808000\">id</span><span style=\"color: #000000; text-decoration-color: #000000\">=</span><span style=\"color: #008000; text-decoration-color: #008000\">'post-2391db3f-84cf-4436-82b4-36239af8f35e'</span><span style=\"color: #000000; text-decoration-color: #000000\">,</span>\n",
       "<span style=\"color: #000000; text-decoration-color: #000000\">                    </span><span style=\"color: #808000; text-decoration-color: #808000\">timestamp</span><span style=\"color: #000000; text-decoration-color: #000000\">=</span><span style=\"color: #800080; text-decoration-color: #800080; font-weight: bold\">datetime</span><span style=\"color: #800080; text-decoration-color: #800080; font-weight: bold\">.datetime</span><span style=\"color: #000000; text-decoration-color: #000000; font-weight: bold\">(</span><span style=\"color: #008080; text-decoration-color: #008080; font-weight: bold\">2025</span><span style=\"color: #000000; text-decoration-color: #000000\">, </span><span style=\"color: #008080; text-decoration-color: #008080; font-weight: bold\">8</span><span style=\"color: #000000; text-decoration-color: #000000\">, </span><span style=\"color: #008080; text-decoration-color: #008080; font-weight: bold\">6</span><span style=\"color: #000000; text-decoration-color: #000000\">, </span><span style=\"color: #008080; text-decoration-color: #008080; font-weight: bold\">16</span><span style=\"color: #000000; text-decoration-color: #000000\">, </span><span style=\"color: #008080; text-decoration-color: #008080; font-weight: bold\">43</span><span style=\"color: #000000; text-decoration-color: #000000\">, </span><span style=\"color: #008080; text-decoration-color: #008080; font-weight: bold\">31</span><span style=\"color: #000000; text-decoration-color: #000000\">, </span><span style=\"color: #008080; text-decoration-color: #008080; font-weight: bold\">189829</span><span style=\"color: #000000; text-decoration-color: #000000; font-weight: bold\">)</span>\n",
       "<span style=\"color: #000000; text-decoration-color: #000000\">                </span><span style=\"color: #000000; text-decoration-color: #000000; font-weight: bold\">)</span><span style=\"color: #000000; text-decoration-color: #000000\">,</span>\n",
       "<span style=\"color: #000000; text-decoration-color: #000000\">                </span><span style=\"color: #800080; text-decoration-color: #800080; font-weight: bold\">Post</span><span style=\"color: #000000; text-decoration-color: #000000; font-weight: bold\">(</span>\n",
       "<span style=\"color: #000000; text-decoration-color: #000000\">                    </span><span style=\"color: #808000; text-decoration-color: #808000\">user</span><span style=\"color: #000000; text-decoration-color: #000000\">=</span><span style=\"color: #800080; text-decoration-color: #800080; font-weight: bold\">User</span><span style=\"color: #000000; text-decoration-color: #000000; font-weight: bold\">(</span><span style=\"color: #808000; text-decoration-color: #808000\">id</span><span style=\"color: #000000; text-decoration-color: #000000\">=</span><span style=\"color: #008000; text-decoration-color: #008000\">'user-95318d94-095b-4e47-8fc4-aa572d6f06e1'</span><span style=\"color: #000000; text-decoration-color: #000000; font-weight: bold\">)</span><span style=\"color: #000000; text-decoration-color: #000000\">,</span>\n",
       "<span style=\"color: #000000; text-decoration-color: #000000\">                    </span><span style=\"color: #808000; text-decoration-color: #808000\">content</span><span style=\"color: #000000; text-decoration-color: #000000\">=</span><span style=\"color: #008000; text-decoration-color: #008000\">'{\"user\":{\"id\":\"user-a4363ef8-5dbc-4443-94cc-4ae15ea5fa5d\"},\"content\":\"I agree that </span>\n",
       "<span style=\"color: #008000; text-decoration-color: #008000\">overregulation is a major factor, but let\\'s not forget about the role of special interest groups and the influence</span>\n",
       "<span style=\"color: #008000; text-decoration-color: #008000\">of Big Pharma. Until we can get money out of politics and put the people over the profits, any reform will just be </span>\n",
       "<span style=\"color: #008000; text-decoration-color: #008000\">window dressing. And I still think we need to prioritize protecting the vulnerable populations that rely on </span>\n",
       "<span style=\"color: #008000; text-decoration-color: #008000\">Medicaid and the like. Bipartisanship is great in theory, but we need to be realistic about the forces driving the </span>\n",
       "<span style=\"color: #008000; text-decoration-color: #008000\">system.\", </span>\n",
       "<span style=\"color: #008000; text-decoration-color: #008000\">\"interactions\":[],\"comments\":[],\"id\":\"post-1f2e2baa-c40b-457a-8f2e-5c7e723d1f8a\",\"timestamp\":\"2025-08-06T17:07:19.5</span>\n",
       "<span style=\"color: #008000; text-decoration-color: #008000\">03370\"}'</span><span style=\"color: #000000; text-decoration-color: #000000\">,</span>\n",
       "<span style=\"color: #000000; text-decoration-color: #000000\">                    </span><span style=\"color: #808000; text-decoration-color: #808000\">interactions</span><span style=\"color: #000000; text-decoration-color: #000000\">=</span><span style=\"color: #000000; text-decoration-color: #000000; font-weight: bold\">[]</span><span style=\"color: #000000; text-decoration-color: #000000\">,</span>\n",
       "<span style=\"color: #000000; text-decoration-color: #000000\">                    </span><span style=\"color: #808000; text-decoration-color: #808000\">comments</span><span style=\"color: #000000; text-decoration-color: #000000\">=</span><span style=\"color: #000000; text-decoration-color: #000000; font-weight: bold\">[]</span><span style=\"color: #000000; text-decoration-color: #000000\">,</span>\n",
       "<span style=\"color: #000000; text-decoration-color: #000000\">                    </span><span style=\"color: #808000; text-decoration-color: #808000\">id</span><span style=\"color: #000000; text-decoration-color: #000000\">=</span><span style=\"color: #008000; text-decoration-color: #008000\">'post-cbc2e877-7a13-4954-9b5a-bf11f5889dae'</span><span style=\"color: #000000; text-decoration-color: #000000\">,</span>\n",
       "<span style=\"color: #000000; text-decoration-color: #000000\">                    </span><span style=\"color: #808000; text-decoration-color: #808000\">timestamp</span><span style=\"color: #000000; text-decoration-color: #000000\">=</span><span style=\"color: #800080; text-decoration-color: #800080; font-weight: bold\">datetime</span><span style=\"color: #800080; text-decoration-color: #800080; font-weight: bold\">.datetime</span><span style=\"color: #000000; text-decoration-color: #000000; font-weight: bold\">(</span><span style=\"color: #008080; text-decoration-color: #008080; font-weight: bold\">2025</span><span style=\"color: #000000; text-decoration-color: #000000\">, </span><span style=\"color: #008080; text-decoration-color: #008080; font-weight: bold\">8</span><span style=\"color: #000000; text-decoration-color: #000000\">, </span><span style=\"color: #008080; text-decoration-color: #008080; font-weight: bold\">6</span><span style=\"color: #000000; text-decoration-color: #000000\">, </span><span style=\"color: #008080; text-decoration-color: #008080; font-weight: bold\">16</span><span style=\"color: #000000; text-decoration-color: #000000\">, </span><span style=\"color: #008080; text-decoration-color: #008080; font-weight: bold\">43</span><span style=\"color: #000000; text-decoration-color: #000000\">, </span><span style=\"color: #008080; text-decoration-color: #008080; font-weight: bold\">41</span><span style=\"color: #000000; text-decoration-color: #000000\">, </span><span style=\"color: #008080; text-decoration-color: #008080; font-weight: bold\">535456</span><span style=\"color: #000000; text-decoration-color: #000000; font-weight: bold\">)</span>\n",
       "<span style=\"color: #000000; text-decoration-color: #000000\">                </span><span style=\"color: #000000; text-decoration-color: #000000; font-weight: bold\">)</span>\n",
       "<span style=\"color: #000000; text-decoration-color: #000000\">            </span><span style=\"color: #000000; text-decoration-color: #000000; font-weight: bold\">]</span><span style=\"color: #000000; text-decoration-color: #000000\">,</span>\n",
       "<span style=\"color: #000000; text-decoration-color: #000000\">            </span><span style=\"color: #808000; text-decoration-color: #808000\">id</span><span style=\"color: #000000; text-decoration-color: #000000\">=</span><span style=\"color: #008000; text-decoration-color: #008000\">'post-491b95dd-3145-448e-8ae1-d6f84b1a9ab2'</span><span style=\"color: #000000; text-decoration-color: #000000\">,</span>\n",
       "<span style=\"color: #000000; text-decoration-color: #000000\">            </span><span style=\"color: #808000; text-decoration-color: #808000\">timestamp</span><span style=\"color: #000000; text-decoration-color: #000000\">=</span><span style=\"color: #800080; text-decoration-color: #800080; font-weight: bold\">datetime</span><span style=\"color: #800080; text-decoration-color: #800080; font-weight: bold\">.datetime</span><span style=\"color: #000000; text-decoration-color: #000000; font-weight: bold\">(</span><span style=\"color: #008080; text-decoration-color: #008080; font-weight: bold\">2025</span><span style=\"color: #000000; text-decoration-color: #000000\">, </span><span style=\"color: #008080; text-decoration-color: #008080; font-weight: bold\">8</span><span style=\"color: #000000; text-decoration-color: #000000\">, </span><span style=\"color: #008080; text-decoration-color: #008080; font-weight: bold\">6</span><span style=\"color: #000000; text-decoration-color: #000000\">, </span><span style=\"color: #008080; text-decoration-color: #008080; font-weight: bold\">16</span><span style=\"color: #000000; text-decoration-color: #000000\">, </span><span style=\"color: #008080; text-decoration-color: #008080; font-weight: bold\">43</span><span style=\"color: #000000; text-decoration-color: #000000\">, </span><span style=\"color: #008080; text-decoration-color: #008080; font-weight: bold\">1</span><span style=\"color: #000000; text-decoration-color: #000000\">, </span><span style=\"color: #008080; text-decoration-color: #008080; font-weight: bold\">848137</span><span style=\"color: #000000; text-decoration-color: #000000; font-weight: bold\">)</span>\n",
       "<span style=\"color: #000000; text-decoration-color: #000000\">        </span><span style=\"color: #000000; text-decoration-color: #000000; font-weight: bold\">)</span><span style=\"color: #000000; text-decoration-color: #000000\">,</span>\n",
       "<span style=\"color: #000000; text-decoration-color: #000000\">        </span><span style=\"color: #800080; text-decoration-color: #800080; font-weight: bold\">Post</span><span style=\"color: #000000; text-decoration-color: #000000; font-weight: bold\">(</span>\n",
       "<span style=\"color: #000000; text-decoration-color: #000000\">            </span><span style=\"color: #808000; text-decoration-color: #808000\">user</span><span style=\"color: #000000; text-decoration-color: #000000\">=</span><span style=\"color: #800080; text-decoration-color: #800080; font-weight: bold\">User</span><span style=\"color: #000000; text-decoration-color: #000000; font-weight: bold\">(</span><span style=\"color: #808000; text-decoration-color: #808000\">id</span><span style=\"color: #000000; text-decoration-color: #000000\">=</span><span style=\"color: #008000; text-decoration-color: #008000\">'user-a4363ef8-5dbc-4443-94cc-4ae15ea5fa5d'</span><span style=\"color: #000000; text-decoration-color: #000000; font-weight: bold\">)</span><span style=\"color: #000000; text-decoration-color: #000000\">,</span>\n",
       "<span style=\"color: #000000; text-decoration-color: #000000\">            </span><span style=\"color: #808000; text-decoration-color: #808000\">content</span><span style=\"color: #000000; text-decoration-color: #000000\">=</span><span style=\"color: #008000; text-decoration-color: #008000\">\"Another day, another government program that costs billions and delivers nothing. TSA security</span>\n",
       "<span style=\"color: #008000; text-decoration-color: #008000\">theater, NSA surveillance, endless foreign wars - when did we decide the federal government should control every </span>\n",
       "<span style=\"color: #008000; text-decoration-color: #008000\">aspect of our lives? Less government, more freedom. That's not radical, that's constitutional.\"</span><span style=\"color: #000000; text-decoration-color: #000000\">,</span>\n",
       "<span style=\"color: #000000; text-decoration-color: #000000\">            </span><span style=\"color: #808000; text-decoration-color: #808000\">interactions</span><span style=\"color: #000000; text-decoration-color: #000000\">=</span><span style=\"color: #000000; text-decoration-color: #000000; font-weight: bold\">[</span>\n",
       "<span style=\"color: #000000; text-decoration-color: #000000\">                </span><span style=\"color: #800080; text-decoration-color: #800080; font-weight: bold\">Interaction</span><span style=\"color: #000000; text-decoration-color: #000000; font-weight: bold\">(</span>\n",
       "<span style=\"color: #000000; text-decoration-color: #000000\">                    </span><span style=\"color: #808000; text-decoration-color: #808000\">user</span><span style=\"color: #000000; text-decoration-color: #000000\">=</span><span style=\"color: #800080; text-decoration-color: #800080; font-weight: bold\">User</span><span style=\"color: #000000; text-decoration-color: #000000; font-weight: bold\">(</span><span style=\"color: #808000; text-decoration-color: #808000\">id</span><span style=\"color: #000000; text-decoration-color: #000000\">=</span><span style=\"color: #008000; text-decoration-color: #008000\">'user-64e29475-e2e5-4a49-af23-278fbfd8fe0a'</span><span style=\"color: #000000; text-decoration-color: #000000; font-weight: bold\">)</span><span style=\"color: #000000; text-decoration-color: #000000\">,</span>\n",
       "<span style=\"color: #000000; text-decoration-color: #000000\">                    </span><span style=\"color: #808000; text-decoration-color: #808000\">type</span><span style=\"color: #000000; text-decoration-color: #000000\">=&lt;InteractionTypes.like: </span><span style=\"color: #008000; text-decoration-color: #008000\">'like'</span><span style=\"color: #000000; text-decoration-color: #000000\">&gt;,</span>\n",
       "<span style=\"color: #000000; text-decoration-color: #000000\">                    </span><span style=\"color: #808000; text-decoration-color: #808000\">timestamp</span><span style=\"color: #000000; text-decoration-color: #000000\">=</span><span style=\"color: #800080; text-decoration-color: #800080; font-weight: bold\">datetime</span><span style=\"color: #800080; text-decoration-color: #800080; font-weight: bold\">.datetime</span><span style=\"color: #000000; text-decoration-color: #000000; font-weight: bold\">(</span><span style=\"color: #008080; text-decoration-color: #008080; font-weight: bold\">2025</span><span style=\"color: #000000; text-decoration-color: #000000\">, </span><span style=\"color: #008080; text-decoration-color: #008080; font-weight: bold\">8</span><span style=\"color: #000000; text-decoration-color: #000000\">, </span><span style=\"color: #008080; text-decoration-color: #008080; font-weight: bold\">6</span><span style=\"color: #000000; text-decoration-color: #000000\">, </span><span style=\"color: #008080; text-decoration-color: #008080; font-weight: bold\">16</span><span style=\"color: #000000; text-decoration-color: #000000\">, </span><span style=\"color: #008080; text-decoration-color: #008080; font-weight: bold\">43</span><span style=\"color: #000000; text-decoration-color: #000000\">, </span><span style=\"color: #008080; text-decoration-color: #008080; font-weight: bold\">14</span><span style=\"color: #000000; text-decoration-color: #000000\">, </span><span style=\"color: #008080; text-decoration-color: #008080; font-weight: bold\">955378</span><span style=\"color: #000000; text-decoration-color: #000000; font-weight: bold\">)</span>\n",
       "<span style=\"color: #000000; text-decoration-color: #000000\">                </span><span style=\"color: #000000; text-decoration-color: #000000; font-weight: bold\">)</span>\n",
       "<span style=\"color: #000000; text-decoration-color: #000000\">            </span><span style=\"color: #000000; text-decoration-color: #000000; font-weight: bold\">]</span><span style=\"color: #000000; text-decoration-color: #000000\">,</span>\n",
       "<span style=\"color: #000000; text-decoration-color: #000000\">            </span><span style=\"color: #808000; text-decoration-color: #808000\">comments</span><span style=\"color: #000000; text-decoration-color: #000000\">=</span><span style=\"color: #000000; text-decoration-color: #000000; font-weight: bold\">[</span>\n",
       "<span style=\"color: #000000; text-decoration-color: #000000\">                </span><span style=\"color: #800080; text-decoration-color: #800080; font-weight: bold\">Post</span><span style=\"color: #000000; text-decoration-color: #000000; font-weight: bold\">(</span>\n",
       "<span style=\"color: #000000; text-decoration-color: #000000\">                    </span><span style=\"color: #808000; text-decoration-color: #808000\">user</span><span style=\"color: #000000; text-decoration-color: #000000\">=</span><span style=\"color: #800080; text-decoration-color: #800080; font-weight: bold\">User</span><span style=\"color: #000000; text-decoration-color: #000000; font-weight: bold\">(</span><span style=\"color: #808000; text-decoration-color: #808000\">id</span><span style=\"color: #000000; text-decoration-color: #000000\">=</span><span style=\"color: #008000; text-decoration-color: #008000\">'user-64e29475-e2e5-4a49-af23-278fbfd8fe0a'</span><span style=\"color: #000000; text-decoration-color: #000000; font-weight: bold\">)</span><span style=\"color: #000000; text-decoration-color: #000000\">,</span>\n",
       "<span style=\"color: #000000; text-decoration-color: #000000\">                    </span><span style=\"color: #808000; text-decoration-color: #808000\">content</span><span style=\"color: #000000; text-decoration-color: #000000\">=</span><span style=\"color: #008000; text-decoration-color: #008000\">'\"I see you\\'re shopping for ideologies now. Less government? That\\'s a nice soundbite </span>\n",
       "<span style=\"color: #008000; text-decoration-color: #008000\">but let\\'s be real, it\\'s just code for \\'cutting programs that benefit the most vulnerable.\\' You want to reduce </span>\n",
       "<span style=\"color: #008000; text-decoration-color: #008000\">government intervention in healthcare, but what about when people can\\'t afford life-saving treatments? Or what </span>\n",
       "<span style=\"color: #008000; text-decoration-color: #008000\">about student loans that are crippling the next generation? Give me a break. This isn\\'t about freedom, it\\'s about</span>\n",
       "<span style=\"color: #008000; text-decoration-color: #008000\">who you want to have power - the wealthy elite or the rest of us.\"'</span><span style=\"color: #000000; text-decoration-color: #000000\">,</span>\n",
       "<span style=\"color: #000000; text-decoration-color: #000000\">                    </span><span style=\"color: #808000; text-decoration-color: #808000\">interactions</span><span style=\"color: #000000; text-decoration-color: #000000\">=</span><span style=\"color: #000000; text-decoration-color: #000000; font-weight: bold\">[]</span><span style=\"color: #000000; text-decoration-color: #000000\">,</span>\n",
       "<span style=\"color: #000000; text-decoration-color: #000000\">                    </span><span style=\"color: #808000; text-decoration-color: #808000\">comments</span><span style=\"color: #000000; text-decoration-color: #000000\">=</span><span style=\"color: #000000; text-decoration-color: #000000; font-weight: bold\">[]</span><span style=\"color: #000000; text-decoration-color: #000000\">,</span>\n",
       "<span style=\"color: #000000; text-decoration-color: #000000\">                    </span><span style=\"color: #808000; text-decoration-color: #808000\">id</span><span style=\"color: #000000; text-decoration-color: #000000\">=</span><span style=\"color: #008000; text-decoration-color: #008000\">'post-7794d22e-86fb-4847-8b5c-f50d46f78981'</span><span style=\"color: #000000; text-decoration-color: #000000\">,</span>\n",
       "<span style=\"color: #000000; text-decoration-color: #000000\">                    </span><span style=\"color: #808000; text-decoration-color: #808000\">timestamp</span><span style=\"color: #000000; text-decoration-color: #000000\">=</span><span style=\"color: #800080; text-decoration-color: #800080; font-weight: bold\">datetime</span><span style=\"color: #800080; text-decoration-color: #800080; font-weight: bold\">.datetime</span><span style=\"color: #000000; text-decoration-color: #000000; font-weight: bold\">(</span><span style=\"color: #008080; text-decoration-color: #008080; font-weight: bold\">2025</span><span style=\"color: #000000; text-decoration-color: #000000\">, </span><span style=\"color: #008080; text-decoration-color: #008080; font-weight: bold\">8</span><span style=\"color: #000000; text-decoration-color: #000000\">, </span><span style=\"color: #008080; text-decoration-color: #008080; font-weight: bold\">6</span><span style=\"color: #000000; text-decoration-color: #000000\">, </span><span style=\"color: #008080; text-decoration-color: #008080; font-weight: bold\">16</span><span style=\"color: #000000; text-decoration-color: #000000\">, </span><span style=\"color: #008080; text-decoration-color: #008080; font-weight: bold\">43</span><span style=\"color: #000000; text-decoration-color: #000000\">, </span><span style=\"color: #008080; text-decoration-color: #008080; font-weight: bold\">17</span><span style=\"color: #000000; text-decoration-color: #000000\">, </span><span style=\"color: #008080; text-decoration-color: #008080; font-weight: bold\">351356</span><span style=\"color: #000000; text-decoration-color: #000000; font-weight: bold\">)</span>\n",
       "<span style=\"color: #000000; text-decoration-color: #000000\">                </span><span style=\"color: #000000; text-decoration-color: #000000; font-weight: bold\">)</span><span style=\"color: #000000; text-decoration-color: #000000\">,</span>\n",
       "<span style=\"color: #000000; text-decoration-color: #000000\">                </span><span style=\"color: #800080; text-decoration-color: #800080; font-weight: bold\">Post</span><span style=\"color: #000000; text-decoration-color: #000000; font-weight: bold\">(</span>\n",
       "<span style=\"color: #000000; text-decoration-color: #000000\">                    </span><span style=\"color: #808000; text-decoration-color: #808000\">user</span><span style=\"color: #000000; text-decoration-color: #000000\">=</span><span style=\"color: #800080; text-decoration-color: #800080; font-weight: bold\">User</span><span style=\"color: #000000; text-decoration-color: #000000; font-weight: bold\">(</span><span style=\"color: #808000; text-decoration-color: #808000\">id</span><span style=\"color: #000000; text-decoration-color: #000000\">=</span><span style=\"color: #008000; text-decoration-color: #008000\">'user-1c445194-f6d9-444a-95ce-9f9f35ac0b2b'</span><span style=\"color: #000000; text-decoration-color: #000000; font-weight: bold\">)</span><span style=\"color: #000000; text-decoration-color: #000000\">,</span>\n",
       "<span style=\"color: #000000; text-decoration-color: #000000\">                    </span><span style=\"color: #808000; text-decoration-color: #808000\">content</span><span style=\"color: #000000; text-decoration-color: #000000\">=</span><span style=\"color: #008000; text-decoration-color: #008000\">'\"I understand where you\\'re coming from, but let\\'s not conflate government programs </span>\n",
       "<span style=\"color: #008000; text-decoration-color: #008000\">with \\'security theater\\' or \\'surveillance.\\' There are legitimate concerns about government overreach, but we </span>\n",
       "<span style=\"color: #008000; text-decoration-color: #008000\">need to separate the wheat from the chaff. For example, TSA security is imperfect, but it\\'s a necessary measure in</span>\n",
       "<span style=\"color: #008000; text-decoration-color: #008000\">a post-9/11 world. Let\\'s focus on reforming and improving existing programs, rather than just abolishing them. We </span>\n",
       "<span style=\"color: #008000; text-decoration-color: #008000\">can have a more nuanced conversation about the role of government in our lives.\"'</span><span style=\"color: #000000; text-decoration-color: #000000\">,</span>\n",
       "<span style=\"color: #000000; text-decoration-color: #000000\">                    </span><span style=\"color: #808000; text-decoration-color: #808000\">interactions</span><span style=\"color: #000000; text-decoration-color: #000000\">=</span><span style=\"color: #000000; text-decoration-color: #000000; font-weight: bold\">[]</span><span style=\"color: #000000; text-decoration-color: #000000\">,</span>\n",
       "<span style=\"color: #000000; text-decoration-color: #000000\">                    </span><span style=\"color: #808000; text-decoration-color: #808000\">comments</span><span style=\"color: #000000; text-decoration-color: #000000\">=</span><span style=\"color: #000000; text-decoration-color: #000000; font-weight: bold\">[]</span><span style=\"color: #000000; text-decoration-color: #000000\">,</span>\n",
       "<span style=\"color: #000000; text-decoration-color: #000000\">                    </span><span style=\"color: #808000; text-decoration-color: #808000\">id</span><span style=\"color: #000000; text-decoration-color: #000000\">=</span><span style=\"color: #008000; text-decoration-color: #008000\">'post-7ed70860-36fb-4405-aaf2-6a97be09ca32'</span><span style=\"color: #000000; text-decoration-color: #000000\">,</span>\n",
       "<span style=\"color: #000000; text-decoration-color: #000000\">                    </span><span style=\"color: #808000; text-decoration-color: #808000\">timestamp</span><span style=\"color: #000000; text-decoration-color: #000000\">=</span><span style=\"color: #800080; text-decoration-color: #800080; font-weight: bold\">datetime</span><span style=\"color: #800080; text-decoration-color: #800080; font-weight: bold\">.datetime</span><span style=\"color: #000000; text-decoration-color: #000000; font-weight: bold\">(</span><span style=\"color: #008080; text-decoration-color: #008080; font-weight: bold\">2025</span><span style=\"color: #000000; text-decoration-color: #000000\">, </span><span style=\"color: #008080; text-decoration-color: #008080; font-weight: bold\">8</span><span style=\"color: #000000; text-decoration-color: #000000\">, </span><span style=\"color: #008080; text-decoration-color: #008080; font-weight: bold\">6</span><span style=\"color: #000000; text-decoration-color: #000000\">, </span><span style=\"color: #008080; text-decoration-color: #008080; font-weight: bold\">16</span><span style=\"color: #000000; text-decoration-color: #000000\">, </span><span style=\"color: #008080; text-decoration-color: #008080; font-weight: bold\">43</span><span style=\"color: #000000; text-decoration-color: #000000\">, </span><span style=\"color: #008080; text-decoration-color: #008080; font-weight: bold\">24</span><span style=\"color: #000000; text-decoration-color: #000000\">, </span><span style=\"color: #008080; text-decoration-color: #008080; font-weight: bold\">43840</span><span style=\"color: #000000; text-decoration-color: #000000; font-weight: bold\">)</span>\n",
       "<span style=\"color: #000000; text-decoration-color: #000000\">                </span><span style=\"color: #000000; text-decoration-color: #000000; font-weight: bold\">)</span><span style=\"color: #000000; text-decoration-color: #000000\">,</span>\n",
       "<span style=\"color: #000000; text-decoration-color: #000000\">                </span><span style=\"color: #800080; text-decoration-color: #800080; font-weight: bold\">Post</span><span style=\"color: #000000; text-decoration-color: #000000; font-weight: bold\">(</span>\n",
       "<span style=\"color: #000000; text-decoration-color: #000000\">                    </span><span style=\"color: #808000; text-decoration-color: #808000\">user</span><span style=\"color: #000000; text-decoration-color: #000000\">=</span><span style=\"color: #800080; text-decoration-color: #800080; font-weight: bold\">User</span><span style=\"color: #000000; text-decoration-color: #000000; font-weight: bold\">(</span><span style=\"color: #808000; text-decoration-color: #808000\">id</span><span style=\"color: #000000; text-decoration-color: #000000\">=</span><span style=\"color: #008000; text-decoration-color: #008000\">'user-95318d94-095b-4e47-8fc4-aa572d6f06e1'</span><span style=\"color: #000000; text-decoration-color: #000000; font-weight: bold\">)</span><span style=\"color: #000000; text-decoration-color: #000000\">,</span>\n",
       "<span style=\"color: #000000; text-decoration-color: #000000\">                    </span><span style=\"color: #808000; text-decoration-color: #808000\">content</span><span style=\"color: #000000; text-decoration-color: #000000\">=</span><span style=\"color: #008000; text-decoration-color: #008000\">'\"Just watched a video of a city council meeting where they\\'re talking about </span>\n",
       "<span style=\"color: #008000; text-decoration-color: #008000\">implementing a new \\'equitable\\' policing policy. Sounds good, right? Until they start talking about defunding the </span>\n",
       "<span style=\"color: #008000; text-decoration-color: #008000\">police and replacing them with community \\'peace officers.\\' You want to know what\\'s not radical? Common sense. We</span>\n",
       "<span style=\"color: #008000; text-decoration-color: #008000\">need to have a serious conversation about public safety and how to protect our communities without throwing out the</span>\n",
       "<span style=\"color: #008000; text-decoration-color: #008000\">baby with the bathwater. Anyone else tired of the left\\'s \\'solution\\' to every problem being to just abolish it </span>\n",
       "<span style=\"color: #008000; text-decoration-color: #008000\">and start over?\"'</span><span style=\"color: #000000; text-decoration-color: #000000\">,</span>\n",
       "<span style=\"color: #000000; text-decoration-color: #000000\">                    </span><span style=\"color: #808000; text-decoration-color: #808000\">interactions</span><span style=\"color: #000000; text-decoration-color: #000000\">=</span><span style=\"color: #000000; text-decoration-color: #000000; font-weight: bold\">[]</span><span style=\"color: #000000; text-decoration-color: #000000\">,</span>\n",
       "<span style=\"color: #000000; text-decoration-color: #000000\">                    </span><span style=\"color: #808000; text-decoration-color: #808000\">comments</span><span style=\"color: #000000; text-decoration-color: #000000\">=</span><span style=\"color: #000000; text-decoration-color: #000000; font-weight: bold\">[]</span><span style=\"color: #000000; text-decoration-color: #000000\">,</span>\n",
       "<span style=\"color: #000000; text-decoration-color: #000000\">                    </span><span style=\"color: #808000; text-decoration-color: #808000\">id</span><span style=\"color: #000000; text-decoration-color: #000000\">=</span><span style=\"color: #008000; text-decoration-color: #008000\">'post-4c9e0e25-0cfb-4c5e-aa9c-0a7ee9403c87'</span><span style=\"color: #000000; text-decoration-color: #000000\">,</span>\n",
       "<span style=\"color: #000000; text-decoration-color: #000000\">                    </span><span style=\"color: #808000; text-decoration-color: #808000\">timestamp</span><span style=\"color: #000000; text-decoration-color: #000000\">=</span><span style=\"color: #800080; text-decoration-color: #800080; font-weight: bold\">datetime</span><span style=\"color: #800080; text-decoration-color: #800080; font-weight: bold\">.datetime</span><span style=\"color: #000000; text-decoration-color: #000000; font-weight: bold\">(</span><span style=\"color: #008080; text-decoration-color: #008080; font-weight: bold\">2025</span><span style=\"color: #000000; text-decoration-color: #000000\">, </span><span style=\"color: #008080; text-decoration-color: #008080; font-weight: bold\">8</span><span style=\"color: #000000; text-decoration-color: #000000\">, </span><span style=\"color: #008080; text-decoration-color: #008080; font-weight: bold\">6</span><span style=\"color: #000000; text-decoration-color: #000000\">, </span><span style=\"color: #008080; text-decoration-color: #008080; font-weight: bold\">16</span><span style=\"color: #000000; text-decoration-color: #000000\">, </span><span style=\"color: #008080; text-decoration-color: #008080; font-weight: bold\">43</span><span style=\"color: #000000; text-decoration-color: #000000\">, </span><span style=\"color: #008080; text-decoration-color: #008080; font-weight: bold\">36</span><span style=\"color: #000000; text-decoration-color: #000000\">, </span><span style=\"color: #008080; text-decoration-color: #008080; font-weight: bold\">975998</span><span style=\"color: #000000; text-decoration-color: #000000; font-weight: bold\">)</span>\n",
       "<span style=\"color: #000000; text-decoration-color: #000000\">                </span><span style=\"color: #000000; text-decoration-color: #000000; font-weight: bold\">)</span>\n",
       "<span style=\"color: #000000; text-decoration-color: #000000\">            </span><span style=\"color: #000000; text-decoration-color: #000000; font-weight: bold\">]</span><span style=\"color: #000000; text-decoration-color: #000000\">,</span>\n",
       "<span style=\"color: #000000; text-decoration-color: #000000\">            </span><span style=\"color: #808000; text-decoration-color: #808000\">id</span><span style=\"color: #000000; text-decoration-color: #000000\">=</span><span style=\"color: #008000; text-decoration-color: #008000\">'post-138dcf2a-8f85-4d65-bbd9-76e29e1afaa4'</span><span style=\"color: #000000; text-decoration-color: #000000\">,</span>\n",
       "<span style=\"color: #000000; text-decoration-color: #000000\">            </span><span style=\"color: #808000; text-decoration-color: #808000\">timestamp</span><span style=\"color: #000000; text-decoration-color: #000000\">=</span><span style=\"color: #800080; text-decoration-color: #800080; font-weight: bold\">datetime</span><span style=\"color: #800080; text-decoration-color: #800080; font-weight: bold\">.datetime</span><span style=\"color: #000000; text-decoration-color: #000000; font-weight: bold\">(</span><span style=\"color: #008080; text-decoration-color: #008080; font-weight: bold\">2025</span><span style=\"color: #000000; text-decoration-color: #000000\">, </span><span style=\"color: #008080; text-decoration-color: #008080; font-weight: bold\">8</span><span style=\"color: #000000; text-decoration-color: #000000\">, </span><span style=\"color: #008080; text-decoration-color: #008080; font-weight: bold\">6</span><span style=\"color: #000000; text-decoration-color: #000000\">, </span><span style=\"color: #008080; text-decoration-color: #008080; font-weight: bold\">16</span><span style=\"color: #000000; text-decoration-color: #000000\">, </span><span style=\"color: #008080; text-decoration-color: #008080; font-weight: bold\">43</span><span style=\"color: #000000; text-decoration-color: #000000\">, </span><span style=\"color: #008080; text-decoration-color: #008080; font-weight: bold\">1</span><span style=\"color: #000000; text-decoration-color: #000000\">, </span><span style=\"color: #008080; text-decoration-color: #008080; font-weight: bold\">848146</span><span style=\"color: #000000; text-decoration-color: #000000; font-weight: bold\">)</span>\n",
       "<span style=\"color: #000000; text-decoration-color: #000000\">        </span><span style=\"color: #000000; text-decoration-color: #000000; font-weight: bold\">)</span><span style=\"color: #000000; text-decoration-color: #000000\">,</span>\n",
       "<span style=\"color: #000000; text-decoration-color: #000000\">        </span><span style=\"color: #800080; text-decoration-color: #800080; font-weight: bold\">Post</span><span style=\"color: #000000; text-decoration-color: #000000; font-weight: bold\">(</span>\n",
       "<span style=\"color: #000000; text-decoration-color: #000000\">            </span><span style=\"color: #808000; text-decoration-color: #808000\">user</span><span style=\"color: #000000; text-decoration-color: #000000\">=</span><span style=\"color: #800080; text-decoration-color: #800080; font-weight: bold\">User</span><span style=\"color: #000000; text-decoration-color: #000000; font-weight: bold\">(</span><span style=\"color: #808000; text-decoration-color: #808000\">id</span><span style=\"color: #000000; text-decoration-color: #000000\">=</span><span style=\"color: #008000; text-decoration-color: #008000\">'user-95318d94-095b-4e47-8fc4-aa572d6f06e1'</span><span style=\"color: #000000; text-decoration-color: #000000; font-weight: bold\">)</span><span style=\"color: #000000; text-decoration-color: #000000\">,</span>\n",
       "<span style=\"color: #000000; text-decoration-color: #000000\">            </span><span style=\"color: #808000; text-decoration-color: #808000\">content</span><span style=\"color: #000000; text-decoration-color: #000000\">=</span><span style=\"color: #008000; text-decoration-color: #008000\">\"Just filled up my truck - $3.89/gallon! Remember when gas was under $2 during Trump's </span>\n",
       "<span style=\"color: #008000; text-decoration-color: #008000\">presidency? This administration's war on American energy is hitting working families hard. We need to get back to </span>\n",
       "<span style=\"color: #008000; text-decoration-color: #008000\">energy independence and stop begging other countries for oil. \"</span><span style=\"color: #000000; text-decoration-color: #000000\">,</span>\n",
       "<span style=\"color: #000000; text-decoration-color: #000000\">            </span><span style=\"color: #808000; text-decoration-color: #808000\">interactions</span><span style=\"color: #000000; text-decoration-color: #000000\">=</span><span style=\"color: #000000; text-decoration-color: #000000; font-weight: bold\">[</span>\n",
       "<span style=\"color: #000000; text-decoration-color: #000000\">                </span><span style=\"color: #800080; text-decoration-color: #800080; font-weight: bold\">Interaction</span><span style=\"color: #000000; text-decoration-color: #000000; font-weight: bold\">(</span>\n",
       "<span style=\"color: #000000; text-decoration-color: #000000\">                    </span><span style=\"color: #808000; text-decoration-color: #808000\">user</span><span style=\"color: #000000; text-decoration-color: #000000\">=</span><span style=\"color: #800080; text-decoration-color: #800080; font-weight: bold\">User</span><span style=\"color: #000000; text-decoration-color: #000000; font-weight: bold\">(</span><span style=\"color: #808000; text-decoration-color: #808000\">id</span><span style=\"color: #000000; text-decoration-color: #000000\">=</span><span style=\"color: #008000; text-decoration-color: #008000\">'user-64e29475-e2e5-4a49-af23-278fbfd8fe0a'</span><span style=\"color: #000000; text-decoration-color: #000000; font-weight: bold\">)</span><span style=\"color: #000000; text-decoration-color: #000000\">,</span>\n",
       "<span style=\"color: #000000; text-decoration-color: #000000\">                    </span><span style=\"color: #808000; text-decoration-color: #808000\">type</span><span style=\"color: #000000; text-decoration-color: #000000\">=&lt;InteractionTypes.like: </span><span style=\"color: #008000; text-decoration-color: #008000\">'like'</span><span style=\"font-weight: bold\">&gt;</span>,\n",
       "                    <span style=\"color: #808000; text-decoration-color: #808000\">timestamp</span>=<span style=\"color: #800080; text-decoration-color: #800080; font-weight: bold\">datetime</span><span style=\"color: #800080; text-decoration-color: #800080; font-weight: bold\">.datetime</span><span style=\"font-weight: bold\">(</span><span style=\"color: #008080; text-decoration-color: #008080; font-weight: bold\">2025</span>, <span style=\"color: #008080; text-decoration-color: #008080; font-weight: bold\">8</span>, <span style=\"color: #008080; text-decoration-color: #008080; font-weight: bold\">6</span>, <span style=\"color: #008080; text-decoration-color: #008080; font-weight: bold\">16</span>, <span style=\"color: #008080; text-decoration-color: #008080; font-weight: bold\">43</span>, <span style=\"color: #008080; text-decoration-color: #008080; font-weight: bold\">12</span>, <span style=\"color: #008080; text-decoration-color: #008080; font-weight: bold\">167431</span><span style=\"font-weight: bold\">)</span>\n",
       "                <span style=\"font-weight: bold\">)</span>\n",
       "            <span style=\"font-weight: bold\">]</span>,\n",
       "            <span style=\"color: #808000; text-decoration-color: #808000\">comments</span>=<span style=\"font-weight: bold\">[</span>\n",
       "                <span style=\"color: #800080; text-decoration-color: #800080; font-weight: bold\">Post</span><span style=\"font-weight: bold\">(</span>\n",
       "                    <span style=\"color: #808000; text-decoration-color: #808000\">user</span>=<span style=\"color: #800080; text-decoration-color: #800080; font-weight: bold\">User</span><span style=\"font-weight: bold\">(</span><span style=\"color: #808000; text-decoration-color: #808000\">id</span>=<span style=\"color: #008000; text-decoration-color: #008000\">'user-64e29475-e2e5-4a49-af23-278fbfd8fe0a'</span><span style=\"font-weight: bold\">)</span>,\n",
       "                    <span style=\"color: #808000; text-decoration-color: #808000\">content</span>=<span style=\"color: #008000; text-decoration-color: #008000\">'\"A war on American energy? You mean the war on our planet\\'s future? The </span>\n",
       "<span style=\"color: #008000; text-decoration-color: #008000\">\\'independence\\' you\\'re talking about is actually just a euphemism for \\'more oil spills\\' and \\'more climate </span>\n",
       "<span style=\"color: #008000; text-decoration-color: #008000\">chaos.\\' Let\\'s focus on transitioning to clean energy, not digging up more fossil fuels. It\\'s time for real </span>\n",
       "<span style=\"color: #008000; text-decoration-color: #008000\">leadership, not just more empty promises.\"'</span>,\n",
       "                    <span style=\"color: #808000; text-decoration-color: #808000\">interactions</span>=<span style=\"font-weight: bold\">[]</span>,\n",
       "                    <span style=\"color: #808000; text-decoration-color: #808000\">comments</span>=<span style=\"font-weight: bold\">[]</span>,\n",
       "                    <span style=\"color: #808000; text-decoration-color: #808000\">id</span>=<span style=\"color: #008000; text-decoration-color: #008000\">'post-1326d68c-8710-4b37-81e7-9af6be579d3c'</span>,\n",
       "                    <span style=\"color: #808000; text-decoration-color: #808000\">timestamp</span>=<span style=\"color: #800080; text-decoration-color: #800080; font-weight: bold\">datetime</span><span style=\"color: #800080; text-decoration-color: #800080; font-weight: bold\">.datetime</span><span style=\"font-weight: bold\">(</span><span style=\"color: #008080; text-decoration-color: #008080; font-weight: bold\">2025</span>, <span style=\"color: #008080; text-decoration-color: #008080; font-weight: bold\">8</span>, <span style=\"color: #008080; text-decoration-color: #008080; font-weight: bold\">6</span>, <span style=\"color: #008080; text-decoration-color: #008080; font-weight: bold\">16</span>, <span style=\"color: #008080; text-decoration-color: #008080; font-weight: bold\">43</span>, <span style=\"color: #008080; text-decoration-color: #008080; font-weight: bold\">14</span>, <span style=\"color: #008080; text-decoration-color: #008080; font-weight: bold\">39417</span><span style=\"font-weight: bold\">)</span>\n",
       "                <span style=\"font-weight: bold\">)</span>\n",
       "            <span style=\"font-weight: bold\">]</span>,\n",
       "            <span style=\"color: #808000; text-decoration-color: #808000\">id</span>=<span style=\"color: #008000; text-decoration-color: #008000\">'post-fb3075bf-870f-477e-a25b-107b39654bcb'</span>,\n",
       "            <span style=\"color: #808000; text-decoration-color: #808000\">timestamp</span>=<span style=\"color: #800080; text-decoration-color: #800080; font-weight: bold\">datetime</span><span style=\"color: #800080; text-decoration-color: #800080; font-weight: bold\">.datetime</span><span style=\"font-weight: bold\">(</span><span style=\"color: #008080; text-decoration-color: #008080; font-weight: bold\">2025</span>, <span style=\"color: #008080; text-decoration-color: #008080; font-weight: bold\">8</span>, <span style=\"color: #008080; text-decoration-color: #008080; font-weight: bold\">6</span>, <span style=\"color: #008080; text-decoration-color: #008080; font-weight: bold\">16</span>, <span style=\"color: #008080; text-decoration-color: #008080; font-weight: bold\">43</span>, <span style=\"color: #008080; text-decoration-color: #008080; font-weight: bold\">1</span>, <span style=\"color: #008080; text-decoration-color: #008080; font-weight: bold\">848155</span><span style=\"font-weight: bold\">)</span>\n",
       "        <span style=\"font-weight: bold\">)</span>,\n",
       "        <span style=\"color: #800080; text-decoration-color: #800080; font-weight: bold\">Post</span><span style=\"font-weight: bold\">(</span>\n",
       "            <span style=\"color: #808000; text-decoration-color: #808000\">user</span>=<span style=\"color: #800080; text-decoration-color: #800080; font-weight: bold\">User</span><span style=\"font-weight: bold\">(</span><span style=\"color: #808000; text-decoration-color: #808000\">id</span>=<span style=\"color: #008000; text-decoration-color: #008000\">'user-1c445194-f6d9-444a-95ce-9f9f35ac0b2b'</span><span style=\"font-weight: bold\">)</span>,\n",
       "            <span style=\"color: #808000; text-decoration-color: #808000\">content</span>=<span style=\"color: #008000; text-decoration-color: #008000\">'**Title:** Finding a Balance Between Freedom and Protection\\n\\n**Content:** I understand where</span>\n",
       "<span style=\"color: #008000; text-decoration-color: #008000\">you\\'re coming from, but I think we can have a more nuanced conversation about less government. It\\'s not about </span>\n",
       "<span style=\"color: #008000; text-decoration-color: #008000\">cutting programs that benefit the most vulnerable, but about making sure they\\'re effective and efficient. I\\'m not</span>\n",
       "<span style=\"color: #008000; text-decoration-color: #008000\">advocating for a complete dismantling of the social safety net, but rather a thoughtful approach to reform. For </span>\n",
       "<span style=\"color: #008000; text-decoration-color: #008000\">example, why not focus on targeted interventions that address the root causes of poverty and inequality? By </span>\n",
       "<span style=\"color: #008000; text-decoration-color: #008000\">investing in education, job training, and community development, we can create a more equitable society that </span>\n",
       "<span style=\"color: #008000; text-decoration-color: #008000\">benefits everyone.\\n\\n**Commenting on another user\\'s post:**\\n\\n\"I agree with you that the wealthy elite often </span>\n",
       "<span style=\"color: #008000; text-decoration-color: #008000\">hold too much power, but let\\'s not throw the baby out with the bathwater. A balanced approach that prioritizes </span>\n",
       "<span style=\"color: #008000; text-decoration-color: #008000\">both individual freedom and collective well-being is possible. We just need to be willing to listen to different </span>\n",
       "<span style=\"color: #008000; text-decoration-color: #008000\">perspectives and work together to find solutions that benefit everyone.\"'</span>,\n",
       "            <span style=\"color: #808000; text-decoration-color: #808000\">interactions</span>=<span style=\"font-weight: bold\">[]</span>,\n",
       "            <span style=\"color: #808000; text-decoration-color: #808000\">comments</span>=<span style=\"font-weight: bold\">[]</span>,\n",
       "            <span style=\"color: #808000; text-decoration-color: #808000\">id</span>=<span style=\"color: #008000; text-decoration-color: #008000\">'post-30199231-941f-4117-8d77-e598723e5dea'</span>,\n",
       "            <span style=\"color: #808000; text-decoration-color: #808000\">timestamp</span>=<span style=\"color: #800080; text-decoration-color: #800080; font-weight: bold\">datetime</span><span style=\"color: #800080; text-decoration-color: #800080; font-weight: bold\">.datetime</span><span style=\"font-weight: bold\">(</span><span style=\"color: #008080; text-decoration-color: #008080; font-weight: bold\">2025</span>, <span style=\"color: #008080; text-decoration-color: #008080; font-weight: bold\">8</span>, <span style=\"color: #008080; text-decoration-color: #008080; font-weight: bold\">6</span>, <span style=\"color: #008080; text-decoration-color: #008080; font-weight: bold\">16</span>, <span style=\"color: #008080; text-decoration-color: #008080; font-weight: bold\">43</span>, <span style=\"color: #008080; text-decoration-color: #008080; font-weight: bold\">21</span>, <span style=\"color: #008080; text-decoration-color: #008080; font-weight: bold\">829073</span><span style=\"font-weight: bold\">)</span>\n",
       "        <span style=\"font-weight: bold\">)</span>,\n",
       "        <span style=\"color: #800080; text-decoration-color: #800080; font-weight: bold\">Post</span><span style=\"font-weight: bold\">(</span>\n",
       "            <span style=\"color: #808000; text-decoration-color: #808000\">user</span>=<span style=\"color: #800080; text-decoration-color: #800080; font-weight: bold\">User</span><span style=\"font-weight: bold\">(</span><span style=\"color: #808000; text-decoration-color: #808000\">id</span>=<span style=\"color: #008000; text-decoration-color: #008000\">'user-95318d94-095b-4e47-8fc4-aa572d6f06e1'</span><span style=\"font-weight: bold\">)</span>,\n",
       "            <span style=\"color: #808000; text-decoration-color: #808000\">content</span>=<span style=\"color: #008000; text-decoration-color: #008000\">'**Independent Post**\\n\\nJust saw a post from a \"friend\" bashing the government for being too </span>\n",
       "<span style=\"color: #008000; text-decoration-color: #008000\">big. Let me set the record straight: I\\'m all for fiscal responsibility, but when we\\'re talking about programs </span>\n",
       "<span style=\"color: #008000; text-decoration-color: #008000\">that literally save lives, we need to be careful not to throw the baby out with the bathwater. My grandma relies on</span>\n",
       "<span style=\"color: #008000; text-decoration-color: #008000\">Medicaid to get the treatments she needs. My cousin can\\'t afford student loans without some government assistance.</span>\n",
       "<span style=\"color: #008000; text-decoration-color: #008000\">We can\\'t just cut and run; we need to address the root causes of these problems and make sure everyone has access </span>\n",
       "<span style=\"color: #008000; text-decoration-color: #008000\">to the opportunities they deserve. Less government? Maybe. But not at the expense of the most vulnerable among </span>\n",
       "<span style=\"color: #008000; text-decoration-color: #008000\">us.'</span>,\n",
       "            <span style=\"color: #808000; text-decoration-color: #808000\">interactions</span>=<span style=\"font-weight: bold\">[]</span>,\n",
       "            <span style=\"color: #808000; text-decoration-color: #808000\">comments</span>=<span style=\"font-weight: bold\">[]</span>,\n",
       "            <span style=\"color: #808000; text-decoration-color: #808000\">id</span>=<span style=\"color: #008000; text-decoration-color: #008000\">'post-8d8368d5-5273-4725-9ae4-ffd43e6176a9'</span>,\n",
       "            <span style=\"color: #808000; text-decoration-color: #808000\">timestamp</span>=<span style=\"color: #800080; text-decoration-color: #800080; font-weight: bold\">datetime</span><span style=\"color: #800080; text-decoration-color: #800080; font-weight: bold\">.datetime</span><span style=\"font-weight: bold\">(</span><span style=\"color: #008080; text-decoration-color: #008080; font-weight: bold\">2025</span>, <span style=\"color: #008080; text-decoration-color: #008080; font-weight: bold\">8</span>, <span style=\"color: #008080; text-decoration-color: #008080; font-weight: bold\">6</span>, <span style=\"color: #008080; text-decoration-color: #008080; font-weight: bold\">16</span>, <span style=\"color: #008080; text-decoration-color: #008080; font-weight: bold\">43</span>, <span style=\"color: #008080; text-decoration-color: #008080; font-weight: bold\">34</span>, <span style=\"color: #008080; text-decoration-color: #008080; font-weight: bold\">794088</span><span style=\"font-weight: bold\">)</span>\n",
       "        <span style=\"font-weight: bold\">)</span>\n",
       "    <span style=\"font-weight: bold\">]</span>\n",
       "<span style=\"font-weight: bold\">)</span>\n",
       "</pre>\n"
      ],
      "text/plain": [
       "\u001b[1;35mFeed\u001b[0m\u001b[1m(\u001b[0m\n",
       "    \u001b[33mroot\u001b[0m=\u001b[1m[\u001b[0m\n",
       "        \u001b[1;35mPost\u001b[0m\u001b[1m(\u001b[0m\n",
       "            \u001b[33muser\u001b[0m=\u001b[1;35mUser\u001b[0m\u001b[1m(\u001b[0m\u001b[33mid\u001b[0m=\u001b[32m'user-64e29475-e2e5-4a49-af23-278fbfd8fe0a'\u001b[0m\u001b[1m)\u001b[0m,\n",
       "            \u001b[33mcontent\u001b[0m=\u001b[32m'Proud to join the climate rally downtown today! Over 500 people showed up demanding our city \u001b[0m\n",
       "\u001b[32mdivest from fossil fuels. Change happens when we organize together. The future is renewable energy and green jobs -\u001b[0m\n",
       "\u001b[32mwe just need leaders brave enough to fight for it!'\u001b[0m,\n",
       "            \u001b[33minteractions\u001b[0m=\u001b[1m[\u001b[0m\n",
       "                \u001b[1;35mInteraction\u001b[0m\u001b[1m(\u001b[0m\n",
       "                    \u001b[33muser\u001b[0m=\u001b[1;35mUser\u001b[0m\u001b[1m(\u001b[0m\u001b[33mid\u001b[0m=\u001b[32m'user-1c445194-f6d9-444a-95ce-9f9f35ac0b2b'\u001b[0m\u001b[1m)\u001b[0m,\n",
       "                    \u001b[33mtype\u001b[0m=\u001b[1m<\u001b[0m\u001b[1;95mInteractionTypes.like:\u001b[0m\u001b[39m \u001b[0m\u001b[32m'like'\u001b[0m\u001b[39m>,\u001b[0m\n",
       "\u001b[39m                    \u001b[0m\u001b[33mtimestamp\u001b[0m\u001b[39m=\u001b[0m\u001b[1;35mdatetime\u001b[0m\u001b[1;35m.datetime\u001b[0m\u001b[1;39m(\u001b[0m\u001b[1;36m2025\u001b[0m\u001b[39m, \u001b[0m\u001b[1;36m8\u001b[0m\u001b[39m, \u001b[0m\u001b[1;36m6\u001b[0m\u001b[39m, \u001b[0m\u001b[1;36m16\u001b[0m\u001b[39m, \u001b[0m\u001b[1;36m43\u001b[0m\u001b[39m, \u001b[0m\u001b[1;36m24\u001b[0m\u001b[39m, \u001b[0m\u001b[1;36m931566\u001b[0m\u001b[1;39m)\u001b[0m\n",
       "\u001b[39m                \u001b[0m\u001b[1;39m)\u001b[0m\n",
       "\u001b[39m            \u001b[0m\u001b[1;39m]\u001b[0m\u001b[39m,\u001b[0m\n",
       "\u001b[39m            \u001b[0m\u001b[33mcomments\u001b[0m\u001b[39m=\u001b[0m\u001b[1;39m[\u001b[0m\n",
       "\u001b[39m                \u001b[0m\u001b[1;35mPost\u001b[0m\u001b[1;39m(\u001b[0m\n",
       "\u001b[39m                    \u001b[0m\u001b[33muser\u001b[0m\u001b[39m=\u001b[0m\u001b[1;35mUser\u001b[0m\u001b[1;39m(\u001b[0m\u001b[33mid\u001b[0m\u001b[39m=\u001b[0m\u001b[32m'user-1c445194-f6d9-444a-95ce-9f9f35ac0b2b'\u001b[0m\u001b[1;39m)\u001b[0m\u001b[39m,\u001b[0m\n",
       "\u001b[39m                    \u001b[0m\u001b[33mcontent\u001b[0m\u001b[39m=\u001b[0m\u001b[32m'\"I\\'m glad to see the momentum building around climate action, but let\\'s not forget \u001b[0m\n",
       "\u001b[32mabout economic realities either. How do we balance the need for renewable energy with the need to create jobs and \u001b[0m\n",
       "\u001b[32msupport local communities? Investing in green infrastructure and job training programs could be a key part of the \u001b[0m\n",
       "\u001b[32msolution. Let\\'s keep the conversation going and explore ways to make this transition work for everyone.\"'\u001b[0m\u001b[39m,\u001b[0m\n",
       "\u001b[39m                    \u001b[0m\u001b[33minteractions\u001b[0m\u001b[39m=\u001b[0m\u001b[1;39m[\u001b[0m\u001b[1;39m]\u001b[0m\u001b[39m,\u001b[0m\n",
       "\u001b[39m                    \u001b[0m\u001b[33mcomments\u001b[0m\u001b[39m=\u001b[0m\u001b[1;39m[\u001b[0m\u001b[1;39m]\u001b[0m\u001b[39m,\u001b[0m\n",
       "\u001b[39m                    \u001b[0m\u001b[33mid\u001b[0m\u001b[39m=\u001b[0m\u001b[32m'post-c828cd5d-01e6-425d-9521-a46f97d240bd'\u001b[0m\u001b[39m,\u001b[0m\n",
       "\u001b[39m                    \u001b[0m\u001b[33mtimestamp\u001b[0m\u001b[39m=\u001b[0m\u001b[1;35mdatetime\u001b[0m\u001b[1;35m.datetime\u001b[0m\u001b[1;39m(\u001b[0m\u001b[1;36m2025\u001b[0m\u001b[39m, \u001b[0m\u001b[1;36m8\u001b[0m\u001b[39m, \u001b[0m\u001b[1;36m6\u001b[0m\u001b[39m, \u001b[0m\u001b[1;36m16\u001b[0m\u001b[39m, \u001b[0m\u001b[1;36m43\u001b[0m\u001b[39m, \u001b[0m\u001b[1;36m27\u001b[0m\u001b[39m, \u001b[0m\u001b[1;36m243846\u001b[0m\u001b[1;39m)\u001b[0m\n",
       "\u001b[39m                \u001b[0m\u001b[1;39m)\u001b[0m\n",
       "\u001b[39m            \u001b[0m\u001b[1;39m]\u001b[0m\u001b[39m,\u001b[0m\n",
       "\u001b[39m            \u001b[0m\u001b[33mid\u001b[0m\u001b[39m=\u001b[0m\u001b[32m'post-f84dabbb-63a2-4e1e-bb46-332f9b75659d'\u001b[0m\u001b[39m,\u001b[0m\n",
       "\u001b[39m            \u001b[0m\u001b[33mtimestamp\u001b[0m\u001b[39m=\u001b[0m\u001b[1;35mdatetime\u001b[0m\u001b[1;35m.datetime\u001b[0m\u001b[1;39m(\u001b[0m\u001b[1;36m2025\u001b[0m\u001b[39m, \u001b[0m\u001b[1;36m8\u001b[0m\u001b[39m, \u001b[0m\u001b[1;36m6\u001b[0m\u001b[39m, \u001b[0m\u001b[1;36m16\u001b[0m\u001b[39m, \u001b[0m\u001b[1;36m43\u001b[0m\u001b[39m, \u001b[0m\u001b[1;36m1\u001b[0m\u001b[39m, \u001b[0m\u001b[1;36m848115\u001b[0m\u001b[1;39m)\u001b[0m\n",
       "\u001b[39m        \u001b[0m\u001b[1;39m)\u001b[0m\u001b[39m,\u001b[0m\n",
       "\u001b[39m        \u001b[0m\u001b[1;35mPost\u001b[0m\u001b[1;39m(\u001b[0m\n",
       "\u001b[39m            \u001b[0m\u001b[33muser\u001b[0m\u001b[39m=\u001b[0m\u001b[1;35mUser\u001b[0m\u001b[1;39m(\u001b[0m\u001b[33mid\u001b[0m\u001b[39m=\u001b[0m\u001b[32m'user-1c445194-f6d9-444a-95ce-9f9f35ac0b2b'\u001b[0m\u001b[1;39m)\u001b[0m\u001b[39m,\u001b[0m\n",
       "\u001b[39m            \u001b[0m\u001b[33mcontent\u001b[0m\u001b[39m=\u001b[0m\u001b[32m\"Both\u001b[0m\u001b[32m parties are missing the point on healthcare reform. Instead of screaming about \u001b[0m\n",
       "\u001b[32m'socialized medicine' or 'corporate greed,' why not work together on bipartisan solutions? Price transparency, \u001b[0m\n",
       "\u001b[32mprescription drug costs, preventive care - there's common ground here if politicians would stop grandstanding.\"\u001b[0m\u001b[39m,\u001b[0m\n",
       "\u001b[39m            \u001b[0m\u001b[33minteractions\u001b[0m\u001b[39m=\u001b[0m\u001b[1;39m[\u001b[0m\n",
       "\u001b[39m                \u001b[0m\u001b[1;35mInteraction\u001b[0m\u001b[1;39m(\u001b[0m\n",
       "\u001b[39m                    \u001b[0m\u001b[33muser\u001b[0m\u001b[39m=\u001b[0m\u001b[1;35mUser\u001b[0m\u001b[1;39m(\u001b[0m\u001b[33mid\u001b[0m\u001b[39m=\u001b[0m\u001b[32m'user-95318d94-095b-4e47-8fc4-aa572d6f06e1'\u001b[0m\u001b[1;39m)\u001b[0m\u001b[39m,\u001b[0m\n",
       "\u001b[39m                    \u001b[0m\u001b[33mtype\u001b[0m\u001b[39m=<InteractionTypes.like: \u001b[0m\u001b[32m'like'\u001b[0m\u001b[39m>,\u001b[0m\n",
       "\u001b[39m                    \u001b[0m\u001b[33mtimestamp\u001b[0m\u001b[39m=\u001b[0m\u001b[1;35mdatetime\u001b[0m\u001b[1;35m.datetime\u001b[0m\u001b[1;39m(\u001b[0m\u001b[1;36m2025\u001b[0m\u001b[39m, \u001b[0m\u001b[1;36m8\u001b[0m\u001b[39m, \u001b[0m\u001b[1;36m6\u001b[0m\u001b[39m, \u001b[0m\u001b[1;36m16\u001b[0m\u001b[39m, \u001b[0m\u001b[1;36m43\u001b[0m\u001b[39m, \u001b[0m\u001b[1;36m37\u001b[0m\u001b[39m, \u001b[0m\u001b[1;36m820464\u001b[0m\u001b[1;39m)\u001b[0m\n",
       "\u001b[39m                \u001b[0m\u001b[1;39m)\u001b[0m\n",
       "\u001b[39m            \u001b[0m\u001b[1;39m]\u001b[0m\u001b[39m,\u001b[0m\n",
       "\u001b[39m            \u001b[0m\u001b[33mcomments\u001b[0m\u001b[39m=\u001b[0m\u001b[1;39m[\u001b[0m\n",
       "\u001b[39m                \u001b[0m\u001b[1;35mPost\u001b[0m\u001b[1;39m(\u001b[0m\n",
       "\u001b[39m                    \u001b[0m\u001b[33muser\u001b[0m\u001b[39m=\u001b[0m\u001b[1;35mUser\u001b[0m\u001b[1;39m(\u001b[0m\u001b[33mid\u001b[0m\u001b[39m=\u001b[0m\u001b[32m'user-a4363ef8-5dbc-4443-94cc-4ae15ea5fa5d'\u001b[0m\u001b[1;39m)\u001b[0m\u001b[39m,\u001b[0m\n",
       "\u001b[39m                    \u001b[0m\u001b[33mcontent\u001b[0m\u001b[39m=\u001b[0m\u001b[32m'\"I\\'d love to see some bipartisan solutions, but let\\'s not forget that the root issue\u001b[0m\n",
       "\u001b[32mis overregulation and government interference in the market. More price transparency is great, but let\\'s also talk\u001b[0m\n",
       "\u001b[32mabout repealing some of these Draconian laws that restrict competition and innovation. Until then, politicians will\u001b[0m\n",
       "\u001b[32mjust be rearranging the deck chairs on the Titanic.\"'\u001b[0m\u001b[39m,\u001b[0m\n",
       "\u001b[39m                    \u001b[0m\u001b[33minteractions\u001b[0m\u001b[39m=\u001b[0m\u001b[1;39m[\u001b[0m\u001b[1;39m]\u001b[0m\u001b[39m,\u001b[0m\n",
       "\u001b[39m                    \u001b[0m\u001b[33mcomments\u001b[0m\u001b[39m=\u001b[0m\u001b[1;39m[\u001b[0m\u001b[1;39m]\u001b[0m\u001b[39m,\u001b[0m\n",
       "\u001b[39m                    \u001b[0m\u001b[33mid\u001b[0m\u001b[39m=\u001b[0m\u001b[32m'post-2391db3f-84cf-4436-82b4-36239af8f35e'\u001b[0m\u001b[39m,\u001b[0m\n",
       "\u001b[39m                    \u001b[0m\u001b[33mtimestamp\u001b[0m\u001b[39m=\u001b[0m\u001b[1;35mdatetime\u001b[0m\u001b[1;35m.datetime\u001b[0m\u001b[1;39m(\u001b[0m\u001b[1;36m2025\u001b[0m\u001b[39m, \u001b[0m\u001b[1;36m8\u001b[0m\u001b[39m, \u001b[0m\u001b[1;36m6\u001b[0m\u001b[39m, \u001b[0m\u001b[1;36m16\u001b[0m\u001b[39m, \u001b[0m\u001b[1;36m43\u001b[0m\u001b[39m, \u001b[0m\u001b[1;36m31\u001b[0m\u001b[39m, \u001b[0m\u001b[1;36m189829\u001b[0m\u001b[1;39m)\u001b[0m\n",
       "\u001b[39m                \u001b[0m\u001b[1;39m)\u001b[0m\u001b[39m,\u001b[0m\n",
       "\u001b[39m                \u001b[0m\u001b[1;35mPost\u001b[0m\u001b[1;39m(\u001b[0m\n",
       "\u001b[39m                    \u001b[0m\u001b[33muser\u001b[0m\u001b[39m=\u001b[0m\u001b[1;35mUser\u001b[0m\u001b[1;39m(\u001b[0m\u001b[33mid\u001b[0m\u001b[39m=\u001b[0m\u001b[32m'user-95318d94-095b-4e47-8fc4-aa572d6f06e1'\u001b[0m\u001b[1;39m)\u001b[0m\u001b[39m,\u001b[0m\n",
       "\u001b[39m                    \u001b[0m\u001b[33mcontent\u001b[0m\u001b[39m=\u001b[0m\u001b[32m'\u001b[0m\u001b[32m{\u001b[0m\u001b[32m\"user\":\u001b[0m\u001b[32m{\u001b[0m\u001b[32m\"id\":\"user-a4363ef8-5dbc-4443-94cc-4ae15ea5fa5d\"\u001b[0m\u001b[32m}\u001b[0m\u001b[32m,\"content\":\"I agree that \u001b[0m\n",
       "\u001b[32moverregulation is a major factor, but let\\'s not forget about the role of special interest groups and the influence\u001b[0m\n",
       "\u001b[32mof Big Pharma. Until we can get money out of politics and put the people over the profits, any reform will just be \u001b[0m\n",
       "\u001b[32mwindow dressing. And I still think we need to prioritize protecting the vulnerable populations that rely on \u001b[0m\n",
       "\u001b[32mMedicaid and the like. Bipartisanship is great in theory, but we need to be realistic about the forces driving the \u001b[0m\n",
       "\u001b[32msystem.\", \u001b[0m\n",
       "\u001b[32m\"interactions\":\u001b[0m\u001b[32m[\u001b[0m\u001b[32m]\u001b[0m\u001b[32m,\"comments\":\u001b[0m\u001b[32m[\u001b[0m\u001b[32m]\u001b[0m\u001b[32m,\"id\":\"post-1f2e2baa-c40b-457a-8f2e-5c7e723d1f8a\",\"timestamp\":\"2025-08-06T17:07:19.5\u001b[0m\n",
       "\u001b[32m03370\"\u001b[0m\u001b[32m}\u001b[0m\u001b[32m'\u001b[0m\u001b[39m,\u001b[0m\n",
       "\u001b[39m                    \u001b[0m\u001b[33minteractions\u001b[0m\u001b[39m=\u001b[0m\u001b[1;39m[\u001b[0m\u001b[1;39m]\u001b[0m\u001b[39m,\u001b[0m\n",
       "\u001b[39m                    \u001b[0m\u001b[33mcomments\u001b[0m\u001b[39m=\u001b[0m\u001b[1;39m[\u001b[0m\u001b[1;39m]\u001b[0m\u001b[39m,\u001b[0m\n",
       "\u001b[39m                    \u001b[0m\u001b[33mid\u001b[0m\u001b[39m=\u001b[0m\u001b[32m'post-cbc2e877-7a13-4954-9b5a-bf11f5889dae'\u001b[0m\u001b[39m,\u001b[0m\n",
       "\u001b[39m                    \u001b[0m\u001b[33mtimestamp\u001b[0m\u001b[39m=\u001b[0m\u001b[1;35mdatetime\u001b[0m\u001b[1;35m.datetime\u001b[0m\u001b[1;39m(\u001b[0m\u001b[1;36m2025\u001b[0m\u001b[39m, \u001b[0m\u001b[1;36m8\u001b[0m\u001b[39m, \u001b[0m\u001b[1;36m6\u001b[0m\u001b[39m, \u001b[0m\u001b[1;36m16\u001b[0m\u001b[39m, \u001b[0m\u001b[1;36m43\u001b[0m\u001b[39m, \u001b[0m\u001b[1;36m41\u001b[0m\u001b[39m, \u001b[0m\u001b[1;36m535456\u001b[0m\u001b[1;39m)\u001b[0m\n",
       "\u001b[39m                \u001b[0m\u001b[1;39m)\u001b[0m\n",
       "\u001b[39m            \u001b[0m\u001b[1;39m]\u001b[0m\u001b[39m,\u001b[0m\n",
       "\u001b[39m            \u001b[0m\u001b[33mid\u001b[0m\u001b[39m=\u001b[0m\u001b[32m'post-491b95dd-3145-448e-8ae1-d6f84b1a9ab2'\u001b[0m\u001b[39m,\u001b[0m\n",
       "\u001b[39m            \u001b[0m\u001b[33mtimestamp\u001b[0m\u001b[39m=\u001b[0m\u001b[1;35mdatetime\u001b[0m\u001b[1;35m.datetime\u001b[0m\u001b[1;39m(\u001b[0m\u001b[1;36m2025\u001b[0m\u001b[39m, \u001b[0m\u001b[1;36m8\u001b[0m\u001b[39m, \u001b[0m\u001b[1;36m6\u001b[0m\u001b[39m, \u001b[0m\u001b[1;36m16\u001b[0m\u001b[39m, \u001b[0m\u001b[1;36m43\u001b[0m\u001b[39m, \u001b[0m\u001b[1;36m1\u001b[0m\u001b[39m, \u001b[0m\u001b[1;36m848137\u001b[0m\u001b[1;39m)\u001b[0m\n",
       "\u001b[39m        \u001b[0m\u001b[1;39m)\u001b[0m\u001b[39m,\u001b[0m\n",
       "\u001b[39m        \u001b[0m\u001b[1;35mPost\u001b[0m\u001b[1;39m(\u001b[0m\n",
       "\u001b[39m            \u001b[0m\u001b[33muser\u001b[0m\u001b[39m=\u001b[0m\u001b[1;35mUser\u001b[0m\u001b[1;39m(\u001b[0m\u001b[33mid\u001b[0m\u001b[39m=\u001b[0m\u001b[32m'user-a4363ef8-5dbc-4443-94cc-4ae15ea5fa5d'\u001b[0m\u001b[1;39m)\u001b[0m\u001b[39m,\u001b[0m\n",
       "\u001b[39m            \u001b[0m\u001b[33mcontent\u001b[0m\u001b[39m=\u001b[0m\u001b[32m\"Another\u001b[0m\u001b[32m day, another government program that costs billions and delivers nothing. TSA security\u001b[0m\n",
       "\u001b[32mtheater, NSA surveillance, endless foreign wars - when did we decide the federal government should control every \u001b[0m\n",
       "\u001b[32maspect of our lives? Less government, more freedom. That's not radical, that's constitutional.\"\u001b[0m\u001b[39m,\u001b[0m\n",
       "\u001b[39m            \u001b[0m\u001b[33minteractions\u001b[0m\u001b[39m=\u001b[0m\u001b[1;39m[\u001b[0m\n",
       "\u001b[39m                \u001b[0m\u001b[1;35mInteraction\u001b[0m\u001b[1;39m(\u001b[0m\n",
       "\u001b[39m                    \u001b[0m\u001b[33muser\u001b[0m\u001b[39m=\u001b[0m\u001b[1;35mUser\u001b[0m\u001b[1;39m(\u001b[0m\u001b[33mid\u001b[0m\u001b[39m=\u001b[0m\u001b[32m'user-64e29475-e2e5-4a49-af23-278fbfd8fe0a'\u001b[0m\u001b[1;39m)\u001b[0m\u001b[39m,\u001b[0m\n",
       "\u001b[39m                    \u001b[0m\u001b[33mtype\u001b[0m\u001b[39m=<InteractionTypes.like: \u001b[0m\u001b[32m'like'\u001b[0m\u001b[39m>,\u001b[0m\n",
       "\u001b[39m                    \u001b[0m\u001b[33mtimestamp\u001b[0m\u001b[39m=\u001b[0m\u001b[1;35mdatetime\u001b[0m\u001b[1;35m.datetime\u001b[0m\u001b[1;39m(\u001b[0m\u001b[1;36m2025\u001b[0m\u001b[39m, \u001b[0m\u001b[1;36m8\u001b[0m\u001b[39m, \u001b[0m\u001b[1;36m6\u001b[0m\u001b[39m, \u001b[0m\u001b[1;36m16\u001b[0m\u001b[39m, \u001b[0m\u001b[1;36m43\u001b[0m\u001b[39m, \u001b[0m\u001b[1;36m14\u001b[0m\u001b[39m, \u001b[0m\u001b[1;36m955378\u001b[0m\u001b[1;39m)\u001b[0m\n",
       "\u001b[39m                \u001b[0m\u001b[1;39m)\u001b[0m\n",
       "\u001b[39m            \u001b[0m\u001b[1;39m]\u001b[0m\u001b[39m,\u001b[0m\n",
       "\u001b[39m            \u001b[0m\u001b[33mcomments\u001b[0m\u001b[39m=\u001b[0m\u001b[1;39m[\u001b[0m\n",
       "\u001b[39m                \u001b[0m\u001b[1;35mPost\u001b[0m\u001b[1;39m(\u001b[0m\n",
       "\u001b[39m                    \u001b[0m\u001b[33muser\u001b[0m\u001b[39m=\u001b[0m\u001b[1;35mUser\u001b[0m\u001b[1;39m(\u001b[0m\u001b[33mid\u001b[0m\u001b[39m=\u001b[0m\u001b[32m'user-64e29475-e2e5-4a49-af23-278fbfd8fe0a'\u001b[0m\u001b[1;39m)\u001b[0m\u001b[39m,\u001b[0m\n",
       "\u001b[39m                    \u001b[0m\u001b[33mcontent\u001b[0m\u001b[39m=\u001b[0m\u001b[32m'\"I see you\\'re shopping for ideologies now. Less government? That\\'s a nice soundbite \u001b[0m\n",
       "\u001b[32mbut let\\'s be real, it\\'s just code for \\'cutting programs that benefit the most vulnerable.\\' You want to reduce \u001b[0m\n",
       "\u001b[32mgovernment intervention in healthcare, but what about when people can\\'t afford life-saving treatments? Or what \u001b[0m\n",
       "\u001b[32mabout student loans that are crippling the next generation? Give me a break. This isn\\'t about freedom, it\\'s about\u001b[0m\n",
       "\u001b[32mwho you want to have power - the wealthy elite or the rest of us.\"'\u001b[0m\u001b[39m,\u001b[0m\n",
       "\u001b[39m                    \u001b[0m\u001b[33minteractions\u001b[0m\u001b[39m=\u001b[0m\u001b[1;39m[\u001b[0m\u001b[1;39m]\u001b[0m\u001b[39m,\u001b[0m\n",
       "\u001b[39m                    \u001b[0m\u001b[33mcomments\u001b[0m\u001b[39m=\u001b[0m\u001b[1;39m[\u001b[0m\u001b[1;39m]\u001b[0m\u001b[39m,\u001b[0m\n",
       "\u001b[39m                    \u001b[0m\u001b[33mid\u001b[0m\u001b[39m=\u001b[0m\u001b[32m'post-7794d22e-86fb-4847-8b5c-f50d46f78981'\u001b[0m\u001b[39m,\u001b[0m\n",
       "\u001b[39m                    \u001b[0m\u001b[33mtimestamp\u001b[0m\u001b[39m=\u001b[0m\u001b[1;35mdatetime\u001b[0m\u001b[1;35m.datetime\u001b[0m\u001b[1;39m(\u001b[0m\u001b[1;36m2025\u001b[0m\u001b[39m, \u001b[0m\u001b[1;36m8\u001b[0m\u001b[39m, \u001b[0m\u001b[1;36m6\u001b[0m\u001b[39m, \u001b[0m\u001b[1;36m16\u001b[0m\u001b[39m, \u001b[0m\u001b[1;36m43\u001b[0m\u001b[39m, \u001b[0m\u001b[1;36m17\u001b[0m\u001b[39m, \u001b[0m\u001b[1;36m351356\u001b[0m\u001b[1;39m)\u001b[0m\n",
       "\u001b[39m                \u001b[0m\u001b[1;39m)\u001b[0m\u001b[39m,\u001b[0m\n",
       "\u001b[39m                \u001b[0m\u001b[1;35mPost\u001b[0m\u001b[1;39m(\u001b[0m\n",
       "\u001b[39m                    \u001b[0m\u001b[33muser\u001b[0m\u001b[39m=\u001b[0m\u001b[1;35mUser\u001b[0m\u001b[1;39m(\u001b[0m\u001b[33mid\u001b[0m\u001b[39m=\u001b[0m\u001b[32m'user-1c445194-f6d9-444a-95ce-9f9f35ac0b2b'\u001b[0m\u001b[1;39m)\u001b[0m\u001b[39m,\u001b[0m\n",
       "\u001b[39m                    \u001b[0m\u001b[33mcontent\u001b[0m\u001b[39m=\u001b[0m\u001b[32m'\"I understand where you\\'re coming from, but let\\'s not conflate government programs \u001b[0m\n",
       "\u001b[32mwith \\'security theater\\' or \\'surveillance.\\' There are legitimate concerns about government overreach, but we \u001b[0m\n",
       "\u001b[32mneed to separate the wheat from the chaff. For example, TSA security is imperfect, but it\\'s a necessary measure in\u001b[0m\n",
       "\u001b[32ma post-9/11 world. Let\\'s focus on reforming and improving existing programs, rather than just abolishing them. We \u001b[0m\n",
       "\u001b[32mcan have a more nuanced conversation about the role of government in our lives.\"'\u001b[0m\u001b[39m,\u001b[0m\n",
       "\u001b[39m                    \u001b[0m\u001b[33minteractions\u001b[0m\u001b[39m=\u001b[0m\u001b[1;39m[\u001b[0m\u001b[1;39m]\u001b[0m\u001b[39m,\u001b[0m\n",
       "\u001b[39m                    \u001b[0m\u001b[33mcomments\u001b[0m\u001b[39m=\u001b[0m\u001b[1;39m[\u001b[0m\u001b[1;39m]\u001b[0m\u001b[39m,\u001b[0m\n",
       "\u001b[39m                    \u001b[0m\u001b[33mid\u001b[0m\u001b[39m=\u001b[0m\u001b[32m'post-7ed70860-36fb-4405-aaf2-6a97be09ca32'\u001b[0m\u001b[39m,\u001b[0m\n",
       "\u001b[39m                    \u001b[0m\u001b[33mtimestamp\u001b[0m\u001b[39m=\u001b[0m\u001b[1;35mdatetime\u001b[0m\u001b[1;35m.datetime\u001b[0m\u001b[1;39m(\u001b[0m\u001b[1;36m2025\u001b[0m\u001b[39m, \u001b[0m\u001b[1;36m8\u001b[0m\u001b[39m, \u001b[0m\u001b[1;36m6\u001b[0m\u001b[39m, \u001b[0m\u001b[1;36m16\u001b[0m\u001b[39m, \u001b[0m\u001b[1;36m43\u001b[0m\u001b[39m, \u001b[0m\u001b[1;36m24\u001b[0m\u001b[39m, \u001b[0m\u001b[1;36m43840\u001b[0m\u001b[1;39m)\u001b[0m\n",
       "\u001b[39m                \u001b[0m\u001b[1;39m)\u001b[0m\u001b[39m,\u001b[0m\n",
       "\u001b[39m                \u001b[0m\u001b[1;35mPost\u001b[0m\u001b[1;39m(\u001b[0m\n",
       "\u001b[39m                    \u001b[0m\u001b[33muser\u001b[0m\u001b[39m=\u001b[0m\u001b[1;35mUser\u001b[0m\u001b[1;39m(\u001b[0m\u001b[33mid\u001b[0m\u001b[39m=\u001b[0m\u001b[32m'user-95318d94-095b-4e47-8fc4-aa572d6f06e1'\u001b[0m\u001b[1;39m)\u001b[0m\u001b[39m,\u001b[0m\n",
       "\u001b[39m                    \u001b[0m\u001b[33mcontent\u001b[0m\u001b[39m=\u001b[0m\u001b[32m'\"Just watched a video of a city council meeting where they\\'re talking about \u001b[0m\n",
       "\u001b[32mimplementing a new \\'equitable\\' policing policy. Sounds good, right? Until they start talking about defunding the \u001b[0m\n",
       "\u001b[32mpolice and replacing them with community \\'peace officers.\\' You want to know what\\'s not radical? Common sense. We\u001b[0m\n",
       "\u001b[32mneed to have a serious conversation about public safety and how to protect our communities without throwing out the\u001b[0m\n",
       "\u001b[32mbaby with the bathwater. Anyone else tired of the left\\'s \\'solution\\' to every problem being to just abolish it \u001b[0m\n",
       "\u001b[32mand start over?\"'\u001b[0m\u001b[39m,\u001b[0m\n",
       "\u001b[39m                    \u001b[0m\u001b[33minteractions\u001b[0m\u001b[39m=\u001b[0m\u001b[1;39m[\u001b[0m\u001b[1;39m]\u001b[0m\u001b[39m,\u001b[0m\n",
       "\u001b[39m                    \u001b[0m\u001b[33mcomments\u001b[0m\u001b[39m=\u001b[0m\u001b[1;39m[\u001b[0m\u001b[1;39m]\u001b[0m\u001b[39m,\u001b[0m\n",
       "\u001b[39m                    \u001b[0m\u001b[33mid\u001b[0m\u001b[39m=\u001b[0m\u001b[32m'post-4c9e0e25-0cfb-4c5e-aa9c-0a7ee9403c87'\u001b[0m\u001b[39m,\u001b[0m\n",
       "\u001b[39m                    \u001b[0m\u001b[33mtimestamp\u001b[0m\u001b[39m=\u001b[0m\u001b[1;35mdatetime\u001b[0m\u001b[1;35m.datetime\u001b[0m\u001b[1;39m(\u001b[0m\u001b[1;36m2025\u001b[0m\u001b[39m, \u001b[0m\u001b[1;36m8\u001b[0m\u001b[39m, \u001b[0m\u001b[1;36m6\u001b[0m\u001b[39m, \u001b[0m\u001b[1;36m16\u001b[0m\u001b[39m, \u001b[0m\u001b[1;36m43\u001b[0m\u001b[39m, \u001b[0m\u001b[1;36m36\u001b[0m\u001b[39m, \u001b[0m\u001b[1;36m975998\u001b[0m\u001b[1;39m)\u001b[0m\n",
       "\u001b[39m                \u001b[0m\u001b[1;39m)\u001b[0m\n",
       "\u001b[39m            \u001b[0m\u001b[1;39m]\u001b[0m\u001b[39m,\u001b[0m\n",
       "\u001b[39m            \u001b[0m\u001b[33mid\u001b[0m\u001b[39m=\u001b[0m\u001b[32m'post-138dcf2a-8f85-4d65-bbd9-76e29e1afaa4'\u001b[0m\u001b[39m,\u001b[0m\n",
       "\u001b[39m            \u001b[0m\u001b[33mtimestamp\u001b[0m\u001b[39m=\u001b[0m\u001b[1;35mdatetime\u001b[0m\u001b[1;35m.datetime\u001b[0m\u001b[1;39m(\u001b[0m\u001b[1;36m2025\u001b[0m\u001b[39m, \u001b[0m\u001b[1;36m8\u001b[0m\u001b[39m, \u001b[0m\u001b[1;36m6\u001b[0m\u001b[39m, \u001b[0m\u001b[1;36m16\u001b[0m\u001b[39m, \u001b[0m\u001b[1;36m43\u001b[0m\u001b[39m, \u001b[0m\u001b[1;36m1\u001b[0m\u001b[39m, \u001b[0m\u001b[1;36m848146\u001b[0m\u001b[1;39m)\u001b[0m\n",
       "\u001b[39m        \u001b[0m\u001b[1;39m)\u001b[0m\u001b[39m,\u001b[0m\n",
       "\u001b[39m        \u001b[0m\u001b[1;35mPost\u001b[0m\u001b[1;39m(\u001b[0m\n",
       "\u001b[39m            \u001b[0m\u001b[33muser\u001b[0m\u001b[39m=\u001b[0m\u001b[1;35mUser\u001b[0m\u001b[1;39m(\u001b[0m\u001b[33mid\u001b[0m\u001b[39m=\u001b[0m\u001b[32m'user-95318d94-095b-4e47-8fc4-aa572d6f06e1'\u001b[0m\u001b[1;39m)\u001b[0m\u001b[39m,\u001b[0m\n",
       "\u001b[39m            \u001b[0m\u001b[33mcontent\u001b[0m\u001b[39m=\u001b[0m\u001b[32m\"Just\u001b[0m\u001b[32m filled up my truck - $3.89/gallon! Remember when gas was under $2 during Trump's \u001b[0m\n",
       "\u001b[32mpresidency? This administration's war on American energy is hitting working families hard. We need to get back to \u001b[0m\n",
       "\u001b[32menergy independence and stop begging other countries for oil. \"\u001b[0m\u001b[39m,\u001b[0m\n",
       "\u001b[39m            \u001b[0m\u001b[33minteractions\u001b[0m\u001b[39m=\u001b[0m\u001b[1;39m[\u001b[0m\n",
       "\u001b[39m                \u001b[0m\u001b[1;35mInteraction\u001b[0m\u001b[1;39m(\u001b[0m\n",
       "\u001b[39m                    \u001b[0m\u001b[33muser\u001b[0m\u001b[39m=\u001b[0m\u001b[1;35mUser\u001b[0m\u001b[1;39m(\u001b[0m\u001b[33mid\u001b[0m\u001b[39m=\u001b[0m\u001b[32m'user-64e29475-e2e5-4a49-af23-278fbfd8fe0a'\u001b[0m\u001b[1;39m)\u001b[0m\u001b[39m,\u001b[0m\n",
       "\u001b[39m                    \u001b[0m\u001b[33mtype\u001b[0m\u001b[39m=<InteractionTypes.like: \u001b[0m\u001b[32m'like'\u001b[0m\u001b[1m>\u001b[0m,\n",
       "                    \u001b[33mtimestamp\u001b[0m=\u001b[1;35mdatetime\u001b[0m\u001b[1;35m.datetime\u001b[0m\u001b[1m(\u001b[0m\u001b[1;36m2025\u001b[0m, \u001b[1;36m8\u001b[0m, \u001b[1;36m6\u001b[0m, \u001b[1;36m16\u001b[0m, \u001b[1;36m43\u001b[0m, \u001b[1;36m12\u001b[0m, \u001b[1;36m167431\u001b[0m\u001b[1m)\u001b[0m\n",
       "                \u001b[1m)\u001b[0m\n",
       "            \u001b[1m]\u001b[0m,\n",
       "            \u001b[33mcomments\u001b[0m=\u001b[1m[\u001b[0m\n",
       "                \u001b[1;35mPost\u001b[0m\u001b[1m(\u001b[0m\n",
       "                    \u001b[33muser\u001b[0m=\u001b[1;35mUser\u001b[0m\u001b[1m(\u001b[0m\u001b[33mid\u001b[0m=\u001b[32m'user-64e29475-e2e5-4a49-af23-278fbfd8fe0a'\u001b[0m\u001b[1m)\u001b[0m,\n",
       "                    \u001b[33mcontent\u001b[0m=\u001b[32m'\"A war on American energy? You mean the war on our planet\\'s future? The \u001b[0m\n",
       "\u001b[32m\\'independence\\' you\\'re talking about is actually just a euphemism for \\'more oil spills\\' and \\'more climate \u001b[0m\n",
       "\u001b[32mchaos.\\' Let\\'s focus on transitioning to clean energy, not digging up more fossil fuels. It\\'s time for real \u001b[0m\n",
       "\u001b[32mleadership, not just more empty promises.\"'\u001b[0m,\n",
       "                    \u001b[33minteractions\u001b[0m=\u001b[1m[\u001b[0m\u001b[1m]\u001b[0m,\n",
       "                    \u001b[33mcomments\u001b[0m=\u001b[1m[\u001b[0m\u001b[1m]\u001b[0m,\n",
       "                    \u001b[33mid\u001b[0m=\u001b[32m'post-1326d68c-8710-4b37-81e7-9af6be579d3c'\u001b[0m,\n",
       "                    \u001b[33mtimestamp\u001b[0m=\u001b[1;35mdatetime\u001b[0m\u001b[1;35m.datetime\u001b[0m\u001b[1m(\u001b[0m\u001b[1;36m2025\u001b[0m, \u001b[1;36m8\u001b[0m, \u001b[1;36m6\u001b[0m, \u001b[1;36m16\u001b[0m, \u001b[1;36m43\u001b[0m, \u001b[1;36m14\u001b[0m, \u001b[1;36m39417\u001b[0m\u001b[1m)\u001b[0m\n",
       "                \u001b[1m)\u001b[0m\n",
       "            \u001b[1m]\u001b[0m,\n",
       "            \u001b[33mid\u001b[0m=\u001b[32m'post-fb3075bf-870f-477e-a25b-107b39654bcb'\u001b[0m,\n",
       "            \u001b[33mtimestamp\u001b[0m=\u001b[1;35mdatetime\u001b[0m\u001b[1;35m.datetime\u001b[0m\u001b[1m(\u001b[0m\u001b[1;36m2025\u001b[0m, \u001b[1;36m8\u001b[0m, \u001b[1;36m6\u001b[0m, \u001b[1;36m16\u001b[0m, \u001b[1;36m43\u001b[0m, \u001b[1;36m1\u001b[0m, \u001b[1;36m848155\u001b[0m\u001b[1m)\u001b[0m\n",
       "        \u001b[1m)\u001b[0m,\n",
       "        \u001b[1;35mPost\u001b[0m\u001b[1m(\u001b[0m\n",
       "            \u001b[33muser\u001b[0m=\u001b[1;35mUser\u001b[0m\u001b[1m(\u001b[0m\u001b[33mid\u001b[0m=\u001b[32m'user-1c445194-f6d9-444a-95ce-9f9f35ac0b2b'\u001b[0m\u001b[1m)\u001b[0m,\n",
       "            \u001b[33mcontent\u001b[0m=\u001b[32m'**Title:** Finding a Balance Between Freedom and Protection\\n\\n**Content:** I understand where\u001b[0m\n",
       "\u001b[32myou\\'re coming from, but I think we can have a more nuanced conversation about less government. It\\'s not about \u001b[0m\n",
       "\u001b[32mcutting programs that benefit the most vulnerable, but about making sure they\\'re effective and efficient. I\\'m not\u001b[0m\n",
       "\u001b[32madvocating for a complete dismantling of the social safety net, but rather a thoughtful approach to reform. For \u001b[0m\n",
       "\u001b[32mexample, why not focus on targeted interventions that address the root causes of poverty and inequality? By \u001b[0m\n",
       "\u001b[32minvesting in education, job training, and community development, we can create a more equitable society that \u001b[0m\n",
       "\u001b[32mbenefits everyone.\\n\\n**Commenting on another user\\'s post:**\\n\\n\"I agree with you that the wealthy elite often \u001b[0m\n",
       "\u001b[32mhold too much power, but let\\'s not throw the baby out with the bathwater. A balanced approach that prioritizes \u001b[0m\n",
       "\u001b[32mboth individual freedom and collective well-being is possible. We just need to be willing to listen to different \u001b[0m\n",
       "\u001b[32mperspectives and work together to find solutions that benefit everyone.\"'\u001b[0m,\n",
       "            \u001b[33minteractions\u001b[0m=\u001b[1m[\u001b[0m\u001b[1m]\u001b[0m,\n",
       "            \u001b[33mcomments\u001b[0m=\u001b[1m[\u001b[0m\u001b[1m]\u001b[0m,\n",
       "            \u001b[33mid\u001b[0m=\u001b[32m'post-30199231-941f-4117-8d77-e598723e5dea'\u001b[0m,\n",
       "            \u001b[33mtimestamp\u001b[0m=\u001b[1;35mdatetime\u001b[0m\u001b[1;35m.datetime\u001b[0m\u001b[1m(\u001b[0m\u001b[1;36m2025\u001b[0m, \u001b[1;36m8\u001b[0m, \u001b[1;36m6\u001b[0m, \u001b[1;36m16\u001b[0m, \u001b[1;36m43\u001b[0m, \u001b[1;36m21\u001b[0m, \u001b[1;36m829073\u001b[0m\u001b[1m)\u001b[0m\n",
       "        \u001b[1m)\u001b[0m,\n",
       "        \u001b[1;35mPost\u001b[0m\u001b[1m(\u001b[0m\n",
       "            \u001b[33muser\u001b[0m=\u001b[1;35mUser\u001b[0m\u001b[1m(\u001b[0m\u001b[33mid\u001b[0m=\u001b[32m'user-95318d94-095b-4e47-8fc4-aa572d6f06e1'\u001b[0m\u001b[1m)\u001b[0m,\n",
       "            \u001b[33mcontent\u001b[0m=\u001b[32m'**Independent Post**\\n\\nJust saw a post from a \"friend\" bashing the government for being too \u001b[0m\n",
       "\u001b[32mbig. Let me set the record straight: I\\'m all for fiscal responsibility, but when we\\'re talking about programs \u001b[0m\n",
       "\u001b[32mthat literally save lives, we need to be careful not to throw the baby out with the bathwater. My grandma relies on\u001b[0m\n",
       "\u001b[32mMedicaid to get the treatments she needs. My cousin can\\'t afford student loans without some government assistance.\u001b[0m\n",
       "\u001b[32mWe can\\'t just cut and run; we need to address the root causes of these problems and make sure everyone has access \u001b[0m\n",
       "\u001b[32mto the opportunities they deserve. Less government? Maybe. But not at the expense of the most vulnerable among \u001b[0m\n",
       "\u001b[32mus.'\u001b[0m,\n",
       "            \u001b[33minteractions\u001b[0m=\u001b[1m[\u001b[0m\u001b[1m]\u001b[0m,\n",
       "            \u001b[33mcomments\u001b[0m=\u001b[1m[\u001b[0m\u001b[1m]\u001b[0m,\n",
       "            \u001b[33mid\u001b[0m=\u001b[32m'post-8d8368d5-5273-4725-9ae4-ffd43e6176a9'\u001b[0m,\n",
       "            \u001b[33mtimestamp\u001b[0m=\u001b[1;35mdatetime\u001b[0m\u001b[1;35m.datetime\u001b[0m\u001b[1m(\u001b[0m\u001b[1;36m2025\u001b[0m, \u001b[1;36m8\u001b[0m, \u001b[1;36m6\u001b[0m, \u001b[1;36m16\u001b[0m, \u001b[1;36m43\u001b[0m, \u001b[1;36m34\u001b[0m, \u001b[1;36m794088\u001b[0m\u001b[1m)\u001b[0m\n",
       "        \u001b[1m)\u001b[0m\n",
       "    \u001b[1m]\u001b[0m\n",
       "\u001b[1m)\u001b[0m\n"
      ]
     },
     "metadata": {},
     "output_type": "display_data"
    }
   ],
   "source": [
    "rich.print(FEED)"
   ]
  }
 ],
 "metadata": {
  "kernelspec": {
   "display_name": "twon-lss",
   "language": "python",
   "name": "python3"
  },
  "language_info": {
   "codemirror_mode": {
    "name": "ipython",
    "version": 3
   },
   "file_extension": ".py",
   "mimetype": "text/x-python",
   "name": "python",
   "nbconvert_exporter": "python",
   "pygments_lexer": "ipython3",
   "version": "3.10.14"
  }
 },
 "nbformat": 4,
 "nbformat_minor": 5
}
