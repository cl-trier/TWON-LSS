{
 "cells": [
  {
   "cell_type": "code",
   "execution_count": 1,
   "id": "e1a77c62",
   "metadata": {},
   "outputs": [
    {
     "name": "stderr",
     "output_type": "stream",
     "text": [
      "/Users/simon/Repositories/TWON-Collection/TWON-LSS/.venv/lib/python3.10/site-packages/tqdm/auto.py:21: TqdmWarning: IProgress not found. Please update jupyter and ipywidgets. See https://ipywidgets.readthedocs.io/en/stable/user_install.html\n",
      "  from .autonotebook import tqdm as notebook_tqdm\n"
     ]
    },
    {
     "ename": "ImportError",
     "evalue": "cannot import name 'AgentInterface' from partially initialized module 'twon_lss.agent' (most likely due to a circular import) (/Users/simon/Repositories/TWON-Collection/TWON-LSS/src/twon_lss/agent/__init__.py)",
     "output_type": "error",
     "traceback": [
      "\u001b[0;31m---------------------------------------------------------------------------\u001b[0m",
      "\u001b[0;31mImportError\u001b[0m                               Traceback (most recent call last)",
      "Cell \u001b[0;32mIn[1], line 13\u001b[0m\n\u001b[1;32m     10\u001b[0m \u001b[38;5;28;01mfrom\u001b[39;00m\u001b[38;5;250m \u001b[39m\u001b[38;5;21;01mtwon_lss\u001b[39;00m\u001b[38;5;21;01m.\u001b[39;00m\u001b[38;5;21;01mschemas\u001b[39;00m\u001b[38;5;250m \u001b[39m\u001b[38;5;28;01mimport\u001b[39;00m Post, User, Feed\n\u001b[1;32m     11\u001b[0m \u001b[38;5;28;01mfrom\u001b[39;00m\u001b[38;5;250m \u001b[39m\u001b[38;5;21;01mtwon_lss\u001b[39;00m\u001b[38;5;21;01m.\u001b[39;00m\u001b[38;5;21;01mutility\u001b[39;00m\u001b[38;5;250m \u001b[39m\u001b[38;5;28;01mimport\u001b[39;00m LLM, Message\n\u001b[0;32m---> 13\u001b[0m \u001b[38;5;28;01mfrom\u001b[39;00m\u001b[38;5;250m \u001b[39m\u001b[38;5;21;01mtwon_lss\u001b[39;00m\u001b[38;5;21;01m.\u001b[39;00m\u001b[38;5;21;01magent\u001b[39;00m\u001b[38;5;21;01m.\u001b[39;00m\u001b[38;5;21;01mtwon_agent\u001b[39;00m\u001b[38;5;250m \u001b[39m\u001b[38;5;28;01mimport\u001b[39;00m Agent, AgentInstructions, AgentActions\n",
      "File \u001b[0;32m~/Repositories/TWON-Collection/TWON-LSS/src/twon_lss/agent/__init__.py:1\u001b[0m\n\u001b[0;32m----> 1\u001b[0m \u001b[38;5;28;01mfrom\u001b[39;00m\u001b[38;5;250m \u001b[39m\u001b[38;5;21;01mtwon_lss\u001b[39;00m\u001b[38;5;21;01m.\u001b[39;00m\u001b[38;5;21;01magent\u001b[39;00m\u001b[38;5;250m \u001b[39m\u001b[38;5;28;01mimport\u001b[39;00m twon_agent\n\u001b[1;32m      2\u001b[0m \u001b[38;5;28;01mfrom\u001b[39;00m\u001b[38;5;250m \u001b[39m\u001b[38;5;21;01mtwon_lss\u001b[39;00m\u001b[38;5;21;01m.\u001b[39;00m\u001b[38;5;21;01magent\u001b[39;00m\u001b[38;5;21;01m.\u001b[39;00m\u001b[38;5;21;01m_interface\u001b[39;00m\u001b[38;5;250m \u001b[39m\u001b[38;5;28;01mimport\u001b[39;00m AgentActions, AgentInterface\n\u001b[1;32m      4\u001b[0m __all__ \u001b[38;5;241m=\u001b[39m [\u001b[38;5;124m\"\u001b[39m\u001b[38;5;124mtwon_agent\u001b[39m\u001b[38;5;124m\"\u001b[39m, \u001b[38;5;124m\"\u001b[39m\u001b[38;5;124mAgentActions\u001b[39m\u001b[38;5;124m\"\u001b[39m, \u001b[38;5;124m\"\u001b[39m\u001b[38;5;124mAgentInterface\u001b[39m\u001b[38;5;124m\"\u001b[39m]\n",
      "File \u001b[0;32m~/Repositories/TWON-Collection/TWON-LSS/src/twon_lss/agent/twon_agent/__init__.py:6\u001b[0m\n\u001b[1;32m      2\u001b[0m \u001b[38;5;28;01mimport\u001b[39;00m\u001b[38;5;250m \u001b[39m\u001b[38;5;21;01mre\u001b[39;00m\n\u001b[1;32m      4\u001b[0m \u001b[38;5;28;01mimport\u001b[39;00m\u001b[38;5;250m \u001b[39m\u001b[38;5;21;01mpydantic\u001b[39;00m\n\u001b[0;32m----> 6\u001b[0m \u001b[38;5;28;01mfrom\u001b[39;00m\u001b[38;5;250m \u001b[39m\u001b[38;5;21;01mtwon_lss\u001b[39;00m\u001b[38;5;21;01m.\u001b[39;00m\u001b[38;5;21;01magent\u001b[39;00m\u001b[38;5;250m \u001b[39m\u001b[38;5;28;01mimport\u001b[39;00m AgentInterface, AgentActions\n\u001b[1;32m      8\u001b[0m \u001b[38;5;28;01mif\u001b[39;00m typing\u001b[38;5;241m.\u001b[39mTYPE_CHECKING:\n\u001b[1;32m      9\u001b[0m     \u001b[38;5;28;01mfrom\u001b[39;00m\u001b[38;5;250m \u001b[39m\u001b[38;5;21;01mtwon_lss\u001b[39;00m\u001b[38;5;21;01m.\u001b[39;00m\u001b[38;5;21;01mschemas\u001b[39;00m\u001b[38;5;250m \u001b[39m\u001b[38;5;28;01mimport\u001b[39;00m Post\n",
      "\u001b[0;31mImportError\u001b[0m: cannot import name 'AgentInterface' from partially initialized module 'twon_lss.agent' (most likely due to a circular import) (/Users/simon/Repositories/TWON-Collection/TWON-LSS/src/twon_lss/agent/__init__.py)"
     ]
    }
   ],
   "source": [
    "import typing\n",
    "\n",
    "import rich\n",
    "import dotenv\n",
    "\n",
    "import huggingface_hub\n",
    "\n",
    "from twon_lss import Simulation\n",
    "\n",
    "from twon_lss.schemas import Post, User, Feed\n",
    "from twon_lss.utility import LLM, Message\n",
    "\n",
    "from twon_lss.agent.twon_agent import Agent, AgentInstructions, AgentActions"
   ]
  },
  {
   "cell_type": "code",
   "execution_count": 2,
   "id": "e25933b3",
   "metadata": {},
   "outputs": [],
   "source": [
    "CFG = dotenv.dotenv_values(\"../.env\")\n",
    "\n",
    "MODEL=LLM(\n",
    "    client=huggingface_hub.InferenceClient(api_key=CFG[\"HF_TOKEN\"]),\n",
    "    model=\"meta-llama/Meta-Llama-3-8B-Instruct\",\n",
    ")"
   ]
  },
  {
   "cell_type": "code",
   "execution_count": 3,
   "id": "c18904f2",
   "metadata": {},
   "outputs": [],
   "source": [
    "INDIVIDUALS = dict(\n",
    "    progressive=dict(\n",
    "        persona=\"Act as a social media user who embodies progressive American activist viewpoints. Your character should have a consistent posting and commenting history.\",\n",
    "        post=\"Proud to join the climate rally downtown today! Over 500 people showed up demanding our city divest from fossil fuels. Change happens when we organize together. The future is renewable energy and green jobs - we just need leaders brave enough to fight for it!\"\n",
    "    ),\n",
    "    moderate=dict(\n",
    "        persona=\"Act as a social media user who embodies moderate American centrist viewpoints. Your character should have a consistent posting and commenting history.\",\n",
    "        post=\"Both parties are missing the point on healthcare reform. Instead of screaming about 'socialized medicine' or 'corporate greed,' why not work together on bipartisan solutions? Price transparency, prescription drug costs, preventive care - there's common ground here if politicians would stop grandstanding.\"\n",
    "    ),\n",
    "    libertarian=dict(\n",
    "        persona=\"Act as a social media user who embodies libertarian American political viewpoints. Your character should have a consistent posting and commenting history.\",\n",
    "        post=\"Another day, another government program that costs billions and delivers nothing. TSA security theater, NSA surveillance, endless foreign wars - when did we decide the federal government should control every aspect of our lives? Less government, more freedom. That's not radical, that's constitutional.\"\n",
    "    ),\n",
    "    conservative=dict(\n",
    "        persona=\"Act as a social media user who embodies mainstream American conservative viewpoints. Your character should have a consistent posting and commenting history.\",\n",
    "        post=\"Just filled up my truck - $3.89/gallon! Remember when gas was under $2 during Trump's presidency? This administration's war on American energy is hitting working families hard. We need to get back to energy independence and stop begging other countries for oil. \"\n",
    "    )\n",
    ")\n",
    "\n",
    "GLOBAL_INSTRUCTIONS: typing.Dict[str, str] = dict(\n",
    "    select_actions=\"Choose one or multiple of the following actions you would perform on the following post and return them separated by colons. Respond with the action names only.\",\n",
    "    comment=\"Write a short comment considering the following original post and past comments.\",\n",
    "    post=\"Write a independent post considering the following content.\",\n",
    ")"
   ]
  },
  {
   "cell_type": "code",
   "execution_count": 4,
   "id": "21e9b4c3",
   "metadata": {},
   "outputs": [
    {
     "data": {
      "text/html": [
       "<pre style=\"white-space:pre;overflow-x:auto;line-height:normal;font-family:Menlo,'DejaVu Sans Mono',consolas,'Courier New',monospace\"><span style=\"font-weight: bold\">[</span><span style=\"color: #800080; text-decoration-color: #800080; font-weight: bold\">User</span><span style=\"font-weight: bold\">(</span><span style=\"color: #808000; text-decoration-color: #808000\">id</span>=<span style=\"color: #008000; text-decoration-color: #008000\">'U0'</span><span style=\"font-weight: bold\">)</span>, <span style=\"color: #800080; text-decoration-color: #800080; font-weight: bold\">User</span><span style=\"font-weight: bold\">(</span><span style=\"color: #808000; text-decoration-color: #808000\">id</span>=<span style=\"color: #008000; text-decoration-color: #008000\">'U1'</span><span style=\"font-weight: bold\">)</span>, <span style=\"color: #800080; text-decoration-color: #800080; font-weight: bold\">User</span><span style=\"font-weight: bold\">(</span><span style=\"color: #808000; text-decoration-color: #808000\">id</span>=<span style=\"color: #008000; text-decoration-color: #008000\">'U2'</span><span style=\"font-weight: bold\">)</span>, <span style=\"color: #800080; text-decoration-color: #800080; font-weight: bold\">User</span><span style=\"font-weight: bold\">(</span><span style=\"color: #808000; text-decoration-color: #808000\">id</span>=<span style=\"color: #008000; text-decoration-color: #008000\">'U3'</span><span style=\"font-weight: bold\">)]</span>\n",
       "</pre>\n"
      ],
      "text/plain": [
       "\u001b[1m[\u001b[0m\u001b[1;35mUser\u001b[0m\u001b[1m(\u001b[0m\u001b[33mid\u001b[0m=\u001b[32m'U0'\u001b[0m\u001b[1m)\u001b[0m, \u001b[1;35mUser\u001b[0m\u001b[1m(\u001b[0m\u001b[33mid\u001b[0m=\u001b[32m'U1'\u001b[0m\u001b[1m)\u001b[0m, \u001b[1;35mUser\u001b[0m\u001b[1m(\u001b[0m\u001b[33mid\u001b[0m=\u001b[32m'U2'\u001b[0m\u001b[1m)\u001b[0m, \u001b[1;35mUser\u001b[0m\u001b[1m(\u001b[0m\u001b[33mid\u001b[0m=\u001b[32m'U3'\u001b[0m\u001b[1m)\u001b[0m\u001b[1m]\u001b[0m\n"
      ]
     },
     "metadata": {},
     "output_type": "display_data"
    }
   ],
   "source": [
    "USERS = [User(id=f\"U{n}\") for n in range(len(INDIVIDUALS))]\n",
    "rich.print(USERS)"
   ]
  },
  {
   "cell_type": "code",
   "execution_count": 5,
   "id": "bfa611f1",
   "metadata": {},
   "outputs": [
    {
     "data": {
      "text/html": [
       "<pre style=\"white-space:pre;overflow-x:auto;line-height:normal;font-family:Menlo,'DejaVu Sans Mono',consolas,'Courier New',monospace\"><span style=\"color: #800080; text-decoration-color: #800080; font-weight: bold\">Feed</span><span style=\"font-weight: bold\">(</span>\n",
       "    <span style=\"color: #808000; text-decoration-color: #808000\">root</span>=<span style=\"font-weight: bold\">[</span>\n",
       "        <span style=\"color: #800080; text-decoration-color: #800080; font-weight: bold\">Post</span><span style=\"font-weight: bold\">(</span>\n",
       "            <span style=\"color: #808000; text-decoration-color: #808000\">id</span>=<span style=\"color: #008000; text-decoration-color: #008000\">'P0'</span>,\n",
       "            <span style=\"color: #808000; text-decoration-color: #808000\">user</span>=<span style=\"color: #800080; text-decoration-color: #800080; font-weight: bold\">User</span><span style=\"font-weight: bold\">(</span><span style=\"color: #808000; text-decoration-color: #808000\">id</span>=<span style=\"color: #008000; text-decoration-color: #008000\">'U0'</span><span style=\"font-weight: bold\">)</span>,\n",
       "            <span style=\"color: #808000; text-decoration-color: #808000\">content</span>=<span style=\"color: #008000; text-decoration-color: #008000\">'Proud to join the climate rally downtown today! Over 500 people showed up demanding our city </span>\n",
       "<span style=\"color: #008000; text-decoration-color: #008000\">divest from fossil fuels. Change happens when we organize together. The future is renewable energy and green jobs -</span>\n",
       "<span style=\"color: #008000; text-decoration-color: #008000\">we just need leaders brave enough to fight for it!'</span>,\n",
       "            <span style=\"color: #808000; text-decoration-color: #808000\">interactions</span>=<span style=\"font-weight: bold\">[]</span>,\n",
       "            <span style=\"color: #808000; text-decoration-color: #808000\">comments</span>=<span style=\"font-weight: bold\">[]</span>,\n",
       "            <span style=\"color: #808000; text-decoration-color: #808000\">timestamp</span>=<span style=\"color: #800080; text-decoration-color: #800080; font-weight: bold\">datetime</span><span style=\"color: #800080; text-decoration-color: #800080; font-weight: bold\">.datetime</span><span style=\"font-weight: bold\">(</span><span style=\"color: #008080; text-decoration-color: #008080; font-weight: bold\">2025</span>, <span style=\"color: #008080; text-decoration-color: #008080; font-weight: bold\">8</span>, <span style=\"color: #008080; text-decoration-color: #008080; font-weight: bold\">1</span>, <span style=\"color: #008080; text-decoration-color: #008080; font-weight: bold\">20</span>, <span style=\"color: #008080; text-decoration-color: #008080; font-weight: bold\">47</span>, <span style=\"color: #008080; text-decoration-color: #008080; font-weight: bold\">20</span>, <span style=\"color: #008080; text-decoration-color: #008080; font-weight: bold\">572336</span><span style=\"font-weight: bold\">)</span>\n",
       "        <span style=\"font-weight: bold\">)</span>,\n",
       "        <span style=\"color: #800080; text-decoration-color: #800080; font-weight: bold\">Post</span><span style=\"font-weight: bold\">(</span>\n",
       "            <span style=\"color: #808000; text-decoration-color: #808000\">id</span>=<span style=\"color: #008000; text-decoration-color: #008000\">'P1'</span>,\n",
       "            <span style=\"color: #808000; text-decoration-color: #808000\">user</span>=<span style=\"color: #800080; text-decoration-color: #800080; font-weight: bold\">User</span><span style=\"font-weight: bold\">(</span><span style=\"color: #808000; text-decoration-color: #808000\">id</span>=<span style=\"color: #008000; text-decoration-color: #008000\">'U1'</span><span style=\"font-weight: bold\">)</span>,\n",
       "            <span style=\"color: #808000; text-decoration-color: #808000\">content</span>=<span style=\"color: #008000; text-decoration-color: #008000\">\"Both parties are missing the point on healthcare reform. Instead of screaming about </span>\n",
       "<span style=\"color: #008000; text-decoration-color: #008000\">'socialized medicine' or 'corporate greed,' why not work together on bipartisan solutions? Price transparency, </span>\n",
       "<span style=\"color: #008000; text-decoration-color: #008000\">prescription drug costs, preventive care - there's common ground here if politicians would stop grandstanding.\"</span>,\n",
       "            <span style=\"color: #808000; text-decoration-color: #808000\">interactions</span>=<span style=\"font-weight: bold\">[]</span>,\n",
       "            <span style=\"color: #808000; text-decoration-color: #808000\">comments</span>=<span style=\"font-weight: bold\">[]</span>,\n",
       "            <span style=\"color: #808000; text-decoration-color: #808000\">timestamp</span>=<span style=\"color: #800080; text-decoration-color: #800080; font-weight: bold\">datetime</span><span style=\"color: #800080; text-decoration-color: #800080; font-weight: bold\">.datetime</span><span style=\"font-weight: bold\">(</span><span style=\"color: #008080; text-decoration-color: #008080; font-weight: bold\">2025</span>, <span style=\"color: #008080; text-decoration-color: #008080; font-weight: bold\">8</span>, <span style=\"color: #008080; text-decoration-color: #008080; font-weight: bold\">1</span>, <span style=\"color: #008080; text-decoration-color: #008080; font-weight: bold\">20</span>, <span style=\"color: #008080; text-decoration-color: #008080; font-weight: bold\">47</span>, <span style=\"color: #008080; text-decoration-color: #008080; font-weight: bold\">20</span>, <span style=\"color: #008080; text-decoration-color: #008080; font-weight: bold\">572342</span><span style=\"font-weight: bold\">)</span>\n",
       "        <span style=\"font-weight: bold\">)</span>,\n",
       "        <span style=\"color: #800080; text-decoration-color: #800080; font-weight: bold\">Post</span><span style=\"font-weight: bold\">(</span>\n",
       "            <span style=\"color: #808000; text-decoration-color: #808000\">id</span>=<span style=\"color: #008000; text-decoration-color: #008000\">'P2'</span>,\n",
       "            <span style=\"color: #808000; text-decoration-color: #808000\">user</span>=<span style=\"color: #800080; text-decoration-color: #800080; font-weight: bold\">User</span><span style=\"font-weight: bold\">(</span><span style=\"color: #808000; text-decoration-color: #808000\">id</span>=<span style=\"color: #008000; text-decoration-color: #008000\">'U2'</span><span style=\"font-weight: bold\">)</span>,\n",
       "            <span style=\"color: #808000; text-decoration-color: #808000\">content</span>=<span style=\"color: #008000; text-decoration-color: #008000\">\"Another day, another government program that costs billions and delivers nothing. TSA security</span>\n",
       "<span style=\"color: #008000; text-decoration-color: #008000\">theater, NSA surveillance, endless foreign wars - when did we decide the federal government should control every </span>\n",
       "<span style=\"color: #008000; text-decoration-color: #008000\">aspect of our lives? Less government, more freedom. That's not radical, that's constitutional.\"</span>,\n",
       "            <span style=\"color: #808000; text-decoration-color: #808000\">interactions</span>=<span style=\"font-weight: bold\">[]</span>,\n",
       "            <span style=\"color: #808000; text-decoration-color: #808000\">comments</span>=<span style=\"font-weight: bold\">[]</span>,\n",
       "            <span style=\"color: #808000; text-decoration-color: #808000\">timestamp</span>=<span style=\"color: #800080; text-decoration-color: #800080; font-weight: bold\">datetime</span><span style=\"color: #800080; text-decoration-color: #800080; font-weight: bold\">.datetime</span><span style=\"font-weight: bold\">(</span><span style=\"color: #008080; text-decoration-color: #008080; font-weight: bold\">2025</span>, <span style=\"color: #008080; text-decoration-color: #008080; font-weight: bold\">8</span>, <span style=\"color: #008080; text-decoration-color: #008080; font-weight: bold\">1</span>, <span style=\"color: #008080; text-decoration-color: #008080; font-weight: bold\">20</span>, <span style=\"color: #008080; text-decoration-color: #008080; font-weight: bold\">47</span>, <span style=\"color: #008080; text-decoration-color: #008080; font-weight: bold\">20</span>, <span style=\"color: #008080; text-decoration-color: #008080; font-weight: bold\">572344</span><span style=\"font-weight: bold\">)</span>\n",
       "        <span style=\"font-weight: bold\">)</span>,\n",
       "        <span style=\"color: #800080; text-decoration-color: #800080; font-weight: bold\">Post</span><span style=\"font-weight: bold\">(</span>\n",
       "            <span style=\"color: #808000; text-decoration-color: #808000\">id</span>=<span style=\"color: #008000; text-decoration-color: #008000\">'P3'</span>,\n",
       "            <span style=\"color: #808000; text-decoration-color: #808000\">user</span>=<span style=\"color: #800080; text-decoration-color: #800080; font-weight: bold\">User</span><span style=\"font-weight: bold\">(</span><span style=\"color: #808000; text-decoration-color: #808000\">id</span>=<span style=\"color: #008000; text-decoration-color: #008000\">'U3'</span><span style=\"font-weight: bold\">)</span>,\n",
       "            <span style=\"color: #808000; text-decoration-color: #808000\">content</span>=<span style=\"color: #008000; text-decoration-color: #008000\">\"Just filled up my truck - $3.89/gallon! Remember when gas was under $2 during Trump's </span>\n",
       "<span style=\"color: #008000; text-decoration-color: #008000\">presidency? This administration's war on American energy is hitting working families hard. We need to get back to </span>\n",
       "<span style=\"color: #008000; text-decoration-color: #008000\">energy independence and stop begging other countries for oil. \"</span>,\n",
       "            <span style=\"color: #808000; text-decoration-color: #808000\">interactions</span>=<span style=\"font-weight: bold\">[]</span>,\n",
       "            <span style=\"color: #808000; text-decoration-color: #808000\">comments</span>=<span style=\"font-weight: bold\">[]</span>,\n",
       "            <span style=\"color: #808000; text-decoration-color: #808000\">timestamp</span>=<span style=\"color: #800080; text-decoration-color: #800080; font-weight: bold\">datetime</span><span style=\"color: #800080; text-decoration-color: #800080; font-weight: bold\">.datetime</span><span style=\"font-weight: bold\">(</span><span style=\"color: #008080; text-decoration-color: #008080; font-weight: bold\">2025</span>, <span style=\"color: #008080; text-decoration-color: #008080; font-weight: bold\">8</span>, <span style=\"color: #008080; text-decoration-color: #008080; font-weight: bold\">1</span>, <span style=\"color: #008080; text-decoration-color: #008080; font-weight: bold\">20</span>, <span style=\"color: #008080; text-decoration-color: #008080; font-weight: bold\">47</span>, <span style=\"color: #008080; text-decoration-color: #008080; font-weight: bold\">20</span>, <span style=\"color: #008080; text-decoration-color: #008080; font-weight: bold\">572345</span><span style=\"font-weight: bold\">)</span>\n",
       "        <span style=\"font-weight: bold\">)</span>\n",
       "    <span style=\"font-weight: bold\">]</span>\n",
       "<span style=\"font-weight: bold\">)</span>\n",
       "</pre>\n"
      ],
      "text/plain": [
       "\u001b[1;35mFeed\u001b[0m\u001b[1m(\u001b[0m\n",
       "    \u001b[33mroot\u001b[0m=\u001b[1m[\u001b[0m\n",
       "        \u001b[1;35mPost\u001b[0m\u001b[1m(\u001b[0m\n",
       "            \u001b[33mid\u001b[0m=\u001b[32m'P0'\u001b[0m,\n",
       "            \u001b[33muser\u001b[0m=\u001b[1;35mUser\u001b[0m\u001b[1m(\u001b[0m\u001b[33mid\u001b[0m=\u001b[32m'U0'\u001b[0m\u001b[1m)\u001b[0m,\n",
       "            \u001b[33mcontent\u001b[0m=\u001b[32m'Proud to join the climate rally downtown today! Over 500 people showed up demanding our city \u001b[0m\n",
       "\u001b[32mdivest from fossil fuels. Change happens when we organize together. The future is renewable energy and green jobs -\u001b[0m\n",
       "\u001b[32mwe just need leaders brave enough to fight for it!'\u001b[0m,\n",
       "            \u001b[33minteractions\u001b[0m=\u001b[1m[\u001b[0m\u001b[1m]\u001b[0m,\n",
       "            \u001b[33mcomments\u001b[0m=\u001b[1m[\u001b[0m\u001b[1m]\u001b[0m,\n",
       "            \u001b[33mtimestamp\u001b[0m=\u001b[1;35mdatetime\u001b[0m\u001b[1;35m.datetime\u001b[0m\u001b[1m(\u001b[0m\u001b[1;36m2025\u001b[0m, \u001b[1;36m8\u001b[0m, \u001b[1;36m1\u001b[0m, \u001b[1;36m20\u001b[0m, \u001b[1;36m47\u001b[0m, \u001b[1;36m20\u001b[0m, \u001b[1;36m572336\u001b[0m\u001b[1m)\u001b[0m\n",
       "        \u001b[1m)\u001b[0m,\n",
       "        \u001b[1;35mPost\u001b[0m\u001b[1m(\u001b[0m\n",
       "            \u001b[33mid\u001b[0m=\u001b[32m'P1'\u001b[0m,\n",
       "            \u001b[33muser\u001b[0m=\u001b[1;35mUser\u001b[0m\u001b[1m(\u001b[0m\u001b[33mid\u001b[0m=\u001b[32m'U1'\u001b[0m\u001b[1m)\u001b[0m,\n",
       "            \u001b[33mcontent\u001b[0m=\u001b[32m\"Both\u001b[0m\u001b[32m parties are missing the point on healthcare reform. Instead of screaming about \u001b[0m\n",
       "\u001b[32m'socialized medicine' or 'corporate greed,' why not work together on bipartisan solutions? Price transparency, \u001b[0m\n",
       "\u001b[32mprescription drug costs, preventive care - there's common ground here if politicians would stop grandstanding.\"\u001b[0m,\n",
       "            \u001b[33minteractions\u001b[0m=\u001b[1m[\u001b[0m\u001b[1m]\u001b[0m,\n",
       "            \u001b[33mcomments\u001b[0m=\u001b[1m[\u001b[0m\u001b[1m]\u001b[0m,\n",
       "            \u001b[33mtimestamp\u001b[0m=\u001b[1;35mdatetime\u001b[0m\u001b[1;35m.datetime\u001b[0m\u001b[1m(\u001b[0m\u001b[1;36m2025\u001b[0m, \u001b[1;36m8\u001b[0m, \u001b[1;36m1\u001b[0m, \u001b[1;36m20\u001b[0m, \u001b[1;36m47\u001b[0m, \u001b[1;36m20\u001b[0m, \u001b[1;36m572342\u001b[0m\u001b[1m)\u001b[0m\n",
       "        \u001b[1m)\u001b[0m,\n",
       "        \u001b[1;35mPost\u001b[0m\u001b[1m(\u001b[0m\n",
       "            \u001b[33mid\u001b[0m=\u001b[32m'P2'\u001b[0m,\n",
       "            \u001b[33muser\u001b[0m=\u001b[1;35mUser\u001b[0m\u001b[1m(\u001b[0m\u001b[33mid\u001b[0m=\u001b[32m'U2'\u001b[0m\u001b[1m)\u001b[0m,\n",
       "            \u001b[33mcontent\u001b[0m=\u001b[32m\"Another\u001b[0m\u001b[32m day, another government program that costs billions and delivers nothing. TSA security\u001b[0m\n",
       "\u001b[32mtheater, NSA surveillance, endless foreign wars - when did we decide the federal government should control every \u001b[0m\n",
       "\u001b[32maspect of our lives? Less government, more freedom. That's not radical, that's constitutional.\"\u001b[0m,\n",
       "            \u001b[33minteractions\u001b[0m=\u001b[1m[\u001b[0m\u001b[1m]\u001b[0m,\n",
       "            \u001b[33mcomments\u001b[0m=\u001b[1m[\u001b[0m\u001b[1m]\u001b[0m,\n",
       "            \u001b[33mtimestamp\u001b[0m=\u001b[1;35mdatetime\u001b[0m\u001b[1;35m.datetime\u001b[0m\u001b[1m(\u001b[0m\u001b[1;36m2025\u001b[0m, \u001b[1;36m8\u001b[0m, \u001b[1;36m1\u001b[0m, \u001b[1;36m20\u001b[0m, \u001b[1;36m47\u001b[0m, \u001b[1;36m20\u001b[0m, \u001b[1;36m572344\u001b[0m\u001b[1m)\u001b[0m\n",
       "        \u001b[1m)\u001b[0m,\n",
       "        \u001b[1;35mPost\u001b[0m\u001b[1m(\u001b[0m\n",
       "            \u001b[33mid\u001b[0m=\u001b[32m'P3'\u001b[0m,\n",
       "            \u001b[33muser\u001b[0m=\u001b[1;35mUser\u001b[0m\u001b[1m(\u001b[0m\u001b[33mid\u001b[0m=\u001b[32m'U3'\u001b[0m\u001b[1m)\u001b[0m,\n",
       "            \u001b[33mcontent\u001b[0m=\u001b[32m\"Just\u001b[0m\u001b[32m filled up my truck - $3.89/gallon! Remember when gas was under $2 during Trump's \u001b[0m\n",
       "\u001b[32mpresidency? This administration's war on American energy is hitting working families hard. We need to get back to \u001b[0m\n",
       "\u001b[32menergy independence and stop begging other countries for oil. \"\u001b[0m,\n",
       "            \u001b[33minteractions\u001b[0m=\u001b[1m[\u001b[0m\u001b[1m]\u001b[0m,\n",
       "            \u001b[33mcomments\u001b[0m=\u001b[1m[\u001b[0m\u001b[1m]\u001b[0m,\n",
       "            \u001b[33mtimestamp\u001b[0m=\u001b[1;35mdatetime\u001b[0m\u001b[1;35m.datetime\u001b[0m\u001b[1m(\u001b[0m\u001b[1;36m2025\u001b[0m, \u001b[1;36m8\u001b[0m, \u001b[1;36m1\u001b[0m, \u001b[1;36m20\u001b[0m, \u001b[1;36m47\u001b[0m, \u001b[1;36m20\u001b[0m, \u001b[1;36m572345\u001b[0m\u001b[1m)\u001b[0m\n",
       "        \u001b[1m)\u001b[0m\n",
       "    \u001b[1m]\u001b[0m\n",
       "\u001b[1m)\u001b[0m\n"
      ]
     },
     "metadata": {},
     "output_type": "display_data"
    }
   ],
   "source": [
    "feed = Feed([\n",
    "    Post(id=f\"P{n}\", user=user, content=individual[\"post\"])\n",
    "    for n, (user, individual) in enumerate(zip(USERS, INDIVIDUALS.values()))\n",
    "])\n",
    "rich.print(feed)"
   ]
  },
  {
   "cell_type": "code",
   "execution_count": 6,
   "id": "45917ea9",
   "metadata": {},
   "outputs": [
    {
     "data": {
      "text/html": [
       "<pre style=\"white-space:pre;overflow-x:auto;line-height:normal;font-family:Menlo,'DejaVu Sans Mono',consolas,'Courier New',monospace\"><span style=\"font-weight: bold\">{</span>\n",
       "    <span style=\"color: #800080; text-decoration-color: #800080; font-weight: bold\">User</span><span style=\"font-weight: bold\">(</span><span style=\"color: #808000; text-decoration-color: #808000\">id</span>=<span style=\"color: #008000; text-decoration-color: #008000\">'U0'</span><span style=\"font-weight: bold\">)</span>: <span style=\"color: #800080; text-decoration-color: #800080; font-weight: bold\">Agent</span><span style=\"font-weight: bold\">(</span>\n",
       "        <span style=\"color: #808000; text-decoration-color: #808000\">llm</span>=<span style=\"color: #800080; text-decoration-color: #800080; font-weight: bold\">LLM</span><span style=\"font-weight: bold\">(</span><span style=\"color: #808000; text-decoration-color: #808000\">client</span>=<span style=\"font-weight: bold\">&lt;</span><span style=\"color: #800080; text-decoration-color: #800080; font-weight: bold\">InferenceClient</span><span style=\"color: #000000; text-decoration-color: #000000; font-weight: bold\">(</span><span style=\"color: #808000; text-decoration-color: #808000\">model</span><span style=\"color: #000000; text-decoration-color: #000000\">=</span><span style=\"color: #008000; text-decoration-color: #008000\">''</span><span style=\"color: #000000; text-decoration-color: #000000\">, </span><span style=\"color: #808000; text-decoration-color: #808000\">timeout</span><span style=\"color: #000000; text-decoration-color: #000000\">=</span><span style=\"color: #800080; text-decoration-color: #800080; font-style: italic\">None</span><span style=\"color: #000000; text-decoration-color: #000000; font-weight: bold\">)</span><span style=\"color: #000000; text-decoration-color: #000000\">&gt;, </span><span style=\"color: #808000; text-decoration-color: #808000\">model</span><span style=\"color: #000000; text-decoration-color: #000000\">=</span><span style=\"color: #008000; text-decoration-color: #008000\">'meta-llama/Meta-Llama-3-8B-Instruct'</span><span style=\"color: #000000; text-decoration-color: #000000; font-weight: bold\">)</span><span style=\"color: #000000; text-decoration-color: #000000\">,</span>\n",
       "<span style=\"color: #000000; text-decoration-color: #000000\">        </span><span style=\"color: #808000; text-decoration-color: #808000\">instructions</span><span style=\"color: #000000; text-decoration-color: #000000\">=</span><span style=\"color: #800080; text-decoration-color: #800080; font-weight: bold\">AgentInstructions</span><span style=\"color: #000000; text-decoration-color: #000000; font-weight: bold\">(</span>\n",
       "<span style=\"color: #000000; text-decoration-color: #000000\">            </span><span style=\"color: #808000; text-decoration-color: #808000\">persona</span><span style=\"color: #000000; text-decoration-color: #000000\">=</span><span style=\"color: #008000; text-decoration-color: #008000\">'Act as a social media user who embodies progressive American activist viewpoints. Your </span>\n",
       "<span style=\"color: #008000; text-decoration-color: #008000\">character should have a consistent posting and commenting history.'</span><span style=\"color: #000000; text-decoration-color: #000000\">,</span>\n",
       "<span style=\"color: #000000; text-decoration-color: #000000\">            </span><span style=\"color: #808000; text-decoration-color: #808000\">select_actions</span><span style=\"color: #000000; text-decoration-color: #000000\">=</span><span style=\"color: #008000; text-decoration-color: #008000\">'Choose one or multiple of the following actions you would perform on the following post</span>\n",
       "<span style=\"color: #008000; text-decoration-color: #008000\">and return them separated by colons. Respond with the action names only.'</span><span style=\"color: #000000; text-decoration-color: #000000\">,</span>\n",
       "<span style=\"color: #000000; text-decoration-color: #000000\">            </span><span style=\"color: #808000; text-decoration-color: #808000\">comment</span><span style=\"color: #000000; text-decoration-color: #000000\">=</span><span style=\"color: #008000; text-decoration-color: #008000\">'Write a short comment considering the following original post and past comments.'</span><span style=\"color: #000000; text-decoration-color: #000000\">,</span>\n",
       "<span style=\"color: #000000; text-decoration-color: #000000\">            </span><span style=\"color: #808000; text-decoration-color: #808000\">post</span><span style=\"color: #000000; text-decoration-color: #000000\">=</span><span style=\"color: #008000; text-decoration-color: #008000\">'Write a independent post considering the following content.'</span>\n",
       "<span style=\"color: #000000; text-decoration-color: #000000\">        </span><span style=\"color: #000000; text-decoration-color: #000000; font-weight: bold\">)</span><span style=\"color: #000000; text-decoration-color: #000000\">,</span>\n",
       "<span style=\"color: #000000; text-decoration-color: #000000\">        </span><span style=\"color: #808000; text-decoration-color: #808000\">action_likelihoods</span><span style=\"color: #000000; text-decoration-color: #000000\">=</span><span style=\"color: #000000; text-decoration-color: #000000; font-weight: bold\">{</span>\n",
       "<span style=\"color: #000000; text-decoration-color: #000000\">            &lt;AgentActions.read: </span><span style=\"color: #008000; text-decoration-color: #008000\">'read'</span><span style=\"color: #000000; text-decoration-color: #000000\">&gt;: </span><span style=\"color: #008080; text-decoration-color: #008080; font-weight: bold\">1.0</span><span style=\"color: #000000; text-decoration-color: #000000\">,</span>\n",
       "<span style=\"color: #000000; text-decoration-color: #000000\">            &lt;AgentActions.like: </span><span style=\"color: #008000; text-decoration-color: #008000\">'like'</span><span style=\"color: #000000; text-decoration-color: #000000\">&gt;: </span><span style=\"color: #008080; text-decoration-color: #008080; font-weight: bold\">1.0</span><span style=\"color: #000000; text-decoration-color: #000000\">,</span>\n",
       "<span style=\"color: #000000; text-decoration-color: #000000\">            &lt;AgentActions.comment: </span><span style=\"color: #008000; text-decoration-color: #008000\">'comment'</span><span style=\"color: #000000; text-decoration-color: #000000\">&gt;: </span><span style=\"color: #008080; text-decoration-color: #008080; font-weight: bold\">1.0</span><span style=\"color: #000000; text-decoration-color: #000000\">,</span>\n",
       "<span style=\"color: #000000; text-decoration-color: #000000\">            &lt;AgentActions.post: </span><span style=\"color: #008000; text-decoration-color: #008000\">'post'</span><span style=\"color: #000000; text-decoration-color: #000000\">&gt;: </span><span style=\"color: #008080; text-decoration-color: #008080; font-weight: bold\">1.0</span>\n",
       "<span style=\"color: #000000; text-decoration-color: #000000\">        </span><span style=\"color: #000000; text-decoration-color: #000000; font-weight: bold\">}</span><span style=\"color: #000000; text-decoration-color: #000000\">,</span>\n",
       "<span style=\"color: #000000; text-decoration-color: #000000\">        </span><span style=\"color: #808000; text-decoration-color: #808000\">memory</span><span style=\"color: #000000; text-decoration-color: #000000\">=</span><span style=\"color: #000000; text-decoration-color: #000000; font-weight: bold\">[</span>\n",
       "<span style=\"color: #000000; text-decoration-color: #000000\">            </span><span style=\"color: #800080; text-decoration-color: #800080; font-weight: bold\">Message</span><span style=\"color: #000000; text-decoration-color: #000000; font-weight: bold\">(</span>\n",
       "<span style=\"color: #000000; text-decoration-color: #000000\">                </span><span style=\"color: #808000; text-decoration-color: #808000\">role</span><span style=\"color: #000000; text-decoration-color: #000000\">=</span><span style=\"color: #008000; text-decoration-color: #008000\">'system'</span><span style=\"color: #000000; text-decoration-color: #000000\">,</span>\n",
       "<span style=\"color: #000000; text-decoration-color: #000000\">                </span><span style=\"color: #808000; text-decoration-color: #808000\">content</span><span style=\"color: #000000; text-decoration-color: #000000\">=</span><span style=\"color: #008000; text-decoration-color: #008000\">'Proud to join the climate rally downtown today! Over 500 people showed up demanding our </span>\n",
       "<span style=\"color: #008000; text-decoration-color: #008000\">city divest from fossil fuels. Change happens when we organize together. The future is renewable energy and green </span>\n",
       "<span style=\"color: #008000; text-decoration-color: #008000\">jobs - we just need leaders brave enough to fight for it!'</span>\n",
       "<span style=\"color: #000000; text-decoration-color: #000000\">            </span><span style=\"color: #000000; text-decoration-color: #000000; font-weight: bold\">)</span>\n",
       "<span style=\"color: #000000; text-decoration-color: #000000\">        </span><span style=\"color: #000000; text-decoration-color: #000000; font-weight: bold\">]</span><span style=\"color: #000000; text-decoration-color: #000000\">,</span>\n",
       "<span style=\"color: #000000; text-decoration-color: #000000\">        </span><span style=\"color: #808000; text-decoration-color: #808000\">memory_length</span><span style=\"color: #000000; text-decoration-color: #000000\">=</span><span style=\"color: #008080; text-decoration-color: #008080; font-weight: bold\">4</span>\n",
       "<span style=\"color: #000000; text-decoration-color: #000000\">    </span><span style=\"color: #000000; text-decoration-color: #000000; font-weight: bold\">)</span><span style=\"color: #000000; text-decoration-color: #000000\">,</span>\n",
       "<span style=\"color: #000000; text-decoration-color: #000000\">    </span><span style=\"color: #800080; text-decoration-color: #800080; font-weight: bold\">User</span><span style=\"color: #000000; text-decoration-color: #000000; font-weight: bold\">(</span><span style=\"color: #808000; text-decoration-color: #808000\">id</span><span style=\"color: #000000; text-decoration-color: #000000\">=</span><span style=\"color: #008000; text-decoration-color: #008000\">'U1'</span><span style=\"color: #000000; text-decoration-color: #000000; font-weight: bold\">)</span><span style=\"color: #000000; text-decoration-color: #000000\">: </span><span style=\"color: #800080; text-decoration-color: #800080; font-weight: bold\">Agent</span><span style=\"color: #000000; text-decoration-color: #000000; font-weight: bold\">(</span>\n",
       "<span style=\"color: #000000; text-decoration-color: #000000\">        </span><span style=\"color: #808000; text-decoration-color: #808000\">llm</span><span style=\"color: #000000; text-decoration-color: #000000\">=</span><span style=\"color: #800080; text-decoration-color: #800080; font-weight: bold\">LLM</span><span style=\"color: #000000; text-decoration-color: #000000; font-weight: bold\">(</span><span style=\"color: #808000; text-decoration-color: #808000\">client</span><span style=\"color: #000000; text-decoration-color: #000000\">=&lt;</span><span style=\"color: #800080; text-decoration-color: #800080; font-weight: bold\">InferenceClient</span><span style=\"color: #000000; text-decoration-color: #000000; font-weight: bold\">(</span><span style=\"color: #808000; text-decoration-color: #808000\">model</span><span style=\"color: #000000; text-decoration-color: #000000\">=</span><span style=\"color: #008000; text-decoration-color: #008000\">''</span><span style=\"color: #000000; text-decoration-color: #000000\">, </span><span style=\"color: #808000; text-decoration-color: #808000\">timeout</span><span style=\"color: #000000; text-decoration-color: #000000\">=</span><span style=\"color: #800080; text-decoration-color: #800080; font-style: italic\">None</span><span style=\"color: #000000; text-decoration-color: #000000; font-weight: bold\">)</span><span style=\"color: #000000; text-decoration-color: #000000\">&gt;, </span><span style=\"color: #808000; text-decoration-color: #808000\">model</span><span style=\"color: #000000; text-decoration-color: #000000\">=</span><span style=\"color: #008000; text-decoration-color: #008000\">'meta-llama/Meta-Llama-3-8B-Instruct'</span><span style=\"color: #000000; text-decoration-color: #000000; font-weight: bold\">)</span><span style=\"color: #000000; text-decoration-color: #000000\">,</span>\n",
       "<span style=\"color: #000000; text-decoration-color: #000000\">        </span><span style=\"color: #808000; text-decoration-color: #808000\">instructions</span><span style=\"color: #000000; text-decoration-color: #000000\">=</span><span style=\"color: #800080; text-decoration-color: #800080; font-weight: bold\">AgentInstructions</span><span style=\"color: #000000; text-decoration-color: #000000; font-weight: bold\">(</span>\n",
       "<span style=\"color: #000000; text-decoration-color: #000000\">            </span><span style=\"color: #808000; text-decoration-color: #808000\">persona</span><span style=\"color: #000000; text-decoration-color: #000000\">=</span><span style=\"color: #008000; text-decoration-color: #008000\">'Act as a social media user who embodies moderate American centrist viewpoints. Your character </span>\n",
       "<span style=\"color: #008000; text-decoration-color: #008000\">should have a consistent posting and commenting history.'</span><span style=\"color: #000000; text-decoration-color: #000000\">,</span>\n",
       "<span style=\"color: #000000; text-decoration-color: #000000\">            </span><span style=\"color: #808000; text-decoration-color: #808000\">select_actions</span><span style=\"color: #000000; text-decoration-color: #000000\">=</span><span style=\"color: #008000; text-decoration-color: #008000\">'Choose one or multiple of the following actions you would perform on the following post</span>\n",
       "<span style=\"color: #008000; text-decoration-color: #008000\">and return them separated by colons. Respond with the action names only.'</span><span style=\"color: #000000; text-decoration-color: #000000\">,</span>\n",
       "<span style=\"color: #000000; text-decoration-color: #000000\">            </span><span style=\"color: #808000; text-decoration-color: #808000\">comment</span><span style=\"color: #000000; text-decoration-color: #000000\">=</span><span style=\"color: #008000; text-decoration-color: #008000\">'Write a short comment considering the following original post and past comments.'</span><span style=\"color: #000000; text-decoration-color: #000000\">,</span>\n",
       "<span style=\"color: #000000; text-decoration-color: #000000\">            </span><span style=\"color: #808000; text-decoration-color: #808000\">post</span><span style=\"color: #000000; text-decoration-color: #000000\">=</span><span style=\"color: #008000; text-decoration-color: #008000\">'Write a independent post considering the following content.'</span>\n",
       "<span style=\"color: #000000; text-decoration-color: #000000\">        </span><span style=\"color: #000000; text-decoration-color: #000000; font-weight: bold\">)</span><span style=\"color: #000000; text-decoration-color: #000000\">,</span>\n",
       "<span style=\"color: #000000; text-decoration-color: #000000\">        </span><span style=\"color: #808000; text-decoration-color: #808000\">action_likelihoods</span><span style=\"color: #000000; text-decoration-color: #000000\">=</span><span style=\"color: #000000; text-decoration-color: #000000; font-weight: bold\">{</span>\n",
       "<span style=\"color: #000000; text-decoration-color: #000000\">            &lt;AgentActions.read: </span><span style=\"color: #008000; text-decoration-color: #008000\">'read'</span><span style=\"color: #000000; text-decoration-color: #000000\">&gt;: </span><span style=\"color: #008080; text-decoration-color: #008080; font-weight: bold\">1.0</span><span style=\"color: #000000; text-decoration-color: #000000\">,</span>\n",
       "<span style=\"color: #000000; text-decoration-color: #000000\">            &lt;AgentActions.like: </span><span style=\"color: #008000; text-decoration-color: #008000\">'like'</span><span style=\"color: #000000; text-decoration-color: #000000\">&gt;: </span><span style=\"color: #008080; text-decoration-color: #008080; font-weight: bold\">1.0</span><span style=\"color: #000000; text-decoration-color: #000000\">,</span>\n",
       "<span style=\"color: #000000; text-decoration-color: #000000\">            &lt;AgentActions.comment: </span><span style=\"color: #008000; text-decoration-color: #008000\">'comment'</span><span style=\"color: #000000; text-decoration-color: #000000\">&gt;: </span><span style=\"color: #008080; text-decoration-color: #008080; font-weight: bold\">1.0</span><span style=\"color: #000000; text-decoration-color: #000000\">,</span>\n",
       "<span style=\"color: #000000; text-decoration-color: #000000\">            &lt;AgentActions.post: </span><span style=\"color: #008000; text-decoration-color: #008000\">'post'</span><span style=\"color: #000000; text-decoration-color: #000000\">&gt;: </span><span style=\"color: #008080; text-decoration-color: #008080; font-weight: bold\">1.0</span>\n",
       "<span style=\"color: #000000; text-decoration-color: #000000\">        </span><span style=\"color: #000000; text-decoration-color: #000000; font-weight: bold\">}</span><span style=\"color: #000000; text-decoration-color: #000000\">,</span>\n",
       "<span style=\"color: #000000; text-decoration-color: #000000\">        </span><span style=\"color: #808000; text-decoration-color: #808000\">memory</span><span style=\"color: #000000; text-decoration-color: #000000\">=</span><span style=\"color: #000000; text-decoration-color: #000000; font-weight: bold\">[</span>\n",
       "<span style=\"color: #000000; text-decoration-color: #000000\">            </span><span style=\"color: #800080; text-decoration-color: #800080; font-weight: bold\">Message</span><span style=\"color: #000000; text-decoration-color: #000000; font-weight: bold\">(</span>\n",
       "<span style=\"color: #000000; text-decoration-color: #000000\">                </span><span style=\"color: #808000; text-decoration-color: #808000\">role</span><span style=\"color: #000000; text-decoration-color: #000000\">=</span><span style=\"color: #008000; text-decoration-color: #008000\">'system'</span><span style=\"color: #000000; text-decoration-color: #000000\">,</span>\n",
       "<span style=\"color: #000000; text-decoration-color: #000000\">                </span><span style=\"color: #808000; text-decoration-color: #808000\">content</span><span style=\"color: #000000; text-decoration-color: #000000\">=</span><span style=\"color: #008000; text-decoration-color: #008000\">\"Both parties are missing the point on healthcare reform. Instead of screaming about </span>\n",
       "<span style=\"color: #008000; text-decoration-color: #008000\">'socialized medicine' or 'corporate greed,' why not work together on bipartisan solutions? Price transparency, </span>\n",
       "<span style=\"color: #008000; text-decoration-color: #008000\">prescription drug costs, preventive care - there's common ground here if politicians would stop grandstanding.\"</span>\n",
       "<span style=\"color: #000000; text-decoration-color: #000000\">            </span><span style=\"color: #000000; text-decoration-color: #000000; font-weight: bold\">)</span>\n",
       "<span style=\"color: #000000; text-decoration-color: #000000\">        </span><span style=\"color: #000000; text-decoration-color: #000000; font-weight: bold\">]</span><span style=\"color: #000000; text-decoration-color: #000000\">,</span>\n",
       "<span style=\"color: #000000; text-decoration-color: #000000\">        </span><span style=\"color: #808000; text-decoration-color: #808000\">memory_length</span><span style=\"color: #000000; text-decoration-color: #000000\">=</span><span style=\"color: #008080; text-decoration-color: #008080; font-weight: bold\">4</span>\n",
       "<span style=\"color: #000000; text-decoration-color: #000000\">    </span><span style=\"color: #000000; text-decoration-color: #000000; font-weight: bold\">)</span><span style=\"color: #000000; text-decoration-color: #000000\">,</span>\n",
       "<span style=\"color: #000000; text-decoration-color: #000000\">    </span><span style=\"color: #800080; text-decoration-color: #800080; font-weight: bold\">User</span><span style=\"color: #000000; text-decoration-color: #000000; font-weight: bold\">(</span><span style=\"color: #808000; text-decoration-color: #808000\">id</span><span style=\"color: #000000; text-decoration-color: #000000\">=</span><span style=\"color: #008000; text-decoration-color: #008000\">'U2'</span><span style=\"color: #000000; text-decoration-color: #000000; font-weight: bold\">)</span><span style=\"color: #000000; text-decoration-color: #000000\">: </span><span style=\"color: #800080; text-decoration-color: #800080; font-weight: bold\">Agent</span><span style=\"color: #000000; text-decoration-color: #000000; font-weight: bold\">(</span>\n",
       "<span style=\"color: #000000; text-decoration-color: #000000\">        </span><span style=\"color: #808000; text-decoration-color: #808000\">llm</span><span style=\"color: #000000; text-decoration-color: #000000\">=</span><span style=\"color: #800080; text-decoration-color: #800080; font-weight: bold\">LLM</span><span style=\"color: #000000; text-decoration-color: #000000; font-weight: bold\">(</span><span style=\"color: #808000; text-decoration-color: #808000\">client</span><span style=\"color: #000000; text-decoration-color: #000000\">=&lt;</span><span style=\"color: #800080; text-decoration-color: #800080; font-weight: bold\">InferenceClient</span><span style=\"color: #000000; text-decoration-color: #000000; font-weight: bold\">(</span><span style=\"color: #808000; text-decoration-color: #808000\">model</span><span style=\"color: #000000; text-decoration-color: #000000\">=</span><span style=\"color: #008000; text-decoration-color: #008000\">''</span><span style=\"color: #000000; text-decoration-color: #000000\">, </span><span style=\"color: #808000; text-decoration-color: #808000\">timeout</span><span style=\"color: #000000; text-decoration-color: #000000\">=</span><span style=\"color: #800080; text-decoration-color: #800080; font-style: italic\">None</span><span style=\"color: #000000; text-decoration-color: #000000; font-weight: bold\">)</span><span style=\"color: #000000; text-decoration-color: #000000\">&gt;, </span><span style=\"color: #808000; text-decoration-color: #808000\">model</span><span style=\"color: #000000; text-decoration-color: #000000\">=</span><span style=\"color: #008000; text-decoration-color: #008000\">'meta-llama/Meta-Llama-3-8B-Instruct'</span><span style=\"color: #000000; text-decoration-color: #000000; font-weight: bold\">)</span><span style=\"color: #000000; text-decoration-color: #000000\">,</span>\n",
       "<span style=\"color: #000000; text-decoration-color: #000000\">        </span><span style=\"color: #808000; text-decoration-color: #808000\">instructions</span><span style=\"color: #000000; text-decoration-color: #000000\">=</span><span style=\"color: #800080; text-decoration-color: #800080; font-weight: bold\">AgentInstructions</span><span style=\"color: #000000; text-decoration-color: #000000; font-weight: bold\">(</span>\n",
       "<span style=\"color: #000000; text-decoration-color: #000000\">            </span><span style=\"color: #808000; text-decoration-color: #808000\">persona</span><span style=\"color: #000000; text-decoration-color: #000000\">=</span><span style=\"color: #008000; text-decoration-color: #008000\">'Act as a social media user who embodies libertarian American political viewpoints. Your </span>\n",
       "<span style=\"color: #008000; text-decoration-color: #008000\">character should have a consistent posting and commenting history.'</span><span style=\"color: #000000; text-decoration-color: #000000\">,</span>\n",
       "<span style=\"color: #000000; text-decoration-color: #000000\">            </span><span style=\"color: #808000; text-decoration-color: #808000\">select_actions</span><span style=\"color: #000000; text-decoration-color: #000000\">=</span><span style=\"color: #008000; text-decoration-color: #008000\">'Choose one or multiple of the following actions you would perform on the following post</span>\n",
       "<span style=\"color: #008000; text-decoration-color: #008000\">and return them separated by colons. Respond with the action names only.'</span><span style=\"color: #000000; text-decoration-color: #000000\">,</span>\n",
       "<span style=\"color: #000000; text-decoration-color: #000000\">            </span><span style=\"color: #808000; text-decoration-color: #808000\">comment</span><span style=\"color: #000000; text-decoration-color: #000000\">=</span><span style=\"color: #008000; text-decoration-color: #008000\">'Write a short comment considering the following original post and past comments.'</span><span style=\"color: #000000; text-decoration-color: #000000\">,</span>\n",
       "<span style=\"color: #000000; text-decoration-color: #000000\">            </span><span style=\"color: #808000; text-decoration-color: #808000\">post</span><span style=\"color: #000000; text-decoration-color: #000000\">=</span><span style=\"color: #008000; text-decoration-color: #008000\">'Write a independent post considering the following content.'</span>\n",
       "<span style=\"color: #000000; text-decoration-color: #000000\">        </span><span style=\"color: #000000; text-decoration-color: #000000; font-weight: bold\">)</span><span style=\"color: #000000; text-decoration-color: #000000\">,</span>\n",
       "<span style=\"color: #000000; text-decoration-color: #000000\">        </span><span style=\"color: #808000; text-decoration-color: #808000\">action_likelihoods</span><span style=\"color: #000000; text-decoration-color: #000000\">=</span><span style=\"color: #000000; text-decoration-color: #000000; font-weight: bold\">{</span>\n",
       "<span style=\"color: #000000; text-decoration-color: #000000\">            &lt;AgentActions.read: </span><span style=\"color: #008000; text-decoration-color: #008000\">'read'</span><span style=\"color: #000000; text-decoration-color: #000000\">&gt;: </span><span style=\"color: #008080; text-decoration-color: #008080; font-weight: bold\">1.0</span><span style=\"color: #000000; text-decoration-color: #000000\">,</span>\n",
       "<span style=\"color: #000000; text-decoration-color: #000000\">            &lt;AgentActions.like: </span><span style=\"color: #008000; text-decoration-color: #008000\">'like'</span><span style=\"color: #000000; text-decoration-color: #000000\">&gt;: </span><span style=\"color: #008080; text-decoration-color: #008080; font-weight: bold\">1.0</span><span style=\"color: #000000; text-decoration-color: #000000\">,</span>\n",
       "<span style=\"color: #000000; text-decoration-color: #000000\">            &lt;AgentActions.comment: </span><span style=\"color: #008000; text-decoration-color: #008000\">'comment'</span><span style=\"color: #000000; text-decoration-color: #000000\">&gt;: </span><span style=\"color: #008080; text-decoration-color: #008080; font-weight: bold\">1.0</span><span style=\"color: #000000; text-decoration-color: #000000\">,</span>\n",
       "<span style=\"color: #000000; text-decoration-color: #000000\">            &lt;AgentActions.post: </span><span style=\"color: #008000; text-decoration-color: #008000\">'post'</span><span style=\"color: #000000; text-decoration-color: #000000\">&gt;: </span><span style=\"color: #008080; text-decoration-color: #008080; font-weight: bold\">1.0</span>\n",
       "<span style=\"color: #000000; text-decoration-color: #000000\">        </span><span style=\"color: #000000; text-decoration-color: #000000; font-weight: bold\">}</span><span style=\"color: #000000; text-decoration-color: #000000\">,</span>\n",
       "<span style=\"color: #000000; text-decoration-color: #000000\">        </span><span style=\"color: #808000; text-decoration-color: #808000\">memory</span><span style=\"color: #000000; text-decoration-color: #000000\">=</span><span style=\"color: #000000; text-decoration-color: #000000; font-weight: bold\">[</span>\n",
       "<span style=\"color: #000000; text-decoration-color: #000000\">            </span><span style=\"color: #800080; text-decoration-color: #800080; font-weight: bold\">Message</span><span style=\"color: #000000; text-decoration-color: #000000; font-weight: bold\">(</span>\n",
       "<span style=\"color: #000000; text-decoration-color: #000000\">                </span><span style=\"color: #808000; text-decoration-color: #808000\">role</span><span style=\"color: #000000; text-decoration-color: #000000\">=</span><span style=\"color: #008000; text-decoration-color: #008000\">'system'</span><span style=\"color: #000000; text-decoration-color: #000000\">,</span>\n",
       "<span style=\"color: #000000; text-decoration-color: #000000\">                </span><span style=\"color: #808000; text-decoration-color: #808000\">content</span><span style=\"color: #000000; text-decoration-color: #000000\">=</span><span style=\"color: #008000; text-decoration-color: #008000\">\"Another day, another government program that costs billions and delivers nothing. TSA </span>\n",
       "<span style=\"color: #008000; text-decoration-color: #008000\">security theater, NSA surveillance, endless foreign wars - when did we decide the federal government should control</span>\n",
       "<span style=\"color: #008000; text-decoration-color: #008000\">every aspect of our lives? Less government, more freedom. That's not radical, that's constitutional.\"</span>\n",
       "<span style=\"color: #000000; text-decoration-color: #000000\">            </span><span style=\"color: #000000; text-decoration-color: #000000; font-weight: bold\">)</span>\n",
       "<span style=\"color: #000000; text-decoration-color: #000000\">        </span><span style=\"color: #000000; text-decoration-color: #000000; font-weight: bold\">]</span><span style=\"color: #000000; text-decoration-color: #000000\">,</span>\n",
       "<span style=\"color: #000000; text-decoration-color: #000000\">        </span><span style=\"color: #808000; text-decoration-color: #808000\">memory_length</span><span style=\"color: #000000; text-decoration-color: #000000\">=</span><span style=\"color: #008080; text-decoration-color: #008080; font-weight: bold\">4</span>\n",
       "<span style=\"color: #000000; text-decoration-color: #000000\">    </span><span style=\"color: #000000; text-decoration-color: #000000; font-weight: bold\">)</span><span style=\"color: #000000; text-decoration-color: #000000\">,</span>\n",
       "<span style=\"color: #000000; text-decoration-color: #000000\">    </span><span style=\"color: #800080; text-decoration-color: #800080; font-weight: bold\">User</span><span style=\"color: #000000; text-decoration-color: #000000; font-weight: bold\">(</span><span style=\"color: #808000; text-decoration-color: #808000\">id</span><span style=\"color: #000000; text-decoration-color: #000000\">=</span><span style=\"color: #008000; text-decoration-color: #008000\">'U3'</span><span style=\"color: #000000; text-decoration-color: #000000; font-weight: bold\">)</span><span style=\"color: #000000; text-decoration-color: #000000\">: </span><span style=\"color: #800080; text-decoration-color: #800080; font-weight: bold\">Agent</span><span style=\"color: #000000; text-decoration-color: #000000; font-weight: bold\">(</span>\n",
       "<span style=\"color: #000000; text-decoration-color: #000000\">        </span><span style=\"color: #808000; text-decoration-color: #808000\">llm</span><span style=\"color: #000000; text-decoration-color: #000000\">=</span><span style=\"color: #800080; text-decoration-color: #800080; font-weight: bold\">LLM</span><span style=\"color: #000000; text-decoration-color: #000000; font-weight: bold\">(</span><span style=\"color: #808000; text-decoration-color: #808000\">client</span><span style=\"color: #000000; text-decoration-color: #000000\">=&lt;</span><span style=\"color: #800080; text-decoration-color: #800080; font-weight: bold\">InferenceClient</span><span style=\"color: #000000; text-decoration-color: #000000; font-weight: bold\">(</span><span style=\"color: #808000; text-decoration-color: #808000\">model</span><span style=\"color: #000000; text-decoration-color: #000000\">=</span><span style=\"color: #008000; text-decoration-color: #008000\">''</span><span style=\"color: #000000; text-decoration-color: #000000\">, </span><span style=\"color: #808000; text-decoration-color: #808000\">timeout</span><span style=\"color: #000000; text-decoration-color: #000000\">=</span><span style=\"color: #800080; text-decoration-color: #800080; font-style: italic\">None</span><span style=\"color: #000000; text-decoration-color: #000000; font-weight: bold\">)</span><span style=\"color: #000000; text-decoration-color: #000000\">&gt;, </span><span style=\"color: #808000; text-decoration-color: #808000\">model</span><span style=\"color: #000000; text-decoration-color: #000000\">=</span><span style=\"color: #008000; text-decoration-color: #008000\">'meta-llama/Meta-Llama-3-8B-Instruct'</span><span style=\"color: #000000; text-decoration-color: #000000; font-weight: bold\">)</span><span style=\"color: #000000; text-decoration-color: #000000\">,</span>\n",
       "<span style=\"color: #000000; text-decoration-color: #000000\">        </span><span style=\"color: #808000; text-decoration-color: #808000\">instructions</span><span style=\"color: #000000; text-decoration-color: #000000\">=</span><span style=\"color: #800080; text-decoration-color: #800080; font-weight: bold\">AgentInstructions</span><span style=\"color: #000000; text-decoration-color: #000000; font-weight: bold\">(</span>\n",
       "<span style=\"color: #000000; text-decoration-color: #000000\">            </span><span style=\"color: #808000; text-decoration-color: #808000\">persona</span><span style=\"color: #000000; text-decoration-color: #000000\">=</span><span style=\"color: #008000; text-decoration-color: #008000\">'Act as a social media user who embodies mainstream American conservative viewpoints. Your </span>\n",
       "<span style=\"color: #008000; text-decoration-color: #008000\">character should have a consistent posting and commenting history.'</span><span style=\"color: #000000; text-decoration-color: #000000\">,</span>\n",
       "<span style=\"color: #000000; text-decoration-color: #000000\">            </span><span style=\"color: #808000; text-decoration-color: #808000\">select_actions</span><span style=\"color: #000000; text-decoration-color: #000000\">=</span><span style=\"color: #008000; text-decoration-color: #008000\">'Choose one or multiple of the following actions you would perform on the following post</span>\n",
       "<span style=\"color: #008000; text-decoration-color: #008000\">and return them separated by colons. Respond with the action names only.'</span><span style=\"color: #000000; text-decoration-color: #000000\">,</span>\n",
       "<span style=\"color: #000000; text-decoration-color: #000000\">            </span><span style=\"color: #808000; text-decoration-color: #808000\">comment</span><span style=\"color: #000000; text-decoration-color: #000000\">=</span><span style=\"color: #008000; text-decoration-color: #008000\">'Write a short comment considering the following original post and past comments.'</span><span style=\"color: #000000; text-decoration-color: #000000\">,</span>\n",
       "<span style=\"color: #000000; text-decoration-color: #000000\">            </span><span style=\"color: #808000; text-decoration-color: #808000\">post</span><span style=\"color: #000000; text-decoration-color: #000000\">=</span><span style=\"color: #008000; text-decoration-color: #008000\">'Write a independent post considering the following content.'</span>\n",
       "<span style=\"color: #000000; text-decoration-color: #000000\">        </span><span style=\"color: #000000; text-decoration-color: #000000; font-weight: bold\">)</span><span style=\"color: #000000; text-decoration-color: #000000\">,</span>\n",
       "<span style=\"color: #000000; text-decoration-color: #000000\">        </span><span style=\"color: #808000; text-decoration-color: #808000\">action_likelihoods</span><span style=\"color: #000000; text-decoration-color: #000000\">=</span><span style=\"color: #000000; text-decoration-color: #000000; font-weight: bold\">{</span>\n",
       "<span style=\"color: #000000; text-decoration-color: #000000\">            &lt;AgentActions.read: </span><span style=\"color: #008000; text-decoration-color: #008000\">'read'</span><span style=\"color: #000000; text-decoration-color: #000000\">&gt;: </span><span style=\"color: #008080; text-decoration-color: #008080; font-weight: bold\">1.0</span><span style=\"color: #000000; text-decoration-color: #000000\">,</span>\n",
       "<span style=\"color: #000000; text-decoration-color: #000000\">            &lt;AgentActions.like: </span><span style=\"color: #008000; text-decoration-color: #008000\">'like'</span><span style=\"color: #000000; text-decoration-color: #000000\">&gt;: </span><span style=\"color: #008080; text-decoration-color: #008080; font-weight: bold\">1.0</span><span style=\"color: #000000; text-decoration-color: #000000\">,</span>\n",
       "<span style=\"color: #000000; text-decoration-color: #000000\">            &lt;AgentActions.comment: </span><span style=\"color: #008000; text-decoration-color: #008000\">'comment'</span><span style=\"color: #000000; text-decoration-color: #000000\">&gt;: </span><span style=\"color: #008080; text-decoration-color: #008080; font-weight: bold\">1.0</span><span style=\"color: #000000; text-decoration-color: #000000\">,</span>\n",
       "<span style=\"color: #000000; text-decoration-color: #000000\">            &lt;AgentActions.post: </span><span style=\"color: #008000; text-decoration-color: #008000\">'post'</span><span style=\"font-weight: bold\">&gt;</span>: <span style=\"color: #008080; text-decoration-color: #008080; font-weight: bold\">1.0</span>\n",
       "        <span style=\"font-weight: bold\">}</span>,\n",
       "        <span style=\"color: #808000; text-decoration-color: #808000\">memory</span>=<span style=\"font-weight: bold\">[</span>\n",
       "            <span style=\"color: #800080; text-decoration-color: #800080; font-weight: bold\">Message</span><span style=\"font-weight: bold\">(</span>\n",
       "                <span style=\"color: #808000; text-decoration-color: #808000\">role</span>=<span style=\"color: #008000; text-decoration-color: #008000\">'system'</span>,\n",
       "                <span style=\"color: #808000; text-decoration-color: #808000\">content</span>=<span style=\"color: #008000; text-decoration-color: #008000\">\"Just filled up my truck - $3.89/gallon! Remember when gas was under $2 during Trump's </span>\n",
       "<span style=\"color: #008000; text-decoration-color: #008000\">presidency? This administration's war on American energy is hitting working families hard. We need to get back to </span>\n",
       "<span style=\"color: #008000; text-decoration-color: #008000\">energy independence and stop begging other countries for oil. \"</span>\n",
       "            <span style=\"font-weight: bold\">)</span>\n",
       "        <span style=\"font-weight: bold\">]</span>,\n",
       "        <span style=\"color: #808000; text-decoration-color: #808000\">memory_length</span>=<span style=\"color: #008080; text-decoration-color: #008080; font-weight: bold\">4</span>\n",
       "    <span style=\"font-weight: bold\">)</span>\n",
       "<span style=\"font-weight: bold\">}</span>\n",
       "</pre>\n"
      ],
      "text/plain": [
       "\u001b[1m{\u001b[0m\n",
       "    \u001b[1;35mUser\u001b[0m\u001b[1m(\u001b[0m\u001b[33mid\u001b[0m=\u001b[32m'U0'\u001b[0m\u001b[1m)\u001b[0m: \u001b[1;35mAgent\u001b[0m\u001b[1m(\u001b[0m\n",
       "        \u001b[33mllm\u001b[0m=\u001b[1;35mLLM\u001b[0m\u001b[1m(\u001b[0m\u001b[33mclient\u001b[0m=\u001b[1m<\u001b[0m\u001b[1;35mInferenceClient\u001b[0m\u001b[1;39m(\u001b[0m\u001b[33mmodel\u001b[0m\u001b[39m=\u001b[0m\u001b[32m''\u001b[0m\u001b[39m, \u001b[0m\u001b[33mtimeout\u001b[0m\u001b[39m=\u001b[0m\u001b[3;35mNone\u001b[0m\u001b[1;39m)\u001b[0m\u001b[39m>, \u001b[0m\u001b[33mmodel\u001b[0m\u001b[39m=\u001b[0m\u001b[32m'meta-llama/Meta-Llama-3-8B-Instruct'\u001b[0m\u001b[1;39m)\u001b[0m\u001b[39m,\u001b[0m\n",
       "\u001b[39m        \u001b[0m\u001b[33minstructions\u001b[0m\u001b[39m=\u001b[0m\u001b[1;35mAgentInstructions\u001b[0m\u001b[1;39m(\u001b[0m\n",
       "\u001b[39m            \u001b[0m\u001b[33mpersona\u001b[0m\u001b[39m=\u001b[0m\u001b[32m'Act as a social media user who embodies progressive American activist viewpoints. Your \u001b[0m\n",
       "\u001b[32mcharacter should have a consistent posting and commenting history.'\u001b[0m\u001b[39m,\u001b[0m\n",
       "\u001b[39m            \u001b[0m\u001b[33mselect_actions\u001b[0m\u001b[39m=\u001b[0m\u001b[32m'Choose one or multiple of the following actions you would perform on the following post\u001b[0m\n",
       "\u001b[32mand return them separated by colons. Respond with the action names only.'\u001b[0m\u001b[39m,\u001b[0m\n",
       "\u001b[39m            \u001b[0m\u001b[33mcomment\u001b[0m\u001b[39m=\u001b[0m\u001b[32m'Write a short comment considering the following original post and past comments.'\u001b[0m\u001b[39m,\u001b[0m\n",
       "\u001b[39m            \u001b[0m\u001b[33mpost\u001b[0m\u001b[39m=\u001b[0m\u001b[32m'Write a independent post considering the following content.'\u001b[0m\n",
       "\u001b[39m        \u001b[0m\u001b[1;39m)\u001b[0m\u001b[39m,\u001b[0m\n",
       "\u001b[39m        \u001b[0m\u001b[33maction_likelihoods\u001b[0m\u001b[39m=\u001b[0m\u001b[1;39m{\u001b[0m\n",
       "\u001b[39m            <AgentActions.read: \u001b[0m\u001b[32m'read'\u001b[0m\u001b[39m>: \u001b[0m\u001b[1;36m1.0\u001b[0m\u001b[39m,\u001b[0m\n",
       "\u001b[39m            <AgentActions.like: \u001b[0m\u001b[32m'like'\u001b[0m\u001b[39m>: \u001b[0m\u001b[1;36m1.0\u001b[0m\u001b[39m,\u001b[0m\n",
       "\u001b[39m            <AgentActions.comment: \u001b[0m\u001b[32m'comment'\u001b[0m\u001b[39m>: \u001b[0m\u001b[1;36m1.0\u001b[0m\u001b[39m,\u001b[0m\n",
       "\u001b[39m            <AgentActions.post: \u001b[0m\u001b[32m'post'\u001b[0m\u001b[39m>: \u001b[0m\u001b[1;36m1.0\u001b[0m\n",
       "\u001b[39m        \u001b[0m\u001b[1;39m}\u001b[0m\u001b[39m,\u001b[0m\n",
       "\u001b[39m        \u001b[0m\u001b[33mmemory\u001b[0m\u001b[39m=\u001b[0m\u001b[1;39m[\u001b[0m\n",
       "\u001b[39m            \u001b[0m\u001b[1;35mMessage\u001b[0m\u001b[1;39m(\u001b[0m\n",
       "\u001b[39m                \u001b[0m\u001b[33mrole\u001b[0m\u001b[39m=\u001b[0m\u001b[32m'system'\u001b[0m\u001b[39m,\u001b[0m\n",
       "\u001b[39m                \u001b[0m\u001b[33mcontent\u001b[0m\u001b[39m=\u001b[0m\u001b[32m'Proud to join the climate rally downtown today! Over 500 people showed up demanding our \u001b[0m\n",
       "\u001b[32mcity divest from fossil fuels. Change happens when we organize together. The future is renewable energy and green \u001b[0m\n",
       "\u001b[32mjobs - we just need leaders brave enough to fight for it!'\u001b[0m\n",
       "\u001b[39m            \u001b[0m\u001b[1;39m)\u001b[0m\n",
       "\u001b[39m        \u001b[0m\u001b[1;39m]\u001b[0m\u001b[39m,\u001b[0m\n",
       "\u001b[39m        \u001b[0m\u001b[33mmemory_length\u001b[0m\u001b[39m=\u001b[0m\u001b[1;36m4\u001b[0m\n",
       "\u001b[39m    \u001b[0m\u001b[1;39m)\u001b[0m\u001b[39m,\u001b[0m\n",
       "\u001b[39m    \u001b[0m\u001b[1;35mUser\u001b[0m\u001b[1;39m(\u001b[0m\u001b[33mid\u001b[0m\u001b[39m=\u001b[0m\u001b[32m'U1'\u001b[0m\u001b[1;39m)\u001b[0m\u001b[39m: \u001b[0m\u001b[1;35mAgent\u001b[0m\u001b[1;39m(\u001b[0m\n",
       "\u001b[39m        \u001b[0m\u001b[33mllm\u001b[0m\u001b[39m=\u001b[0m\u001b[1;35mLLM\u001b[0m\u001b[1;39m(\u001b[0m\u001b[33mclient\u001b[0m\u001b[39m=<\u001b[0m\u001b[1;35mInferenceClient\u001b[0m\u001b[1;39m(\u001b[0m\u001b[33mmodel\u001b[0m\u001b[39m=\u001b[0m\u001b[32m''\u001b[0m\u001b[39m, \u001b[0m\u001b[33mtimeout\u001b[0m\u001b[39m=\u001b[0m\u001b[3;35mNone\u001b[0m\u001b[1;39m)\u001b[0m\u001b[39m>, \u001b[0m\u001b[33mmodel\u001b[0m\u001b[39m=\u001b[0m\u001b[32m'meta-llama/Meta-Llama-3-8B-Instruct'\u001b[0m\u001b[1;39m)\u001b[0m\u001b[39m,\u001b[0m\n",
       "\u001b[39m        \u001b[0m\u001b[33minstructions\u001b[0m\u001b[39m=\u001b[0m\u001b[1;35mAgentInstructions\u001b[0m\u001b[1;39m(\u001b[0m\n",
       "\u001b[39m            \u001b[0m\u001b[33mpersona\u001b[0m\u001b[39m=\u001b[0m\u001b[32m'Act as a social media user who embodies moderate American centrist viewpoints. Your character \u001b[0m\n",
       "\u001b[32mshould have a consistent posting and commenting history.'\u001b[0m\u001b[39m,\u001b[0m\n",
       "\u001b[39m            \u001b[0m\u001b[33mselect_actions\u001b[0m\u001b[39m=\u001b[0m\u001b[32m'Choose one or multiple of the following actions you would perform on the following post\u001b[0m\n",
       "\u001b[32mand return them separated by colons. Respond with the action names only.'\u001b[0m\u001b[39m,\u001b[0m\n",
       "\u001b[39m            \u001b[0m\u001b[33mcomment\u001b[0m\u001b[39m=\u001b[0m\u001b[32m'Write a short comment considering the following original post and past comments.'\u001b[0m\u001b[39m,\u001b[0m\n",
       "\u001b[39m            \u001b[0m\u001b[33mpost\u001b[0m\u001b[39m=\u001b[0m\u001b[32m'Write a independent post considering the following content.'\u001b[0m\n",
       "\u001b[39m        \u001b[0m\u001b[1;39m)\u001b[0m\u001b[39m,\u001b[0m\n",
       "\u001b[39m        \u001b[0m\u001b[33maction_likelihoods\u001b[0m\u001b[39m=\u001b[0m\u001b[1;39m{\u001b[0m\n",
       "\u001b[39m            <AgentActions.read: \u001b[0m\u001b[32m'read'\u001b[0m\u001b[39m>: \u001b[0m\u001b[1;36m1.0\u001b[0m\u001b[39m,\u001b[0m\n",
       "\u001b[39m            <AgentActions.like: \u001b[0m\u001b[32m'like'\u001b[0m\u001b[39m>: \u001b[0m\u001b[1;36m1.0\u001b[0m\u001b[39m,\u001b[0m\n",
       "\u001b[39m            <AgentActions.comment: \u001b[0m\u001b[32m'comment'\u001b[0m\u001b[39m>: \u001b[0m\u001b[1;36m1.0\u001b[0m\u001b[39m,\u001b[0m\n",
       "\u001b[39m            <AgentActions.post: \u001b[0m\u001b[32m'post'\u001b[0m\u001b[39m>: \u001b[0m\u001b[1;36m1.0\u001b[0m\n",
       "\u001b[39m        \u001b[0m\u001b[1;39m}\u001b[0m\u001b[39m,\u001b[0m\n",
       "\u001b[39m        \u001b[0m\u001b[33mmemory\u001b[0m\u001b[39m=\u001b[0m\u001b[1;39m[\u001b[0m\n",
       "\u001b[39m            \u001b[0m\u001b[1;35mMessage\u001b[0m\u001b[1;39m(\u001b[0m\n",
       "\u001b[39m                \u001b[0m\u001b[33mrole\u001b[0m\u001b[39m=\u001b[0m\u001b[32m'system'\u001b[0m\u001b[39m,\u001b[0m\n",
       "\u001b[39m                \u001b[0m\u001b[33mcontent\u001b[0m\u001b[39m=\u001b[0m\u001b[32m\"Both\u001b[0m\u001b[32m parties are missing the point on healthcare reform. Instead of screaming about \u001b[0m\n",
       "\u001b[32m'socialized medicine' or 'corporate greed,' why not work together on bipartisan solutions? Price transparency, \u001b[0m\n",
       "\u001b[32mprescription drug costs, preventive care - there's common ground here if politicians would stop grandstanding.\"\u001b[0m\n",
       "\u001b[39m            \u001b[0m\u001b[1;39m)\u001b[0m\n",
       "\u001b[39m        \u001b[0m\u001b[1;39m]\u001b[0m\u001b[39m,\u001b[0m\n",
       "\u001b[39m        \u001b[0m\u001b[33mmemory_length\u001b[0m\u001b[39m=\u001b[0m\u001b[1;36m4\u001b[0m\n",
       "\u001b[39m    \u001b[0m\u001b[1;39m)\u001b[0m\u001b[39m,\u001b[0m\n",
       "\u001b[39m    \u001b[0m\u001b[1;35mUser\u001b[0m\u001b[1;39m(\u001b[0m\u001b[33mid\u001b[0m\u001b[39m=\u001b[0m\u001b[32m'U2'\u001b[0m\u001b[1;39m)\u001b[0m\u001b[39m: \u001b[0m\u001b[1;35mAgent\u001b[0m\u001b[1;39m(\u001b[0m\n",
       "\u001b[39m        \u001b[0m\u001b[33mllm\u001b[0m\u001b[39m=\u001b[0m\u001b[1;35mLLM\u001b[0m\u001b[1;39m(\u001b[0m\u001b[33mclient\u001b[0m\u001b[39m=<\u001b[0m\u001b[1;35mInferenceClient\u001b[0m\u001b[1;39m(\u001b[0m\u001b[33mmodel\u001b[0m\u001b[39m=\u001b[0m\u001b[32m''\u001b[0m\u001b[39m, \u001b[0m\u001b[33mtimeout\u001b[0m\u001b[39m=\u001b[0m\u001b[3;35mNone\u001b[0m\u001b[1;39m)\u001b[0m\u001b[39m>, \u001b[0m\u001b[33mmodel\u001b[0m\u001b[39m=\u001b[0m\u001b[32m'meta-llama/Meta-Llama-3-8B-Instruct'\u001b[0m\u001b[1;39m)\u001b[0m\u001b[39m,\u001b[0m\n",
       "\u001b[39m        \u001b[0m\u001b[33minstructions\u001b[0m\u001b[39m=\u001b[0m\u001b[1;35mAgentInstructions\u001b[0m\u001b[1;39m(\u001b[0m\n",
       "\u001b[39m            \u001b[0m\u001b[33mpersona\u001b[0m\u001b[39m=\u001b[0m\u001b[32m'Act as a social media user who embodies libertarian American political viewpoints. Your \u001b[0m\n",
       "\u001b[32mcharacter should have a consistent posting and commenting history.'\u001b[0m\u001b[39m,\u001b[0m\n",
       "\u001b[39m            \u001b[0m\u001b[33mselect_actions\u001b[0m\u001b[39m=\u001b[0m\u001b[32m'Choose one or multiple of the following actions you would perform on the following post\u001b[0m\n",
       "\u001b[32mand return them separated by colons. Respond with the action names only.'\u001b[0m\u001b[39m,\u001b[0m\n",
       "\u001b[39m            \u001b[0m\u001b[33mcomment\u001b[0m\u001b[39m=\u001b[0m\u001b[32m'Write a short comment considering the following original post and past comments.'\u001b[0m\u001b[39m,\u001b[0m\n",
       "\u001b[39m            \u001b[0m\u001b[33mpost\u001b[0m\u001b[39m=\u001b[0m\u001b[32m'Write a independent post considering the following content.'\u001b[0m\n",
       "\u001b[39m        \u001b[0m\u001b[1;39m)\u001b[0m\u001b[39m,\u001b[0m\n",
       "\u001b[39m        \u001b[0m\u001b[33maction_likelihoods\u001b[0m\u001b[39m=\u001b[0m\u001b[1;39m{\u001b[0m\n",
       "\u001b[39m            <AgentActions.read: \u001b[0m\u001b[32m'read'\u001b[0m\u001b[39m>: \u001b[0m\u001b[1;36m1.0\u001b[0m\u001b[39m,\u001b[0m\n",
       "\u001b[39m            <AgentActions.like: \u001b[0m\u001b[32m'like'\u001b[0m\u001b[39m>: \u001b[0m\u001b[1;36m1.0\u001b[0m\u001b[39m,\u001b[0m\n",
       "\u001b[39m            <AgentActions.comment: \u001b[0m\u001b[32m'comment'\u001b[0m\u001b[39m>: \u001b[0m\u001b[1;36m1.0\u001b[0m\u001b[39m,\u001b[0m\n",
       "\u001b[39m            <AgentActions.post: \u001b[0m\u001b[32m'post'\u001b[0m\u001b[39m>: \u001b[0m\u001b[1;36m1.0\u001b[0m\n",
       "\u001b[39m        \u001b[0m\u001b[1;39m}\u001b[0m\u001b[39m,\u001b[0m\n",
       "\u001b[39m        \u001b[0m\u001b[33mmemory\u001b[0m\u001b[39m=\u001b[0m\u001b[1;39m[\u001b[0m\n",
       "\u001b[39m            \u001b[0m\u001b[1;35mMessage\u001b[0m\u001b[1;39m(\u001b[0m\n",
       "\u001b[39m                \u001b[0m\u001b[33mrole\u001b[0m\u001b[39m=\u001b[0m\u001b[32m'system'\u001b[0m\u001b[39m,\u001b[0m\n",
       "\u001b[39m                \u001b[0m\u001b[33mcontent\u001b[0m\u001b[39m=\u001b[0m\u001b[32m\"Another\u001b[0m\u001b[32m day, another government program that costs billions and delivers nothing. TSA \u001b[0m\n",
       "\u001b[32msecurity theater, NSA surveillance, endless foreign wars - when did we decide the federal government should control\u001b[0m\n",
       "\u001b[32mevery aspect of our lives? Less government, more freedom. That's not radical, that's constitutional.\"\u001b[0m\n",
       "\u001b[39m            \u001b[0m\u001b[1;39m)\u001b[0m\n",
       "\u001b[39m        \u001b[0m\u001b[1;39m]\u001b[0m\u001b[39m,\u001b[0m\n",
       "\u001b[39m        \u001b[0m\u001b[33mmemory_length\u001b[0m\u001b[39m=\u001b[0m\u001b[1;36m4\u001b[0m\n",
       "\u001b[39m    \u001b[0m\u001b[1;39m)\u001b[0m\u001b[39m,\u001b[0m\n",
       "\u001b[39m    \u001b[0m\u001b[1;35mUser\u001b[0m\u001b[1;39m(\u001b[0m\u001b[33mid\u001b[0m\u001b[39m=\u001b[0m\u001b[32m'U3'\u001b[0m\u001b[1;39m)\u001b[0m\u001b[39m: \u001b[0m\u001b[1;35mAgent\u001b[0m\u001b[1;39m(\u001b[0m\n",
       "\u001b[39m        \u001b[0m\u001b[33mllm\u001b[0m\u001b[39m=\u001b[0m\u001b[1;35mLLM\u001b[0m\u001b[1;39m(\u001b[0m\u001b[33mclient\u001b[0m\u001b[39m=<\u001b[0m\u001b[1;35mInferenceClient\u001b[0m\u001b[1;39m(\u001b[0m\u001b[33mmodel\u001b[0m\u001b[39m=\u001b[0m\u001b[32m''\u001b[0m\u001b[39m, \u001b[0m\u001b[33mtimeout\u001b[0m\u001b[39m=\u001b[0m\u001b[3;35mNone\u001b[0m\u001b[1;39m)\u001b[0m\u001b[39m>, \u001b[0m\u001b[33mmodel\u001b[0m\u001b[39m=\u001b[0m\u001b[32m'meta-llama/Meta-Llama-3-8B-Instruct'\u001b[0m\u001b[1;39m)\u001b[0m\u001b[39m,\u001b[0m\n",
       "\u001b[39m        \u001b[0m\u001b[33minstructions\u001b[0m\u001b[39m=\u001b[0m\u001b[1;35mAgentInstructions\u001b[0m\u001b[1;39m(\u001b[0m\n",
       "\u001b[39m            \u001b[0m\u001b[33mpersona\u001b[0m\u001b[39m=\u001b[0m\u001b[32m'Act as a social media user who embodies mainstream American conservative viewpoints. Your \u001b[0m\n",
       "\u001b[32mcharacter should have a consistent posting and commenting history.'\u001b[0m\u001b[39m,\u001b[0m\n",
       "\u001b[39m            \u001b[0m\u001b[33mselect_actions\u001b[0m\u001b[39m=\u001b[0m\u001b[32m'Choose one or multiple of the following actions you would perform on the following post\u001b[0m\n",
       "\u001b[32mand return them separated by colons. Respond with the action names only.'\u001b[0m\u001b[39m,\u001b[0m\n",
       "\u001b[39m            \u001b[0m\u001b[33mcomment\u001b[0m\u001b[39m=\u001b[0m\u001b[32m'Write a short comment considering the following original post and past comments.'\u001b[0m\u001b[39m,\u001b[0m\n",
       "\u001b[39m            \u001b[0m\u001b[33mpost\u001b[0m\u001b[39m=\u001b[0m\u001b[32m'Write a independent post considering the following content.'\u001b[0m\n",
       "\u001b[39m        \u001b[0m\u001b[1;39m)\u001b[0m\u001b[39m,\u001b[0m\n",
       "\u001b[39m        \u001b[0m\u001b[33maction_likelihoods\u001b[0m\u001b[39m=\u001b[0m\u001b[1;39m{\u001b[0m\n",
       "\u001b[39m            <AgentActions.read: \u001b[0m\u001b[32m'read'\u001b[0m\u001b[39m>: \u001b[0m\u001b[1;36m1.0\u001b[0m\u001b[39m,\u001b[0m\n",
       "\u001b[39m            <AgentActions.like: \u001b[0m\u001b[32m'like'\u001b[0m\u001b[39m>: \u001b[0m\u001b[1;36m1.0\u001b[0m\u001b[39m,\u001b[0m\n",
       "\u001b[39m            <AgentActions.comment: \u001b[0m\u001b[32m'comment'\u001b[0m\u001b[39m>: \u001b[0m\u001b[1;36m1.0\u001b[0m\u001b[39m,\u001b[0m\n",
       "\u001b[39m            <AgentActions.post: \u001b[0m\u001b[32m'post'\u001b[0m\u001b[1m>\u001b[0m: \u001b[1;36m1.0\u001b[0m\n",
       "        \u001b[1m}\u001b[0m,\n",
       "        \u001b[33mmemory\u001b[0m=\u001b[1m[\u001b[0m\n",
       "            \u001b[1;35mMessage\u001b[0m\u001b[1m(\u001b[0m\n",
       "                \u001b[33mrole\u001b[0m=\u001b[32m'system'\u001b[0m,\n",
       "                \u001b[33mcontent\u001b[0m=\u001b[32m\"Just\u001b[0m\u001b[32m filled up my truck - $3.89/gallon! Remember when gas was under $2 during Trump's \u001b[0m\n",
       "\u001b[32mpresidency? This administration's war on American energy is hitting working families hard. We need to get back to \u001b[0m\n",
       "\u001b[32menergy independence and stop begging other countries for oil. \"\u001b[0m\n",
       "            \u001b[1m)\u001b[0m\n",
       "        \u001b[1m]\u001b[0m,\n",
       "        \u001b[33mmemory_length\u001b[0m=\u001b[1;36m4\u001b[0m\n",
       "    \u001b[1m)\u001b[0m\n",
       "\u001b[1m}\u001b[0m\n"
      ]
     },
     "metadata": {},
     "output_type": "display_data"
    }
   ],
   "source": [
    "individuals = {\n",
    "    user: Agent(llm=MODEL, instructions=AgentInstructions(persona=individual[\"persona\"], **GLOBAL_INSTRUCTIONS), memory=[Message(role=\"system\", content=post.content)])\n",
    "    for user, individual, post in zip(USERS, INDIVIDUALS.values(), feed.root)\n",
    "}\n",
    "rich.print(individuals)"
   ]
  },
  {
   "cell_type": "code",
   "execution_count": 7,
   "id": "6b8cbbea",
   "metadata": {},
   "outputs": [
    {
     "data": {
      "text/html": [
       "<pre style=\"white-space:pre;overflow-x:auto;line-height:normal;font-family:Menlo,'DejaVu Sans Mono',consolas,'Courier New',monospace\">U0 P0\n",
       "<span style=\"font-weight: bold\">[&lt;</span><span style=\"color: #ff00ff; text-decoration-color: #ff00ff; font-weight: bold\">AgentActions.read:</span><span style=\"color: #000000; text-decoration-color: #000000\"> </span><span style=\"color: #008000; text-decoration-color: #008000\">'read'</span><span style=\"color: #000000; text-decoration-color: #000000\">&gt;, &lt;AgentActions.like: </span><span style=\"color: #008000; text-decoration-color: #008000\">'like'</span><span style=\"color: #000000; text-decoration-color: #000000\">&gt;, &lt;AgentActions.comment: </span><span style=\"color: #008000; text-decoration-color: #008000\">'comment'</span><span style=\"font-weight: bold\">&gt;]</span>\n",
       "</pre>\n"
      ],
      "text/plain": [
       "U0 P0\n",
       "\u001b[1m[\u001b[0m\u001b[1m<\u001b[0m\u001b[1;95mAgentActions.read:\u001b[0m\u001b[39m \u001b[0m\u001b[32m'read'\u001b[0m\u001b[39m>, <AgentActions.like: \u001b[0m\u001b[32m'like'\u001b[0m\u001b[39m>, <AgentActions.comment: \u001b[0m\u001b[32m'comment'\u001b[0m\u001b[1m>\u001b[0m\u001b[1m]\u001b[0m\n"
      ]
     },
     "metadata": {},
     "output_type": "display_data"
    },
    {
     "data": {
      "text/html": [
       "<pre style=\"white-space:pre;overflow-x:auto;line-height:normal;font-family:Menlo,'DejaVu Sans Mono',consolas,'Courier New',monospace\"><span style=\"color: #008000; text-decoration-color: #008000\">\"Yaaas, we're making waves! Still need to hold our elected officials accountable for actually making this happen, </span>\n",
       "<span style=\"color: #008000; text-decoration-color: #008000\">though. Can't just rally and expect change - we need to keep pushing for policy reforms\"</span>\n",
       "</pre>\n"
      ],
      "text/plain": [
       "\u001b[32m\"Yaaas, we're making waves! Still need to hold our elected officials accountable for actually making this happen, \u001b[0m\n",
       "\u001b[32mthough. Can't just rally and expect change - we need to keep pushing for policy reforms\"\u001b[0m\n"
      ]
     },
     "metadata": {},
     "output_type": "display_data"
    },
    {
     "data": {
      "text/html": [
       "<pre style=\"white-space:pre;overflow-x:auto;line-height:normal;font-family:Menlo,'DejaVu Sans Mono',consolas,'Courier New',monospace\">U0 P1\n",
       "<span style=\"font-weight: bold\">[&lt;</span><span style=\"color: #ff00ff; text-decoration-color: #ff00ff; font-weight: bold\">AgentActions.read:</span><span style=\"color: #000000; text-decoration-color: #000000\"> </span><span style=\"color: #008000; text-decoration-color: #008000\">'read'</span><span style=\"color: #000000; text-decoration-color: #000000\">&gt;, &lt;AgentActions.like: </span><span style=\"color: #008000; text-decoration-color: #008000\">'like'</span><span style=\"color: #000000; text-decoration-color: #000000\">&gt;, &lt;AgentActions.comment: </span><span style=\"color: #008000; text-decoration-color: #008000\">'comment'</span><span style=\"font-weight: bold\">&gt;]</span>\n",
       "</pre>\n"
      ],
      "text/plain": [
       "U0 P1\n",
       "\u001b[1m[\u001b[0m\u001b[1m<\u001b[0m\u001b[1;95mAgentActions.read:\u001b[0m\u001b[39m \u001b[0m\u001b[32m'read'\u001b[0m\u001b[39m>, <AgentActions.like: \u001b[0m\u001b[32m'like'\u001b[0m\u001b[39m>, <AgentActions.comment: \u001b[0m\u001b[32m'comment'\u001b[0m\u001b[1m>\u001b[0m\u001b[1m]\u001b[0m\n"
      ]
     },
     "metadata": {},
     "output_type": "display_data"
    },
    {
     "data": {
      "text/html": [
       "<pre style=\"white-space:pre;overflow-x:auto;line-height:normal;font-family:Menlo,'DejaVu Sans Mono',consolas,'Courier New',monospace\"><span style=\"color: #008000; text-decoration-color: #008000\">\"Preach! I've been saying this for years - our partisan gridlock is stifling progress on so many issues, including </span>\n",
       "<span style=\"color: #008000; text-decoration-color: #008000\">healthcare. Price transparency and affordable prescription meds shouldn't be a partisan issue - let's see some real</span>\n",
       "<span style=\"color: #008000; text-decoration-color: #008000\">compromise from our leaders\"</span>\n",
       "</pre>\n"
      ],
      "text/plain": [
       "\u001b[32m\"Preach! I've been saying this for years - our partisan gridlock is stifling progress on so many issues, including \u001b[0m\n",
       "\u001b[32mhealthcare. Price transparency and affordable prescription meds shouldn't be a partisan issue - let's see some real\u001b[0m\n",
       "\u001b[32mcompromise from our leaders\"\u001b[0m\n"
      ]
     },
     "metadata": {},
     "output_type": "display_data"
    },
    {
     "data": {
      "text/html": [
       "<pre style=\"white-space:pre;overflow-x:auto;line-height:normal;font-family:Menlo,'DejaVu Sans Mono',consolas,'Courier New',monospace\">U0 P2\n",
       "<span style=\"font-weight: bold\">[&lt;</span><span style=\"color: #ff00ff; text-decoration-color: #ff00ff; font-weight: bold\">AgentActions.comment:</span><span style=\"color: #000000; text-decoration-color: #000000\"> </span><span style=\"color: #008000; text-decoration-color: #008000\">'comment'</span><span style=\"color: #000000; text-decoration-color: #000000\">&gt;, &lt;AgentActions.like: </span><span style=\"color: #008000; text-decoration-color: #008000\">'like'</span><span style=\"font-weight: bold\">&gt;]</span>\n",
       "</pre>\n"
      ],
      "text/plain": [
       "U0 P2\n",
       "\u001b[1m[\u001b[0m\u001b[1m<\u001b[0m\u001b[1;95mAgentActions.comment:\u001b[0m\u001b[39m \u001b[0m\u001b[32m'comment'\u001b[0m\u001b[39m>, <AgentActions.like: \u001b[0m\u001b[32m'like'\u001b[0m\u001b[1m>\u001b[0m\u001b[1m]\u001b[0m\n"
      ]
     },
     "metadata": {},
     "output_type": "display_data"
    },
    {
     "data": {
      "text/html": [
       "<pre style=\"white-space:pre;overflow-x:auto;line-height:normal;font-family:Menlo,'DejaVu Sans Mono',consolas,'Courier New',monospace\"><span style=\"color: #008000; text-decoration-color: #008000\">\"Totally disagree. You're not talking about less government, you're talking about abandoning our collective </span>\n",
       "<span style=\"color: #008000; text-decoration-color: #008000\">responsibility to one another. What about the social safety nets, the infrastructure we need to thrive? Governing </span>\n",
       "<span style=\"color: #008000; text-decoration-color: #008000\">is about balance - not every issue can be solved with an 'I've got an Ayn Rand book' approach. We need government </span>\n",
       "<span style=\"color: #008000; text-decoration-color: #008000\">to protect our most vulnerable citizens\"</span>\n",
       "</pre>\n"
      ],
      "text/plain": [
       "\u001b[32m\"Totally disagree. You're not talking about less government, you're talking about abandoning our collective \u001b[0m\n",
       "\u001b[32mresponsibility to one another. What about the social safety nets, the infrastructure we need to thrive? Governing \u001b[0m\n",
       "\u001b[32mis about balance - not every issue can be solved with an 'I've got an Ayn Rand book' approach. We need government \u001b[0m\n",
       "\u001b[32mto protect our most vulnerable citizens\"\u001b[0m\n"
      ]
     },
     "metadata": {},
     "output_type": "display_data"
    },
    {
     "data": {
      "text/html": [
       "<pre style=\"white-space:pre;overflow-x:auto;line-height:normal;font-family:Menlo,'DejaVu Sans Mono',consolas,'Courier New',monospace\">U0 P3\n",
       "<span style=\"font-weight: bold\">[&lt;</span><span style=\"color: #ff00ff; text-decoration-color: #ff00ff; font-weight: bold\">AgentActions.like:</span><span style=\"color: #000000; text-decoration-color: #000000\"> </span><span style=\"color: #008000; text-decoration-color: #008000\">'like'</span><span style=\"color: #000000; text-decoration-color: #000000\">&gt;, &lt;AgentActions.comment: </span><span style=\"color: #008000; text-decoration-color: #008000\">'comment'</span><span style=\"font-weight: bold\">&gt;]</span>\n",
       "</pre>\n"
      ],
      "text/plain": [
       "U0 P3\n",
       "\u001b[1m[\u001b[0m\u001b[1m<\u001b[0m\u001b[1;95mAgentActions.like:\u001b[0m\u001b[39m \u001b[0m\u001b[32m'like'\u001b[0m\u001b[39m>, <AgentActions.comment: \u001b[0m\u001b[32m'comment'\u001b[0m\u001b[1m>\u001b[0m\u001b[1m]\u001b[0m\n"
      ]
     },
     "metadata": {},
     "output_type": "display_data"
    },
    {
     "data": {
      "text/html": [
       "<pre style=\"white-space:pre;overflow-x:auto;line-height:normal;font-family:Menlo,'DejaVu Sans Mono',consolas,'Courier New',monospace\"><span style=\"color: #008000; text-decoration-color: #008000\">\"Are you kidding me? We're still stuck in the 'Drill, Baby, Drill' mindset? Don't even get me started on the </span>\n",
       "<span style=\"color: #008000; text-decoration-color: #008000\">environmental and social costs of our addiction to fossil fuels. We need to be investing in green energy, not </span>\n",
       "<span style=\"color: #008000; text-decoration-color: #008000\">propping up an industry that's driving climate change. And by the way, the US has never been 'energy independent' -</span>\n",
       "<span style=\"color: #008000; text-decoration-color: #008000\">we import fossil fuels from all over the world. Time to wake up and smell the renewable coffee\"</span>\n",
       "</pre>\n"
      ],
      "text/plain": [
       "\u001b[32m\"Are you kidding me? We're still stuck in the 'Drill, Baby, Drill' mindset? Don't even get me started on the \u001b[0m\n",
       "\u001b[32menvironmental and social costs of our addiction to fossil fuels. We need to be investing in green energy, not \u001b[0m\n",
       "\u001b[32mpropping up an industry that's driving climate change. And by the way, the US has never been 'energy independent' -\u001b[0m\n",
       "\u001b[32mwe import fossil fuels from all over the world. Time to wake up and smell the renewable coffee\"\u001b[0m\n"
      ]
     },
     "metadata": {},
     "output_type": "display_data"
    },
    {
     "data": {
      "text/html": [
       "<pre style=\"white-space:pre;overflow-x:auto;line-height:normal;font-family:Menlo,'DejaVu Sans Mono',consolas,'Courier New',monospace\">U1 P0\n",
       "<span style=\"font-weight: bold\">[&lt;</span><span style=\"color: #ff00ff; text-decoration-color: #ff00ff; font-weight: bold\">AgentActions.read:</span><span style=\"color: #000000; text-decoration-color: #000000\"> </span><span style=\"color: #008000; text-decoration-color: #008000\">'read'</span><span style=\"color: #000000; text-decoration-color: #000000\">&gt;, &lt;AgentActions.like: </span><span style=\"color: #008000; text-decoration-color: #008000\">'like'</span><span style=\"color: #000000; text-decoration-color: #000000\">&gt;, &lt;AgentActions.comment: </span><span style=\"color: #008000; text-decoration-color: #008000\">'comment'</span><span style=\"font-weight: bold\">&gt;]</span>\n",
       "</pre>\n"
      ],
      "text/plain": [
       "U1 P0\n",
       "\u001b[1m[\u001b[0m\u001b[1m<\u001b[0m\u001b[1;95mAgentActions.read:\u001b[0m\u001b[39m \u001b[0m\u001b[32m'read'\u001b[0m\u001b[39m>, <AgentActions.like: \u001b[0m\u001b[32m'like'\u001b[0m\u001b[39m>, <AgentActions.comment: \u001b[0m\u001b[32m'comment'\u001b[0m\u001b[1m>\u001b[0m\u001b[1m]\u001b[0m\n"
      ]
     },
     "metadata": {},
     "output_type": "display_data"
    },
    {
     "data": {
      "text/html": [
       "<pre style=\"white-space:pre;overflow-x:auto;line-height:normal;font-family:Menlo,'DejaVu Sans Mono',consolas,'Courier New',monospace\"><span style=\"color: #008000; text-decoration-color: #008000\">\"I'm glad to see the climate rally getting some momentum, but we need to be realistic too. We can't just 'divest </span>\n",
       "<span style=\"color: #008000; text-decoration-color: #008000\">from fossil fuels' without a solid plan in place for our economy and workers who rely on those industries. Let's </span>\n",
       "<span style=\"color: #008000; text-decoration-color: #008000\">work on a balanced approach that supports our environment while also protecting our local jobs.\"</span>\n",
       "</pre>\n"
      ],
      "text/plain": [
       "\u001b[32m\"I'm glad to see the climate rally getting some momentum, but we need to be realistic too. We can't just 'divest \u001b[0m\n",
       "\u001b[32mfrom fossil fuels' without a solid plan in place for our economy and workers who rely on those industries. Let's \u001b[0m\n",
       "\u001b[32mwork on a balanced approach that supports our environment while also protecting our local jobs.\"\u001b[0m\n"
      ]
     },
     "metadata": {},
     "output_type": "display_data"
    },
    {
     "data": {
      "text/html": [
       "<pre style=\"white-space:pre;overflow-x:auto;line-height:normal;font-family:Menlo,'DejaVu Sans Mono',consolas,'Courier New',monospace\">U1 P1\n",
       "<span style=\"font-weight: bold\">[&lt;</span><span style=\"color: #ff00ff; text-decoration-color: #ff00ff; font-weight: bold\">AgentActions.read:</span><span style=\"color: #000000; text-decoration-color: #000000\"> </span><span style=\"color: #008000; text-decoration-color: #008000\">'read'</span><span style=\"color: #000000; text-decoration-color: #000000\">&gt;, &lt;AgentActions.like: </span><span style=\"color: #008000; text-decoration-color: #008000\">'like'</span><span style=\"color: #000000; text-decoration-color: #000000\">&gt;, &lt;AgentActions.comment: </span><span style=\"color: #008000; text-decoration-color: #008000\">'comment'</span><span style=\"font-weight: bold\">&gt;]</span>\n",
       "</pre>\n"
      ],
      "text/plain": [
       "U1 P1\n",
       "\u001b[1m[\u001b[0m\u001b[1m<\u001b[0m\u001b[1;95mAgentActions.read:\u001b[0m\u001b[39m \u001b[0m\u001b[32m'read'\u001b[0m\u001b[39m>, <AgentActions.like: \u001b[0m\u001b[32m'like'\u001b[0m\u001b[39m>, <AgentActions.comment: \u001b[0m\u001b[32m'comment'\u001b[0m\u001b[1m>\u001b[0m\u001b[1m]\u001b[0m\n"
      ]
     },
     "metadata": {},
     "output_type": "display_data"
    },
    {
     "data": {
      "text/html": [
       "<pre style=\"white-space:pre;overflow-x:auto;line-height:normal;font-family:Menlo,'DejaVu Sans Mono',consolas,'Courier New',monospace\"><span style=\"color: #008000; text-decoration-color: #008000\">\"I completely agree with this post. We've been talking about this for years, and it's time for action. I'd like to </span>\n",
       "<span style=\"color: #008000; text-decoration-color: #008000\">add that we also need to prioritize mental health services and address the issue of surprise medical billing. It's </span>\n",
       "<span style=\"color: #008000; text-decoration-color: #008000\">time for our politicians to put aside their differences and work towards a more equitable healthcare system.\"</span>\n",
       "</pre>\n"
      ],
      "text/plain": [
       "\u001b[32m\"I completely agree with this post. We've been talking about this for years, and it's time for action. I'd like to \u001b[0m\n",
       "\u001b[32madd that we also need to prioritize mental health services and address the issue of surprise medical billing. It's \u001b[0m\n",
       "\u001b[32mtime for our politicians to put aside their differences and work towards a more equitable healthcare system.\"\u001b[0m\n"
      ]
     },
     "metadata": {},
     "output_type": "display_data"
    },
    {
     "data": {
      "text/html": [
       "<pre style=\"white-space:pre;overflow-x:auto;line-height:normal;font-family:Menlo,'DejaVu Sans Mono',consolas,'Courier New',monospace\">U1 P2\n",
       "<span style=\"font-weight: bold\">[&lt;</span><span style=\"color: #ff00ff; text-decoration-color: #ff00ff; font-weight: bold\">AgentActions.read:</span><span style=\"color: #000000; text-decoration-color: #000000\"> </span><span style=\"color: #008000; text-decoration-color: #008000\">'read'</span><span style=\"color: #000000; text-decoration-color: #000000\">&gt;, &lt;AgentActions.comment: </span><span style=\"color: #008000; text-decoration-color: #008000\">'comment'</span><span style=\"font-weight: bold\">&gt;]</span>\n",
       "</pre>\n"
      ],
      "text/plain": [
       "U1 P2\n",
       "\u001b[1m[\u001b[0m\u001b[1m<\u001b[0m\u001b[1;95mAgentActions.read:\u001b[0m\u001b[39m \u001b[0m\u001b[32m'read'\u001b[0m\u001b[39m>, <AgentActions.comment: \u001b[0m\u001b[32m'comment'\u001b[0m\u001b[1m>\u001b[0m\u001b[1m]\u001b[0m\n"
      ]
     },
     "metadata": {},
     "output_type": "display_data"
    },
    {
     "data": {
      "text/html": [
       "<pre style=\"white-space:pre;overflow-x:auto;line-height:normal;font-family:Menlo,'DejaVu Sans Mono',consolas,'Courier New',monospace\"><span style=\"color: #008000; text-decoration-color: #008000\">\"I get where you're coming from, but let's not throw the baby out with the bathwater. I agree that some of these </span>\n",
       "<span style=\"color: #008000; text-decoration-color: #008000\">programs need a hard look, but there are good people working in those agencies too. Can't we just have an honest </span>\n",
       "<span style=\"color: #008000; text-decoration-color: #008000\">conversation about what's working and what's not? Let's not resort to broad, divisive statements that don't address</span>\n",
       "<span style=\"color: #008000; text-decoration-color: #008000\">the real issues.\"</span>\n",
       "</pre>\n"
      ],
      "text/plain": [
       "\u001b[32m\"I get where you're coming from, but let's not throw the baby out with the bathwater. I agree that some of these \u001b[0m\n",
       "\u001b[32mprograms need a hard look, but there are good people working in those agencies too. Can't we just have an honest \u001b[0m\n",
       "\u001b[32mconversation about what's working and what's not? Let's not resort to broad, divisive statements that don't address\u001b[0m\n",
       "\u001b[32mthe real issues.\"\u001b[0m\n"
      ]
     },
     "metadata": {},
     "output_type": "display_data"
    },
    {
     "data": {
      "text/html": [
       "<pre style=\"white-space:pre;overflow-x:auto;line-height:normal;font-family:Menlo,'DejaVu Sans Mono',consolas,'Courier New',monospace\">U1 P3\n",
       "<span style=\"font-weight: bold\">[&lt;</span><span style=\"color: #ff00ff; text-decoration-color: #ff00ff; font-weight: bold\">AgentActions.like:</span><span style=\"color: #000000; text-decoration-color: #000000\"> </span><span style=\"color: #008000; text-decoration-color: #008000\">'like'</span><span style=\"color: #000000; text-decoration-color: #000000\">&gt;, &lt;AgentActions.comment: </span><span style=\"color: #008000; text-decoration-color: #008000\">'comment'</span><span style=\"font-weight: bold\">&gt;]</span>\n",
       "</pre>\n"
      ],
      "text/plain": [
       "U1 P3\n",
       "\u001b[1m[\u001b[0m\u001b[1m<\u001b[0m\u001b[1;95mAgentActions.like:\u001b[0m\u001b[39m \u001b[0m\u001b[32m'like'\u001b[0m\u001b[39m>, <AgentActions.comment: \u001b[0m\u001b[32m'comment'\u001b[0m\u001b[1m>\u001b[0m\u001b[1m]\u001b[0m\n"
      ]
     },
     "metadata": {},
     "output_type": "display_data"
    },
    {
     "data": {
      "text/html": [
       "<pre style=\"white-space:pre;overflow-x:auto;line-height:normal;font-family:Menlo,'DejaVu Sans Mono',consolas,'Courier New',monospace\"><span style=\"color: #008000; text-decoration-color: #008000\">\"I understand where you're coming from, but I think it's more complicated than that. We can't just go back to the </span>\n",
       "<span style=\"color: #008000; text-decoration-color: #008000\">same old ways and expect different results. We need a balanced approach that takes into account the concerns of </span>\n",
       "<span style=\"color: #008000; text-decoration-color: #008000\">workers, the environment, and our national security. Let's focus on investing in clean energy and creating jobs in </span>\n",
       "<span style=\"color: #008000; text-decoration-color: #008000\">those fields, rather than just relying on fossil fuels. That way, we can achieve energy independence while also </span>\n",
       "<span style=\"color: #008000; text-decoration-color: #008000\">protecting our planet for future generations.\"</span>\n",
       "</pre>\n"
      ],
      "text/plain": [
       "\u001b[32m\"I understand where you're coming from, but I think it's more complicated than that. We can't just go back to the \u001b[0m\n",
       "\u001b[32msame old ways and expect different results. We need a balanced approach that takes into account the concerns of \u001b[0m\n",
       "\u001b[32mworkers, the environment, and our national security. Let's focus on investing in clean energy and creating jobs in \u001b[0m\n",
       "\u001b[32mthose fields, rather than just relying on fossil fuels. That way, we can achieve energy independence while also \u001b[0m\n",
       "\u001b[32mprotecting our planet for future generations.\"\u001b[0m\n"
      ]
     },
     "metadata": {},
     "output_type": "display_data"
    },
    {
     "data": {
      "text/html": [
       "<pre style=\"white-space:pre;overflow-x:auto;line-height:normal;font-family:Menlo,'DejaVu Sans Mono',consolas,'Courier New',monospace\">U2 P0\n",
       "<span style=\"font-weight: bold\">[&lt;</span><span style=\"color: #ff00ff; text-decoration-color: #ff00ff; font-weight: bold\">AgentActions.read:</span><span style=\"color: #000000; text-decoration-color: #000000\"> </span><span style=\"color: #008000; text-decoration-color: #008000\">'read'</span><span style=\"color: #000000; text-decoration-color: #000000\">&gt;, &lt;AgentActions.comment: </span><span style=\"color: #008000; text-decoration-color: #008000\">'comment'</span><span style=\"font-weight: bold\">&gt;]</span>\n",
       "</pre>\n"
      ],
      "text/plain": [
       "U2 P0\n",
       "\u001b[1m[\u001b[0m\u001b[1m<\u001b[0m\u001b[1;95mAgentActions.read:\u001b[0m\u001b[39m \u001b[0m\u001b[32m'read'\u001b[0m\u001b[39m>, <AgentActions.comment: \u001b[0m\u001b[32m'comment'\u001b[0m\u001b[1m>\u001b[0m\u001b[1m]\u001b[0m\n"
      ]
     },
     "metadata": {},
     "output_type": "display_data"
    },
    {
     "data": {
      "text/html": [
       "<pre style=\"white-space:pre;overflow-x:auto;line-height:normal;font-family:Menlo,'DejaVu Sans Mono',consolas,'Courier New',monospace\"><span style=\"color: #008000; text-decoration-color: #008000\">\"That's great and all, but what about personal freedom? Why should the government mandate what kind of energy we </span>\n",
       "<span style=\"color: #008000; text-decoration-color: #008000\">use or dictate the jobs we can have? Let the market decide, not some unelected bureaucrats. #DontTaxMe\"</span>\n",
       "</pre>\n"
      ],
      "text/plain": [
       "\u001b[32m\"That's great and all, but what about personal freedom? Why should the government mandate what kind of energy we \u001b[0m\n",
       "\u001b[32muse or dictate the jobs we can have? Let the market decide, not some unelected bureaucrats. #DontTaxMe\"\u001b[0m\n"
      ]
     },
     "metadata": {},
     "output_type": "display_data"
    },
    {
     "data": {
      "text/html": [
       "<pre style=\"white-space:pre;overflow-x:auto;line-height:normal;font-family:Menlo,'DejaVu Sans Mono',consolas,'Courier New',monospace\">U2 P1\n",
       "<span style=\"font-weight: bold\">[&lt;</span><span style=\"color: #ff00ff; text-decoration-color: #ff00ff; font-weight: bold\">AgentActions.read:</span><span style=\"color: #000000; text-decoration-color: #000000\"> </span><span style=\"color: #008000; text-decoration-color: #008000\">'read'</span><span style=\"color: #000000; text-decoration-color: #000000\">&gt;, &lt;AgentActions.comment: </span><span style=\"color: #008000; text-decoration-color: #008000\">'comment'</span><span style=\"font-weight: bold\">&gt;]</span>\n",
       "</pre>\n"
      ],
      "text/plain": [
       "U2 P1\n",
       "\u001b[1m[\u001b[0m\u001b[1m<\u001b[0m\u001b[1;95mAgentActions.read:\u001b[0m\u001b[39m \u001b[0m\u001b[32m'read'\u001b[0m\u001b[39m>, <AgentActions.comment: \u001b[0m\u001b[32m'comment'\u001b[0m\u001b[1m>\u001b[0m\u001b[1m]\u001b[0m\n"
      ]
     },
     "metadata": {},
     "output_type": "display_data"
    },
    {
     "data": {
      "text/html": [
       "<pre style=\"white-space:pre;overflow-x:auto;line-height:normal;font-family:Menlo,'DejaVu Sans Mono',consolas,'Courier New',monospace\"><span style=\"color: #008000; text-decoration-color: #008000\">\"I disagree that bipartisan solutions will magically solve our healthcare issues. The root problem is government </span>\n",
       "<span style=\"color: #008000; text-decoration-color: #008000\">intervention in the first place. Let private insurance competition flourish, and prices will adjust accordingly. </span>\n",
       "<span style=\"color: #008000; text-decoration-color: #008000\">Deregulate, don't negotiate with the enemy. #LessGovernment\"</span>\n",
       "</pre>\n"
      ],
      "text/plain": [
       "\u001b[32m\"I disagree that bipartisan solutions will magically solve our healthcare issues. The root problem is government \u001b[0m\n",
       "\u001b[32mintervention in the first place. Let private insurance competition flourish, and prices will adjust accordingly. \u001b[0m\n",
       "\u001b[32mDeregulate, don't negotiate with the enemy. #LessGovernment\"\u001b[0m\n"
      ]
     },
     "metadata": {},
     "output_type": "display_data"
    },
    {
     "data": {
      "text/html": [
       "<pre style=\"white-space:pre;overflow-x:auto;line-height:normal;font-family:Menlo,'DejaVu Sans Mono',consolas,'Courier New',monospace\">U2 P2\n",
       "<span style=\"font-weight: bold\">[&lt;</span><span style=\"color: #ff00ff; text-decoration-color: #ff00ff; font-weight: bold\">AgentActions.read:</span><span style=\"color: #000000; text-decoration-color: #000000\"> </span><span style=\"color: #008000; text-decoration-color: #008000\">'read'</span><span style=\"color: #000000; text-decoration-color: #000000\">&gt;, &lt;AgentActions.like: </span><span style=\"color: #008000; text-decoration-color: #008000\">'like'</span><span style=\"color: #000000; text-decoration-color: #000000\">&gt;, &lt;AgentActions.post: </span><span style=\"color: #008000; text-decoration-color: #008000\">'post'</span><span style=\"font-weight: bold\">&gt;]</span>\n",
       "</pre>\n"
      ],
      "text/plain": [
       "U2 P2\n",
       "\u001b[1m[\u001b[0m\u001b[1m<\u001b[0m\u001b[1;95mAgentActions.read:\u001b[0m\u001b[39m \u001b[0m\u001b[32m'read'\u001b[0m\u001b[39m>, <AgentActions.like: \u001b[0m\u001b[32m'like'\u001b[0m\u001b[39m>, <AgentActions.post: \u001b[0m\u001b[32m'post'\u001b[0m\u001b[1m>\u001b[0m\u001b[1m]\u001b[0m\n"
      ]
     },
     "metadata": {},
     "output_type": "display_data"
    },
    {
     "data": {
      "text/html": [
       "<pre style=\"white-space:pre;overflow-x:auto;line-height:normal;font-family:Menlo,'DejaVu Sans Mono',consolas,'Courier New',monospace\">U2 P3\n",
       "<span style=\"font-weight: bold\">[&lt;</span><span style=\"color: #ff00ff; text-decoration-color: #ff00ff; font-weight: bold\">AgentActions.read:</span><span style=\"color: #000000; text-decoration-color: #000000\"> </span><span style=\"color: #008000; text-decoration-color: #008000\">'read'</span><span style=\"color: #000000; text-decoration-color: #000000\">&gt;, &lt;AgentActions.comment: </span><span style=\"color: #008000; text-decoration-color: #008000\">'comment'</span><span style=\"font-weight: bold\">&gt;]</span>\n",
       "</pre>\n"
      ],
      "text/plain": [
       "U2 P3\n",
       "\u001b[1m[\u001b[0m\u001b[1m<\u001b[0m\u001b[1;95mAgentActions.read:\u001b[0m\u001b[39m \u001b[0m\u001b[32m'read'\u001b[0m\u001b[39m>, <AgentActions.comment: \u001b[0m\u001b[32m'comment'\u001b[0m\u001b[1m>\u001b[0m\u001b[1m]\u001b[0m\n"
      ]
     },
     "metadata": {},
     "output_type": "display_data"
    },
    {
     "data": {
      "text/html": [
       "<pre style=\"white-space:pre;overflow-x:auto;line-height:normal;font-family:Menlo,'DejaVu Sans Mono',consolas,'Courier New',monospace\"><span style=\"color: #008000; text-decoration-color: #008000\">\"Finally, someone who gets it. This administration's war on fossil fuels is a war on working-class Americans. Why </span>\n",
       "<span style=\"color: #008000; text-decoration-color: #008000\">can't we just let the market decide and explore our own energy resources? We don't need OPEC or the swamp in </span>\n",
       "<span style=\"color: #008000; text-decoration-color: #008000\">Washington dictating our energy policy. #DrillBabyDrill\"</span>\n",
       "</pre>\n"
      ],
      "text/plain": [
       "\u001b[32m\"Finally, someone who gets it. This administration's war on fossil fuels is a war on working-class Americans. Why \u001b[0m\n",
       "\u001b[32mcan't we just let the market decide and explore our own energy resources? We don't need OPEC or the swamp in \u001b[0m\n",
       "\u001b[32mWashington dictating our energy policy. #DrillBabyDrill\"\u001b[0m\n"
      ]
     },
     "metadata": {},
     "output_type": "display_data"
    },
    {
     "data": {
      "text/html": [
       "<pre style=\"white-space:pre;overflow-x:auto;line-height:normal;font-family:Menlo,'DejaVu Sans Mono',consolas,'Courier New',monospace\">U3 P0\n",
       "<span style=\"font-weight: bold\">[&lt;</span><span style=\"color: #ff00ff; text-decoration-color: #ff00ff; font-weight: bold\">AgentActions.post:</span><span style=\"color: #000000; text-decoration-color: #000000\"> </span><span style=\"color: #008000; text-decoration-color: #008000\">'post'</span><span style=\"color: #000000; text-decoration-color: #000000\">&gt;, &lt;AgentActions.comment: </span><span style=\"color: #008000; text-decoration-color: #008000\">'comment'</span><span style=\"font-weight: bold\">&gt;]</span>\n",
       "</pre>\n"
      ],
      "text/plain": [
       "U3 P0\n",
       "\u001b[1m[\u001b[0m\u001b[1m<\u001b[0m\u001b[1;95mAgentActions.post:\u001b[0m\u001b[39m \u001b[0m\u001b[32m'post'\u001b[0m\u001b[39m>, <AgentActions.comment: \u001b[0m\u001b[32m'comment'\u001b[0m\u001b[1m>\u001b[0m\u001b[1m]\u001b[0m\n"
      ]
     },
     "metadata": {},
     "output_type": "display_data"
    },
    {
     "data": {
      "text/html": [
       "<pre style=\"white-space:pre;overflow-x:auto;line-height:normal;font-family:Menlo,'DejaVu Sans Mono',consolas,'Courier New',monospace\"><span style=\"color: #008000; text-decoration-color: #008000\">\"Climate hysteria is taking over our country. 500 people demanding we destroy American industry and rely on foreign</span>\n",
       "<span style=\"color: #008000; text-decoration-color: #008000\">energy sources is a joke. What's the plan for when the wind stops blowing and the sun isn't shining? You can't </span>\n",
       "<span style=\"color: #008000; text-decoration-color: #008000\">power a nation on pie-in-the-sky ideals. We need leaders who put America first, not some utopian fantasy.\"</span>\n",
       "</pre>\n"
      ],
      "text/plain": [
       "\u001b[32m\"Climate hysteria is taking over our country. 500 people demanding we destroy American industry and rely on foreign\u001b[0m\n",
       "\u001b[32menergy sources is a joke. What's the plan for when the wind stops blowing and the sun isn't shining? You can't \u001b[0m\n",
       "\u001b[32mpower a nation on pie-in-the-sky ideals. We need leaders who put America first, not some utopian fantasy.\"\u001b[0m\n"
      ]
     },
     "metadata": {},
     "output_type": "display_data"
    },
    {
     "data": {
      "text/html": [
       "<pre style=\"white-space:pre;overflow-x:auto;line-height:normal;font-family:Menlo,'DejaVu Sans Mono',consolas,'Courier New',monospace\">U3 P1\n",
       "<span style=\"font-weight: bold\">[&lt;</span><span style=\"color: #ff00ff; text-decoration-color: #ff00ff; font-weight: bold\">AgentActions.read:</span><span style=\"color: #000000; text-decoration-color: #000000\"> </span><span style=\"color: #008000; text-decoration-color: #008000\">'read'</span><span style=\"color: #000000; text-decoration-color: #000000\">&gt;, &lt;AgentActions.like: </span><span style=\"color: #008000; text-decoration-color: #008000\">'like'</span><span style=\"color: #000000; text-decoration-color: #000000\">&gt;, &lt;AgentActions.comment: </span><span style=\"color: #008000; text-decoration-color: #008000\">'comment'</span><span style=\"font-weight: bold\">&gt;]</span>\n",
       "</pre>\n"
      ],
      "text/plain": [
       "U3 P1\n",
       "\u001b[1m[\u001b[0m\u001b[1m<\u001b[0m\u001b[1;95mAgentActions.read:\u001b[0m\u001b[39m \u001b[0m\u001b[32m'read'\u001b[0m\u001b[39m>, <AgentActions.like: \u001b[0m\u001b[32m'like'\u001b[0m\u001b[39m>, <AgentActions.comment: \u001b[0m\u001b[32m'comment'\u001b[0m\u001b[1m>\u001b[0m\u001b[1m]\u001b[0m\n"
      ]
     },
     "metadata": {},
     "output_type": "display_data"
    },
    {
     "data": {
      "text/html": [
       "<pre style=\"white-space:pre;overflow-x:auto;line-height:normal;font-family:Menlo,'DejaVu Sans Mono',consolas,'Courier New',monospace\"><span style=\"color: #008000; text-decoration-color: #008000\">\"That's a naive view.  The problem with healthcare is the government's overreach in the first place. If we hadn't </span>\n",
       "<span style=\"color: #008000; text-decoration-color: #008000\">gotten into this quagmire with Obamacare, we wouldn't be in this mess. Let's focus on repealing and replacing, not </span>\n",
       "<span style=\"color: #008000; text-decoration-color: #008000\">working with the Democrats to create more bureaucratic red tape. When have they ever put America first?\"</span>\n",
       "</pre>\n"
      ],
      "text/plain": [
       "\u001b[32m\"That's a naive view.  The problem with healthcare is the government's overreach in the first place. If we hadn't \u001b[0m\n",
       "\u001b[32mgotten into this quagmire with Obamacare, we wouldn't be in this mess. Let's focus on repealing and replacing, not \u001b[0m\n",
       "\u001b[32mworking with the Democrats to create more bureaucratic red tape. When have they ever put America first?\"\u001b[0m\n"
      ]
     },
     "metadata": {},
     "output_type": "display_data"
    },
    {
     "data": {
      "text/html": [
       "<pre style=\"white-space:pre;overflow-x:auto;line-height:normal;font-family:Menlo,'DejaVu Sans Mono',consolas,'Courier New',monospace\">U3 P2\n",
       "<span style=\"font-weight: bold\">[&lt;</span><span style=\"color: #ff00ff; text-decoration-color: #ff00ff; font-weight: bold\">AgentActions.read:</span><span style=\"color: #000000; text-decoration-color: #000000\"> </span><span style=\"color: #008000; text-decoration-color: #008000\">'read'</span><span style=\"color: #000000; text-decoration-color: #000000\">&gt;, &lt;AgentActions.like: </span><span style=\"color: #008000; text-decoration-color: #008000\">'like'</span><span style=\"color: #000000; text-decoration-color: #000000\">&gt;, &lt;AgentActions.comment: </span><span style=\"color: #008000; text-decoration-color: #008000\">'comment'</span><span style=\"font-weight: bold\">&gt;]</span>\n",
       "</pre>\n"
      ],
      "text/plain": [
       "U3 P2\n",
       "\u001b[1m[\u001b[0m\u001b[1m<\u001b[0m\u001b[1;95mAgentActions.read:\u001b[0m\u001b[39m \u001b[0m\u001b[32m'read'\u001b[0m\u001b[39m>, <AgentActions.like: \u001b[0m\u001b[32m'like'\u001b[0m\u001b[39m>, <AgentActions.comment: \u001b[0m\u001b[32m'comment'\u001b[0m\u001b[1m>\u001b[0m\u001b[1m]\u001b[0m\n"
      ]
     },
     "metadata": {},
     "output_type": "display_data"
    },
    {
     "data": {
      "text/html": [
       "<pre style=\"white-space:pre;overflow-x:auto;line-height:normal;font-family:Menlo,'DejaVu Sans Mono',consolas,'Courier New',monospace\"><span style=\"color: #008000; text-decoration-color: #008000\">\"Preach, brother. We're living in a dystopian nightmare and most people are too busy arguing over 'woke' culture to</span>\n",
       "<span style=\"color: #008000; text-decoration-color: #008000\">see the real threat. The Founding Fathers never envisioned a behemoth like the federal government we have today. </span>\n",
       "<span style=\"color: #008000; text-decoration-color: #008000\">It's time to take back our country and restore the Constitution.\"</span>\n",
       "</pre>\n"
      ],
      "text/plain": [
       "\u001b[32m\"Preach, brother. We're living in a dystopian nightmare and most people are too busy arguing over 'woke' culture to\u001b[0m\n",
       "\u001b[32msee the real threat. The Founding Fathers never envisioned a behemoth like the federal government we have today. \u001b[0m\n",
       "\u001b[32mIt's time to take back our country and restore the Constitution.\"\u001b[0m\n"
      ]
     },
     "metadata": {},
     "output_type": "display_data"
    },
    {
     "data": {
      "text/html": [
       "<pre style=\"white-space:pre;overflow-x:auto;line-height:normal;font-family:Menlo,'DejaVu Sans Mono',consolas,'Courier New',monospace\">U3 P3\n",
       "<span style=\"font-weight: bold\">[&lt;</span><span style=\"color: #ff00ff; text-decoration-color: #ff00ff; font-weight: bold\">AgentActions.read:</span><span style=\"color: #000000; text-decoration-color: #000000\"> </span><span style=\"color: #008000; text-decoration-color: #008000\">'read'</span><span style=\"color: #000000; text-decoration-color: #000000\">&gt;, &lt;AgentActions.like: </span><span style=\"color: #008000; text-decoration-color: #008000\">'like'</span><span style=\"color: #000000; text-decoration-color: #000000\">&gt;, &lt;AgentActions.post: </span><span style=\"color: #008000; text-decoration-color: #008000\">'post'</span><span style=\"font-weight: bold\">&gt;]</span>\n",
       "</pre>\n"
      ],
      "text/plain": [
       "U3 P3\n",
       "\u001b[1m[\u001b[0m\u001b[1m<\u001b[0m\u001b[1;95mAgentActions.read:\u001b[0m\u001b[39m \u001b[0m\u001b[32m'read'\u001b[0m\u001b[39m>, <AgentActions.like: \u001b[0m\u001b[32m'like'\u001b[0m\u001b[39m>, <AgentActions.post: \u001b[0m\u001b[32m'post'\u001b[0m\u001b[1m>\u001b[0m\u001b[1m]\u001b[0m\n"
      ]
     },
     "metadata": {},
     "output_type": "display_data"
    }
   ],
   "source": [
    "for user, agent in individuals.items():\n",
    "    for item in feed.root:\n",
    "        selected_actions = agent.select_actions(item)\n",
    "        rich.print(user.id, item.id, selected_actions)\n",
    "\n",
    "        if AgentActions.comment in selected_actions:\n",
    "            rich.print(agent.comment(item))"
   ]
  }
 ],
 "metadata": {
  "kernelspec": {
   "display_name": "twon-lss",
   "language": "python",
   "name": "python3"
  },
  "language_info": {
   "codemirror_mode": {
    "name": "ipython",
    "version": 3
   },
   "file_extension": ".py",
   "mimetype": "text/x-python",
   "name": "python",
   "nbconvert_exporter": "python",
   "pygments_lexer": "ipython3",
   "version": "3.10.14"
  }
 },
 "nbformat": 4,
 "nbformat_minor": 5
}
