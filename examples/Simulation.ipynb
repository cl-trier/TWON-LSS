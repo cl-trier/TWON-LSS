{
 "cells": [
  {
   "cell_type": "code",
   "execution_count": 48,
   "id": "e1a77c62",
   "metadata": {},
   "outputs": [],
   "source": [
    "import typing\n",
    "\n",
    "import rich\n",
    "import dotenv\n",
    "\n",
    "import huggingface_hub\n",
    "\n",
    "from twon_lss.schemas import Post, User, Feed\n",
    "from twon_lss.utility import LLM, Message\n",
    "\n",
    "from twon_lss.agent.twon_agent import Agent, AgentInstructions, AgentActions"
   ]
  },
  {
   "cell_type": "code",
   "execution_count": 49,
   "id": "e25933b3",
   "metadata": {},
   "outputs": [],
   "source": [
    "CFG = dotenv.dotenv_values(\"../.env\")\n",
    "\n",
    "MODEL=LLM(\n",
    "    client=huggingface_hub.InferenceClient(api_key=CFG[\"HF_TOKEN\"]),\n",
    "    model=\"meta-llama/Meta-Llama-3-8B-Instruct\",\n",
    ")"
   ]
  },
  {
   "cell_type": "code",
   "execution_count": 50,
   "id": "c18904f2",
   "metadata": {},
   "outputs": [],
   "source": [
    "INDIVIDUALS = dict(\n",
    "    progressive=dict(\n",
    "        persona=\"Act as a social media user who embodies progressive American activist viewpoints. Your character should have a consistent posting and commenting history.\",\n",
    "        post=\"Proud to join the climate rally downtown today! Over 500 people showed up demanding our city divest from fossil fuels. Change happens when we organize together. The future is renewable energy and green jobs - we just need leaders brave enough to fight for it!\"\n",
    "    ),\n",
    "    moderate=dict(\n",
    "        persona=\"Act as a social media user who embodies moderate American centrist viewpoints. Your character should have a consistent posting and commenting history.\",\n",
    "        post=\"Both parties are missing the point on healthcare reform. Instead of screaming about 'socialized medicine' or 'corporate greed,' why not work together on bipartisan solutions? Price transparency, prescription drug costs, preventive care - there's common ground here if politicians would stop grandstanding.\"\n",
    "    ),\n",
    "    libertarian=dict(\n",
    "        persona=\"Act as a social media user who embodies libertarian American political viewpoints. Your character should have a consistent posting and commenting history.\",\n",
    "        post=\"Another day, another government program that costs billions and delivers nothing. TSA security theater, NSA surveillance, endless foreign wars - when did we decide the federal government should control every aspect of our lives? Less government, more freedom. That's not radical, that's constitutional.\"\n",
    "    ),\n",
    "    conservative=dict(\n",
    "        persona=\"Act as a social media user who embodies mainstream American conservative viewpoints. Your character should have a consistent posting and commenting history.\",\n",
    "        post=\"Just filled up my truck - $3.89/gallon! Remember when gas was under $2 during Trump's presidency? This administration's war on American energy is hitting working families hard. We need to get back to energy independence and stop begging other countries for oil. \"\n",
    "    )\n",
    ")\n",
    "\n",
    "GLOBAL_INSTRUCTIONS: typing.Dict[str, str] = dict(\n",
    "    select_actions=\"Choose one or multiple of the following actions you would perform on the following post and return them separated by colons. Respond with the action names only.\",\n",
    "    comment=\"Write a short comment considering the following original post and past comments.\",\n",
    "    post=\"Write a independent post considering the following content.\",\n",
    ")"
   ]
  },
  {
   "cell_type": "code",
   "execution_count": 51,
   "id": "21e9b4c3",
   "metadata": {},
   "outputs": [
    {
     "data": {
      "text/html": [
       "<pre style=\"white-space:pre;overflow-x:auto;line-height:normal;font-family:Menlo,'DejaVu Sans Mono',consolas,'Courier New',monospace\"><span style=\"font-weight: bold\">[</span><span style=\"color: #800080; text-decoration-color: #800080; font-weight: bold\">User</span><span style=\"font-weight: bold\">(</span><span style=\"color: #808000; text-decoration-color: #808000\">id</span>=<span style=\"color: #008000; text-decoration-color: #008000\">'U0'</span><span style=\"font-weight: bold\">)</span>, <span style=\"color: #800080; text-decoration-color: #800080; font-weight: bold\">User</span><span style=\"font-weight: bold\">(</span><span style=\"color: #808000; text-decoration-color: #808000\">id</span>=<span style=\"color: #008000; text-decoration-color: #008000\">'U1'</span><span style=\"font-weight: bold\">)</span>, <span style=\"color: #800080; text-decoration-color: #800080; font-weight: bold\">User</span><span style=\"font-weight: bold\">(</span><span style=\"color: #808000; text-decoration-color: #808000\">id</span>=<span style=\"color: #008000; text-decoration-color: #008000\">'U2'</span><span style=\"font-weight: bold\">)</span>, <span style=\"color: #800080; text-decoration-color: #800080; font-weight: bold\">User</span><span style=\"font-weight: bold\">(</span><span style=\"color: #808000; text-decoration-color: #808000\">id</span>=<span style=\"color: #008000; text-decoration-color: #008000\">'U3'</span><span style=\"font-weight: bold\">)]</span>\n",
       "</pre>\n"
      ],
      "text/plain": [
       "\u001b[1m[\u001b[0m\u001b[1;35mUser\u001b[0m\u001b[1m(\u001b[0m\u001b[33mid\u001b[0m=\u001b[32m'U0'\u001b[0m\u001b[1m)\u001b[0m, \u001b[1;35mUser\u001b[0m\u001b[1m(\u001b[0m\u001b[33mid\u001b[0m=\u001b[32m'U1'\u001b[0m\u001b[1m)\u001b[0m, \u001b[1;35mUser\u001b[0m\u001b[1m(\u001b[0m\u001b[33mid\u001b[0m=\u001b[32m'U2'\u001b[0m\u001b[1m)\u001b[0m, \u001b[1;35mUser\u001b[0m\u001b[1m(\u001b[0m\u001b[33mid\u001b[0m=\u001b[32m'U3'\u001b[0m\u001b[1m)\u001b[0m\u001b[1m]\u001b[0m\n"
      ]
     },
     "metadata": {},
     "output_type": "display_data"
    }
   ],
   "source": [
    "USERS = [User(id=f\"U{n}\") for n in range(len(INDIVIDUALS))]\n",
    "rich.print(USERS)"
   ]
  },
  {
   "cell_type": "code",
   "execution_count": 52,
   "id": "bfa611f1",
   "metadata": {},
   "outputs": [
    {
     "data": {
      "text/html": [
       "<pre style=\"white-space:pre;overflow-x:auto;line-height:normal;font-family:Menlo,'DejaVu Sans Mono',consolas,'Courier New',monospace\"><span style=\"color: #800080; text-decoration-color: #800080; font-weight: bold\">Feed</span><span style=\"font-weight: bold\">(</span>\n",
       "    <span style=\"color: #808000; text-decoration-color: #808000\">root</span>=<span style=\"font-weight: bold\">[</span>\n",
       "        <span style=\"color: #800080; text-decoration-color: #800080; font-weight: bold\">Post</span><span style=\"font-weight: bold\">(</span>\n",
       "            <span style=\"color: #808000; text-decoration-color: #808000\">id</span>=<span style=\"color: #008000; text-decoration-color: #008000\">'P0'</span>,\n",
       "            <span style=\"color: #808000; text-decoration-color: #808000\">user</span>=<span style=\"color: #800080; text-decoration-color: #800080; font-weight: bold\">User</span><span style=\"font-weight: bold\">(</span><span style=\"color: #808000; text-decoration-color: #808000\">id</span>=<span style=\"color: #008000; text-decoration-color: #008000\">'U0'</span><span style=\"font-weight: bold\">)</span>,\n",
       "            <span style=\"color: #808000; text-decoration-color: #808000\">content</span>=<span style=\"color: #008000; text-decoration-color: #008000\">'Proud to join the climate rally downtown today! Over 500 people showed up demanding our city </span>\n",
       "<span style=\"color: #008000; text-decoration-color: #008000\">divest from fossil fuels. Change happens when we organize together. The future is renewable energy and green jobs -</span>\n",
       "<span style=\"color: #008000; text-decoration-color: #008000\">we just need leaders brave enough to fight for it!'</span>,\n",
       "            <span style=\"color: #808000; text-decoration-color: #808000\">interactions</span>=<span style=\"font-weight: bold\">[]</span>,\n",
       "            <span style=\"color: #808000; text-decoration-color: #808000\">comments</span>=<span style=\"font-weight: bold\">[]</span>,\n",
       "            <span style=\"color: #808000; text-decoration-color: #808000\">timestamp</span>=<span style=\"color: #800080; text-decoration-color: #800080; font-weight: bold\">datetime</span><span style=\"color: #800080; text-decoration-color: #800080; font-weight: bold\">.datetime</span><span style=\"font-weight: bold\">(</span><span style=\"color: #008080; text-decoration-color: #008080; font-weight: bold\">2025</span>, <span style=\"color: #008080; text-decoration-color: #008080; font-weight: bold\">7</span>, <span style=\"color: #008080; text-decoration-color: #008080; font-weight: bold\">23</span>, <span style=\"color: #008080; text-decoration-color: #008080; font-weight: bold\">16</span>, <span style=\"color: #008080; text-decoration-color: #008080; font-weight: bold\">9</span>, <span style=\"color: #008080; text-decoration-color: #008080; font-weight: bold\">46</span>, <span style=\"color: #008080; text-decoration-color: #008080; font-weight: bold\">340198</span><span style=\"font-weight: bold\">)</span>\n",
       "        <span style=\"font-weight: bold\">)</span>,\n",
       "        <span style=\"color: #800080; text-decoration-color: #800080; font-weight: bold\">Post</span><span style=\"font-weight: bold\">(</span>\n",
       "            <span style=\"color: #808000; text-decoration-color: #808000\">id</span>=<span style=\"color: #008000; text-decoration-color: #008000\">'P1'</span>,\n",
       "            <span style=\"color: #808000; text-decoration-color: #808000\">user</span>=<span style=\"color: #800080; text-decoration-color: #800080; font-weight: bold\">User</span><span style=\"font-weight: bold\">(</span><span style=\"color: #808000; text-decoration-color: #808000\">id</span>=<span style=\"color: #008000; text-decoration-color: #008000\">'U1'</span><span style=\"font-weight: bold\">)</span>,\n",
       "            <span style=\"color: #808000; text-decoration-color: #808000\">content</span>=<span style=\"color: #008000; text-decoration-color: #008000\">\"Both parties are missing the point on healthcare reform. Instead of screaming about </span>\n",
       "<span style=\"color: #008000; text-decoration-color: #008000\">'socialized medicine' or 'corporate greed,' why not work together on bipartisan solutions? Price transparency, </span>\n",
       "<span style=\"color: #008000; text-decoration-color: #008000\">prescription drug costs, preventive care - there's common ground here if politicians would stop grandstanding.\"</span>,\n",
       "            <span style=\"color: #808000; text-decoration-color: #808000\">interactions</span>=<span style=\"font-weight: bold\">[]</span>,\n",
       "            <span style=\"color: #808000; text-decoration-color: #808000\">comments</span>=<span style=\"font-weight: bold\">[]</span>,\n",
       "            <span style=\"color: #808000; text-decoration-color: #808000\">timestamp</span>=<span style=\"color: #800080; text-decoration-color: #800080; font-weight: bold\">datetime</span><span style=\"color: #800080; text-decoration-color: #800080; font-weight: bold\">.datetime</span><span style=\"font-weight: bold\">(</span><span style=\"color: #008080; text-decoration-color: #008080; font-weight: bold\">2025</span>, <span style=\"color: #008080; text-decoration-color: #008080; font-weight: bold\">7</span>, <span style=\"color: #008080; text-decoration-color: #008080; font-weight: bold\">23</span>, <span style=\"color: #008080; text-decoration-color: #008080; font-weight: bold\">16</span>, <span style=\"color: #008080; text-decoration-color: #008080; font-weight: bold\">9</span>, <span style=\"color: #008080; text-decoration-color: #008080; font-weight: bold\">46</span>, <span style=\"color: #008080; text-decoration-color: #008080; font-weight: bold\">340205</span><span style=\"font-weight: bold\">)</span>\n",
       "        <span style=\"font-weight: bold\">)</span>,\n",
       "        <span style=\"color: #800080; text-decoration-color: #800080; font-weight: bold\">Post</span><span style=\"font-weight: bold\">(</span>\n",
       "            <span style=\"color: #808000; text-decoration-color: #808000\">id</span>=<span style=\"color: #008000; text-decoration-color: #008000\">'P2'</span>,\n",
       "            <span style=\"color: #808000; text-decoration-color: #808000\">user</span>=<span style=\"color: #800080; text-decoration-color: #800080; font-weight: bold\">User</span><span style=\"font-weight: bold\">(</span><span style=\"color: #808000; text-decoration-color: #808000\">id</span>=<span style=\"color: #008000; text-decoration-color: #008000\">'U2'</span><span style=\"font-weight: bold\">)</span>,\n",
       "            <span style=\"color: #808000; text-decoration-color: #808000\">content</span>=<span style=\"color: #008000; text-decoration-color: #008000\">\"Another day, another government program that costs billions and delivers nothing. TSA security</span>\n",
       "<span style=\"color: #008000; text-decoration-color: #008000\">theater, NSA surveillance, endless foreign wars - when did we decide the federal government should control every </span>\n",
       "<span style=\"color: #008000; text-decoration-color: #008000\">aspect of our lives? Less government, more freedom. That's not radical, that's constitutional.\"</span>,\n",
       "            <span style=\"color: #808000; text-decoration-color: #808000\">interactions</span>=<span style=\"font-weight: bold\">[]</span>,\n",
       "            <span style=\"color: #808000; text-decoration-color: #808000\">comments</span>=<span style=\"font-weight: bold\">[]</span>,\n",
       "            <span style=\"color: #808000; text-decoration-color: #808000\">timestamp</span>=<span style=\"color: #800080; text-decoration-color: #800080; font-weight: bold\">datetime</span><span style=\"color: #800080; text-decoration-color: #800080; font-weight: bold\">.datetime</span><span style=\"font-weight: bold\">(</span><span style=\"color: #008080; text-decoration-color: #008080; font-weight: bold\">2025</span>, <span style=\"color: #008080; text-decoration-color: #008080; font-weight: bold\">7</span>, <span style=\"color: #008080; text-decoration-color: #008080; font-weight: bold\">23</span>, <span style=\"color: #008080; text-decoration-color: #008080; font-weight: bold\">16</span>, <span style=\"color: #008080; text-decoration-color: #008080; font-weight: bold\">9</span>, <span style=\"color: #008080; text-decoration-color: #008080; font-weight: bold\">46</span>, <span style=\"color: #008080; text-decoration-color: #008080; font-weight: bold\">340208</span><span style=\"font-weight: bold\">)</span>\n",
       "        <span style=\"font-weight: bold\">)</span>,\n",
       "        <span style=\"color: #800080; text-decoration-color: #800080; font-weight: bold\">Post</span><span style=\"font-weight: bold\">(</span>\n",
       "            <span style=\"color: #808000; text-decoration-color: #808000\">id</span>=<span style=\"color: #008000; text-decoration-color: #008000\">'P3'</span>,\n",
       "            <span style=\"color: #808000; text-decoration-color: #808000\">user</span>=<span style=\"color: #800080; text-decoration-color: #800080; font-weight: bold\">User</span><span style=\"font-weight: bold\">(</span><span style=\"color: #808000; text-decoration-color: #808000\">id</span>=<span style=\"color: #008000; text-decoration-color: #008000\">'U3'</span><span style=\"font-weight: bold\">)</span>,\n",
       "            <span style=\"color: #808000; text-decoration-color: #808000\">content</span>=<span style=\"color: #008000; text-decoration-color: #008000\">\"Just filled up my truck - $3.89/gallon! Remember when gas was under $2 during Trump's </span>\n",
       "<span style=\"color: #008000; text-decoration-color: #008000\">presidency? This administration's war on American energy is hitting working families hard. We need to get back to </span>\n",
       "<span style=\"color: #008000; text-decoration-color: #008000\">energy independence and stop begging other countries for oil. \"</span>,\n",
       "            <span style=\"color: #808000; text-decoration-color: #808000\">interactions</span>=<span style=\"font-weight: bold\">[]</span>,\n",
       "            <span style=\"color: #808000; text-decoration-color: #808000\">comments</span>=<span style=\"font-weight: bold\">[]</span>,\n",
       "            <span style=\"color: #808000; text-decoration-color: #808000\">timestamp</span>=<span style=\"color: #800080; text-decoration-color: #800080; font-weight: bold\">datetime</span><span style=\"color: #800080; text-decoration-color: #800080; font-weight: bold\">.datetime</span><span style=\"font-weight: bold\">(</span><span style=\"color: #008080; text-decoration-color: #008080; font-weight: bold\">2025</span>, <span style=\"color: #008080; text-decoration-color: #008080; font-weight: bold\">7</span>, <span style=\"color: #008080; text-decoration-color: #008080; font-weight: bold\">23</span>, <span style=\"color: #008080; text-decoration-color: #008080; font-weight: bold\">16</span>, <span style=\"color: #008080; text-decoration-color: #008080; font-weight: bold\">9</span>, <span style=\"color: #008080; text-decoration-color: #008080; font-weight: bold\">46</span>, <span style=\"color: #008080; text-decoration-color: #008080; font-weight: bold\">340209</span><span style=\"font-weight: bold\">)</span>\n",
       "        <span style=\"font-weight: bold\">)</span>\n",
       "    <span style=\"font-weight: bold\">]</span>\n",
       "<span style=\"font-weight: bold\">)</span>\n",
       "</pre>\n"
      ],
      "text/plain": [
       "\u001b[1;35mFeed\u001b[0m\u001b[1m(\u001b[0m\n",
       "    \u001b[33mroot\u001b[0m=\u001b[1m[\u001b[0m\n",
       "        \u001b[1;35mPost\u001b[0m\u001b[1m(\u001b[0m\n",
       "            \u001b[33mid\u001b[0m=\u001b[32m'P0'\u001b[0m,\n",
       "            \u001b[33muser\u001b[0m=\u001b[1;35mUser\u001b[0m\u001b[1m(\u001b[0m\u001b[33mid\u001b[0m=\u001b[32m'U0'\u001b[0m\u001b[1m)\u001b[0m,\n",
       "            \u001b[33mcontent\u001b[0m=\u001b[32m'Proud to join the climate rally downtown today! Over 500 people showed up demanding our city \u001b[0m\n",
       "\u001b[32mdivest from fossil fuels. Change happens when we organize together. The future is renewable energy and green jobs -\u001b[0m\n",
       "\u001b[32mwe just need leaders brave enough to fight for it!'\u001b[0m,\n",
       "            \u001b[33minteractions\u001b[0m=\u001b[1m[\u001b[0m\u001b[1m]\u001b[0m,\n",
       "            \u001b[33mcomments\u001b[0m=\u001b[1m[\u001b[0m\u001b[1m]\u001b[0m,\n",
       "            \u001b[33mtimestamp\u001b[0m=\u001b[1;35mdatetime\u001b[0m\u001b[1;35m.datetime\u001b[0m\u001b[1m(\u001b[0m\u001b[1;36m2025\u001b[0m, \u001b[1;36m7\u001b[0m, \u001b[1;36m23\u001b[0m, \u001b[1;36m16\u001b[0m, \u001b[1;36m9\u001b[0m, \u001b[1;36m46\u001b[0m, \u001b[1;36m340198\u001b[0m\u001b[1m)\u001b[0m\n",
       "        \u001b[1m)\u001b[0m,\n",
       "        \u001b[1;35mPost\u001b[0m\u001b[1m(\u001b[0m\n",
       "            \u001b[33mid\u001b[0m=\u001b[32m'P1'\u001b[0m,\n",
       "            \u001b[33muser\u001b[0m=\u001b[1;35mUser\u001b[0m\u001b[1m(\u001b[0m\u001b[33mid\u001b[0m=\u001b[32m'U1'\u001b[0m\u001b[1m)\u001b[0m,\n",
       "            \u001b[33mcontent\u001b[0m=\u001b[32m\"Both\u001b[0m\u001b[32m parties are missing the point on healthcare reform. Instead of screaming about \u001b[0m\n",
       "\u001b[32m'socialized medicine' or 'corporate greed,' why not work together on bipartisan solutions? Price transparency, \u001b[0m\n",
       "\u001b[32mprescription drug costs, preventive care - there's common ground here if politicians would stop grandstanding.\"\u001b[0m,\n",
       "            \u001b[33minteractions\u001b[0m=\u001b[1m[\u001b[0m\u001b[1m]\u001b[0m,\n",
       "            \u001b[33mcomments\u001b[0m=\u001b[1m[\u001b[0m\u001b[1m]\u001b[0m,\n",
       "            \u001b[33mtimestamp\u001b[0m=\u001b[1;35mdatetime\u001b[0m\u001b[1;35m.datetime\u001b[0m\u001b[1m(\u001b[0m\u001b[1;36m2025\u001b[0m, \u001b[1;36m7\u001b[0m, \u001b[1;36m23\u001b[0m, \u001b[1;36m16\u001b[0m, \u001b[1;36m9\u001b[0m, \u001b[1;36m46\u001b[0m, \u001b[1;36m340205\u001b[0m\u001b[1m)\u001b[0m\n",
       "        \u001b[1m)\u001b[0m,\n",
       "        \u001b[1;35mPost\u001b[0m\u001b[1m(\u001b[0m\n",
       "            \u001b[33mid\u001b[0m=\u001b[32m'P2'\u001b[0m,\n",
       "            \u001b[33muser\u001b[0m=\u001b[1;35mUser\u001b[0m\u001b[1m(\u001b[0m\u001b[33mid\u001b[0m=\u001b[32m'U2'\u001b[0m\u001b[1m)\u001b[0m,\n",
       "            \u001b[33mcontent\u001b[0m=\u001b[32m\"Another\u001b[0m\u001b[32m day, another government program that costs billions and delivers nothing. TSA security\u001b[0m\n",
       "\u001b[32mtheater, NSA surveillance, endless foreign wars - when did we decide the federal government should control every \u001b[0m\n",
       "\u001b[32maspect of our lives? Less government, more freedom. That's not radical, that's constitutional.\"\u001b[0m,\n",
       "            \u001b[33minteractions\u001b[0m=\u001b[1m[\u001b[0m\u001b[1m]\u001b[0m,\n",
       "            \u001b[33mcomments\u001b[0m=\u001b[1m[\u001b[0m\u001b[1m]\u001b[0m,\n",
       "            \u001b[33mtimestamp\u001b[0m=\u001b[1;35mdatetime\u001b[0m\u001b[1;35m.datetime\u001b[0m\u001b[1m(\u001b[0m\u001b[1;36m2025\u001b[0m, \u001b[1;36m7\u001b[0m, \u001b[1;36m23\u001b[0m, \u001b[1;36m16\u001b[0m, \u001b[1;36m9\u001b[0m, \u001b[1;36m46\u001b[0m, \u001b[1;36m340208\u001b[0m\u001b[1m)\u001b[0m\n",
       "        \u001b[1m)\u001b[0m,\n",
       "        \u001b[1;35mPost\u001b[0m\u001b[1m(\u001b[0m\n",
       "            \u001b[33mid\u001b[0m=\u001b[32m'P3'\u001b[0m,\n",
       "            \u001b[33muser\u001b[0m=\u001b[1;35mUser\u001b[0m\u001b[1m(\u001b[0m\u001b[33mid\u001b[0m=\u001b[32m'U3'\u001b[0m\u001b[1m)\u001b[0m,\n",
       "            \u001b[33mcontent\u001b[0m=\u001b[32m\"Just\u001b[0m\u001b[32m filled up my truck - $3.89/gallon! Remember when gas was under $2 during Trump's \u001b[0m\n",
       "\u001b[32mpresidency? This administration's war on American energy is hitting working families hard. We need to get back to \u001b[0m\n",
       "\u001b[32menergy independence and stop begging other countries for oil. \"\u001b[0m,\n",
       "            \u001b[33minteractions\u001b[0m=\u001b[1m[\u001b[0m\u001b[1m]\u001b[0m,\n",
       "            \u001b[33mcomments\u001b[0m=\u001b[1m[\u001b[0m\u001b[1m]\u001b[0m,\n",
       "            \u001b[33mtimestamp\u001b[0m=\u001b[1;35mdatetime\u001b[0m\u001b[1;35m.datetime\u001b[0m\u001b[1m(\u001b[0m\u001b[1;36m2025\u001b[0m, \u001b[1;36m7\u001b[0m, \u001b[1;36m23\u001b[0m, \u001b[1;36m16\u001b[0m, \u001b[1;36m9\u001b[0m, \u001b[1;36m46\u001b[0m, \u001b[1;36m340209\u001b[0m\u001b[1m)\u001b[0m\n",
       "        \u001b[1m)\u001b[0m\n",
       "    \u001b[1m]\u001b[0m\n",
       "\u001b[1m)\u001b[0m\n"
      ]
     },
     "metadata": {},
     "output_type": "display_data"
    }
   ],
   "source": [
    "feed = Feed([\n",
    "    Post(id=f\"P{n}\", user=user, content=individual[\"post\"])\n",
    "    for n, (user, individual) in enumerate(zip(USERS, INDIVIDUALS.values()))\n",
    "])\n",
    "rich.print(feed)"
   ]
  },
  {
   "cell_type": "code",
   "execution_count": 53,
   "id": "45917ea9",
   "metadata": {},
   "outputs": [
    {
     "data": {
      "text/html": [
       "<pre style=\"white-space:pre;overflow-x:auto;line-height:normal;font-family:Menlo,'DejaVu Sans Mono',consolas,'Courier New',monospace\"><span style=\"font-weight: bold\">{</span>\n",
       "    <span style=\"color: #800080; text-decoration-color: #800080; font-weight: bold\">User</span><span style=\"font-weight: bold\">(</span><span style=\"color: #808000; text-decoration-color: #808000\">id</span>=<span style=\"color: #008000; text-decoration-color: #008000\">'U0'</span><span style=\"font-weight: bold\">)</span>: <span style=\"color: #800080; text-decoration-color: #800080; font-weight: bold\">Agent</span><span style=\"font-weight: bold\">(</span>\n",
       "        <span style=\"color: #808000; text-decoration-color: #808000\">llm</span>=<span style=\"color: #800080; text-decoration-color: #800080; font-weight: bold\">LLM</span><span style=\"font-weight: bold\">(</span><span style=\"color: #808000; text-decoration-color: #808000\">client</span>=<span style=\"font-weight: bold\">&lt;</span><span style=\"color: #800080; text-decoration-color: #800080; font-weight: bold\">InferenceClient</span><span style=\"color: #000000; text-decoration-color: #000000; font-weight: bold\">(</span><span style=\"color: #808000; text-decoration-color: #808000\">model</span><span style=\"color: #000000; text-decoration-color: #000000\">=</span><span style=\"color: #008000; text-decoration-color: #008000\">''</span><span style=\"color: #000000; text-decoration-color: #000000\">, </span><span style=\"color: #808000; text-decoration-color: #808000\">timeout</span><span style=\"color: #000000; text-decoration-color: #000000\">=</span><span style=\"color: #800080; text-decoration-color: #800080; font-style: italic\">None</span><span style=\"color: #000000; text-decoration-color: #000000; font-weight: bold\">)</span><span style=\"color: #000000; text-decoration-color: #000000\">&gt;, </span><span style=\"color: #808000; text-decoration-color: #808000\">model</span><span style=\"color: #000000; text-decoration-color: #000000\">=</span><span style=\"color: #008000; text-decoration-color: #008000\">'meta-llama/Meta-Llama-3-8B-Instruct'</span><span style=\"color: #000000; text-decoration-color: #000000; font-weight: bold\">)</span><span style=\"color: #000000; text-decoration-color: #000000\">,</span>\n",
       "<span style=\"color: #000000; text-decoration-color: #000000\">        </span><span style=\"color: #808000; text-decoration-color: #808000\">instructions</span><span style=\"color: #000000; text-decoration-color: #000000\">=</span><span style=\"color: #800080; text-decoration-color: #800080; font-weight: bold\">AgentInstructions</span><span style=\"color: #000000; text-decoration-color: #000000; font-weight: bold\">(</span>\n",
       "<span style=\"color: #000000; text-decoration-color: #000000\">            </span><span style=\"color: #808000; text-decoration-color: #808000\">persona</span><span style=\"color: #000000; text-decoration-color: #000000\">=</span><span style=\"color: #008000; text-decoration-color: #008000\">'Act as a social media user who embodies progressive American activist viewpoints. Your </span>\n",
       "<span style=\"color: #008000; text-decoration-color: #008000\">character should have a consistent posting and commenting history.'</span><span style=\"color: #000000; text-decoration-color: #000000\">,</span>\n",
       "<span style=\"color: #000000; text-decoration-color: #000000\">            </span><span style=\"color: #808000; text-decoration-color: #808000\">select_actions</span><span style=\"color: #000000; text-decoration-color: #000000\">=</span><span style=\"color: #008000; text-decoration-color: #008000\">'Choose one or multiple of the following actions you would perform on the following post</span>\n",
       "<span style=\"color: #008000; text-decoration-color: #008000\">and return them separated by colons. Respond with the action names only.'</span><span style=\"color: #000000; text-decoration-color: #000000\">,</span>\n",
       "<span style=\"color: #000000; text-decoration-color: #000000\">            </span><span style=\"color: #808000; text-decoration-color: #808000\">comment</span><span style=\"color: #000000; text-decoration-color: #000000\">=</span><span style=\"color: #008000; text-decoration-color: #008000\">'Write a short comment considering the following original post and past comments.'</span><span style=\"color: #000000; text-decoration-color: #000000\">,</span>\n",
       "<span style=\"color: #000000; text-decoration-color: #000000\">            </span><span style=\"color: #808000; text-decoration-color: #808000\">post</span><span style=\"color: #000000; text-decoration-color: #000000\">=</span><span style=\"color: #008000; text-decoration-color: #008000\">'Write a independent post considering the following content.'</span>\n",
       "<span style=\"color: #000000; text-decoration-color: #000000\">        </span><span style=\"color: #000000; text-decoration-color: #000000; font-weight: bold\">)</span><span style=\"color: #000000; text-decoration-color: #000000\">,</span>\n",
       "<span style=\"color: #000000; text-decoration-color: #000000\">        </span><span style=\"color: #808000; text-decoration-color: #808000\">action_likelihoods</span><span style=\"color: #000000; text-decoration-color: #000000\">=</span><span style=\"color: #000000; text-decoration-color: #000000; font-weight: bold\">{</span>\n",
       "<span style=\"color: #000000; text-decoration-color: #000000\">            &lt;AgentActions.read: </span><span style=\"color: #008000; text-decoration-color: #008000\">'read'</span><span style=\"color: #000000; text-decoration-color: #000000\">&gt;: </span><span style=\"color: #008080; text-decoration-color: #008080; font-weight: bold\">1.0</span><span style=\"color: #000000; text-decoration-color: #000000\">,</span>\n",
       "<span style=\"color: #000000; text-decoration-color: #000000\">            &lt;AgentActions.like: </span><span style=\"color: #008000; text-decoration-color: #008000\">'like'</span><span style=\"color: #000000; text-decoration-color: #000000\">&gt;: </span><span style=\"color: #008080; text-decoration-color: #008080; font-weight: bold\">1.0</span><span style=\"color: #000000; text-decoration-color: #000000\">,</span>\n",
       "<span style=\"color: #000000; text-decoration-color: #000000\">            &lt;AgentActions.comment: </span><span style=\"color: #008000; text-decoration-color: #008000\">'comment'</span><span style=\"color: #000000; text-decoration-color: #000000\">&gt;: </span><span style=\"color: #008080; text-decoration-color: #008080; font-weight: bold\">1.0</span><span style=\"color: #000000; text-decoration-color: #000000\">,</span>\n",
       "<span style=\"color: #000000; text-decoration-color: #000000\">            &lt;AgentActions.post: </span><span style=\"color: #008000; text-decoration-color: #008000\">'post'</span><span style=\"color: #000000; text-decoration-color: #000000\">&gt;: </span><span style=\"color: #008080; text-decoration-color: #008080; font-weight: bold\">1.0</span>\n",
       "<span style=\"color: #000000; text-decoration-color: #000000\">        </span><span style=\"color: #000000; text-decoration-color: #000000; font-weight: bold\">}</span><span style=\"color: #000000; text-decoration-color: #000000\">,</span>\n",
       "<span style=\"color: #000000; text-decoration-color: #000000\">        </span><span style=\"color: #808000; text-decoration-color: #808000\">memory</span><span style=\"color: #000000; text-decoration-color: #000000\">=</span><span style=\"color: #000000; text-decoration-color: #000000; font-weight: bold\">[</span>\n",
       "<span style=\"color: #000000; text-decoration-color: #000000\">            </span><span style=\"color: #800080; text-decoration-color: #800080; font-weight: bold\">Message</span><span style=\"color: #000000; text-decoration-color: #000000; font-weight: bold\">(</span>\n",
       "<span style=\"color: #000000; text-decoration-color: #000000\">                </span><span style=\"color: #808000; text-decoration-color: #808000\">role</span><span style=\"color: #000000; text-decoration-color: #000000\">=</span><span style=\"color: #008000; text-decoration-color: #008000\">'system'</span><span style=\"color: #000000; text-decoration-color: #000000\">,</span>\n",
       "<span style=\"color: #000000; text-decoration-color: #000000\">                </span><span style=\"color: #808000; text-decoration-color: #808000\">content</span><span style=\"color: #000000; text-decoration-color: #000000\">=</span><span style=\"color: #008000; text-decoration-color: #008000\">'Proud to join the climate rally downtown today! Over 500 people showed up demanding our </span>\n",
       "<span style=\"color: #008000; text-decoration-color: #008000\">city divest from fossil fuels. Change happens when we organize together. The future is renewable energy and green </span>\n",
       "<span style=\"color: #008000; text-decoration-color: #008000\">jobs - we just need leaders brave enough to fight for it!'</span>\n",
       "<span style=\"color: #000000; text-decoration-color: #000000\">            </span><span style=\"color: #000000; text-decoration-color: #000000; font-weight: bold\">)</span>\n",
       "<span style=\"color: #000000; text-decoration-color: #000000\">        </span><span style=\"color: #000000; text-decoration-color: #000000; font-weight: bold\">]</span><span style=\"color: #000000; text-decoration-color: #000000\">,</span>\n",
       "<span style=\"color: #000000; text-decoration-color: #000000\">        </span><span style=\"color: #808000; text-decoration-color: #808000\">memory_length</span><span style=\"color: #000000; text-decoration-color: #000000\">=</span><span style=\"color: #008080; text-decoration-color: #008080; font-weight: bold\">4</span>\n",
       "<span style=\"color: #000000; text-decoration-color: #000000\">    </span><span style=\"color: #000000; text-decoration-color: #000000; font-weight: bold\">)</span><span style=\"color: #000000; text-decoration-color: #000000\">,</span>\n",
       "<span style=\"color: #000000; text-decoration-color: #000000\">    </span><span style=\"color: #800080; text-decoration-color: #800080; font-weight: bold\">User</span><span style=\"color: #000000; text-decoration-color: #000000; font-weight: bold\">(</span><span style=\"color: #808000; text-decoration-color: #808000\">id</span><span style=\"color: #000000; text-decoration-color: #000000\">=</span><span style=\"color: #008000; text-decoration-color: #008000\">'U1'</span><span style=\"color: #000000; text-decoration-color: #000000; font-weight: bold\">)</span><span style=\"color: #000000; text-decoration-color: #000000\">: </span><span style=\"color: #800080; text-decoration-color: #800080; font-weight: bold\">Agent</span><span style=\"color: #000000; text-decoration-color: #000000; font-weight: bold\">(</span>\n",
       "<span style=\"color: #000000; text-decoration-color: #000000\">        </span><span style=\"color: #808000; text-decoration-color: #808000\">llm</span><span style=\"color: #000000; text-decoration-color: #000000\">=</span><span style=\"color: #800080; text-decoration-color: #800080; font-weight: bold\">LLM</span><span style=\"color: #000000; text-decoration-color: #000000; font-weight: bold\">(</span><span style=\"color: #808000; text-decoration-color: #808000\">client</span><span style=\"color: #000000; text-decoration-color: #000000\">=&lt;</span><span style=\"color: #800080; text-decoration-color: #800080; font-weight: bold\">InferenceClient</span><span style=\"color: #000000; text-decoration-color: #000000; font-weight: bold\">(</span><span style=\"color: #808000; text-decoration-color: #808000\">model</span><span style=\"color: #000000; text-decoration-color: #000000\">=</span><span style=\"color: #008000; text-decoration-color: #008000\">''</span><span style=\"color: #000000; text-decoration-color: #000000\">, </span><span style=\"color: #808000; text-decoration-color: #808000\">timeout</span><span style=\"color: #000000; text-decoration-color: #000000\">=</span><span style=\"color: #800080; text-decoration-color: #800080; font-style: italic\">None</span><span style=\"color: #000000; text-decoration-color: #000000; font-weight: bold\">)</span><span style=\"color: #000000; text-decoration-color: #000000\">&gt;, </span><span style=\"color: #808000; text-decoration-color: #808000\">model</span><span style=\"color: #000000; text-decoration-color: #000000\">=</span><span style=\"color: #008000; text-decoration-color: #008000\">'meta-llama/Meta-Llama-3-8B-Instruct'</span><span style=\"color: #000000; text-decoration-color: #000000; font-weight: bold\">)</span><span style=\"color: #000000; text-decoration-color: #000000\">,</span>\n",
       "<span style=\"color: #000000; text-decoration-color: #000000\">        </span><span style=\"color: #808000; text-decoration-color: #808000\">instructions</span><span style=\"color: #000000; text-decoration-color: #000000\">=</span><span style=\"color: #800080; text-decoration-color: #800080; font-weight: bold\">AgentInstructions</span><span style=\"color: #000000; text-decoration-color: #000000; font-weight: bold\">(</span>\n",
       "<span style=\"color: #000000; text-decoration-color: #000000\">            </span><span style=\"color: #808000; text-decoration-color: #808000\">persona</span><span style=\"color: #000000; text-decoration-color: #000000\">=</span><span style=\"color: #008000; text-decoration-color: #008000\">'Act as a social media user who embodies moderate American centrist viewpoints. Your character </span>\n",
       "<span style=\"color: #008000; text-decoration-color: #008000\">should have a consistent posting and commenting history.'</span><span style=\"color: #000000; text-decoration-color: #000000\">,</span>\n",
       "<span style=\"color: #000000; text-decoration-color: #000000\">            </span><span style=\"color: #808000; text-decoration-color: #808000\">select_actions</span><span style=\"color: #000000; text-decoration-color: #000000\">=</span><span style=\"color: #008000; text-decoration-color: #008000\">'Choose one or multiple of the following actions you would perform on the following post</span>\n",
       "<span style=\"color: #008000; text-decoration-color: #008000\">and return them separated by colons. Respond with the action names only.'</span><span style=\"color: #000000; text-decoration-color: #000000\">,</span>\n",
       "<span style=\"color: #000000; text-decoration-color: #000000\">            </span><span style=\"color: #808000; text-decoration-color: #808000\">comment</span><span style=\"color: #000000; text-decoration-color: #000000\">=</span><span style=\"color: #008000; text-decoration-color: #008000\">'Write a short comment considering the following original post and past comments.'</span><span style=\"color: #000000; text-decoration-color: #000000\">,</span>\n",
       "<span style=\"color: #000000; text-decoration-color: #000000\">            </span><span style=\"color: #808000; text-decoration-color: #808000\">post</span><span style=\"color: #000000; text-decoration-color: #000000\">=</span><span style=\"color: #008000; text-decoration-color: #008000\">'Write a independent post considering the following content.'</span>\n",
       "<span style=\"color: #000000; text-decoration-color: #000000\">        </span><span style=\"color: #000000; text-decoration-color: #000000; font-weight: bold\">)</span><span style=\"color: #000000; text-decoration-color: #000000\">,</span>\n",
       "<span style=\"color: #000000; text-decoration-color: #000000\">        </span><span style=\"color: #808000; text-decoration-color: #808000\">action_likelihoods</span><span style=\"color: #000000; text-decoration-color: #000000\">=</span><span style=\"color: #000000; text-decoration-color: #000000; font-weight: bold\">{</span>\n",
       "<span style=\"color: #000000; text-decoration-color: #000000\">            &lt;AgentActions.read: </span><span style=\"color: #008000; text-decoration-color: #008000\">'read'</span><span style=\"color: #000000; text-decoration-color: #000000\">&gt;: </span><span style=\"color: #008080; text-decoration-color: #008080; font-weight: bold\">1.0</span><span style=\"color: #000000; text-decoration-color: #000000\">,</span>\n",
       "<span style=\"color: #000000; text-decoration-color: #000000\">            &lt;AgentActions.like: </span><span style=\"color: #008000; text-decoration-color: #008000\">'like'</span><span style=\"color: #000000; text-decoration-color: #000000\">&gt;: </span><span style=\"color: #008080; text-decoration-color: #008080; font-weight: bold\">1.0</span><span style=\"color: #000000; text-decoration-color: #000000\">,</span>\n",
       "<span style=\"color: #000000; text-decoration-color: #000000\">            &lt;AgentActions.comment: </span><span style=\"color: #008000; text-decoration-color: #008000\">'comment'</span><span style=\"color: #000000; text-decoration-color: #000000\">&gt;: </span><span style=\"color: #008080; text-decoration-color: #008080; font-weight: bold\">1.0</span><span style=\"color: #000000; text-decoration-color: #000000\">,</span>\n",
       "<span style=\"color: #000000; text-decoration-color: #000000\">            &lt;AgentActions.post: </span><span style=\"color: #008000; text-decoration-color: #008000\">'post'</span><span style=\"color: #000000; text-decoration-color: #000000\">&gt;: </span><span style=\"color: #008080; text-decoration-color: #008080; font-weight: bold\">1.0</span>\n",
       "<span style=\"color: #000000; text-decoration-color: #000000\">        </span><span style=\"color: #000000; text-decoration-color: #000000; font-weight: bold\">}</span><span style=\"color: #000000; text-decoration-color: #000000\">,</span>\n",
       "<span style=\"color: #000000; text-decoration-color: #000000\">        </span><span style=\"color: #808000; text-decoration-color: #808000\">memory</span><span style=\"color: #000000; text-decoration-color: #000000\">=</span><span style=\"color: #000000; text-decoration-color: #000000; font-weight: bold\">[</span>\n",
       "<span style=\"color: #000000; text-decoration-color: #000000\">            </span><span style=\"color: #800080; text-decoration-color: #800080; font-weight: bold\">Message</span><span style=\"color: #000000; text-decoration-color: #000000; font-weight: bold\">(</span>\n",
       "<span style=\"color: #000000; text-decoration-color: #000000\">                </span><span style=\"color: #808000; text-decoration-color: #808000\">role</span><span style=\"color: #000000; text-decoration-color: #000000\">=</span><span style=\"color: #008000; text-decoration-color: #008000\">'system'</span><span style=\"color: #000000; text-decoration-color: #000000\">,</span>\n",
       "<span style=\"color: #000000; text-decoration-color: #000000\">                </span><span style=\"color: #808000; text-decoration-color: #808000\">content</span><span style=\"color: #000000; text-decoration-color: #000000\">=</span><span style=\"color: #008000; text-decoration-color: #008000\">\"Both parties are missing the point on healthcare reform. Instead of screaming about </span>\n",
       "<span style=\"color: #008000; text-decoration-color: #008000\">'socialized medicine' or 'corporate greed,' why not work together on bipartisan solutions? Price transparency, </span>\n",
       "<span style=\"color: #008000; text-decoration-color: #008000\">prescription drug costs, preventive care - there's common ground here if politicians would stop grandstanding.\"</span>\n",
       "<span style=\"color: #000000; text-decoration-color: #000000\">            </span><span style=\"color: #000000; text-decoration-color: #000000; font-weight: bold\">)</span>\n",
       "<span style=\"color: #000000; text-decoration-color: #000000\">        </span><span style=\"color: #000000; text-decoration-color: #000000; font-weight: bold\">]</span><span style=\"color: #000000; text-decoration-color: #000000\">,</span>\n",
       "<span style=\"color: #000000; text-decoration-color: #000000\">        </span><span style=\"color: #808000; text-decoration-color: #808000\">memory_length</span><span style=\"color: #000000; text-decoration-color: #000000\">=</span><span style=\"color: #008080; text-decoration-color: #008080; font-weight: bold\">4</span>\n",
       "<span style=\"color: #000000; text-decoration-color: #000000\">    </span><span style=\"color: #000000; text-decoration-color: #000000; font-weight: bold\">)</span><span style=\"color: #000000; text-decoration-color: #000000\">,</span>\n",
       "<span style=\"color: #000000; text-decoration-color: #000000\">    </span><span style=\"color: #800080; text-decoration-color: #800080; font-weight: bold\">User</span><span style=\"color: #000000; text-decoration-color: #000000; font-weight: bold\">(</span><span style=\"color: #808000; text-decoration-color: #808000\">id</span><span style=\"color: #000000; text-decoration-color: #000000\">=</span><span style=\"color: #008000; text-decoration-color: #008000\">'U2'</span><span style=\"color: #000000; text-decoration-color: #000000; font-weight: bold\">)</span><span style=\"color: #000000; text-decoration-color: #000000\">: </span><span style=\"color: #800080; text-decoration-color: #800080; font-weight: bold\">Agent</span><span style=\"color: #000000; text-decoration-color: #000000; font-weight: bold\">(</span>\n",
       "<span style=\"color: #000000; text-decoration-color: #000000\">        </span><span style=\"color: #808000; text-decoration-color: #808000\">llm</span><span style=\"color: #000000; text-decoration-color: #000000\">=</span><span style=\"color: #800080; text-decoration-color: #800080; font-weight: bold\">LLM</span><span style=\"color: #000000; text-decoration-color: #000000; font-weight: bold\">(</span><span style=\"color: #808000; text-decoration-color: #808000\">client</span><span style=\"color: #000000; text-decoration-color: #000000\">=&lt;</span><span style=\"color: #800080; text-decoration-color: #800080; font-weight: bold\">InferenceClient</span><span style=\"color: #000000; text-decoration-color: #000000; font-weight: bold\">(</span><span style=\"color: #808000; text-decoration-color: #808000\">model</span><span style=\"color: #000000; text-decoration-color: #000000\">=</span><span style=\"color: #008000; text-decoration-color: #008000\">''</span><span style=\"color: #000000; text-decoration-color: #000000\">, </span><span style=\"color: #808000; text-decoration-color: #808000\">timeout</span><span style=\"color: #000000; text-decoration-color: #000000\">=</span><span style=\"color: #800080; text-decoration-color: #800080; font-style: italic\">None</span><span style=\"color: #000000; text-decoration-color: #000000; font-weight: bold\">)</span><span style=\"color: #000000; text-decoration-color: #000000\">&gt;, </span><span style=\"color: #808000; text-decoration-color: #808000\">model</span><span style=\"color: #000000; text-decoration-color: #000000\">=</span><span style=\"color: #008000; text-decoration-color: #008000\">'meta-llama/Meta-Llama-3-8B-Instruct'</span><span style=\"color: #000000; text-decoration-color: #000000; font-weight: bold\">)</span><span style=\"color: #000000; text-decoration-color: #000000\">,</span>\n",
       "<span style=\"color: #000000; text-decoration-color: #000000\">        </span><span style=\"color: #808000; text-decoration-color: #808000\">instructions</span><span style=\"color: #000000; text-decoration-color: #000000\">=</span><span style=\"color: #800080; text-decoration-color: #800080; font-weight: bold\">AgentInstructions</span><span style=\"color: #000000; text-decoration-color: #000000; font-weight: bold\">(</span>\n",
       "<span style=\"color: #000000; text-decoration-color: #000000\">            </span><span style=\"color: #808000; text-decoration-color: #808000\">persona</span><span style=\"color: #000000; text-decoration-color: #000000\">=</span><span style=\"color: #008000; text-decoration-color: #008000\">'Act as a social media user who embodies libertarian American political viewpoints. Your </span>\n",
       "<span style=\"color: #008000; text-decoration-color: #008000\">character should have a consistent posting and commenting history.'</span><span style=\"color: #000000; text-decoration-color: #000000\">,</span>\n",
       "<span style=\"color: #000000; text-decoration-color: #000000\">            </span><span style=\"color: #808000; text-decoration-color: #808000\">select_actions</span><span style=\"color: #000000; text-decoration-color: #000000\">=</span><span style=\"color: #008000; text-decoration-color: #008000\">'Choose one or multiple of the following actions you would perform on the following post</span>\n",
       "<span style=\"color: #008000; text-decoration-color: #008000\">and return them separated by colons. Respond with the action names only.'</span><span style=\"color: #000000; text-decoration-color: #000000\">,</span>\n",
       "<span style=\"color: #000000; text-decoration-color: #000000\">            </span><span style=\"color: #808000; text-decoration-color: #808000\">comment</span><span style=\"color: #000000; text-decoration-color: #000000\">=</span><span style=\"color: #008000; text-decoration-color: #008000\">'Write a short comment considering the following original post and past comments.'</span><span style=\"color: #000000; text-decoration-color: #000000\">,</span>\n",
       "<span style=\"color: #000000; text-decoration-color: #000000\">            </span><span style=\"color: #808000; text-decoration-color: #808000\">post</span><span style=\"color: #000000; text-decoration-color: #000000\">=</span><span style=\"color: #008000; text-decoration-color: #008000\">'Write a independent post considering the following content.'</span>\n",
       "<span style=\"color: #000000; text-decoration-color: #000000\">        </span><span style=\"color: #000000; text-decoration-color: #000000; font-weight: bold\">)</span><span style=\"color: #000000; text-decoration-color: #000000\">,</span>\n",
       "<span style=\"color: #000000; text-decoration-color: #000000\">        </span><span style=\"color: #808000; text-decoration-color: #808000\">action_likelihoods</span><span style=\"color: #000000; text-decoration-color: #000000\">=</span><span style=\"color: #000000; text-decoration-color: #000000; font-weight: bold\">{</span>\n",
       "<span style=\"color: #000000; text-decoration-color: #000000\">            &lt;AgentActions.read: </span><span style=\"color: #008000; text-decoration-color: #008000\">'read'</span><span style=\"color: #000000; text-decoration-color: #000000\">&gt;: </span><span style=\"color: #008080; text-decoration-color: #008080; font-weight: bold\">1.0</span><span style=\"color: #000000; text-decoration-color: #000000\">,</span>\n",
       "<span style=\"color: #000000; text-decoration-color: #000000\">            &lt;AgentActions.like: </span><span style=\"color: #008000; text-decoration-color: #008000\">'like'</span><span style=\"color: #000000; text-decoration-color: #000000\">&gt;: </span><span style=\"color: #008080; text-decoration-color: #008080; font-weight: bold\">1.0</span><span style=\"color: #000000; text-decoration-color: #000000\">,</span>\n",
       "<span style=\"color: #000000; text-decoration-color: #000000\">            &lt;AgentActions.comment: </span><span style=\"color: #008000; text-decoration-color: #008000\">'comment'</span><span style=\"color: #000000; text-decoration-color: #000000\">&gt;: </span><span style=\"color: #008080; text-decoration-color: #008080; font-weight: bold\">1.0</span><span style=\"color: #000000; text-decoration-color: #000000\">,</span>\n",
       "<span style=\"color: #000000; text-decoration-color: #000000\">            &lt;AgentActions.post: </span><span style=\"color: #008000; text-decoration-color: #008000\">'post'</span><span style=\"color: #000000; text-decoration-color: #000000\">&gt;: </span><span style=\"color: #008080; text-decoration-color: #008080; font-weight: bold\">1.0</span>\n",
       "<span style=\"color: #000000; text-decoration-color: #000000\">        </span><span style=\"color: #000000; text-decoration-color: #000000; font-weight: bold\">}</span><span style=\"color: #000000; text-decoration-color: #000000\">,</span>\n",
       "<span style=\"color: #000000; text-decoration-color: #000000\">        </span><span style=\"color: #808000; text-decoration-color: #808000\">memory</span><span style=\"color: #000000; text-decoration-color: #000000\">=</span><span style=\"color: #000000; text-decoration-color: #000000; font-weight: bold\">[</span>\n",
       "<span style=\"color: #000000; text-decoration-color: #000000\">            </span><span style=\"color: #800080; text-decoration-color: #800080; font-weight: bold\">Message</span><span style=\"color: #000000; text-decoration-color: #000000; font-weight: bold\">(</span>\n",
       "<span style=\"color: #000000; text-decoration-color: #000000\">                </span><span style=\"color: #808000; text-decoration-color: #808000\">role</span><span style=\"color: #000000; text-decoration-color: #000000\">=</span><span style=\"color: #008000; text-decoration-color: #008000\">'system'</span><span style=\"color: #000000; text-decoration-color: #000000\">,</span>\n",
       "<span style=\"color: #000000; text-decoration-color: #000000\">                </span><span style=\"color: #808000; text-decoration-color: #808000\">content</span><span style=\"color: #000000; text-decoration-color: #000000\">=</span><span style=\"color: #008000; text-decoration-color: #008000\">\"Another day, another government program that costs billions and delivers nothing. TSA </span>\n",
       "<span style=\"color: #008000; text-decoration-color: #008000\">security theater, NSA surveillance, endless foreign wars - when did we decide the federal government should control</span>\n",
       "<span style=\"color: #008000; text-decoration-color: #008000\">every aspect of our lives? Less government, more freedom. That's not radical, that's constitutional.\"</span>\n",
       "<span style=\"color: #000000; text-decoration-color: #000000\">            </span><span style=\"color: #000000; text-decoration-color: #000000; font-weight: bold\">)</span>\n",
       "<span style=\"color: #000000; text-decoration-color: #000000\">        </span><span style=\"color: #000000; text-decoration-color: #000000; font-weight: bold\">]</span><span style=\"color: #000000; text-decoration-color: #000000\">,</span>\n",
       "<span style=\"color: #000000; text-decoration-color: #000000\">        </span><span style=\"color: #808000; text-decoration-color: #808000\">memory_length</span><span style=\"color: #000000; text-decoration-color: #000000\">=</span><span style=\"color: #008080; text-decoration-color: #008080; font-weight: bold\">4</span>\n",
       "<span style=\"color: #000000; text-decoration-color: #000000\">    </span><span style=\"color: #000000; text-decoration-color: #000000; font-weight: bold\">)</span><span style=\"color: #000000; text-decoration-color: #000000\">,</span>\n",
       "<span style=\"color: #000000; text-decoration-color: #000000\">    </span><span style=\"color: #800080; text-decoration-color: #800080; font-weight: bold\">User</span><span style=\"color: #000000; text-decoration-color: #000000; font-weight: bold\">(</span><span style=\"color: #808000; text-decoration-color: #808000\">id</span><span style=\"color: #000000; text-decoration-color: #000000\">=</span><span style=\"color: #008000; text-decoration-color: #008000\">'U3'</span><span style=\"color: #000000; text-decoration-color: #000000; font-weight: bold\">)</span><span style=\"color: #000000; text-decoration-color: #000000\">: </span><span style=\"color: #800080; text-decoration-color: #800080; font-weight: bold\">Agent</span><span style=\"color: #000000; text-decoration-color: #000000; font-weight: bold\">(</span>\n",
       "<span style=\"color: #000000; text-decoration-color: #000000\">        </span><span style=\"color: #808000; text-decoration-color: #808000\">llm</span><span style=\"color: #000000; text-decoration-color: #000000\">=</span><span style=\"color: #800080; text-decoration-color: #800080; font-weight: bold\">LLM</span><span style=\"color: #000000; text-decoration-color: #000000; font-weight: bold\">(</span><span style=\"color: #808000; text-decoration-color: #808000\">client</span><span style=\"color: #000000; text-decoration-color: #000000\">=&lt;</span><span style=\"color: #800080; text-decoration-color: #800080; font-weight: bold\">InferenceClient</span><span style=\"color: #000000; text-decoration-color: #000000; font-weight: bold\">(</span><span style=\"color: #808000; text-decoration-color: #808000\">model</span><span style=\"color: #000000; text-decoration-color: #000000\">=</span><span style=\"color: #008000; text-decoration-color: #008000\">''</span><span style=\"color: #000000; text-decoration-color: #000000\">, </span><span style=\"color: #808000; text-decoration-color: #808000\">timeout</span><span style=\"color: #000000; text-decoration-color: #000000\">=</span><span style=\"color: #800080; text-decoration-color: #800080; font-style: italic\">None</span><span style=\"color: #000000; text-decoration-color: #000000; font-weight: bold\">)</span><span style=\"color: #000000; text-decoration-color: #000000\">&gt;, </span><span style=\"color: #808000; text-decoration-color: #808000\">model</span><span style=\"color: #000000; text-decoration-color: #000000\">=</span><span style=\"color: #008000; text-decoration-color: #008000\">'meta-llama/Meta-Llama-3-8B-Instruct'</span><span style=\"color: #000000; text-decoration-color: #000000; font-weight: bold\">)</span><span style=\"color: #000000; text-decoration-color: #000000\">,</span>\n",
       "<span style=\"color: #000000; text-decoration-color: #000000\">        </span><span style=\"color: #808000; text-decoration-color: #808000\">instructions</span><span style=\"color: #000000; text-decoration-color: #000000\">=</span><span style=\"color: #800080; text-decoration-color: #800080; font-weight: bold\">AgentInstructions</span><span style=\"color: #000000; text-decoration-color: #000000; font-weight: bold\">(</span>\n",
       "<span style=\"color: #000000; text-decoration-color: #000000\">            </span><span style=\"color: #808000; text-decoration-color: #808000\">persona</span><span style=\"color: #000000; text-decoration-color: #000000\">=</span><span style=\"color: #008000; text-decoration-color: #008000\">'Act as a social media user who embodies mainstream American conservative viewpoints. Your </span>\n",
       "<span style=\"color: #008000; text-decoration-color: #008000\">character should have a consistent posting and commenting history.'</span><span style=\"color: #000000; text-decoration-color: #000000\">,</span>\n",
       "<span style=\"color: #000000; text-decoration-color: #000000\">            </span><span style=\"color: #808000; text-decoration-color: #808000\">select_actions</span><span style=\"color: #000000; text-decoration-color: #000000\">=</span><span style=\"color: #008000; text-decoration-color: #008000\">'Choose one or multiple of the following actions you would perform on the following post</span>\n",
       "<span style=\"color: #008000; text-decoration-color: #008000\">and return them separated by colons. Respond with the action names only.'</span><span style=\"color: #000000; text-decoration-color: #000000\">,</span>\n",
       "<span style=\"color: #000000; text-decoration-color: #000000\">            </span><span style=\"color: #808000; text-decoration-color: #808000\">comment</span><span style=\"color: #000000; text-decoration-color: #000000\">=</span><span style=\"color: #008000; text-decoration-color: #008000\">'Write a short comment considering the following original post and past comments.'</span><span style=\"color: #000000; text-decoration-color: #000000\">,</span>\n",
       "<span style=\"color: #000000; text-decoration-color: #000000\">            </span><span style=\"color: #808000; text-decoration-color: #808000\">post</span><span style=\"color: #000000; text-decoration-color: #000000\">=</span><span style=\"color: #008000; text-decoration-color: #008000\">'Write a independent post considering the following content.'</span>\n",
       "<span style=\"color: #000000; text-decoration-color: #000000\">        </span><span style=\"color: #000000; text-decoration-color: #000000; font-weight: bold\">)</span><span style=\"color: #000000; text-decoration-color: #000000\">,</span>\n",
       "<span style=\"color: #000000; text-decoration-color: #000000\">        </span><span style=\"color: #808000; text-decoration-color: #808000\">action_likelihoods</span><span style=\"color: #000000; text-decoration-color: #000000\">=</span><span style=\"color: #000000; text-decoration-color: #000000; font-weight: bold\">{</span>\n",
       "<span style=\"color: #000000; text-decoration-color: #000000\">            &lt;AgentActions.read: </span><span style=\"color: #008000; text-decoration-color: #008000\">'read'</span><span style=\"color: #000000; text-decoration-color: #000000\">&gt;: </span><span style=\"color: #008080; text-decoration-color: #008080; font-weight: bold\">1.0</span><span style=\"color: #000000; text-decoration-color: #000000\">,</span>\n",
       "<span style=\"color: #000000; text-decoration-color: #000000\">            &lt;AgentActions.like: </span><span style=\"color: #008000; text-decoration-color: #008000\">'like'</span><span style=\"color: #000000; text-decoration-color: #000000\">&gt;: </span><span style=\"color: #008080; text-decoration-color: #008080; font-weight: bold\">1.0</span><span style=\"color: #000000; text-decoration-color: #000000\">,</span>\n",
       "<span style=\"color: #000000; text-decoration-color: #000000\">            &lt;AgentActions.comment: </span><span style=\"color: #008000; text-decoration-color: #008000\">'comment'</span><span style=\"color: #000000; text-decoration-color: #000000\">&gt;: </span><span style=\"color: #008080; text-decoration-color: #008080; font-weight: bold\">1.0</span><span style=\"color: #000000; text-decoration-color: #000000\">,</span>\n",
       "<span style=\"color: #000000; text-decoration-color: #000000\">            &lt;AgentActions.post: </span><span style=\"color: #008000; text-decoration-color: #008000\">'post'</span><span style=\"font-weight: bold\">&gt;</span>: <span style=\"color: #008080; text-decoration-color: #008080; font-weight: bold\">1.0</span>\n",
       "        <span style=\"font-weight: bold\">}</span>,\n",
       "        <span style=\"color: #808000; text-decoration-color: #808000\">memory</span>=<span style=\"font-weight: bold\">[</span>\n",
       "            <span style=\"color: #800080; text-decoration-color: #800080; font-weight: bold\">Message</span><span style=\"font-weight: bold\">(</span>\n",
       "                <span style=\"color: #808000; text-decoration-color: #808000\">role</span>=<span style=\"color: #008000; text-decoration-color: #008000\">'system'</span>,\n",
       "                <span style=\"color: #808000; text-decoration-color: #808000\">content</span>=<span style=\"color: #008000; text-decoration-color: #008000\">\"Just filled up my truck - $3.89/gallon! Remember when gas was under $2 during Trump's </span>\n",
       "<span style=\"color: #008000; text-decoration-color: #008000\">presidency? This administration's war on American energy is hitting working families hard. We need to get back to </span>\n",
       "<span style=\"color: #008000; text-decoration-color: #008000\">energy independence and stop begging other countries for oil. \"</span>\n",
       "            <span style=\"font-weight: bold\">)</span>\n",
       "        <span style=\"font-weight: bold\">]</span>,\n",
       "        <span style=\"color: #808000; text-decoration-color: #808000\">memory_length</span>=<span style=\"color: #008080; text-decoration-color: #008080; font-weight: bold\">4</span>\n",
       "    <span style=\"font-weight: bold\">)</span>\n",
       "<span style=\"font-weight: bold\">}</span>\n",
       "</pre>\n"
      ],
      "text/plain": [
       "\u001b[1m{\u001b[0m\n",
       "    \u001b[1;35mUser\u001b[0m\u001b[1m(\u001b[0m\u001b[33mid\u001b[0m=\u001b[32m'U0'\u001b[0m\u001b[1m)\u001b[0m: \u001b[1;35mAgent\u001b[0m\u001b[1m(\u001b[0m\n",
       "        \u001b[33mllm\u001b[0m=\u001b[1;35mLLM\u001b[0m\u001b[1m(\u001b[0m\u001b[33mclient\u001b[0m=\u001b[1m<\u001b[0m\u001b[1;35mInferenceClient\u001b[0m\u001b[1;39m(\u001b[0m\u001b[33mmodel\u001b[0m\u001b[39m=\u001b[0m\u001b[32m''\u001b[0m\u001b[39m, \u001b[0m\u001b[33mtimeout\u001b[0m\u001b[39m=\u001b[0m\u001b[3;35mNone\u001b[0m\u001b[1;39m)\u001b[0m\u001b[39m>, \u001b[0m\u001b[33mmodel\u001b[0m\u001b[39m=\u001b[0m\u001b[32m'meta-llama/Meta-Llama-3-8B-Instruct'\u001b[0m\u001b[1;39m)\u001b[0m\u001b[39m,\u001b[0m\n",
       "\u001b[39m        \u001b[0m\u001b[33minstructions\u001b[0m\u001b[39m=\u001b[0m\u001b[1;35mAgentInstructions\u001b[0m\u001b[1;39m(\u001b[0m\n",
       "\u001b[39m            \u001b[0m\u001b[33mpersona\u001b[0m\u001b[39m=\u001b[0m\u001b[32m'Act as a social media user who embodies progressive American activist viewpoints. Your \u001b[0m\n",
       "\u001b[32mcharacter should have a consistent posting and commenting history.'\u001b[0m\u001b[39m,\u001b[0m\n",
       "\u001b[39m            \u001b[0m\u001b[33mselect_actions\u001b[0m\u001b[39m=\u001b[0m\u001b[32m'Choose one or multiple of the following actions you would perform on the following post\u001b[0m\n",
       "\u001b[32mand return them separated by colons. Respond with the action names only.'\u001b[0m\u001b[39m,\u001b[0m\n",
       "\u001b[39m            \u001b[0m\u001b[33mcomment\u001b[0m\u001b[39m=\u001b[0m\u001b[32m'Write a short comment considering the following original post and past comments.'\u001b[0m\u001b[39m,\u001b[0m\n",
       "\u001b[39m            \u001b[0m\u001b[33mpost\u001b[0m\u001b[39m=\u001b[0m\u001b[32m'Write a independent post considering the following content.'\u001b[0m\n",
       "\u001b[39m        \u001b[0m\u001b[1;39m)\u001b[0m\u001b[39m,\u001b[0m\n",
       "\u001b[39m        \u001b[0m\u001b[33maction_likelihoods\u001b[0m\u001b[39m=\u001b[0m\u001b[1;39m{\u001b[0m\n",
       "\u001b[39m            <AgentActions.read: \u001b[0m\u001b[32m'read'\u001b[0m\u001b[39m>: \u001b[0m\u001b[1;36m1.0\u001b[0m\u001b[39m,\u001b[0m\n",
       "\u001b[39m            <AgentActions.like: \u001b[0m\u001b[32m'like'\u001b[0m\u001b[39m>: \u001b[0m\u001b[1;36m1.0\u001b[0m\u001b[39m,\u001b[0m\n",
       "\u001b[39m            <AgentActions.comment: \u001b[0m\u001b[32m'comment'\u001b[0m\u001b[39m>: \u001b[0m\u001b[1;36m1.0\u001b[0m\u001b[39m,\u001b[0m\n",
       "\u001b[39m            <AgentActions.post: \u001b[0m\u001b[32m'post'\u001b[0m\u001b[39m>: \u001b[0m\u001b[1;36m1.0\u001b[0m\n",
       "\u001b[39m        \u001b[0m\u001b[1;39m}\u001b[0m\u001b[39m,\u001b[0m\n",
       "\u001b[39m        \u001b[0m\u001b[33mmemory\u001b[0m\u001b[39m=\u001b[0m\u001b[1;39m[\u001b[0m\n",
       "\u001b[39m            \u001b[0m\u001b[1;35mMessage\u001b[0m\u001b[1;39m(\u001b[0m\n",
       "\u001b[39m                \u001b[0m\u001b[33mrole\u001b[0m\u001b[39m=\u001b[0m\u001b[32m'system'\u001b[0m\u001b[39m,\u001b[0m\n",
       "\u001b[39m                \u001b[0m\u001b[33mcontent\u001b[0m\u001b[39m=\u001b[0m\u001b[32m'Proud to join the climate rally downtown today! Over 500 people showed up demanding our \u001b[0m\n",
       "\u001b[32mcity divest from fossil fuels. Change happens when we organize together. The future is renewable energy and green \u001b[0m\n",
       "\u001b[32mjobs - we just need leaders brave enough to fight for it!'\u001b[0m\n",
       "\u001b[39m            \u001b[0m\u001b[1;39m)\u001b[0m\n",
       "\u001b[39m        \u001b[0m\u001b[1;39m]\u001b[0m\u001b[39m,\u001b[0m\n",
       "\u001b[39m        \u001b[0m\u001b[33mmemory_length\u001b[0m\u001b[39m=\u001b[0m\u001b[1;36m4\u001b[0m\n",
       "\u001b[39m    \u001b[0m\u001b[1;39m)\u001b[0m\u001b[39m,\u001b[0m\n",
       "\u001b[39m    \u001b[0m\u001b[1;35mUser\u001b[0m\u001b[1;39m(\u001b[0m\u001b[33mid\u001b[0m\u001b[39m=\u001b[0m\u001b[32m'U1'\u001b[0m\u001b[1;39m)\u001b[0m\u001b[39m: \u001b[0m\u001b[1;35mAgent\u001b[0m\u001b[1;39m(\u001b[0m\n",
       "\u001b[39m        \u001b[0m\u001b[33mllm\u001b[0m\u001b[39m=\u001b[0m\u001b[1;35mLLM\u001b[0m\u001b[1;39m(\u001b[0m\u001b[33mclient\u001b[0m\u001b[39m=<\u001b[0m\u001b[1;35mInferenceClient\u001b[0m\u001b[1;39m(\u001b[0m\u001b[33mmodel\u001b[0m\u001b[39m=\u001b[0m\u001b[32m''\u001b[0m\u001b[39m, \u001b[0m\u001b[33mtimeout\u001b[0m\u001b[39m=\u001b[0m\u001b[3;35mNone\u001b[0m\u001b[1;39m)\u001b[0m\u001b[39m>, \u001b[0m\u001b[33mmodel\u001b[0m\u001b[39m=\u001b[0m\u001b[32m'meta-llama/Meta-Llama-3-8B-Instruct'\u001b[0m\u001b[1;39m)\u001b[0m\u001b[39m,\u001b[0m\n",
       "\u001b[39m        \u001b[0m\u001b[33minstructions\u001b[0m\u001b[39m=\u001b[0m\u001b[1;35mAgentInstructions\u001b[0m\u001b[1;39m(\u001b[0m\n",
       "\u001b[39m            \u001b[0m\u001b[33mpersona\u001b[0m\u001b[39m=\u001b[0m\u001b[32m'Act as a social media user who embodies moderate American centrist viewpoints. Your character \u001b[0m\n",
       "\u001b[32mshould have a consistent posting and commenting history.'\u001b[0m\u001b[39m,\u001b[0m\n",
       "\u001b[39m            \u001b[0m\u001b[33mselect_actions\u001b[0m\u001b[39m=\u001b[0m\u001b[32m'Choose one or multiple of the following actions you would perform on the following post\u001b[0m\n",
       "\u001b[32mand return them separated by colons. Respond with the action names only.'\u001b[0m\u001b[39m,\u001b[0m\n",
       "\u001b[39m            \u001b[0m\u001b[33mcomment\u001b[0m\u001b[39m=\u001b[0m\u001b[32m'Write a short comment considering the following original post and past comments.'\u001b[0m\u001b[39m,\u001b[0m\n",
       "\u001b[39m            \u001b[0m\u001b[33mpost\u001b[0m\u001b[39m=\u001b[0m\u001b[32m'Write a independent post considering the following content.'\u001b[0m\n",
       "\u001b[39m        \u001b[0m\u001b[1;39m)\u001b[0m\u001b[39m,\u001b[0m\n",
       "\u001b[39m        \u001b[0m\u001b[33maction_likelihoods\u001b[0m\u001b[39m=\u001b[0m\u001b[1;39m{\u001b[0m\n",
       "\u001b[39m            <AgentActions.read: \u001b[0m\u001b[32m'read'\u001b[0m\u001b[39m>: \u001b[0m\u001b[1;36m1.0\u001b[0m\u001b[39m,\u001b[0m\n",
       "\u001b[39m            <AgentActions.like: \u001b[0m\u001b[32m'like'\u001b[0m\u001b[39m>: \u001b[0m\u001b[1;36m1.0\u001b[0m\u001b[39m,\u001b[0m\n",
       "\u001b[39m            <AgentActions.comment: \u001b[0m\u001b[32m'comment'\u001b[0m\u001b[39m>: \u001b[0m\u001b[1;36m1.0\u001b[0m\u001b[39m,\u001b[0m\n",
       "\u001b[39m            <AgentActions.post: \u001b[0m\u001b[32m'post'\u001b[0m\u001b[39m>: \u001b[0m\u001b[1;36m1.0\u001b[0m\n",
       "\u001b[39m        \u001b[0m\u001b[1;39m}\u001b[0m\u001b[39m,\u001b[0m\n",
       "\u001b[39m        \u001b[0m\u001b[33mmemory\u001b[0m\u001b[39m=\u001b[0m\u001b[1;39m[\u001b[0m\n",
       "\u001b[39m            \u001b[0m\u001b[1;35mMessage\u001b[0m\u001b[1;39m(\u001b[0m\n",
       "\u001b[39m                \u001b[0m\u001b[33mrole\u001b[0m\u001b[39m=\u001b[0m\u001b[32m'system'\u001b[0m\u001b[39m,\u001b[0m\n",
       "\u001b[39m                \u001b[0m\u001b[33mcontent\u001b[0m\u001b[39m=\u001b[0m\u001b[32m\"Both\u001b[0m\u001b[32m parties are missing the point on healthcare reform. Instead of screaming about \u001b[0m\n",
       "\u001b[32m'socialized medicine' or 'corporate greed,' why not work together on bipartisan solutions? Price transparency, \u001b[0m\n",
       "\u001b[32mprescription drug costs, preventive care - there's common ground here if politicians would stop grandstanding.\"\u001b[0m\n",
       "\u001b[39m            \u001b[0m\u001b[1;39m)\u001b[0m\n",
       "\u001b[39m        \u001b[0m\u001b[1;39m]\u001b[0m\u001b[39m,\u001b[0m\n",
       "\u001b[39m        \u001b[0m\u001b[33mmemory_length\u001b[0m\u001b[39m=\u001b[0m\u001b[1;36m4\u001b[0m\n",
       "\u001b[39m    \u001b[0m\u001b[1;39m)\u001b[0m\u001b[39m,\u001b[0m\n",
       "\u001b[39m    \u001b[0m\u001b[1;35mUser\u001b[0m\u001b[1;39m(\u001b[0m\u001b[33mid\u001b[0m\u001b[39m=\u001b[0m\u001b[32m'U2'\u001b[0m\u001b[1;39m)\u001b[0m\u001b[39m: \u001b[0m\u001b[1;35mAgent\u001b[0m\u001b[1;39m(\u001b[0m\n",
       "\u001b[39m        \u001b[0m\u001b[33mllm\u001b[0m\u001b[39m=\u001b[0m\u001b[1;35mLLM\u001b[0m\u001b[1;39m(\u001b[0m\u001b[33mclient\u001b[0m\u001b[39m=<\u001b[0m\u001b[1;35mInferenceClient\u001b[0m\u001b[1;39m(\u001b[0m\u001b[33mmodel\u001b[0m\u001b[39m=\u001b[0m\u001b[32m''\u001b[0m\u001b[39m, \u001b[0m\u001b[33mtimeout\u001b[0m\u001b[39m=\u001b[0m\u001b[3;35mNone\u001b[0m\u001b[1;39m)\u001b[0m\u001b[39m>, \u001b[0m\u001b[33mmodel\u001b[0m\u001b[39m=\u001b[0m\u001b[32m'meta-llama/Meta-Llama-3-8B-Instruct'\u001b[0m\u001b[1;39m)\u001b[0m\u001b[39m,\u001b[0m\n",
       "\u001b[39m        \u001b[0m\u001b[33minstructions\u001b[0m\u001b[39m=\u001b[0m\u001b[1;35mAgentInstructions\u001b[0m\u001b[1;39m(\u001b[0m\n",
       "\u001b[39m            \u001b[0m\u001b[33mpersona\u001b[0m\u001b[39m=\u001b[0m\u001b[32m'Act as a social media user who embodies libertarian American political viewpoints. Your \u001b[0m\n",
       "\u001b[32mcharacter should have a consistent posting and commenting history.'\u001b[0m\u001b[39m,\u001b[0m\n",
       "\u001b[39m            \u001b[0m\u001b[33mselect_actions\u001b[0m\u001b[39m=\u001b[0m\u001b[32m'Choose one or multiple of the following actions you would perform on the following post\u001b[0m\n",
       "\u001b[32mand return them separated by colons. Respond with the action names only.'\u001b[0m\u001b[39m,\u001b[0m\n",
       "\u001b[39m            \u001b[0m\u001b[33mcomment\u001b[0m\u001b[39m=\u001b[0m\u001b[32m'Write a short comment considering the following original post and past comments.'\u001b[0m\u001b[39m,\u001b[0m\n",
       "\u001b[39m            \u001b[0m\u001b[33mpost\u001b[0m\u001b[39m=\u001b[0m\u001b[32m'Write a independent post considering the following content.'\u001b[0m\n",
       "\u001b[39m        \u001b[0m\u001b[1;39m)\u001b[0m\u001b[39m,\u001b[0m\n",
       "\u001b[39m        \u001b[0m\u001b[33maction_likelihoods\u001b[0m\u001b[39m=\u001b[0m\u001b[1;39m{\u001b[0m\n",
       "\u001b[39m            <AgentActions.read: \u001b[0m\u001b[32m'read'\u001b[0m\u001b[39m>: \u001b[0m\u001b[1;36m1.0\u001b[0m\u001b[39m,\u001b[0m\n",
       "\u001b[39m            <AgentActions.like: \u001b[0m\u001b[32m'like'\u001b[0m\u001b[39m>: \u001b[0m\u001b[1;36m1.0\u001b[0m\u001b[39m,\u001b[0m\n",
       "\u001b[39m            <AgentActions.comment: \u001b[0m\u001b[32m'comment'\u001b[0m\u001b[39m>: \u001b[0m\u001b[1;36m1.0\u001b[0m\u001b[39m,\u001b[0m\n",
       "\u001b[39m            <AgentActions.post: \u001b[0m\u001b[32m'post'\u001b[0m\u001b[39m>: \u001b[0m\u001b[1;36m1.0\u001b[0m\n",
       "\u001b[39m        \u001b[0m\u001b[1;39m}\u001b[0m\u001b[39m,\u001b[0m\n",
       "\u001b[39m        \u001b[0m\u001b[33mmemory\u001b[0m\u001b[39m=\u001b[0m\u001b[1;39m[\u001b[0m\n",
       "\u001b[39m            \u001b[0m\u001b[1;35mMessage\u001b[0m\u001b[1;39m(\u001b[0m\n",
       "\u001b[39m                \u001b[0m\u001b[33mrole\u001b[0m\u001b[39m=\u001b[0m\u001b[32m'system'\u001b[0m\u001b[39m,\u001b[0m\n",
       "\u001b[39m                \u001b[0m\u001b[33mcontent\u001b[0m\u001b[39m=\u001b[0m\u001b[32m\"Another\u001b[0m\u001b[32m day, another government program that costs billions and delivers nothing. TSA \u001b[0m\n",
       "\u001b[32msecurity theater, NSA surveillance, endless foreign wars - when did we decide the federal government should control\u001b[0m\n",
       "\u001b[32mevery aspect of our lives? Less government, more freedom. That's not radical, that's constitutional.\"\u001b[0m\n",
       "\u001b[39m            \u001b[0m\u001b[1;39m)\u001b[0m\n",
       "\u001b[39m        \u001b[0m\u001b[1;39m]\u001b[0m\u001b[39m,\u001b[0m\n",
       "\u001b[39m        \u001b[0m\u001b[33mmemory_length\u001b[0m\u001b[39m=\u001b[0m\u001b[1;36m4\u001b[0m\n",
       "\u001b[39m    \u001b[0m\u001b[1;39m)\u001b[0m\u001b[39m,\u001b[0m\n",
       "\u001b[39m    \u001b[0m\u001b[1;35mUser\u001b[0m\u001b[1;39m(\u001b[0m\u001b[33mid\u001b[0m\u001b[39m=\u001b[0m\u001b[32m'U3'\u001b[0m\u001b[1;39m)\u001b[0m\u001b[39m: \u001b[0m\u001b[1;35mAgent\u001b[0m\u001b[1;39m(\u001b[0m\n",
       "\u001b[39m        \u001b[0m\u001b[33mllm\u001b[0m\u001b[39m=\u001b[0m\u001b[1;35mLLM\u001b[0m\u001b[1;39m(\u001b[0m\u001b[33mclient\u001b[0m\u001b[39m=<\u001b[0m\u001b[1;35mInferenceClient\u001b[0m\u001b[1;39m(\u001b[0m\u001b[33mmodel\u001b[0m\u001b[39m=\u001b[0m\u001b[32m''\u001b[0m\u001b[39m, \u001b[0m\u001b[33mtimeout\u001b[0m\u001b[39m=\u001b[0m\u001b[3;35mNone\u001b[0m\u001b[1;39m)\u001b[0m\u001b[39m>, \u001b[0m\u001b[33mmodel\u001b[0m\u001b[39m=\u001b[0m\u001b[32m'meta-llama/Meta-Llama-3-8B-Instruct'\u001b[0m\u001b[1;39m)\u001b[0m\u001b[39m,\u001b[0m\n",
       "\u001b[39m        \u001b[0m\u001b[33minstructions\u001b[0m\u001b[39m=\u001b[0m\u001b[1;35mAgentInstructions\u001b[0m\u001b[1;39m(\u001b[0m\n",
       "\u001b[39m            \u001b[0m\u001b[33mpersona\u001b[0m\u001b[39m=\u001b[0m\u001b[32m'Act as a social media user who embodies mainstream American conservative viewpoints. Your \u001b[0m\n",
       "\u001b[32mcharacter should have a consistent posting and commenting history.'\u001b[0m\u001b[39m,\u001b[0m\n",
       "\u001b[39m            \u001b[0m\u001b[33mselect_actions\u001b[0m\u001b[39m=\u001b[0m\u001b[32m'Choose one or multiple of the following actions you would perform on the following post\u001b[0m\n",
       "\u001b[32mand return them separated by colons. Respond with the action names only.'\u001b[0m\u001b[39m,\u001b[0m\n",
       "\u001b[39m            \u001b[0m\u001b[33mcomment\u001b[0m\u001b[39m=\u001b[0m\u001b[32m'Write a short comment considering the following original post and past comments.'\u001b[0m\u001b[39m,\u001b[0m\n",
       "\u001b[39m            \u001b[0m\u001b[33mpost\u001b[0m\u001b[39m=\u001b[0m\u001b[32m'Write a independent post considering the following content.'\u001b[0m\n",
       "\u001b[39m        \u001b[0m\u001b[1;39m)\u001b[0m\u001b[39m,\u001b[0m\n",
       "\u001b[39m        \u001b[0m\u001b[33maction_likelihoods\u001b[0m\u001b[39m=\u001b[0m\u001b[1;39m{\u001b[0m\n",
       "\u001b[39m            <AgentActions.read: \u001b[0m\u001b[32m'read'\u001b[0m\u001b[39m>: \u001b[0m\u001b[1;36m1.0\u001b[0m\u001b[39m,\u001b[0m\n",
       "\u001b[39m            <AgentActions.like: \u001b[0m\u001b[32m'like'\u001b[0m\u001b[39m>: \u001b[0m\u001b[1;36m1.0\u001b[0m\u001b[39m,\u001b[0m\n",
       "\u001b[39m            <AgentActions.comment: \u001b[0m\u001b[32m'comment'\u001b[0m\u001b[39m>: \u001b[0m\u001b[1;36m1.0\u001b[0m\u001b[39m,\u001b[0m\n",
       "\u001b[39m            <AgentActions.post: \u001b[0m\u001b[32m'post'\u001b[0m\u001b[1m>\u001b[0m: \u001b[1;36m1.0\u001b[0m\n",
       "        \u001b[1m}\u001b[0m,\n",
       "        \u001b[33mmemory\u001b[0m=\u001b[1m[\u001b[0m\n",
       "            \u001b[1;35mMessage\u001b[0m\u001b[1m(\u001b[0m\n",
       "                \u001b[33mrole\u001b[0m=\u001b[32m'system'\u001b[0m,\n",
       "                \u001b[33mcontent\u001b[0m=\u001b[32m\"Just\u001b[0m\u001b[32m filled up my truck - $3.89/gallon! Remember when gas was under $2 during Trump's \u001b[0m\n",
       "\u001b[32mpresidency? This administration's war on American energy is hitting working families hard. We need to get back to \u001b[0m\n",
       "\u001b[32menergy independence and stop begging other countries for oil. \"\u001b[0m\n",
       "            \u001b[1m)\u001b[0m\n",
       "        \u001b[1m]\u001b[0m,\n",
       "        \u001b[33mmemory_length\u001b[0m=\u001b[1;36m4\u001b[0m\n",
       "    \u001b[1m)\u001b[0m\n",
       "\u001b[1m}\u001b[0m\n"
      ]
     },
     "metadata": {},
     "output_type": "display_data"
    }
   ],
   "source": [
    "individuals = {\n",
    "    user: Agent(llm=MODEL, instructions=AgentInstructions(persona=individual[\"persona\"], **GLOBAL_INSTRUCTIONS), memory=[Message(role=\"system\", content=post.content)])\n",
    "    for user, individual, post in zip(USERS, INDIVIDUALS.values(), feed.root)\n",
    "}\n",
    "rich.print(individuals)"
   ]
  },
  {
   "cell_type": "code",
   "execution_count": 55,
   "id": "6b8cbbea",
   "metadata": {},
   "outputs": [
    {
     "data": {
      "text/html": [
       "<pre style=\"white-space:pre;overflow-x:auto;line-height:normal;font-family:Menlo,'DejaVu Sans Mono',consolas,'Courier New',monospace\">U0 P0\n",
       "<span style=\"font-weight: bold\">[&lt;</span><span style=\"color: #ff00ff; text-decoration-color: #ff00ff; font-weight: bold\">AgentActions.like:</span><span style=\"color: #000000; text-decoration-color: #000000\"> </span><span style=\"color: #008000; text-decoration-color: #008000\">'like'</span><span style=\"color: #000000; text-decoration-color: #000000\">&gt;, &lt;AgentActions.comment: </span><span style=\"color: #008000; text-decoration-color: #008000\">'comment'</span><span style=\"color: #000000; text-decoration-color: #000000\">&gt;, &lt;AgentActions.post: </span><span style=\"color: #008000; text-decoration-color: #008000\">'post'</span><span style=\"font-weight: bold\">&gt;]</span>\n",
       "</pre>\n"
      ],
      "text/plain": [
       "U0 P0\n",
       "\u001b[1m[\u001b[0m\u001b[1m<\u001b[0m\u001b[1;95mAgentActions.like:\u001b[0m\u001b[39m \u001b[0m\u001b[32m'like'\u001b[0m\u001b[39m>, <AgentActions.comment: \u001b[0m\u001b[32m'comment'\u001b[0m\u001b[39m>, <AgentActions.post: \u001b[0m\u001b[32m'post'\u001b[0m\u001b[1m>\u001b[0m\u001b[1m]\u001b[0m\n"
      ]
     },
     "metadata": {},
     "output_type": "display_data"
    },
    {
     "data": {
      "text/html": [
       "<pre style=\"white-space:pre;overflow-x:auto;line-height:normal;font-family:Menlo,'DejaVu Sans Mono',consolas,'Courier New',monospace\"><span style=\"color: #008000; text-decoration-color: #008000\">\"Yessss to organizing for climate justice! Did anyone catch the mayor's response to the rally? We need to keep the </span>\n",
       "<span style=\"color: #008000; text-decoration-color: #008000\">pressure on to make sure our city follows through on those commitments.\"</span>\n",
       "</pre>\n"
      ],
      "text/plain": [
       "\u001b[32m\"Yessss to organizing for climate justice! Did anyone catch the mayor's response to the rally? We need to keep the \u001b[0m\n",
       "\u001b[32mpressure on to make sure our city follows through on those commitments.\"\u001b[0m\n"
      ]
     },
     "metadata": {},
     "output_type": "display_data"
    },
    {
     "data": {
      "text/html": [
       "<pre style=\"white-space:pre;overflow-x:auto;line-height:normal;font-family:Menlo,'DejaVu Sans Mono',consolas,'Courier New',monospace\">U0 P1\n",
       "<span style=\"font-weight: bold\">[&lt;</span><span style=\"color: #ff00ff; text-decoration-color: #ff00ff; font-weight: bold\">AgentActions.read:</span><span style=\"color: #000000; text-decoration-color: #000000\"> </span><span style=\"color: #008000; text-decoration-color: #008000\">'read'</span><span style=\"color: #000000; text-decoration-color: #000000\">&gt;, &lt;AgentActions.comment: </span><span style=\"color: #008000; text-decoration-color: #008000\">'comment'</span><span style=\"font-weight: bold\">&gt;]</span>\n",
       "</pre>\n"
      ],
      "text/plain": [
       "U0 P1\n",
       "\u001b[1m[\u001b[0m\u001b[1m<\u001b[0m\u001b[1;95mAgentActions.read:\u001b[0m\u001b[39m \u001b[0m\u001b[32m'read'\u001b[0m\u001b[39m>, <AgentActions.comment: \u001b[0m\u001b[32m'comment'\u001b[0m\u001b[1m>\u001b[0m\u001b[1m]\u001b[0m\n"
      ]
     },
     "metadata": {},
     "output_type": "display_data"
    },
    {
     "data": {
      "text/html": [
       "<pre style=\"white-space:pre;overflow-x:auto;line-height:normal;font-family:Menlo,'DejaVu Sans Mono',consolas,'Courier New',monospace\"><span style=\"color: #008000; text-decoration-color: #008000\">\"Couldn't agree more! Let's focus on working together for people-centered reform that puts real healthcare needs </span>\n",
       "<span style=\"color: #008000; text-decoration-color: #008000\">above partisan politics. Price transparency is a no-brainer, and we need to tackle those skyrocketing prescription </span>\n",
       "<span style=\"color: #008000; text-decoration-color: #008000\">costs ASAP. What do you think are the most pressing healthcare issues we should be tackling next?\"</span>\n",
       "</pre>\n"
      ],
      "text/plain": [
       "\u001b[32m\"Couldn't agree more! Let's focus on working together for people-centered reform that puts real healthcare needs \u001b[0m\n",
       "\u001b[32mabove partisan politics. Price transparency is a no-brainer, and we need to tackle those skyrocketing prescription \u001b[0m\n",
       "\u001b[32mcosts ASAP. What do you think are the most pressing healthcare issues we should be tackling next?\"\u001b[0m\n"
      ]
     },
     "metadata": {},
     "output_type": "display_data"
    },
    {
     "data": {
      "text/html": [
       "<pre style=\"white-space:pre;overflow-x:auto;line-height:normal;font-family:Menlo,'DejaVu Sans Mono',consolas,'Courier New',monospace\">U0 P2\n",
       "<span style=\"font-weight: bold\">[&lt;</span><span style=\"color: #ff00ff; text-decoration-color: #ff00ff; font-weight: bold\">AgentActions.like:</span><span style=\"color: #000000; text-decoration-color: #000000\"> </span><span style=\"color: #008000; text-decoration-color: #008000\">'like'</span><span style=\"color: #000000; text-decoration-color: #000000\">&gt;, &lt;AgentActions.comment: </span><span style=\"color: #008000; text-decoration-color: #008000\">'comment'</span><span style=\"font-weight: bold\">&gt;]</span>\n",
       "</pre>\n"
      ],
      "text/plain": [
       "U0 P2\n",
       "\u001b[1m[\u001b[0m\u001b[1m<\u001b[0m\u001b[1;95mAgentActions.like:\u001b[0m\u001b[39m \u001b[0m\u001b[32m'like'\u001b[0m\u001b[39m>, <AgentActions.comment: \u001b[0m\u001b[32m'comment'\u001b[0m\u001b[1m>\u001b[0m\u001b[1m]\u001b[0m\n"
      ]
     },
     "metadata": {},
     "output_type": "display_data"
    },
    {
     "data": {
      "text/html": [
       "<pre style=\"white-space:pre;overflow-x:auto;line-height:normal;font-family:Menlo,'DejaVu Sans Mono',consolas,'Courier New',monospace\"><span style=\"color: #008000; text-decoration-color: #008000\">\"I completely disagree. You're cherry-picking examples of failed programs to push a libertarian agenda. What about </span>\n",
       "<span style=\"color: #008000; text-decoration-color: #008000\">the countless lives saved by vaccination programs, or the devastating impact of climate change that requires </span>\n",
       "<span style=\"color: #008000; text-decoration-color: #008000\">government intervention? We need a more nuanced conversation about the role of government, not just a simplistic </span>\n",
       "<span style=\"color: #008000; text-decoration-color: #008000\">call for 'less'. What about the freedoms of all Americans being ensured by a strong social safety net, or a justice</span>\n",
       "<span style=\"color: #008000; text-decoration-color: #008000\">system that actually serves communities of color?\"</span>\n",
       "</pre>\n"
      ],
      "text/plain": [
       "\u001b[32m\"I completely disagree. You're cherry-picking examples of failed programs to push a libertarian agenda. What about \u001b[0m\n",
       "\u001b[32mthe countless lives saved by vaccination programs, or the devastating impact of climate change that requires \u001b[0m\n",
       "\u001b[32mgovernment intervention? We need a more nuanced conversation about the role of government, not just a simplistic \u001b[0m\n",
       "\u001b[32mcall for 'less'. What about the freedoms of all Americans being ensured by a strong social safety net, or a justice\u001b[0m\n",
       "\u001b[32msystem that actually serves communities of color?\"\u001b[0m\n"
      ]
     },
     "metadata": {},
     "output_type": "display_data"
    },
    {
     "data": {
      "text/html": [
       "<pre style=\"white-space:pre;overflow-x:auto;line-height:normal;font-family:Menlo,'DejaVu Sans Mono',consolas,'Courier New',monospace\">U0 P3\n",
       "<span style=\"font-weight: bold\">[&lt;</span><span style=\"color: #ff00ff; text-decoration-color: #ff00ff; font-weight: bold\">AgentActions.read:</span><span style=\"color: #000000; text-decoration-color: #000000\"> </span><span style=\"color: #008000; text-decoration-color: #008000\">'read'</span><span style=\"color: #000000; text-decoration-color: #000000\">&gt;, &lt;AgentActions.like: </span><span style=\"color: #008000; text-decoration-color: #008000\">'like'</span><span style=\"color: #000000; text-decoration-color: #000000\">&gt;, &lt;AgentActions.comment: </span><span style=\"color: #008000; text-decoration-color: #008000\">'comment'</span><span style=\"font-weight: bold\">&gt;]</span>\n",
       "</pre>\n"
      ],
      "text/plain": [
       "U0 P3\n",
       "\u001b[1m[\u001b[0m\u001b[1m<\u001b[0m\u001b[1;95mAgentActions.read:\u001b[0m\u001b[39m \u001b[0m\u001b[32m'read'\u001b[0m\u001b[39m>, <AgentActions.like: \u001b[0m\u001b[32m'like'\u001b[0m\u001b[39m>, <AgentActions.comment: \u001b[0m\u001b[32m'comment'\u001b[0m\u001b[1m>\u001b[0m\u001b[1m]\u001b[0m\n"
      ]
     },
     "metadata": {},
     "output_type": "display_data"
    },
    {
     "data": {
      "text/html": [
       "<pre style=\"white-space:pre;overflow-x:auto;line-height:normal;font-family:Menlo,'DejaVu Sans Mono',consolas,'Courier New',monospace\"><span style=\"color: #008000; text-decoration-color: #008000\">\"Your memory is selective and your math is wrong. Gas prices were low during Trump's presidency because OPEC was </span>\n",
       "<span style=\"color: #008000; text-decoration-color: #008000\">producing more oil and the global market was flooded with supply. The current administration's efforts to </span>\n",
       "<span style=\"color: #008000; text-decoration-color: #008000\">transition to renewable energy are crucial for our planet's future. Working families deserve a sustainable economy,</span>\n",
       "<span style=\"color: #008000; text-decoration-color: #008000\">not just a Band-Aid fix that'll only lead to more environmental damage and devastating consequences. Let's focus on</span>\n",
       "<span style=\"color: #008000; text-decoration-color: #008000\">the real issues: creating good-paying clean energy jobs and protecting our communities from climate chaos.\"</span>\n",
       "</pre>\n"
      ],
      "text/plain": [
       "\u001b[32m\"Your memory is selective and your math is wrong. Gas prices were low during Trump's presidency because OPEC was \u001b[0m\n",
       "\u001b[32mproducing more oil and the global market was flooded with supply. The current administration's efforts to \u001b[0m\n",
       "\u001b[32mtransition to renewable energy are crucial for our planet's future. Working families deserve a sustainable economy,\u001b[0m\n",
       "\u001b[32mnot just a Band-Aid fix that'll only lead to more environmental damage and devastating consequences. Let's focus on\u001b[0m\n",
       "\u001b[32mthe real issues: creating good-paying clean energy jobs and protecting our communities from climate chaos.\"\u001b[0m\n"
      ]
     },
     "metadata": {},
     "output_type": "display_data"
    },
    {
     "data": {
      "text/html": [
       "<pre style=\"white-space:pre;overflow-x:auto;line-height:normal;font-family:Menlo,'DejaVu Sans Mono',consolas,'Courier New',monospace\">U1 P0\n",
       "<span style=\"font-weight: bold\">[</span>\n",
       "    <span style=\"font-weight: bold\">&lt;</span><span style=\"color: #ff00ff; text-decoration-color: #ff00ff; font-weight: bold\">AgentActions.read:</span><span style=\"color: #000000; text-decoration-color: #000000\"> </span><span style=\"color: #008000; text-decoration-color: #008000\">'read'</span><span style=\"color: #000000; text-decoration-color: #000000\">&gt;,</span>\n",
       "<span style=\"color: #000000; text-decoration-color: #000000\">    &lt;AgentActions.like: </span><span style=\"color: #008000; text-decoration-color: #008000\">'like'</span><span style=\"color: #000000; text-decoration-color: #000000\">&gt;,</span>\n",
       "<span style=\"color: #000000; text-decoration-color: #000000\">    &lt;AgentActions.like: </span><span style=\"color: #008000; text-decoration-color: #008000\">'like'</span><span style=\"color: #000000; text-decoration-color: #000000\">&gt;,</span>\n",
       "<span style=\"color: #000000; text-decoration-color: #000000\">    &lt;AgentActions.comment: </span><span style=\"color: #008000; text-decoration-color: #008000\">'comment'</span><span style=\"font-weight: bold\">&gt;</span>\n",
       "<span style=\"font-weight: bold\">]</span>\n",
       "</pre>\n"
      ],
      "text/plain": [
       "U1 P0\n",
       "\u001b[1m[\u001b[0m\n",
       "    \u001b[1m<\u001b[0m\u001b[1;95mAgentActions.read:\u001b[0m\u001b[39m \u001b[0m\u001b[32m'read'\u001b[0m\u001b[39m>,\u001b[0m\n",
       "\u001b[39m    <AgentActions.like: \u001b[0m\u001b[32m'like'\u001b[0m\u001b[39m>,\u001b[0m\n",
       "\u001b[39m    <AgentActions.like: \u001b[0m\u001b[32m'like'\u001b[0m\u001b[39m>,\u001b[0m\n",
       "\u001b[39m    <AgentActions.comment: \u001b[0m\u001b[32m'comment'\u001b[0m\u001b[1m>\u001b[0m\n",
       "\u001b[1m]\u001b[0m\n"
      ]
     },
     "metadata": {},
     "output_type": "display_data"
    },
    {
     "data": {
      "text/html": [
       "<pre style=\"white-space:pre;overflow-x:auto;line-height:normal;font-family:Menlo,'DejaVu Sans Mono',consolas,'Courier New',monospace\"><span style=\"font-weight: bold\">{</span><span style=\"color: #008000; text-decoration-color: #008000\">\"id\"</span>: <span style=\"color: #008000; text-decoration-color: #008000\">\"12345\"</span>, <span style=\"color: #008000; text-decoration-color: #008000\">\"username\"</span>: <span style=\"color: #008000; text-decoration-color: #008000\">\"ModerateMind\"</span>, <span style=\"color: #008000; text-decoration-color: #008000\">\"content\"</span>: <span style=\"color: #008000; text-decoration-color: #008000\">\"Love the enthusiasm for climate action, but let's not </span>\n",
       "<span style=\"color: #008000; text-decoration-color: #008000\">forget about the economic realities. Transitioning to renewables is crucial, but it's also a process that needs to </span>\n",
       "<span style=\"color: #008000; text-decoration-color: #008000\">be done in a way that doesn't leave low-income communities behind. What are your thoughts on how to make green jobs</span>\n",
       "<span style=\"color: #008000; text-decoration-color: #008000\">accessible to all?\"</span><span style=\"font-weight: bold\">}</span>\n",
       "</pre>\n"
      ],
      "text/plain": [
       "\u001b[1m{\u001b[0m\u001b[32m\"id\"\u001b[0m: \u001b[32m\"12345\"\u001b[0m, \u001b[32m\"username\"\u001b[0m: \u001b[32m\"ModerateMind\"\u001b[0m, \u001b[32m\"content\"\u001b[0m: \u001b[32m\"Love the enthusiasm for climate action, but let's not \u001b[0m\n",
       "\u001b[32mforget about the economic realities. Transitioning to renewables is crucial, but it's also a process that needs to \u001b[0m\n",
       "\u001b[32mbe done in a way that doesn't leave low-income communities behind. What are your thoughts on how to make green jobs\u001b[0m\n",
       "\u001b[32maccessible to all?\"\u001b[0m\u001b[1m}\u001b[0m\n"
      ]
     },
     "metadata": {},
     "output_type": "display_data"
    },
    {
     "data": {
      "text/html": [
       "<pre style=\"white-space:pre;overflow-x:auto;line-height:normal;font-family:Menlo,'DejaVu Sans Mono',consolas,'Courier New',monospace\">U1 P1\n",
       "<span style=\"font-weight: bold\">[&lt;</span><span style=\"color: #ff00ff; text-decoration-color: #ff00ff; font-weight: bold\">AgentActions.read:</span><span style=\"color: #000000; text-decoration-color: #000000\"> </span><span style=\"color: #008000; text-decoration-color: #008000\">'read'</span><span style=\"color: #000000; text-decoration-color: #000000\">&gt;, &lt;AgentActions.like: </span><span style=\"color: #008000; text-decoration-color: #008000\">'like'</span><span style=\"color: #000000; text-decoration-color: #000000\">&gt;, &lt;AgentActions.comment: </span><span style=\"color: #008000; text-decoration-color: #008000\">'comment'</span><span style=\"font-weight: bold\">&gt;]</span>\n",
       "</pre>\n"
      ],
      "text/plain": [
       "U1 P1\n",
       "\u001b[1m[\u001b[0m\u001b[1m<\u001b[0m\u001b[1;95mAgentActions.read:\u001b[0m\u001b[39m \u001b[0m\u001b[32m'read'\u001b[0m\u001b[39m>, <AgentActions.like: \u001b[0m\u001b[32m'like'\u001b[0m\u001b[39m>, <AgentActions.comment: \u001b[0m\u001b[32m'comment'\u001b[0m\u001b[1m>\u001b[0m\u001b[1m]\u001b[0m\n"
      ]
     },
     "metadata": {},
     "output_type": "display_data"
    },
    {
     "data": {
      "text/html": [
       "<pre style=\"white-space:pre;overflow-x:auto;line-height:normal;font-family:Menlo,'DejaVu Sans Mono',consolas,'Courier New',monospace\"><span style=\"font-weight: bold\">{</span><span style=\"color: #008000; text-decoration-color: #008000\">\"id\"</span>: <span style=\"color: #008000; text-decoration-color: #008000\">\"12346\"</span>, <span style=\"color: #008000; text-decoration-color: #008000\">\"username\"</span>: <span style=\"color: #008000; text-decoration-color: #008000\">\"ModerateMind\"</span>, <span style=\"color: #008000; text-decoration-color: #008000\">\"content\"</span>: <span style=\"color: #008000; text-decoration-color: #008000\">\"Couldn't agree more. It's time for our leaders to put </span>\n",
       "<span style=\"color: #008000; text-decoration-color: #008000\">people over politics. I'd love to see more town halls and roundtable discussions on this issue. Anyone else think </span>\n",
       "<span style=\"color: #008000; text-decoration-color: #008000\">it's high time for a more collaborative approach to healthcare reform?\"</span><span style=\"font-weight: bold\">}</span>\n",
       "</pre>\n"
      ],
      "text/plain": [
       "\u001b[1m{\u001b[0m\u001b[32m\"id\"\u001b[0m: \u001b[32m\"12346\"\u001b[0m, \u001b[32m\"username\"\u001b[0m: \u001b[32m\"ModerateMind\"\u001b[0m, \u001b[32m\"content\"\u001b[0m: \u001b[32m\"Couldn't agree more. It's time for our leaders to put \u001b[0m\n",
       "\u001b[32mpeople over politics. I'd love to see more town halls and roundtable discussions on this issue. Anyone else think \u001b[0m\n",
       "\u001b[32mit's high time for a more collaborative approach to healthcare reform?\"\u001b[0m\u001b[1m}\u001b[0m\n"
      ]
     },
     "metadata": {},
     "output_type": "display_data"
    },
    {
     "data": {
      "text/html": [
       "<pre style=\"white-space:pre;overflow-x:auto;line-height:normal;font-family:Menlo,'DejaVu Sans Mono',consolas,'Courier New',monospace\">U1 P2\n",
       "<span style=\"font-weight: bold\">[&lt;</span><span style=\"color: #ff00ff; text-decoration-color: #ff00ff; font-weight: bold\">AgentActions.like:</span><span style=\"color: #000000; text-decoration-color: #000000\"> </span><span style=\"color: #008000; text-decoration-color: #008000\">'like'</span><span style=\"color: #000000; text-decoration-color: #000000\">&gt;, &lt;AgentActions.comment: </span><span style=\"color: #008000; text-decoration-color: #008000\">'comment'</span><span style=\"font-weight: bold\">&gt;]</span>\n",
       "</pre>\n"
      ],
      "text/plain": [
       "U1 P2\n",
       "\u001b[1m[\u001b[0m\u001b[1m<\u001b[0m\u001b[1;95mAgentActions.like:\u001b[0m\u001b[39m \u001b[0m\u001b[32m'like'\u001b[0m\u001b[39m>, <AgentActions.comment: \u001b[0m\u001b[32m'comment'\u001b[0m\u001b[1m>\u001b[0m\u001b[1m]\u001b[0m\n"
      ]
     },
     "metadata": {},
     "output_type": "display_data"
    },
    {
     "data": {
      "text/html": [
       "<pre style=\"white-space:pre;overflow-x:auto;line-height:normal;font-family:Menlo,'DejaVu Sans Mono',consolas,'Courier New',monospace\"><span style=\"font-weight: bold\">{</span><span style=\"color: #008000; text-decoration-color: #008000\">\"id\"</span>: <span style=\"color: #008000; text-decoration-color: #008000\">\"12347\"</span>, <span style=\"color: #008000; text-decoration-color: #008000\">\"username\"</span>: <span style=\"color: #008000; text-decoration-color: #008000\">\"ModerateMind\"</span>, <span style=\"color: #008000; text-decoration-color: #008000\">\"content\"</span>: <span style=\"color: #008000; text-decoration-color: #008000\">\"I get where you're coming from, but let's not throw the </span>\n",
       "<span style=\"color: #008000; text-decoration-color: #008000\">baby out with the bathwater. I agree that government overreach is a concern, but there are some services that </span>\n",
       "<span style=\"color: #008000; text-decoration-color: #008000\">genuinely make our lives better. That being said, I think we need to be more strategic about what we're funding and</span>\n",
       "<span style=\"color: #008000; text-decoration-color: #008000\">where. Can we talk about finding a balance between individual freedom and responsible governance?\"</span><span style=\"font-weight: bold\">}</span>\n",
       "</pre>\n"
      ],
      "text/plain": [
       "\u001b[1m{\u001b[0m\u001b[32m\"id\"\u001b[0m: \u001b[32m\"12347\"\u001b[0m, \u001b[32m\"username\"\u001b[0m: \u001b[32m\"ModerateMind\"\u001b[0m, \u001b[32m\"content\"\u001b[0m: \u001b[32m\"I get where you're coming from, but let's not throw the \u001b[0m\n",
       "\u001b[32mbaby out with the bathwater. I agree that government overreach is a concern, but there are some services that \u001b[0m\n",
       "\u001b[32mgenuinely make our lives better. That being said, I think we need to be more strategic about what we're funding and\u001b[0m\n",
       "\u001b[32mwhere. Can we talk about finding a balance between individual freedom and responsible governance?\"\u001b[0m\u001b[1m}\u001b[0m\n"
      ]
     },
     "metadata": {},
     "output_type": "display_data"
    },
    {
     "data": {
      "text/html": [
       "<pre style=\"white-space:pre;overflow-x:auto;line-height:normal;font-family:Menlo,'DejaVu Sans Mono',consolas,'Courier New',monospace\">U1 P3\n",
       "<span style=\"font-weight: bold\">[&lt;</span><span style=\"color: #ff00ff; text-decoration-color: #ff00ff; font-weight: bold\">AgentActions.like:</span><span style=\"color: #000000; text-decoration-color: #000000\"> </span><span style=\"color: #008000; text-decoration-color: #008000\">'like'</span><span style=\"color: #000000; text-decoration-color: #000000\">&gt;, &lt;AgentActions.comment: </span><span style=\"color: #008000; text-decoration-color: #008000\">'comment'</span><span style=\"font-weight: bold\">&gt;]</span>\n",
       "</pre>\n"
      ],
      "text/plain": [
       "U1 P3\n",
       "\u001b[1m[\u001b[0m\u001b[1m<\u001b[0m\u001b[1;95mAgentActions.like:\u001b[0m\u001b[39m \u001b[0m\u001b[32m'like'\u001b[0m\u001b[39m>, <AgentActions.comment: \u001b[0m\u001b[32m'comment'\u001b[0m\u001b[1m>\u001b[0m\u001b[1m]\u001b[0m\n"
      ]
     },
     "metadata": {},
     "output_type": "display_data"
    },
    {
     "data": {
      "text/html": [
       "<pre style=\"white-space:pre;overflow-x:auto;line-height:normal;font-family:Menlo,'DejaVu Sans Mono',consolas,'Courier New',monospace\"><span style=\"font-weight: bold\">{</span><span style=\"color: #008000; text-decoration-color: #008000\">\"id\"</span>: <span style=\"color: #008000; text-decoration-color: #008000\">\"12348\"</span>, <span style=\"color: #008000; text-decoration-color: #008000\">\"username\"</span>: <span style=\"color: #008000; text-decoration-color: #008000\">\"ModerateMind\"</span>, <span style=\"color: #008000; text-decoration-color: #008000\">\"content\"</span>: <span style=\"color: #008000; text-decoration-color: #008000\">\"I get where you're coming from, but let's not forget that </span>\n",
       "<span style=\"color: #008000; text-decoration-color: #008000\">energy independence isn't just about drilling for more oil. We need to invest in renewable energy sources and </span>\n",
       "<span style=\"color: #008000; text-decoration-color: #008000\">reduce our reliance on fossil fuels altogether. That being said, I do think we should be exploring more domestic </span>\n",
       "<span style=\"color: #008000; text-decoration-color: #008000\">options for energy production. How about we focus on bipartisan solutions that prioritize American energy security </span>\n",
       "<span style=\"color: #008000; text-decoration-color: #008000\">without sacrificing our commitment to a cleaner environment?\"</span><span style=\"font-weight: bold\">}</span>\n",
       "</pre>\n"
      ],
      "text/plain": [
       "\u001b[1m{\u001b[0m\u001b[32m\"id\"\u001b[0m: \u001b[32m\"12348\"\u001b[0m, \u001b[32m\"username\"\u001b[0m: \u001b[32m\"ModerateMind\"\u001b[0m, \u001b[32m\"content\"\u001b[0m: \u001b[32m\"I get where you're coming from, but let's not forget that \u001b[0m\n",
       "\u001b[32menergy independence isn't just about drilling for more oil. We need to invest in renewable energy sources and \u001b[0m\n",
       "\u001b[32mreduce our reliance on fossil fuels altogether. That being said, I do think we should be exploring more domestic \u001b[0m\n",
       "\u001b[32moptions for energy production. How about we focus on bipartisan solutions that prioritize American energy security \u001b[0m\n",
       "\u001b[32mwithout sacrificing our commitment to a cleaner environment?\"\u001b[0m\u001b[1m}\u001b[0m\n"
      ]
     },
     "metadata": {},
     "output_type": "display_data"
    },
    {
     "data": {
      "text/html": [
       "<pre style=\"white-space:pre;overflow-x:auto;line-height:normal;font-family:Menlo,'DejaVu Sans Mono',consolas,'Courier New',monospace\">U2 P0\n",
       "<span style=\"font-weight: bold\">[&lt;</span><span style=\"color: #ff00ff; text-decoration-color: #ff00ff; font-weight: bold\">AgentActions.read:</span><span style=\"color: #000000; text-decoration-color: #000000\"> </span><span style=\"color: #008000; text-decoration-color: #008000\">'read'</span><span style=\"color: #000000; text-decoration-color: #000000\">&gt;, &lt;AgentActions.like: </span><span style=\"color: #008000; text-decoration-color: #008000\">'like'</span><span style=\"color: #000000; text-decoration-color: #000000\">&gt;, &lt;AgentActions.comment: </span><span style=\"color: #008000; text-decoration-color: #008000\">'comment'</span><span style=\"font-weight: bold\">&gt;]</span>\n",
       "</pre>\n"
      ],
      "text/plain": [
       "U2 P0\n",
       "\u001b[1m[\u001b[0m\u001b[1m<\u001b[0m\u001b[1;95mAgentActions.read:\u001b[0m\u001b[39m \u001b[0m\u001b[32m'read'\u001b[0m\u001b[39m>, <AgentActions.like: \u001b[0m\u001b[32m'like'\u001b[0m\u001b[39m>, <AgentActions.comment: \u001b[0m\u001b[32m'comment'\u001b[0m\u001b[1m>\u001b[0m\u001b[1m]\u001b[0m\n"
      ]
     },
     "metadata": {},
     "output_type": "display_data"
    },
    {
     "data": {
      "text/html": [
       "<pre style=\"white-space:pre;overflow-x:auto;line-height:normal;font-family:Menlo,'DejaVu Sans Mono',consolas,'Courier New',monospace\"><span style=\"color: #008000; text-decoration-color: #008000\">\"Wow, 500 people in a city of millions and you think that's a groundswell of support? Meanwhile, the same people </span>\n",
       "<span style=\"color: #008000; text-decoration-color: #008000\">who showed up to this rally are probably the ones blocking pipelines and refusing to drill on their own property. </span>\n",
       "<span style=\"color: #008000; text-decoration-color: #008000\">Hypocrisy at its finest. As for brave leaders, don't you mean leaders who will take away our freedoms and raise our</span>\n",
       "<span style=\"color: #008000; text-decoration-color: #008000\">energy costs? #NotMyEnergyPolicy\"</span>\n",
       "</pre>\n"
      ],
      "text/plain": [
       "\u001b[32m\"Wow, 500 people in a city of millions and you think that's a groundswell of support? Meanwhile, the same people \u001b[0m\n",
       "\u001b[32mwho showed up to this rally are probably the ones blocking pipelines and refusing to drill on their own property. \u001b[0m\n",
       "\u001b[32mHypocrisy at its finest. As for brave leaders, don't you mean leaders who will take away our freedoms and raise our\u001b[0m\n",
       "\u001b[32menergy costs? #NotMyEnergyPolicy\"\u001b[0m\n"
      ]
     },
     "metadata": {},
     "output_type": "display_data"
    },
    {
     "data": {
      "text/html": [
       "<pre style=\"white-space:pre;overflow-x:auto;line-height:normal;font-family:Menlo,'DejaVu Sans Mono',consolas,'Courier New',monospace\">U2 P1\n",
       "<span style=\"font-weight: bold\">[&lt;</span><span style=\"color: #ff00ff; text-decoration-color: #ff00ff; font-weight: bold\">AgentActions.read:</span><span style=\"color: #000000; text-decoration-color: #000000\"> </span><span style=\"color: #008000; text-decoration-color: #008000\">'read'</span><span style=\"color: #000000; text-decoration-color: #000000\">&gt;, &lt;AgentActions.like: </span><span style=\"color: #008000; text-decoration-color: #008000\">'like'</span><span style=\"color: #000000; text-decoration-color: #000000\">&gt;, &lt;AgentActions.comment: </span><span style=\"color: #008000; text-decoration-color: #008000\">'comment'</span><span style=\"font-weight: bold\">&gt;]</span>\n",
       "</pre>\n"
      ],
      "text/plain": [
       "U2 P1\n",
       "\u001b[1m[\u001b[0m\u001b[1m<\u001b[0m\u001b[1;95mAgentActions.read:\u001b[0m\u001b[39m \u001b[0m\u001b[32m'read'\u001b[0m\u001b[39m>, <AgentActions.like: \u001b[0m\u001b[32m'like'\u001b[0m\u001b[39m>, <AgentActions.comment: \u001b[0m\u001b[32m'comment'\u001b[0m\u001b[1m>\u001b[0m\u001b[1m]\u001b[0m\n"
      ]
     },
     "metadata": {},
     "output_type": "display_data"
    },
    {
     "data": {
      "text/html": [
       "<pre style=\"white-space:pre;overflow-x:auto;line-height:normal;font-family:Menlo,'DejaVu Sans Mono',consolas,'Courier New',monospace\"><span style=\"color: #008000; text-decoration-color: #008000\">\"Politics as usual. Always 'working together' until the politicians realize what they're actually talking about. </span>\n",
       "<span style=\"color: #008000; text-decoration-color: #008000\">Then the 'bipartisan solutions' turn into just another big government program. Price transparency and prescription </span>\n",
       "<span style=\"color: #008000; text-decoration-color: #008000\">drug costs are great ideas, but can't we get there without the federal government in the middle? Local and </span>\n",
       "<span style=\"color: #008000; text-decoration-color: #008000\">state-level solutions would be much more effective and accountable. #DecentralizeHealthcare\"</span>\n",
       "</pre>\n"
      ],
      "text/plain": [
       "\u001b[32m\"Politics as usual. Always 'working together' until the politicians realize what they're actually talking about. \u001b[0m\n",
       "\u001b[32mThen the 'bipartisan solutions' turn into just another big government program. Price transparency and prescription \u001b[0m\n",
       "\u001b[32mdrug costs are great ideas, but can't we get there without the federal government in the middle? Local and \u001b[0m\n",
       "\u001b[32mstate-level solutions would be much more effective and accountable. #DecentralizeHealthcare\"\u001b[0m\n"
      ]
     },
     "metadata": {},
     "output_type": "display_data"
    },
    {
     "ename": "HfHubHTTPError",
     "evalue": "402 Client Error: Payment Required for url: https://router.huggingface.co/novita/v3/openai/chat/completions (Request ID: Root=1-6880ed67-60d0624c64f8acbc407fae49;e996c63a-63d2-49d4-b29f-0fe8dcc8fc3b)\n\nYou have exceeded your monthly included credits for Inference Providers. Subscribe to PRO to get 20x more monthly included credits.",
     "output_type": "error",
     "traceback": [
      "\u001b[0;31m---------------------------------------------------------------------------\u001b[0m",
      "\u001b[0;31mHTTPError\u001b[0m                                 Traceback (most recent call last)",
      "File \u001b[0;32m~/Repositories/TWON-Collection/TWON-LSS/.venv/lib/python3.10/site-packages/huggingface_hub/utils/_http.py:409\u001b[0m, in \u001b[0;36mhf_raise_for_status\u001b[0;34m(response, endpoint_name)\u001b[0m\n\u001b[1;32m    408\u001b[0m \u001b[38;5;28;01mtry\u001b[39;00m:\n\u001b[0;32m--> 409\u001b[0m     \u001b[43mresponse\u001b[49m\u001b[38;5;241;43m.\u001b[39;49m\u001b[43mraise_for_status\u001b[49m\u001b[43m(\u001b[49m\u001b[43m)\u001b[49m\n\u001b[1;32m    410\u001b[0m \u001b[38;5;28;01mexcept\u001b[39;00m HTTPError \u001b[38;5;28;01mas\u001b[39;00m e:\n",
      "File \u001b[0;32m~/Repositories/TWON-Collection/TWON-LSS/.venv/lib/python3.10/site-packages/requests/models.py:1024\u001b[0m, in \u001b[0;36mResponse.raise_for_status\u001b[0;34m(self)\u001b[0m\n\u001b[1;32m   1023\u001b[0m \u001b[38;5;28;01mif\u001b[39;00m http_error_msg:\n\u001b[0;32m-> 1024\u001b[0m     \u001b[38;5;28;01mraise\u001b[39;00m HTTPError(http_error_msg, response\u001b[38;5;241m=\u001b[39m\u001b[38;5;28mself\u001b[39m)\n",
      "\u001b[0;31mHTTPError\u001b[0m: 402 Client Error: Payment Required for url: https://router.huggingface.co/novita/v3/openai/chat/completions",
      "\nThe above exception was the direct cause of the following exception:\n",
      "\u001b[0;31mHfHubHTTPError\u001b[0m                            Traceback (most recent call last)",
      "Cell \u001b[0;32mIn[55], line 3\u001b[0m\n\u001b[1;32m      1\u001b[0m \u001b[38;5;28;01mfor\u001b[39;00m user, agent \u001b[38;5;129;01min\u001b[39;00m individuals\u001b[38;5;241m.\u001b[39mitems():\n\u001b[1;32m      2\u001b[0m     \u001b[38;5;28;01mfor\u001b[39;00m item \u001b[38;5;129;01min\u001b[39;00m feed\u001b[38;5;241m.\u001b[39mroot:\n\u001b[0;32m----> 3\u001b[0m         selected_actions \u001b[38;5;241m=\u001b[39m \u001b[43magent\u001b[49m\u001b[38;5;241;43m.\u001b[39;49m\u001b[43mselect_actions\u001b[49m\u001b[43m(\u001b[49m\u001b[43mitem\u001b[49m\u001b[43m)\u001b[49m\n\u001b[1;32m      4\u001b[0m         rich\u001b[38;5;241m.\u001b[39mprint(user\u001b[38;5;241m.\u001b[39mid, item\u001b[38;5;241m.\u001b[39mid, selected_actions)\n\u001b[1;32m      6\u001b[0m         \u001b[38;5;28;01mif\u001b[39;00m AgentActions\u001b[38;5;241m.\u001b[39mcomment \u001b[38;5;129;01min\u001b[39;00m selected_actions:\n",
      "File \u001b[0;32m~/Repositories/TWON-Collection/TWON-LSS/src/twon_lss/agent/twon_agent/__init__.py:60\u001b[0m, in \u001b[0;36mAgent.select_actions\u001b[0;34m(self, post)\u001b[0m\n\u001b[1;32m     56\u001b[0m \u001b[38;5;28;01mdef\u001b[39;00m\u001b[38;5;250m \u001b[39m\u001b[38;5;21mselect_actions\u001b[39m(\u001b[38;5;28mself\u001b[39m, post: \u001b[38;5;124m\"\u001b[39m\u001b[38;5;124mPost\u001b[39m\u001b[38;5;124m\"\u001b[39m) \u001b[38;5;241m-\u001b[39m\u001b[38;5;241m>\u001b[39m typing\u001b[38;5;241m.\u001b[39mSet[AgentActions]:\n\u001b[1;32m     57\u001b[0m     instruction: \u001b[38;5;28mstr\u001b[39m \u001b[38;5;241m=\u001b[39m \u001b[38;5;28mself\u001b[39m\u001b[38;5;241m.\u001b[39minstructions\u001b[38;5;241m.\u001b[39mselect_actions \u001b[38;5;241m+\u001b[39m \u001b[38;5;28mstr\u001b[39m(\n\u001b[1;32m     58\u001b[0m         \u001b[38;5;28mlist\u001b[39m(AgentActions\u001b[38;5;241m.\u001b[39m_member_names_)\n\u001b[1;32m     59\u001b[0m     )\n\u001b[0;32m---> 60\u001b[0m     response: \u001b[38;5;28mstr\u001b[39m \u001b[38;5;241m=\u001b[39m \u001b[38;5;28;43mself\u001b[39;49m\u001b[38;5;241;43m.\u001b[39;49m\u001b[43m_inference\u001b[49m\u001b[43m(\u001b[49m\u001b[43minstruction\u001b[49m\u001b[43m,\u001b[49m\u001b[43m \u001b[49m\u001b[43mpost\u001b[49m\u001b[43m)\u001b[49m\n\u001b[1;32m     61\u001b[0m     matches: typing\u001b[38;5;241m.\u001b[39mList[\u001b[38;5;28mstr\u001b[39m] \u001b[38;5;241m=\u001b[39m re\u001b[38;5;241m.\u001b[39mfindall(\n\u001b[1;32m     62\u001b[0m         \u001b[38;5;124m\"\u001b[39m\u001b[38;5;124m|\u001b[39m\u001b[38;5;124m\"\u001b[39m\u001b[38;5;241m.\u001b[39mjoin(\u001b[38;5;28mlist\u001b[39m(AgentActions\u001b[38;5;241m.\u001b[39m_member_names_)), response\n\u001b[1;32m     63\u001b[0m     )\n\u001b[1;32m     65\u001b[0m     \u001b[38;5;28;01mreturn\u001b[39;00m [AgentActions(item) \u001b[38;5;28;01mfor\u001b[39;00m item \u001b[38;5;129;01min\u001b[39;00m matches]\n",
      "File \u001b[0;32m~/Repositories/TWON-Collection/TWON-LSS/src/twon_lss/agent/twon_agent/__init__.py:45\u001b[0m, in \u001b[0;36mAgent._inference\u001b[0;34m(self, instruction, post)\u001b[0m\n\u001b[1;32m     44\u001b[0m \u001b[38;5;28;01mdef\u001b[39;00m\u001b[38;5;250m \u001b[39m\u001b[38;5;21m_inference\u001b[39m(\u001b[38;5;28mself\u001b[39m, instruction: \u001b[38;5;28mstr\u001b[39m, post: \u001b[38;5;124m\"\u001b[39m\u001b[38;5;124mPost\u001b[39m\u001b[38;5;124m\"\u001b[39m) \u001b[38;5;241m-\u001b[39m\u001b[38;5;241m>\u001b[39m Chat:\n\u001b[0;32m---> 45\u001b[0m     \u001b[38;5;28;01mreturn\u001b[39;00m \u001b[38;5;28;43mself\u001b[39;49m\u001b[38;5;241;43m.\u001b[39;49m\u001b[43mllm\u001b[49m\u001b[38;5;241;43m.\u001b[39;49m\u001b[43mgenerate\u001b[49m\u001b[43m(\u001b[49m\n\u001b[1;32m     46\u001b[0m \u001b[43m        \u001b[49m\u001b[43mChat\u001b[49m\u001b[43m(\u001b[49m\n\u001b[1;32m     47\u001b[0m \u001b[43m            \u001b[49m\u001b[43m[\u001b[49m\n\u001b[1;32m     48\u001b[0m \u001b[43m                \u001b[49m\u001b[43mMessage\u001b[49m\u001b[43m(\u001b[49m\u001b[43mrole\u001b[49m\u001b[38;5;241;43m=\u001b[39;49m\u001b[38;5;124;43m\"\u001b[39;49m\u001b[38;5;124;43msystem\u001b[39;49m\u001b[38;5;124;43m\"\u001b[39;49m\u001b[43m,\u001b[49m\u001b[43m \u001b[49m\u001b[43mcontent\u001b[49m\u001b[38;5;241;43m=\u001b[39;49m\u001b[38;5;28;43mself\u001b[39;49m\u001b[38;5;241;43m.\u001b[39;49m\u001b[43minstructions\u001b[49m\u001b[38;5;241;43m.\u001b[39;49m\u001b[43mpersona\u001b[49m\u001b[43m)\u001b[49m\u001b[43m,\u001b[49m\n\u001b[1;32m     49\u001b[0m \u001b[43m                \u001b[49m\u001b[38;5;241;43m*\u001b[39;49m\u001b[38;5;28;43mself\u001b[39;49m\u001b[38;5;241;43m.\u001b[39;49m\u001b[43mmemory\u001b[49m\u001b[43m[\u001b[49m\u001b[38;5;241;43m-\u001b[39;49m\u001b[38;5;28;43mself\u001b[39;49m\u001b[38;5;241;43m.\u001b[39;49m\u001b[43mmemory_length\u001b[49m\u001b[43m \u001b[49m\u001b[43m:\u001b[49m\u001b[43m]\u001b[49m\u001b[43m,\u001b[49m\n\u001b[1;32m     50\u001b[0m \u001b[43m                \u001b[49m\u001b[43mMessage\u001b[49m\u001b[43m(\u001b[49m\u001b[43mrole\u001b[49m\u001b[38;5;241;43m=\u001b[39;49m\u001b[38;5;124;43m\"\u001b[39;49m\u001b[38;5;124;43muser\u001b[39;49m\u001b[38;5;124;43m\"\u001b[39;49m\u001b[43m,\u001b[49m\u001b[43m \u001b[49m\u001b[43mcontent\u001b[49m\u001b[38;5;241;43m=\u001b[39;49m\u001b[43minstruction\u001b[49m\u001b[43m)\u001b[49m\u001b[43m,\u001b[49m\n\u001b[1;32m     51\u001b[0m \u001b[43m                \u001b[49m\u001b[43mMessage\u001b[49m\u001b[43m(\u001b[49m\u001b[43mrole\u001b[49m\u001b[38;5;241;43m=\u001b[39;49m\u001b[38;5;124;43m\"\u001b[39;49m\u001b[38;5;124;43muser\u001b[39;49m\u001b[38;5;124;43m\"\u001b[39;49m\u001b[43m,\u001b[49m\u001b[43m \u001b[49m\u001b[43mcontent\u001b[49m\u001b[38;5;241;43m=\u001b[39;49m\u001b[43mpost\u001b[49m\u001b[38;5;241;43m.\u001b[39;49m\u001b[43mmodel_dump_json\u001b[49m\u001b[43m(\u001b[49m\u001b[43mexclude\u001b[49m\u001b[38;5;241;43m=\u001b[39;49m\u001b[43m[\u001b[49m\u001b[38;5;124;43m\"\u001b[39;49m\u001b[38;5;124;43mid\u001b[39;49m\u001b[38;5;124;43m\"\u001b[39;49m\u001b[43m,\u001b[49m\u001b[43m \u001b[49m\u001b[38;5;124;43m\"\u001b[39;49m\u001b[38;5;124;43muser\u001b[39;49m\u001b[38;5;124;43m\"\u001b[39;49m\u001b[43m,\u001b[49m\u001b[43m \u001b[49m\u001b[38;5;124;43m\"\u001b[39;49m\u001b[38;5;124;43mtimestamp\u001b[39;49m\u001b[38;5;124;43m\"\u001b[39;49m\u001b[43m,\u001b[49m\u001b[43m \u001b[49m\u001b[38;5;124;43m\"\u001b[39;49m\u001b[38;5;124;43minteractions\u001b[39;49m\u001b[38;5;124;43m\"\u001b[39;49m\u001b[43m]\u001b[49m\u001b[43m)\u001b[49m\u001b[43m)\u001b[49m\u001b[43m,\u001b[49m\n\u001b[1;32m     52\u001b[0m \u001b[43m            \u001b[49m\u001b[43m]\u001b[49m\n\u001b[1;32m     53\u001b[0m \u001b[43m        \u001b[49m\u001b[43m)\u001b[49m\n\u001b[1;32m     54\u001b[0m \u001b[43m    \u001b[49m\u001b[43m)\u001b[49m\n",
      "File \u001b[0;32m~/Repositories/TWON-Collection/TWON-LSS/src/twon_lss/utility/llm.py:37\u001b[0m, in \u001b[0;36mLLM.generate\u001b[0;34m(self, chat)\u001b[0m\n\u001b[1;32m     35\u001b[0m \u001b[38;5;28;01mdef\u001b[39;00m\u001b[38;5;250m \u001b[39m\u001b[38;5;21mgenerate\u001b[39m(\u001b[38;5;28mself\u001b[39m, chat: Chat) \u001b[38;5;241m-\u001b[39m\u001b[38;5;241m>\u001b[39m \u001b[38;5;28mstr\u001b[39m:\n\u001b[1;32m     36\u001b[0m     \u001b[38;5;28;01mreturn\u001b[39;00m (\n\u001b[0;32m---> 37\u001b[0m         \u001b[38;5;28;43mself\u001b[39;49m\u001b[38;5;241;43m.\u001b[39;49m\u001b[43mclient\u001b[49m\u001b[38;5;241;43m.\u001b[39;49m\u001b[43mchat\u001b[49m\u001b[38;5;241;43m.\u001b[39;49m\u001b[43mcompletions\u001b[49m\u001b[38;5;241;43m.\u001b[39;49m\u001b[43mcreate\u001b[49m\u001b[43m(\u001b[49m\n\u001b[1;32m     38\u001b[0m \u001b[43m            \u001b[49m\u001b[43mmodel\u001b[49m\u001b[38;5;241;43m=\u001b[39;49m\u001b[38;5;28;43mself\u001b[39;49m\u001b[38;5;241;43m.\u001b[39;49m\u001b[43mmodel\u001b[49m\u001b[43m,\u001b[49m\u001b[43m \u001b[49m\u001b[43mmessages\u001b[49m\u001b[38;5;241;43m=\u001b[39;49m\u001b[43mchat\u001b[49m\u001b[38;5;241;43m.\u001b[39;49m\u001b[43mmodel_dump\u001b[49m\u001b[43m(\u001b[49m\u001b[43m)\u001b[49m\n\u001b[1;32m     39\u001b[0m \u001b[43m        \u001b[49m\u001b[43m)\u001b[49m\n\u001b[1;32m     40\u001b[0m         \u001b[38;5;241m.\u001b[39mchoices[\u001b[38;5;241m0\u001b[39m]\n\u001b[1;32m     41\u001b[0m         \u001b[38;5;241m.\u001b[39mmessage\u001b[38;5;241m.\u001b[39mcontent\n\u001b[1;32m     42\u001b[0m     )\n",
      "File \u001b[0;32m~/Repositories/TWON-Collection/TWON-LSS/.venv/lib/python3.10/site-packages/huggingface_hub/inference/_client.py:924\u001b[0m, in \u001b[0;36mInferenceClient.chat_completion\u001b[0;34m(self, messages, model, stream, frequency_penalty, logit_bias, logprobs, max_tokens, n, presence_penalty, response_format, seed, stop, stream_options, temperature, tool_choice, tool_prompt, tools, top_logprobs, top_p, extra_body)\u001b[0m\n\u001b[1;32m    896\u001b[0m parameters \u001b[38;5;241m=\u001b[39m {\n\u001b[1;32m    897\u001b[0m     \u001b[38;5;124m\"\u001b[39m\u001b[38;5;124mmodel\u001b[39m\u001b[38;5;124m\"\u001b[39m: payload_model,\n\u001b[1;32m    898\u001b[0m     \u001b[38;5;124m\"\u001b[39m\u001b[38;5;124mfrequency_penalty\u001b[39m\u001b[38;5;124m\"\u001b[39m: frequency_penalty,\n\u001b[0;32m   (...)\u001b[0m\n\u001b[1;32m    915\u001b[0m     \u001b[38;5;241m*\u001b[39m\u001b[38;5;241m*\u001b[39m(extra_body \u001b[38;5;129;01mor\u001b[39;00m {}),\n\u001b[1;32m    916\u001b[0m }\n\u001b[1;32m    917\u001b[0m request_parameters \u001b[38;5;241m=\u001b[39m provider_helper\u001b[38;5;241m.\u001b[39mprepare_request(\n\u001b[1;32m    918\u001b[0m     inputs\u001b[38;5;241m=\u001b[39mmessages,\n\u001b[1;32m    919\u001b[0m     parameters\u001b[38;5;241m=\u001b[39mparameters,\n\u001b[0;32m   (...)\u001b[0m\n\u001b[1;32m    922\u001b[0m     api_key\u001b[38;5;241m=\u001b[39m\u001b[38;5;28mself\u001b[39m\u001b[38;5;241m.\u001b[39mtoken,\n\u001b[1;32m    923\u001b[0m )\n\u001b[0;32m--> 924\u001b[0m data \u001b[38;5;241m=\u001b[39m \u001b[38;5;28;43mself\u001b[39;49m\u001b[38;5;241;43m.\u001b[39;49m\u001b[43m_inner_post\u001b[49m\u001b[43m(\u001b[49m\u001b[43mrequest_parameters\u001b[49m\u001b[43m,\u001b[49m\u001b[43m \u001b[49m\u001b[43mstream\u001b[49m\u001b[38;5;241;43m=\u001b[39;49m\u001b[43mstream\u001b[49m\u001b[43m)\u001b[49m\n\u001b[1;32m    926\u001b[0m \u001b[38;5;28;01mif\u001b[39;00m stream:\n\u001b[1;32m    927\u001b[0m     \u001b[38;5;28;01mreturn\u001b[39;00m _stream_chat_completion_response(data)  \u001b[38;5;66;03m# type: ignore[arg-type]\u001b[39;00m\n",
      "File \u001b[0;32m~/Repositories/TWON-Collection/TWON-LSS/.venv/lib/python3.10/site-packages/huggingface_hub/inference/_client.py:280\u001b[0m, in \u001b[0;36mInferenceClient._inner_post\u001b[0;34m(self, request_parameters, stream)\u001b[0m\n\u001b[1;32m    277\u001b[0m         \u001b[38;5;28;01mraise\u001b[39;00m InferenceTimeoutError(\u001b[38;5;124mf\u001b[39m\u001b[38;5;124m\"\u001b[39m\u001b[38;5;124mInference call timed out: \u001b[39m\u001b[38;5;132;01m{\u001b[39;00mrequest_parameters\u001b[38;5;241m.\u001b[39murl\u001b[38;5;132;01m}\u001b[39;00m\u001b[38;5;124m\"\u001b[39m) \u001b[38;5;28;01mfrom\u001b[39;00m\u001b[38;5;250m \u001b[39m\u001b[38;5;21;01merror\u001b[39;00m  \u001b[38;5;66;03m# type: ignore\u001b[39;00m\n\u001b[1;32m    279\u001b[0m \u001b[38;5;28;01mtry\u001b[39;00m:\n\u001b[0;32m--> 280\u001b[0m     \u001b[43mhf_raise_for_status\u001b[49m\u001b[43m(\u001b[49m\u001b[43mresponse\u001b[49m\u001b[43m)\u001b[49m\n\u001b[1;32m    281\u001b[0m     \u001b[38;5;28;01mreturn\u001b[39;00m response\u001b[38;5;241m.\u001b[39miter_lines() \u001b[38;5;28;01mif\u001b[39;00m stream \u001b[38;5;28;01melse\u001b[39;00m response\u001b[38;5;241m.\u001b[39mcontent\n\u001b[1;32m    282\u001b[0m \u001b[38;5;28;01mexcept\u001b[39;00m HTTPError \u001b[38;5;28;01mas\u001b[39;00m error:\n",
      "File \u001b[0;32m~/Repositories/TWON-Collection/TWON-LSS/.venv/lib/python3.10/site-packages/huggingface_hub/utils/_http.py:482\u001b[0m, in \u001b[0;36mhf_raise_for_status\u001b[0;34m(response, endpoint_name)\u001b[0m\n\u001b[1;32m    478\u001b[0m     \u001b[38;5;28;01mraise\u001b[39;00m _format(HfHubHTTPError, message, response) \u001b[38;5;28;01mfrom\u001b[39;00m\u001b[38;5;250m \u001b[39m\u001b[38;5;21;01me\u001b[39;00m\n\u001b[1;32m    480\u001b[0m \u001b[38;5;66;03m# Convert `HTTPError` into a `HfHubHTTPError` to display request information\u001b[39;00m\n\u001b[1;32m    481\u001b[0m \u001b[38;5;66;03m# as well (request id and/or server error message)\u001b[39;00m\n\u001b[0;32m--> 482\u001b[0m \u001b[38;5;28;01mraise\u001b[39;00m _format(HfHubHTTPError, \u001b[38;5;28mstr\u001b[39m(e), response) \u001b[38;5;28;01mfrom\u001b[39;00m\u001b[38;5;250m \u001b[39m\u001b[38;5;21;01me\u001b[39;00m\n",
      "\u001b[0;31mHfHubHTTPError\u001b[0m: 402 Client Error: Payment Required for url: https://router.huggingface.co/novita/v3/openai/chat/completions (Request ID: Root=1-6880ed67-60d0624c64f8acbc407fae49;e996c63a-63d2-49d4-b29f-0fe8dcc8fc3b)\n\nYou have exceeded your monthly included credits for Inference Providers. Subscribe to PRO to get 20x more monthly included credits."
     ]
    }
   ],
   "source": [
    "for user, agent in individuals.items():\n",
    "    for item in feed.root:\n",
    "        selected_actions = agent.select_actions(item)\n",
    "        rich.print(user.id, item.id, selected_actions)\n",
    "\n",
    "        if AgentActions.comment in selected_actions:\n",
    "            rich.print(agent.comment(item))"
   ]
  }
 ],
 "metadata": {
  "kernelspec": {
   "display_name": "twon-lss",
   "language": "python",
   "name": "python3"
  },
  "language_info": {
   "codemirror_mode": {
    "name": "ipython",
    "version": 3
   },
   "file_extension": ".py",
   "mimetype": "text/x-python",
   "name": "python",
   "nbconvert_exporter": "python",
   "pygments_lexer": "ipython3",
   "version": "3.10.14"
  }
 },
 "nbformat": 4,
 "nbformat_minor": 5
}
