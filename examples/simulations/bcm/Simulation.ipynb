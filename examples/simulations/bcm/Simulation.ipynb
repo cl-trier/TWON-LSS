{
 "cells": [
  {
   "cell_type": "code",
   "execution_count": null,
   "id": "e1a77c62",
   "metadata": {},
   "outputs": [],
   "source": [
    "import random\n",
    "\n",
    "import rich\n",
    "\n",
    "import networkx"
   ]
  },
  {
   "cell_type": "code",
   "execution_count": null,
   "id": "9053d18b",
   "metadata": {},
   "outputs": [],
   "source": [
    "from twon_lss.simulations.bcm import (\n",
    "    Simulation,\n",
    "    SimulationArgs,\n",
    "    Ranker,\n",
    "    Agent,\n",
    ")\n",
    "\n",
    "from twon_lss.schemas import Post, User, Feed, Network"
   ]
  },
  {
   "cell_type": "code",
   "execution_count": null,
   "id": "394d5715",
   "metadata": {},
   "outputs": [],
   "source": [
    "NUM_AGENTS: int = 50\n",
    "NUM_NEIGHBORS: int = 5\n",
    "\n",
    "ARGS = SimulationArgs(num_steps=50, num_posts_to_interact_with=1)"
   ]
  },
  {
   "cell_type": "code",
   "execution_count": null,
   "id": "19175a08",
   "metadata": {},
   "outputs": [],
   "source": [
    "RANKER = Ranker()\n",
    "rich.print(RANKER)"
   ]
  },
  {
   "cell_type": "code",
   "execution_count": null,
   "id": "21e9b4c3",
   "metadata": {},
   "outputs": [],
   "source": [
    "USERS = [User() for _ in range(NUM_AGENTS)]\n",
    "rich.print(USERS[:5])"
   ]
  },
  {
   "cell_type": "code",
   "execution_count": null,
   "id": "6042b00c",
   "metadata": {},
   "outputs": [],
   "source": [
    "NETWORK = Network.from_graph(networkx.random_regular_graph(NUM_NEIGHBORS, len(USERS)), USERS)\n",
    "networkx.draw(NETWORK.root)"
   ]
  },
  {
   "cell_type": "code",
   "execution_count": null,
   "id": "95ee1f25",
   "metadata": {},
   "outputs": [],
   "source": [
    "FEED = Feed(\n",
    "    [\n",
    "        Post(user=user, content=str(random.uniform(-1.0, 1.0)))\n",
    "        for user in USERS\n",
    "    ]\n",
    ")\n",
    "rich.print(FEED[:3])"
   ]
  },
  {
   "cell_type": "code",
   "execution_count": null,
   "id": "45917ea9",
   "metadata": {},
   "outputs": [],
   "source": [
    "INDIVIDUALS = {\n",
    "    user: Agent(\n",
    "        memory=[float(post.content)],\n",
    "    )\n",
    "    for user, post in zip(\n",
    "        USERS, FEED.root, strict=False\n",
    "    )\n",
    "}\n",
    "rich.print(INDIVIDUALS.get(USERS[0]))"
   ]
  },
  {
   "cell_type": "code",
   "execution_count": null,
   "id": "6b8cbbea",
   "metadata": {},
   "outputs": [],
   "source": [
    "simulation = Simulation(\n",
    "    args=ARGS,\n",
    "    ranker=RANKER,\n",
    "    individuals=INDIVIDUALS,\n",
    "    network=NETWORK,\n",
    "    feed=FEED,\n",
    ")"
   ]
  },
  {
   "cell_type": "code",
   "execution_count": null,
   "id": "e25425df",
   "metadata": {},
   "outputs": [],
   "source": [
    "simulation()"
   ]
  }
 ],
 "metadata": {
  "kernelspec": {
   "display_name": "twon-lss",
   "language": "python",
   "name": "python3"
  },
  "language_info": {
   "codemirror_mode": {
    "name": "ipython",
    "version": 3
   },
   "file_extension": ".py",
   "mimetype": "text/x-python",
   "name": "python",
   "nbconvert_exporter": "python",
   "pygments_lexer": "ipython3",
   "version": "3.10.14"
  }
 },
 "nbformat": 4,
 "nbformat_minor": 5
}
