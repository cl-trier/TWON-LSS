{
 "cells": [
  {
   "cell_type": "code",
   "execution_count": 1,
   "id": "025d10aa",
   "metadata": {},
   "outputs": [],
   "source": [
    "import datetime\n",
    "import typing\n",
    "\n",
    "import rich"
   ]
  },
  {
   "cell_type": "code",
   "execution_count": 2,
   "id": "677adea4",
   "metadata": {},
   "outputs": [],
   "source": [
    "from twon_lss.utility import Decay\n",
    "\n",
    "from twon_lss.simulations.twon_base.ranker import Engagement"
   ]
  },
  {
   "cell_type": "code",
   "execution_count": 3,
   "id": "68ecf68c",
   "metadata": {},
   "outputs": [],
   "source": [
    "REFERENCE_DATETIME: datetime.datetime = datetime.datetime.now()\n",
    "REFERENCE_TIMEDELTA: datetime.timedelta = datetime.timedelta(days=3)\n",
    "\n",
    "NUM_OBSERVATIONS: int = 1_000"
   ]
  },
  {
   "cell_type": "code",
   "execution_count": 4,
   "id": "4a3f0b1c",
   "metadata": {},
   "outputs": [
    {
     "data": {
      "text/html": [
       "<pre style=\"white-space:pre;overflow-x:auto;line-height:normal;font-family:Menlo,'DejaVu Sans Mono',consolas,'Courier New',monospace\"><span style=\"font-weight: bold\">[</span>\n",
       "    <span style=\"color: #800080; text-decoration-color: #800080; font-weight: bold\">datetime.datetime</span><span style=\"font-weight: bold\">(</span><span style=\"color: #008080; text-decoration-color: #008080; font-weight: bold\">2025</span>, <span style=\"color: #008080; text-decoration-color: #008080; font-weight: bold\">8</span>, <span style=\"color: #008080; text-decoration-color: #008080; font-weight: bold\">3</span>, <span style=\"color: #008080; text-decoration-color: #008080; font-weight: bold\">17</span>, <span style=\"color: #008080; text-decoration-color: #008080; font-weight: bold\">22</span>, <span style=\"color: #008080; text-decoration-color: #008080; font-weight: bold\">31</span>, <span style=\"color: #008080; text-decoration-color: #008080; font-weight: bold\">57762</span><span style=\"font-weight: bold\">)</span>,\n",
       "    <span style=\"color: #800080; text-decoration-color: #800080; font-weight: bold\">datetime.datetime</span><span style=\"font-weight: bold\">(</span><span style=\"color: #008080; text-decoration-color: #008080; font-weight: bold\">2025</span>, <span style=\"color: #008080; text-decoration-color: #008080; font-weight: bold\">8</span>, <span style=\"color: #008080; text-decoration-color: #008080; font-weight: bold\">3</span>, <span style=\"color: #008080; text-decoration-color: #008080; font-weight: bold\">17</span>, <span style=\"color: #008080; text-decoration-color: #008080; font-weight: bold\">26</span>, <span style=\"color: #008080; text-decoration-color: #008080; font-weight: bold\">50</span>, <span style=\"color: #008080; text-decoration-color: #008080; font-weight: bold\">257762</span><span style=\"font-weight: bold\">)</span>,\n",
       "    <span style=\"color: #800080; text-decoration-color: #800080; font-weight: bold\">datetime.datetime</span><span style=\"font-weight: bold\">(</span><span style=\"color: #008080; text-decoration-color: #008080; font-weight: bold\">2025</span>, <span style=\"color: #008080; text-decoration-color: #008080; font-weight: bold\">8</span>, <span style=\"color: #008080; text-decoration-color: #008080; font-weight: bold\">3</span>, <span style=\"color: #008080; text-decoration-color: #008080; font-weight: bold\">17</span>, <span style=\"color: #008080; text-decoration-color: #008080; font-weight: bold\">31</span>, <span style=\"color: #008080; text-decoration-color: #008080; font-weight: bold\">9</span>, <span style=\"color: #008080; text-decoration-color: #008080; font-weight: bold\">457762</span><span style=\"font-weight: bold\">)</span>,\n",
       "    <span style=\"color: #800080; text-decoration-color: #800080; font-weight: bold\">datetime.datetime</span><span style=\"font-weight: bold\">(</span><span style=\"color: #008080; text-decoration-color: #008080; font-weight: bold\">2025</span>, <span style=\"color: #008080; text-decoration-color: #008080; font-weight: bold\">8</span>, <span style=\"color: #008080; text-decoration-color: #008080; font-weight: bold\">3</span>, <span style=\"color: #008080; text-decoration-color: #008080; font-weight: bold\">17</span>, <span style=\"color: #008080; text-decoration-color: #008080; font-weight: bold\">35</span>, <span style=\"color: #008080; text-decoration-color: #008080; font-weight: bold\">28</span>, <span style=\"color: #008080; text-decoration-color: #008080; font-weight: bold\">657762</span><span style=\"font-weight: bold\">)</span>,\n",
       "    <span style=\"color: #800080; text-decoration-color: #800080; font-weight: bold\">datetime.datetime</span><span style=\"font-weight: bold\">(</span><span style=\"color: #008080; text-decoration-color: #008080; font-weight: bold\">2025</span>, <span style=\"color: #008080; text-decoration-color: #008080; font-weight: bold\">8</span>, <span style=\"color: #008080; text-decoration-color: #008080; font-weight: bold\">3</span>, <span style=\"color: #008080; text-decoration-color: #008080; font-weight: bold\">17</span>, <span style=\"color: #008080; text-decoration-color: #008080; font-weight: bold\">39</span>, <span style=\"color: #008080; text-decoration-color: #008080; font-weight: bold\">47</span>, <span style=\"color: #008080; text-decoration-color: #008080; font-weight: bold\">857762</span><span style=\"font-weight: bold\">)</span>\n",
       "<span style=\"font-weight: bold\">]</span>\n",
       "</pre>\n"
      ],
      "text/plain": [
       "\u001b[1m[\u001b[0m\n",
       "    \u001b[1;35mdatetime.datetime\u001b[0m\u001b[1m(\u001b[0m\u001b[1;36m2025\u001b[0m, \u001b[1;36m8\u001b[0m, \u001b[1;36m3\u001b[0m, \u001b[1;36m17\u001b[0m, \u001b[1;36m22\u001b[0m, \u001b[1;36m31\u001b[0m, \u001b[1;36m57762\u001b[0m\u001b[1m)\u001b[0m,\n",
       "    \u001b[1;35mdatetime.datetime\u001b[0m\u001b[1m(\u001b[0m\u001b[1;36m2025\u001b[0m, \u001b[1;36m8\u001b[0m, \u001b[1;36m3\u001b[0m, \u001b[1;36m17\u001b[0m, \u001b[1;36m26\u001b[0m, \u001b[1;36m50\u001b[0m, \u001b[1;36m257762\u001b[0m\u001b[1m)\u001b[0m,\n",
       "    \u001b[1;35mdatetime.datetime\u001b[0m\u001b[1m(\u001b[0m\u001b[1;36m2025\u001b[0m, \u001b[1;36m8\u001b[0m, \u001b[1;36m3\u001b[0m, \u001b[1;36m17\u001b[0m, \u001b[1;36m31\u001b[0m, \u001b[1;36m9\u001b[0m, \u001b[1;36m457762\u001b[0m\u001b[1m)\u001b[0m,\n",
       "    \u001b[1;35mdatetime.datetime\u001b[0m\u001b[1m(\u001b[0m\u001b[1;36m2025\u001b[0m, \u001b[1;36m8\u001b[0m, \u001b[1;36m3\u001b[0m, \u001b[1;36m17\u001b[0m, \u001b[1;36m35\u001b[0m, \u001b[1;36m28\u001b[0m, \u001b[1;36m657762\u001b[0m\u001b[1m)\u001b[0m,\n",
       "    \u001b[1;35mdatetime.datetime\u001b[0m\u001b[1m(\u001b[0m\u001b[1;36m2025\u001b[0m, \u001b[1;36m8\u001b[0m, \u001b[1;36m3\u001b[0m, \u001b[1;36m17\u001b[0m, \u001b[1;36m39\u001b[0m, \u001b[1;36m47\u001b[0m, \u001b[1;36m857762\u001b[0m\u001b[1m)\u001b[0m\n",
       "\u001b[1m]\u001b[0m\n"
      ]
     },
     "metadata": {},
     "output_type": "display_data"
    }
   ],
   "source": [
    "observations: typing.List[datetime.datetime] = [\n",
    "    REFERENCE_DATETIME - (REFERENCE_TIMEDELTA * i / NUM_OBSERVATIONS)\n",
    "    for i in reversed(range(NUM_OBSERVATIONS))\n",
    "]\n",
    "rich.print(observations[:5])"
   ]
  },
  {
   "cell_type": "code",
   "execution_count": 5,
   "id": "afb083fd",
   "metadata": {},
   "outputs": [],
   "source": [
    "decay: Decay = Decay(minimum=0.2, timedelta=REFERENCE_TIMEDELTA)"
   ]
  },
  {
   "cell_type": "code",
   "execution_count": 6,
   "id": "b420b9d1",
   "metadata": {},
   "outputs": [
    {
     "data": {
      "text/html": [
       "<pre style=\"white-space:pre;overflow-x:auto;line-height:normal;font-family:Menlo,'DejaVu Sans Mono',consolas,'Courier New',monospace\">engagement for observations <span style=\"font-weight: bold\">(</span><span style=\"color: #808000; text-decoration-color: #808000\">NUM_OBSERVATIONS</span>=<span style=\"color: #008080; text-decoration-color: #008080; font-weight: bold\">1000</span><span style=\"font-weight: bold\">)</span>:\n",
       "\n",
       "linear:              <span style=\"color: #008080; text-decoration-color: #008080; font-weight: bold\">520.4000000000001</span> \n",
       "logarithmic:         <span style=\"color: #008080; text-decoration-color: #008080; font-weight: bold\">6.254597746638351</span> \n",
       "\n",
       "</pre>\n"
      ],
      "text/plain": [
       "engagement for observations \u001b[1m(\u001b[0m\u001b[33mNUM_OBSERVATIONS\u001b[0m=\u001b[1;36m1000\u001b[0m\u001b[1m)\u001b[0m:\n",
       "\n",
       "linear:              \u001b[1;36m520.4000000000001\u001b[0m \n",
       "logarithmic:         \u001b[1;36m6.254597746638351\u001b[0m \n",
       "\n"
      ]
     },
     "metadata": {},
     "output_type": "display_data"
    }
   ],
   "source": [
    "kwargs = dict(reference_datetime=REFERENCE_DATETIME, decay=decay)\n",
    "\n",
    "rich.print(f\"\"\"engagement for observations ({NUM_OBSERVATIONS=}):\n",
    "\n",
    "{\"linear:\":20} {Engagement(log_normalize=False)(observations, **kwargs)} \n",
    "{\"logarithmic:\":20} {Engagement(log_normalize=True)(observations, **kwargs)} \n",
    "\"\"\")"
   ]
  }
 ],
 "metadata": {
  "kernelspec": {
   "display_name": "twon-lss",
   "language": "python",
   "name": "python3"
  },
  "language_info": {
   "codemirror_mode": {
    "name": "ipython",
    "version": 3
   },
   "file_extension": ".py",
   "mimetype": "text/x-python",
   "name": "python",
   "nbconvert_exporter": "python",
   "pygments_lexer": "ipython3",
   "version": "3.10.14"
  }
 },
 "nbformat": 4,
 "nbformat_minor": 5
}
