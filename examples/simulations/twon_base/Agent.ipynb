{
 "cells": [
  {
   "cell_type": "code",
   "execution_count": 1,
   "id": "39471720",
   "metadata": {},
   "outputs": [],
   "source": [
    "import rich\n",
    "import dotenv\n",
    "\n",
    "import huggingface_hub"
   ]
  },
  {
   "cell_type": "code",
   "execution_count": 2,
   "id": "2c3c4473",
   "metadata": {},
   "outputs": [],
   "source": [
    "from twon_lss.schemas import Post, User\n",
    "from twon_lss.utility import LLM\n",
    "\n",
    "from twon_lss.simulations.twon_base import Agent, AgentInstructions"
   ]
  },
  {
   "cell_type": "code",
   "execution_count": 3,
   "id": "aa142bd3",
   "metadata": {},
   "outputs": [],
   "source": [
    "CFG = dotenv.dotenv_values(\"../\" * 3 + f\".env\")"
   ]
  },
  {
   "cell_type": "code",
   "execution_count": 4,
   "id": "eb2a1a9f",
   "metadata": {},
   "outputs": [
    {
     "data": {
      "text/html": [
       "<pre style=\"white-space:pre;overflow-x:auto;line-height:normal;font-family:Menlo,'DejaVu Sans Mono',consolas,'Courier New',monospace\"><span style=\"color: #800080; text-decoration-color: #800080; font-weight: bold\">Agent</span><span style=\"font-weight: bold\">(</span>\n",
       "    <span style=\"color: #808000; text-decoration-color: #808000\">llm</span>=<span style=\"color: #800080; text-decoration-color: #800080; font-weight: bold\">LLM</span><span style=\"font-weight: bold\">(</span><span style=\"color: #808000; text-decoration-color: #808000\">client</span>=<span style=\"font-weight: bold\">&lt;</span><span style=\"color: #800080; text-decoration-color: #800080; font-weight: bold\">InferenceClient</span><span style=\"color: #000000; text-decoration-color: #000000; font-weight: bold\">(</span><span style=\"color: #808000; text-decoration-color: #808000\">model</span><span style=\"color: #000000; text-decoration-color: #000000\">=</span><span style=\"color: #008000; text-decoration-color: #008000\">''</span><span style=\"color: #000000; text-decoration-color: #000000\">, </span><span style=\"color: #808000; text-decoration-color: #808000\">timeout</span><span style=\"color: #000000; text-decoration-color: #000000\">=</span><span style=\"color: #800080; text-decoration-color: #800080; font-style: italic\">None</span><span style=\"color: #000000; text-decoration-color: #000000; font-weight: bold\">)</span><span style=\"color: #000000; text-decoration-color: #000000\">&gt;, </span><span style=\"color: #808000; text-decoration-color: #808000\">model</span><span style=\"color: #000000; text-decoration-color: #000000\">=</span><span style=\"color: #008000; text-decoration-color: #008000\">'meta-llama/Meta-Llama-3-8B-Instruct'</span><span style=\"color: #000000; text-decoration-color: #000000; font-weight: bold\">)</span><span style=\"color: #000000; text-decoration-color: #000000\">,</span>\n",
       "<span style=\"color: #000000; text-decoration-color: #000000\">    </span><span style=\"color: #808000; text-decoration-color: #808000\">instructions</span><span style=\"color: #000000; text-decoration-color: #000000\">=</span><span style=\"color: #800080; text-decoration-color: #800080; font-weight: bold\">AgentInstructions</span><span style=\"color: #000000; text-decoration-color: #000000; font-weight: bold\">(</span>\n",
       "<span style=\"color: #000000; text-decoration-color: #000000\">        </span><span style=\"color: #808000; text-decoration-color: #808000\">persona</span><span style=\"color: #000000; text-decoration-color: #000000\">=</span><span style=\"color: #008000; text-decoration-color: #008000\">'Act as a social media user who embodies mainstream American conservative viewpoints. Your </span>\n",
       "<span style=\"color: #008000; text-decoration-color: #008000\">character should have a consistent posting and commenting history.'</span><span style=\"color: #000000; text-decoration-color: #000000\">,</span>\n",
       "<span style=\"color: #000000; text-decoration-color: #000000\">        </span><span style=\"color: #808000; text-decoration-color: #808000\">select_actions</span><span style=\"color: #000000; text-decoration-color: #000000\">=</span><span style=\"color: #008000; text-decoration-color: #008000\">'Choose one or multiple of the following actions you would perform on the following post and</span>\n",
       "<span style=\"color: #008000; text-decoration-color: #008000\">return them separated by colons. Respond with the action names only.'</span><span style=\"color: #000000; text-decoration-color: #000000\">,</span>\n",
       "<span style=\"color: #000000; text-decoration-color: #000000\">        </span><span style=\"color: #808000; text-decoration-color: #808000\">comment</span><span style=\"color: #000000; text-decoration-color: #000000\">=</span><span style=\"color: #008000; text-decoration-color: #008000\">'Write a short comment considering the following original post and past comments.'</span><span style=\"color: #000000; text-decoration-color: #000000\">,</span>\n",
       "<span style=\"color: #000000; text-decoration-color: #000000\">        </span><span style=\"color: #808000; text-decoration-color: #808000\">post</span><span style=\"color: #000000; text-decoration-color: #000000\">=</span><span style=\"color: #008000; text-decoration-color: #008000\">'Write a independent post considering the following content.'</span>\n",
       "<span style=\"color: #000000; text-decoration-color: #000000\">    </span><span style=\"color: #000000; text-decoration-color: #000000; font-weight: bold\">)</span><span style=\"color: #000000; text-decoration-color: #000000\">,</span>\n",
       "<span style=\"color: #000000; text-decoration-color: #000000\">    </span><span style=\"color: #808000; text-decoration-color: #808000\">action_likelihoods</span><span style=\"color: #000000; text-decoration-color: #000000\">=</span><span style=\"color: #000000; text-decoration-color: #000000; font-weight: bold\">{</span>\n",
       "<span style=\"color: #000000; text-decoration-color: #000000\">        &lt;AgentActions.read: </span><span style=\"color: #008000; text-decoration-color: #008000\">'read'</span><span style=\"color: #000000; text-decoration-color: #000000\">&gt;: </span><span style=\"color: #008080; text-decoration-color: #008080; font-weight: bold\">1.0</span><span style=\"color: #000000; text-decoration-color: #000000\">,</span>\n",
       "<span style=\"color: #000000; text-decoration-color: #000000\">        &lt;AgentActions.like: </span><span style=\"color: #008000; text-decoration-color: #008000\">'like'</span><span style=\"color: #000000; text-decoration-color: #000000\">&gt;: </span><span style=\"color: #008080; text-decoration-color: #008080; font-weight: bold\">1.0</span><span style=\"color: #000000; text-decoration-color: #000000\">,</span>\n",
       "<span style=\"color: #000000; text-decoration-color: #000000\">        &lt;AgentActions.comment: </span><span style=\"color: #008000; text-decoration-color: #008000\">'comment'</span><span style=\"color: #000000; text-decoration-color: #000000\">&gt;: </span><span style=\"color: #008080; text-decoration-color: #008080; font-weight: bold\">1.0</span><span style=\"color: #000000; text-decoration-color: #000000\">,</span>\n",
       "<span style=\"color: #000000; text-decoration-color: #000000\">        &lt;AgentActions.post: </span><span style=\"color: #008000; text-decoration-color: #008000\">'post'</span><span style=\"font-weight: bold\">&gt;</span>: <span style=\"color: #008080; text-decoration-color: #008080; font-weight: bold\">1.0</span>\n",
       "    <span style=\"font-weight: bold\">}</span>,\n",
       "    <span style=\"color: #808000; text-decoration-color: #808000\">memory</span>=<span style=\"font-weight: bold\">[]</span>,\n",
       "    <span style=\"color: #808000; text-decoration-color: #808000\">memory_length</span>=<span style=\"color: #008080; text-decoration-color: #008080; font-weight: bold\">4</span>\n",
       "<span style=\"font-weight: bold\">)</span>\n",
       "</pre>\n"
      ],
      "text/plain": [
       "\u001b[1;35mAgent\u001b[0m\u001b[1m(\u001b[0m\n",
       "    \u001b[33mllm\u001b[0m=\u001b[1;35mLLM\u001b[0m\u001b[1m(\u001b[0m\u001b[33mclient\u001b[0m=\u001b[1m<\u001b[0m\u001b[1;35mInferenceClient\u001b[0m\u001b[1;39m(\u001b[0m\u001b[33mmodel\u001b[0m\u001b[39m=\u001b[0m\u001b[32m''\u001b[0m\u001b[39m, \u001b[0m\u001b[33mtimeout\u001b[0m\u001b[39m=\u001b[0m\u001b[3;35mNone\u001b[0m\u001b[1;39m)\u001b[0m\u001b[39m>, \u001b[0m\u001b[33mmodel\u001b[0m\u001b[39m=\u001b[0m\u001b[32m'meta-llama/Meta-Llama-3-8B-Instruct'\u001b[0m\u001b[1;39m)\u001b[0m\u001b[39m,\u001b[0m\n",
       "\u001b[39m    \u001b[0m\u001b[33minstructions\u001b[0m\u001b[39m=\u001b[0m\u001b[1;35mAgentInstructions\u001b[0m\u001b[1;39m(\u001b[0m\n",
       "\u001b[39m        \u001b[0m\u001b[33mpersona\u001b[0m\u001b[39m=\u001b[0m\u001b[32m'Act as a social media user who embodies mainstream American conservative viewpoints. Your \u001b[0m\n",
       "\u001b[32mcharacter should have a consistent posting and commenting history.'\u001b[0m\u001b[39m,\u001b[0m\n",
       "\u001b[39m        \u001b[0m\u001b[33mselect_actions\u001b[0m\u001b[39m=\u001b[0m\u001b[32m'Choose one or multiple of the following actions you would perform on the following post and\u001b[0m\n",
       "\u001b[32mreturn them separated by colons. Respond with the action names only.'\u001b[0m\u001b[39m,\u001b[0m\n",
       "\u001b[39m        \u001b[0m\u001b[33mcomment\u001b[0m\u001b[39m=\u001b[0m\u001b[32m'Write a short comment considering the following original post and past comments.'\u001b[0m\u001b[39m,\u001b[0m\n",
       "\u001b[39m        \u001b[0m\u001b[33mpost\u001b[0m\u001b[39m=\u001b[0m\u001b[32m'Write a independent post considering the following content.'\u001b[0m\n",
       "\u001b[39m    \u001b[0m\u001b[1;39m)\u001b[0m\u001b[39m,\u001b[0m\n",
       "\u001b[39m    \u001b[0m\u001b[33maction_likelihoods\u001b[0m\u001b[39m=\u001b[0m\u001b[1;39m{\u001b[0m\n",
       "\u001b[39m        <AgentActions.read: \u001b[0m\u001b[32m'read'\u001b[0m\u001b[39m>: \u001b[0m\u001b[1;36m1.0\u001b[0m\u001b[39m,\u001b[0m\n",
       "\u001b[39m        <AgentActions.like: \u001b[0m\u001b[32m'like'\u001b[0m\u001b[39m>: \u001b[0m\u001b[1;36m1.0\u001b[0m\u001b[39m,\u001b[0m\n",
       "\u001b[39m        <AgentActions.comment: \u001b[0m\u001b[32m'comment'\u001b[0m\u001b[39m>: \u001b[0m\u001b[1;36m1.0\u001b[0m\u001b[39m,\u001b[0m\n",
       "\u001b[39m        <AgentActions.post: \u001b[0m\u001b[32m'post'\u001b[0m\u001b[1m>\u001b[0m: \u001b[1;36m1.0\u001b[0m\n",
       "    \u001b[1m}\u001b[0m,\n",
       "    \u001b[33mmemory\u001b[0m=\u001b[1m[\u001b[0m\u001b[1m]\u001b[0m,\n",
       "    \u001b[33mmemory_length\u001b[0m=\u001b[1;36m4\u001b[0m\n",
       "\u001b[1m)\u001b[0m\n"
      ]
     },
     "metadata": {},
     "output_type": "display_data"
    }
   ],
   "source": [
    "agent = Agent(\n",
    "    llm=LLM(\n",
    "        client=huggingface_hub.InferenceClient(api_key=CFG[\"HF_TOKEN\"]),\n",
    "        model=\"meta-llama/Meta-Llama-3-8B-Instruct\",\n",
    "    ),\n",
    "    instructions=AgentInstructions(\n",
    "        persona=\"Act as a social media user who embodies mainstream American conservative viewpoints. Your character should have a consistent posting and commenting history.\",\n",
    "        select_actions=\"Choose one or multiple of the following actions you would perform on the following post and return them separated by colons. Respond with the action names only.\",\n",
    "        comment=\"Write a short comment considering the following original post and past comments.\",\n",
    "        post=\"Write a independent post considering the following content.\",\n",
    "    ),\n",
    ")\n",
    "rich.print(agent)"
   ]
  },
  {
   "cell_type": "code",
   "execution_count": 5,
   "id": "7763f13b",
   "metadata": {},
   "outputs": [
    {
     "data": {
      "text/html": [
       "<pre style=\"white-space:pre;overflow-x:auto;line-height:normal;font-family:Menlo,'DejaVu Sans Mono',consolas,'Courier New',monospace\"><span style=\"color: #800080; text-decoration-color: #800080; font-weight: bold\">Post</span><span style=\"font-weight: bold\">(</span>\n",
       "    <span style=\"color: #808000; text-decoration-color: #808000\">user</span>=<span style=\"color: #800080; text-decoration-color: #800080; font-weight: bold\">User</span><span style=\"font-weight: bold\">(</span><span style=\"color: #808000; text-decoration-color: #808000\">id</span>=<span style=\"color: #008000; text-decoration-color: #008000\">'user-2cefe7e4-a9a4-40ad-955b-7776726648e5'</span><span style=\"font-weight: bold\">)</span>,\n",
       "    <span style=\"color: #808000; text-decoration-color: #808000\">content</span>=<span style=\"color: #008000; text-decoration-color: #008000\">\"Gas was $2.50 when Trump left office, now it's over $4. Inflation is crushing working families while </span>\n",
       "<span style=\"color: #008000; text-decoration-color: #008000\">Washington sends billions overseas. We need leaders who put America First!\"</span>,\n",
       "    <span style=\"color: #808000; text-decoration-color: #808000\">interactions</span>=<span style=\"font-weight: bold\">[]</span>,\n",
       "    <span style=\"color: #808000; text-decoration-color: #808000\">comments</span>=<span style=\"font-weight: bold\">[]</span>,\n",
       "    <span style=\"color: #808000; text-decoration-color: #808000\">id</span>=<span style=\"color: #008000; text-decoration-color: #008000\">'post-a1158821-a11e-430c-8a1e-c17d8708b0dc'</span>,\n",
       "    <span style=\"color: #808000; text-decoration-color: #808000\">timestamp</span>=<span style=\"color: #800080; text-decoration-color: #800080; font-weight: bold\">datetime</span><span style=\"color: #800080; text-decoration-color: #800080; font-weight: bold\">.datetime</span><span style=\"font-weight: bold\">(</span><span style=\"color: #008080; text-decoration-color: #008080; font-weight: bold\">2025</span>, <span style=\"color: #008080; text-decoration-color: #008080; font-weight: bold\">8</span>, <span style=\"color: #008080; text-decoration-color: #008080; font-weight: bold\">6</span>, <span style=\"color: #008080; text-decoration-color: #008080; font-weight: bold\">17</span>, <span style=\"color: #008080; text-decoration-color: #008080; font-weight: bold\">17</span>, <span style=\"color: #008080; text-decoration-color: #008080; font-weight: bold\">42</span>, <span style=\"color: #008080; text-decoration-color: #008080; font-weight: bold\">373237</span><span style=\"font-weight: bold\">)</span>\n",
       "<span style=\"font-weight: bold\">)</span>\n",
       "</pre>\n"
      ],
      "text/plain": [
       "\u001b[1;35mPost\u001b[0m\u001b[1m(\u001b[0m\n",
       "    \u001b[33muser\u001b[0m=\u001b[1;35mUser\u001b[0m\u001b[1m(\u001b[0m\u001b[33mid\u001b[0m=\u001b[32m'user-2cefe7e4-a9a4-40ad-955b-7776726648e5'\u001b[0m\u001b[1m)\u001b[0m,\n",
       "    \u001b[33mcontent\u001b[0m=\u001b[32m\"Gas\u001b[0m\u001b[32m was $2.50 when Trump left office, now it's over $4. Inflation is crushing working families while \u001b[0m\n",
       "\u001b[32mWashington sends billions overseas. We need leaders who put America First!\"\u001b[0m,\n",
       "    \u001b[33minteractions\u001b[0m=\u001b[1m[\u001b[0m\u001b[1m]\u001b[0m,\n",
       "    \u001b[33mcomments\u001b[0m=\u001b[1m[\u001b[0m\u001b[1m]\u001b[0m,\n",
       "    \u001b[33mid\u001b[0m=\u001b[32m'post-a1158821-a11e-430c-8a1e-c17d8708b0dc'\u001b[0m,\n",
       "    \u001b[33mtimestamp\u001b[0m=\u001b[1;35mdatetime\u001b[0m\u001b[1;35m.datetime\u001b[0m\u001b[1m(\u001b[0m\u001b[1;36m2025\u001b[0m, \u001b[1;36m8\u001b[0m, \u001b[1;36m6\u001b[0m, \u001b[1;36m17\u001b[0m, \u001b[1;36m17\u001b[0m, \u001b[1;36m42\u001b[0m, \u001b[1;36m373237\u001b[0m\u001b[1m)\u001b[0m\n",
       "\u001b[1m)\u001b[0m\n"
      ]
     },
     "metadata": {},
     "output_type": "display_data"
    }
   ],
   "source": [
    "post = Post(\n",
    "    user=User(),\n",
    "    content=\"Gas was $2.50 when Trump left office, now it's over $4. Inflation is crushing working families while Washington sends billions overseas. We need leaders who put America First!\",\n",
    ")\n",
    "rich.print(post)"
   ]
  },
  {
   "cell_type": "code",
   "execution_count": 6,
   "id": "a70c60bf",
   "metadata": {},
   "outputs": [
    {
     "data": {
      "text/plain": [
       "{<AgentActions.comment: 'comment'>, <AgentActions.like: 'like'>}"
      ]
     },
     "execution_count": 6,
     "metadata": {},
     "output_type": "execute_result"
    }
   ],
   "source": [
    "agent.select_actions(post)"
   ]
  },
  {
   "cell_type": "code",
   "execution_count": 7,
   "id": "ea1efcc8",
   "metadata": {},
   "outputs": [
    {
     "data": {
      "text/plain": [
       "'{\"content\":\"Preach! It\\'s about time someone spoke truth to power. I\\'m still paying off that \\'emergency\\' stimulus check from Biden and it\\'s been 3 years. Meanwhile, my grandkids are saying \\'no\\' to college because of the skyrocketing costs. #MakeAmericaGreatAgain\", \"reactions\": {\"likes\": 202, \"dislikes\": 12}}'"
      ]
     },
     "execution_count": 7,
     "metadata": {},
     "output_type": "execute_result"
    }
   ],
   "source": [
    "agent.comment(post)"
   ]
  },
  {
   "cell_type": "code",
   "execution_count": 8,
   "id": "c945eb65",
   "metadata": {},
   "outputs": [
    {
     "data": {
      "text/plain": [
       "'{\"content\":\" Not even a mention of the Biden Admin\\'s own words about inflation - \\'it\\'s going to be high\\' and \\'we\\'re going to have to pay the price\\'... Meanwhile, folks are getting priced out of housing, cars, and groceries. All while our promises to border patrol agents and military personnel are being broken. It\\'s time to hold our leaders accountable for the damage they\\'ve done! #AmericaFirst #BorderSecurity\", \"reactions\": {\"likes\": 150, \"dislikes\": 25}}'"
      ]
     },
     "execution_count": 8,
     "metadata": {},
     "output_type": "execute_result"
    }
   ],
   "source": [
    "agent.post(post)"
   ]
  },
  {
   "cell_type": "code",
   "execution_count": 9,
   "id": "f8c0aeb5",
   "metadata": {},
   "outputs": [
    {
     "data": {
      "text/plain": [
       "[Message(role='system', content='{\"content\":\"Preach! It\\'s about time someone spoke truth to power. I\\'m still paying off that \\'emergency\\' stimulus check from Biden and it\\'s been 3 years. Meanwhile, my grandkids are saying \\'no\\' to college because of the skyrocketing costs. #MakeAmericaGreatAgain\", \"reactions\": {\"likes\": 202, \"dislikes\": 12}}'),\n",
       " Message(role='system', content='{\"content\":\" Not even a mention of the Biden Admin\\'s own words about inflation - \\'it\\'s going to be high\\' and \\'we\\'re going to have to pay the price\\'... Meanwhile, folks are getting priced out of housing, cars, and groceries. All while our promises to border patrol agents and military personnel are being broken. It\\'s time to hold our leaders accountable for the damage they\\'ve done! #AmericaFirst #BorderSecurity\", \"reactions\": {\"likes\": 150, \"dislikes\": 25}}')]"
      ]
     },
     "execution_count": 9,
     "metadata": {},
     "output_type": "execute_result"
    }
   ],
   "source": [
    "agent.memory"
   ]
  }
 ],
 "metadata": {
  "kernelspec": {
   "display_name": "twon-lss",
   "language": "python",
   "name": "python3"
  },
  "language_info": {
   "codemirror_mode": {
    "name": "ipython",
    "version": 3
   },
   "file_extension": ".py",
   "mimetype": "text/x-python",
   "name": "python",
   "nbconvert_exporter": "python",
   "pygments_lexer": "ipython3",
   "version": "3.10.14"
  }
 },
 "nbformat": 4,
 "nbformat_minor": 5
}
