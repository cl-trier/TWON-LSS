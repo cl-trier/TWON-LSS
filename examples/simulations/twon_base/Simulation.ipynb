{
 "cells": [
  {
   "cell_type": "code",
   "execution_count": null,
   "id": "e1a77c62",
   "metadata": {},
   "outputs": [],
   "source": [
    "import datetime\n",
    "import json\n",
    "\n",
    "import rich\n",
    "import dotenv\n",
    "\n",
    "import networkx\n",
    "import huggingface_hub"
   ]
  },
  {
   "cell_type": "code",
   "execution_count": null,
   "id": "9053d18b",
   "metadata": {},
   "outputs": [],
   "source": [
    "from twon_lss.simulations.twon_base import (\n",
    "    Simulation,\n",
    "    SimulationArgs,\n",
    "    Ranker,\n",
    "    Agent,\n",
    "    AgentInstructions,\n",
    ")\n",
    "\n",
    "from twon_lss.schemas import Post, User, Feed, Network\n",
    "from twon_lss.utility import LLM, Message, Decay"
   ]
  },
  {
   "cell_type": "code",
   "execution_count": null,
   "id": "4acca23f",
   "metadata": {},
   "outputs": [],
   "source": [
    "ENV = dotenv.dotenv_values(\"../\" * 3 + \".env\")\n",
    "AGENTS_CFG = json.load(open(\"./data/agents.json\"))\n",
    "rich.print(AGENTS_CFG)"
   ]
  },
  {
   "cell_type": "code",
   "execution_count": null,
   "id": "19175a08",
   "metadata": {},
   "outputs": [],
   "source": [
    "RANKER = Ranker(\n",
    "    decay=Decay(low=0.2, timedelta=datetime.timedelta(days=3)),\n",
    "    llm=LLM(\n",
    "        client=huggingface_hub.InferenceClient(api_key=ENV[\"HF_TOKEN\"]),\n",
    "        model=\"BAAI/bge-m3\",\n",
    "    ),\n",
    ")\n",
    "rich.print(RANKER)"
   ]
  },
  {
   "cell_type": "code",
   "execution_count": null,
   "id": "21e9b4c3",
   "metadata": {},
   "outputs": [],
   "source": [
    "USERS = [User() for _ in range(len(AGENTS_CFG[\"personas\"]))]\n",
    "rich.print(USERS)"
   ]
  },
  {
   "cell_type": "code",
   "execution_count": null,
   "id": "6042b00c",
   "metadata": {},
   "outputs": [],
   "source": [
    "NETWORK = Network.from_graph(networkx.random_regular_graph(3, len(USERS)), USERS)\n",
    "networkx.draw(NETWORK.root)"
   ]
  },
  {
   "cell_type": "code",
   "execution_count": null,
   "id": "bfa611f1",
   "metadata": {},
   "outputs": [],
   "source": [
    "FEED = Feed(\n",
    "    [\n",
    "        Post(user=user, content=post)\n",
    "        for user, agents in zip(USERS, AGENTS_CFG[\"personas\"], strict=False)\n",
    "        for post in agents[\"history\"]\n",
    "    ]\n",
    ")\n",
    "rich.print(FEED)"
   ]
  },
  {
   "cell_type": "code",
   "execution_count": null,
   "id": "9ffbf4ce",
   "metadata": {},
   "outputs": [],
   "source": [
    "AGENT_LLM = LLM(\n",
    "    client=huggingface_hub.InferenceClient(api_key=ENV[\"HF_TOKEN\"]),\n",
    "    model=\"meta-llama/Meta-Llama-3-8B-Instruct\",\n",
    ")\n",
    "rich.print(AGENT_LLM)"
   ]
  },
  {
   "cell_type": "code",
   "execution_count": null,
   "id": "45917ea9",
   "metadata": {},
   "outputs": [],
   "source": [
    "INDIVIDUALS = {\n",
    "    user: Agent(\n",
    "        llm=AGENT_LLM,\n",
    "        instructions=AgentInstructions(\n",
    "            persona=persona[\"description\"], **AGENTS_CFG[\"instructions\"]\n",
    "        ),\n",
    "        memory=[Message(role=\"assistant\", content=post.content)],\n",
    "    )\n",
    "    for user, persona, post in zip(\n",
    "        USERS, AGENTS_CFG[\"personas\"], FEED.root, strict=False\n",
    "    )\n",
    "}\n",
    "rich.print(INDIVIDUALS.get(USERS[0]))"
   ]
  },
  {
   "cell_type": "code",
   "execution_count": null,
   "id": "6b8cbbea",
   "metadata": {},
   "outputs": [],
   "source": [
    "simulation = Simulation(\n",
    "    args=SimulationArgs(num_steps=2, num_posts_to_interact_with=2),\n",
    "    ranker=RANKER,\n",
    "    individuals=INDIVIDUALS,\n",
    "    network=NETWORK,\n",
    "    feed=FEED,\n",
    ")"
   ]
  },
  {
   "cell_type": "code",
   "execution_count": null,
   "id": "e25425df",
   "metadata": {},
   "outputs": [],
   "source": [
    "simulation()"
   ]
  }
 ],
 "metadata": {
  "kernelspec": {
   "display_name": "twon-lss",
   "language": "python",
   "name": "python3"
  },
  "language_info": {
   "codemirror_mode": {
    "name": "ipython",
    "version": 3
   },
   "file_extension": ".py",
   "mimetype": "text/x-python",
   "name": "python",
   "nbconvert_exporter": "python",
   "pygments_lexer": "ipython3",
   "version": "3.10.14"
  }
 },
 "nbformat": 4,
 "nbformat_minor": 5
}
