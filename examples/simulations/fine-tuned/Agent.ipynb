{
 "cells": [
  {
   "cell_type": "code",
   "execution_count": 1,
   "id": "39471720",
   "metadata": {},
   "outputs": [],
   "source": [
    "import rich\n",
    "import dotenv\n",
    "\n",
    "import huggingface_hub\n",
    "import json"
   ]
  },
  {
   "cell_type": "code",
   "execution_count": 2,
   "id": "2c3c4473",
   "metadata": {},
   "outputs": [],
   "source": [
    "from twon_lss.schemas import Post, User\n",
    "from twon_lss.utility import LLM\n",
    "\n",
    "from twon_lss.simulations.fine_tuned import Agent, AgentInstructions"
   ]
  },
  {
   "cell_type": "code",
   "execution_count": 3,
   "id": "aa142bd3",
   "metadata": {},
   "outputs": [],
   "source": [
    "CFG = dotenv.dotenv_values(\"../\" * 3 + \".env\")"
   ]
  },
  {
   "cell_type": "code",
   "execution_count": 4,
   "id": "e6da1b1d",
   "metadata": {},
   "outputs": [],
   "source": [
    "with open(\"data/30-shot_eval_data_generation_and_reply.json\") as f:\n",
    "    eval_data = json.load(f)"
   ]
  },
  {
   "cell_type": "code",
   "execution_count": 5,
   "id": "e7655ca3",
   "metadata": {},
   "outputs": [
    {
     "data": {
      "text/plain": [
       "[{'role': 'user', 'content': 'Write a tweet.'},\n",
       " {'role': 'assistant',\n",
       "  'content': 'similar to what people do with chapsticks but more psychotic is i have a car birth control, a purse birth control, and an apartment birth control depending on where i am i can take it on time because they already come in three month packs i just open all of them'},\n",
       " {'role': 'user', 'content': 'Write a tweet.'},\n",
       " {'role': 'assistant',\n",
       "  'content': 'seeing matty healy sing robbers live on monday is going to rewire my brain like a lobotomy'},\n",
       " {'role': 'user', 'content': 'Write a tweet.'},\n",
       " {'role': 'assistant',\n",
       "  'content': 'normalize having your pinky toe nail fall off semi annually'},\n",
       " {'role': 'user', 'content': 'Write a tweet.'},\n",
       " {'role': 'assistant',\n",
       "  'content': 'why does the dad from the watcher talk like obama'}]"
      ]
     },
     "execution_count": 5,
     "metadata": {},
     "output_type": "execute_result"
    }
   ],
   "source": [
    "eval_data[0][\"messages\"][1:9]"
   ]
  },
  {
   "cell_type": "code",
   "execution_count": 6,
   "id": "eb2a1a9f",
   "metadata": {},
   "outputs": [
    {
     "data": {
      "text/html": [
       "<pre style=\"white-space:pre;overflow-x:auto;line-height:normal;font-family:Menlo,'DejaVu Sans Mono',consolas,'Courier New',monospace\"><span style=\"color: #800080; text-decoration-color: #800080; font-weight: bold\">Agent</span><span style=\"font-weight: bold\">(</span>\n",
       "    <span style=\"color: #808000; text-decoration-color: #808000\">llm</span>=<span style=\"color: #800080; text-decoration-color: #800080; font-weight: bold\">LLM</span><span style=\"font-weight: bold\">(</span><span style=\"color: #808000; text-decoration-color: #808000\">client</span>=<span style=\"font-weight: bold\">&lt;</span><span style=\"color: #800080; text-decoration-color: #800080; font-weight: bold\">InferenceClient</span><span style=\"color: #000000; text-decoration-color: #000000; font-weight: bold\">(</span><span style=\"color: #808000; text-decoration-color: #808000\">model</span><span style=\"color: #000000; text-decoration-color: #000000\">=</span><span style=\"color: #008000; text-decoration-color: #008000\">''</span><span style=\"color: #000000; text-decoration-color: #000000\">, </span><span style=\"color: #808000; text-decoration-color: #808000\">timeout</span><span style=\"color: #000000; text-decoration-color: #000000\">=</span><span style=\"color: #800080; text-decoration-color: #800080; font-style: italic\">None</span><span style=\"color: #000000; text-decoration-color: #000000; font-weight: bold\">)</span><span style=\"font-weight: bold\">&gt;</span>, <span style=\"color: #808000; text-decoration-color: #808000\">model</span>=<span style=\"color: #008000; text-decoration-color: #008000\">'meta-llama/Meta-Llama-3-8B-Instruct'</span><span style=\"font-weight: bold\">)</span>,\n",
       "    <span style=\"color: #808000; text-decoration-color: #808000\">instructions</span>=<span style=\"color: #800080; text-decoration-color: #800080; font-weight: bold\">AgentInstructions</span><span style=\"font-weight: bold\">(</span>\n",
       "        <span style=\"color: #808000; text-decoration-color: #808000\">persona</span>=<span style=\"color: #008000; text-decoration-color: #008000\">\"You are a social media user responding to conversations. Keep your replies and tweets consistent </span>\n",
       "<span style=\"color: #008000; text-decoration-color: #008000\">with your previous writing style and the perspectives you've expressed earlier.\"</span>,\n",
       "        <span style=\"color: #808000; text-decoration-color: #808000\">select_actions</span>=<span style=\"color: #008000; text-decoration-color: #008000\">'Choose one or multiple of the following actions you would perform on the following post and</span>\n",
       "<span style=\"color: #008000; text-decoration-color: #008000\">return them separated by colons. Respond with the action names only.'</span>,\n",
       "        <span style=\"color: #808000; text-decoration-color: #808000\">comment</span>=<span style=\"color: #008000; text-decoration-color: #008000\">'Write a reply to this conversation:\\n\\n'</span>,\n",
       "        <span style=\"color: #808000; text-decoration-color: #808000\">post</span>=<span style=\"color: #008000; text-decoration-color: #008000\">'Write a tweet.'</span>\n",
       "    <span style=\"font-weight: bold\">)</span>,\n",
       "    <span style=\"color: #808000; text-decoration-color: #808000\">memory</span>=<span style=\"font-weight: bold\">[</span>\n",
       "        <span style=\"color: #800080; text-decoration-color: #800080; font-weight: bold\">Message</span><span style=\"font-weight: bold\">(</span><span style=\"color: #808000; text-decoration-color: #808000\">role</span>=<span style=\"color: #008000; text-decoration-color: #008000\">'user'</span>, <span style=\"color: #808000; text-decoration-color: #808000\">content</span>=<span style=\"color: #008000; text-decoration-color: #008000\">'Write a tweet.'</span><span style=\"font-weight: bold\">)</span>,\n",
       "        <span style=\"color: #800080; text-decoration-color: #800080; font-weight: bold\">Message</span><span style=\"font-weight: bold\">(</span>\n",
       "            <span style=\"color: #808000; text-decoration-color: #808000\">role</span>=<span style=\"color: #008000; text-decoration-color: #008000\">'assistant'</span>,\n",
       "            <span style=\"color: #808000; text-decoration-color: #808000\">content</span>=<span style=\"color: #008000; text-decoration-color: #008000\">'similar to what people do with chapsticks but more psychotic is i have a car birth control, a </span>\n",
       "<span style=\"color: #008000; text-decoration-color: #008000\">purse birth control, and an apartment birth control depending on where i am i can take it on time because they </span>\n",
       "<span style=\"color: #008000; text-decoration-color: #008000\">already come in three month packs i just open all of them'</span>\n",
       "        <span style=\"font-weight: bold\">)</span>,\n",
       "        <span style=\"color: #800080; text-decoration-color: #800080; font-weight: bold\">Message</span><span style=\"font-weight: bold\">(</span><span style=\"color: #808000; text-decoration-color: #808000\">role</span>=<span style=\"color: #008000; text-decoration-color: #008000\">'user'</span>, <span style=\"color: #808000; text-decoration-color: #808000\">content</span>=<span style=\"color: #008000; text-decoration-color: #008000\">'Write a tweet.'</span><span style=\"font-weight: bold\">)</span>,\n",
       "        <span style=\"color: #800080; text-decoration-color: #800080; font-weight: bold\">Message</span><span style=\"font-weight: bold\">(</span>\n",
       "            <span style=\"color: #808000; text-decoration-color: #808000\">role</span>=<span style=\"color: #008000; text-decoration-color: #008000\">'assistant'</span>,\n",
       "            <span style=\"color: #808000; text-decoration-color: #808000\">content</span>=<span style=\"color: #008000; text-decoration-color: #008000\">'seeing matty healy sing robbers live on monday is going to rewire my brain like a lobotomy'</span>\n",
       "        <span style=\"font-weight: bold\">)</span>,\n",
       "        <span style=\"color: #800080; text-decoration-color: #800080; font-weight: bold\">Message</span><span style=\"font-weight: bold\">(</span><span style=\"color: #808000; text-decoration-color: #808000\">role</span>=<span style=\"color: #008000; text-decoration-color: #008000\">'user'</span>, <span style=\"color: #808000; text-decoration-color: #808000\">content</span>=<span style=\"color: #008000; text-decoration-color: #008000\">'Write a tweet.'</span><span style=\"font-weight: bold\">)</span>,\n",
       "        <span style=\"color: #800080; text-decoration-color: #800080; font-weight: bold\">Message</span><span style=\"font-weight: bold\">(</span><span style=\"color: #808000; text-decoration-color: #808000\">role</span>=<span style=\"color: #008000; text-decoration-color: #008000\">'assistant'</span>, <span style=\"color: #808000; text-decoration-color: #808000\">content</span>=<span style=\"color: #008000; text-decoration-color: #008000\">'normalize having your pinky toe nail fall off semi annually'</span><span style=\"font-weight: bold\">)</span>,\n",
       "        <span style=\"color: #800080; text-decoration-color: #800080; font-weight: bold\">Message</span><span style=\"font-weight: bold\">(</span><span style=\"color: #808000; text-decoration-color: #808000\">role</span>=<span style=\"color: #008000; text-decoration-color: #008000\">'user'</span>, <span style=\"color: #808000; text-decoration-color: #808000\">content</span>=<span style=\"color: #008000; text-decoration-color: #008000\">'Write a tweet.'</span><span style=\"font-weight: bold\">)</span>,\n",
       "        <span style=\"color: #800080; text-decoration-color: #800080; font-weight: bold\">Message</span><span style=\"font-weight: bold\">(</span><span style=\"color: #808000; text-decoration-color: #808000\">role</span>=<span style=\"color: #008000; text-decoration-color: #008000\">'assistant'</span>, <span style=\"color: #808000; text-decoration-color: #808000\">content</span>=<span style=\"color: #008000; text-decoration-color: #008000\">'why does the dad from the watcher talk like obama'</span><span style=\"font-weight: bold\">)</span>\n",
       "    <span style=\"font-weight: bold\">]</span>,\n",
       "    <span style=\"color: #808000; text-decoration-color: #808000\">memory_length</span>=<span style=\"color: #008080; text-decoration-color: #008080; font-weight: bold\">15</span>\n",
       "<span style=\"font-weight: bold\">)</span>\n",
       "</pre>\n"
      ],
      "text/plain": [
       "\u001b[1;35mAgent\u001b[0m\u001b[1m(\u001b[0m\n",
       "    \u001b[33mllm\u001b[0m=\u001b[1;35mLLM\u001b[0m\u001b[1m(\u001b[0m\u001b[33mclient\u001b[0m=\u001b[1m<\u001b[0m\u001b[1;35mInferenceClient\u001b[0m\u001b[1;39m(\u001b[0m\u001b[33mmodel\u001b[0m\u001b[39m=\u001b[0m\u001b[32m''\u001b[0m\u001b[39m, \u001b[0m\u001b[33mtimeout\u001b[0m\u001b[39m=\u001b[0m\u001b[3;35mNone\u001b[0m\u001b[1;39m)\u001b[0m\u001b[1m>\u001b[0m, \u001b[33mmodel\u001b[0m=\u001b[32m'meta-llama/Meta-Llama-3-8B-Instruct'\u001b[0m\u001b[1m)\u001b[0m,\n",
       "    \u001b[33minstructions\u001b[0m=\u001b[1;35mAgentInstructions\u001b[0m\u001b[1m(\u001b[0m\n",
       "        \u001b[33mpersona\u001b[0m=\u001b[32m\"You\u001b[0m\u001b[32m are a social media user responding to conversations. Keep your replies and tweets consistent \u001b[0m\n",
       "\u001b[32mwith your previous writing style and the perspectives you've expressed earlier.\"\u001b[0m,\n",
       "        \u001b[33mselect_actions\u001b[0m=\u001b[32m'Choose one or multiple of the following actions you would perform on the following post and\u001b[0m\n",
       "\u001b[32mreturn them separated by colons. Respond with the action names only.'\u001b[0m,\n",
       "        \u001b[33mcomment\u001b[0m=\u001b[32m'Write a reply to this conversation:\\n\\n'\u001b[0m,\n",
       "        \u001b[33mpost\u001b[0m=\u001b[32m'Write a tweet.'\u001b[0m\n",
       "    \u001b[1m)\u001b[0m,\n",
       "    \u001b[33mmemory\u001b[0m=\u001b[1m[\u001b[0m\n",
       "        \u001b[1;35mMessage\u001b[0m\u001b[1m(\u001b[0m\u001b[33mrole\u001b[0m=\u001b[32m'user'\u001b[0m, \u001b[33mcontent\u001b[0m=\u001b[32m'Write a tweet.'\u001b[0m\u001b[1m)\u001b[0m,\n",
       "        \u001b[1;35mMessage\u001b[0m\u001b[1m(\u001b[0m\n",
       "            \u001b[33mrole\u001b[0m=\u001b[32m'assistant'\u001b[0m,\n",
       "            \u001b[33mcontent\u001b[0m=\u001b[32m'similar to what people do with chapsticks but more psychotic is i have a car birth control, a \u001b[0m\n",
       "\u001b[32mpurse birth control, and an apartment birth control depending on where i am i can take it on time because they \u001b[0m\n",
       "\u001b[32malready come in three month packs i just open all of them'\u001b[0m\n",
       "        \u001b[1m)\u001b[0m,\n",
       "        \u001b[1;35mMessage\u001b[0m\u001b[1m(\u001b[0m\u001b[33mrole\u001b[0m=\u001b[32m'user'\u001b[0m, \u001b[33mcontent\u001b[0m=\u001b[32m'Write a tweet.'\u001b[0m\u001b[1m)\u001b[0m,\n",
       "        \u001b[1;35mMessage\u001b[0m\u001b[1m(\u001b[0m\n",
       "            \u001b[33mrole\u001b[0m=\u001b[32m'assistant'\u001b[0m,\n",
       "            \u001b[33mcontent\u001b[0m=\u001b[32m'seeing matty healy sing robbers live on monday is going to rewire my brain like a lobotomy'\u001b[0m\n",
       "        \u001b[1m)\u001b[0m,\n",
       "        \u001b[1;35mMessage\u001b[0m\u001b[1m(\u001b[0m\u001b[33mrole\u001b[0m=\u001b[32m'user'\u001b[0m, \u001b[33mcontent\u001b[0m=\u001b[32m'Write a tweet.'\u001b[0m\u001b[1m)\u001b[0m,\n",
       "        \u001b[1;35mMessage\u001b[0m\u001b[1m(\u001b[0m\u001b[33mrole\u001b[0m=\u001b[32m'assistant'\u001b[0m, \u001b[33mcontent\u001b[0m=\u001b[32m'normalize having your pinky toe nail fall off semi annually'\u001b[0m\u001b[1m)\u001b[0m,\n",
       "        \u001b[1;35mMessage\u001b[0m\u001b[1m(\u001b[0m\u001b[33mrole\u001b[0m=\u001b[32m'user'\u001b[0m, \u001b[33mcontent\u001b[0m=\u001b[32m'Write a tweet.'\u001b[0m\u001b[1m)\u001b[0m,\n",
       "        \u001b[1;35mMessage\u001b[0m\u001b[1m(\u001b[0m\u001b[33mrole\u001b[0m=\u001b[32m'assistant'\u001b[0m, \u001b[33mcontent\u001b[0m=\u001b[32m'why does the dad from the watcher talk like obama'\u001b[0m\u001b[1m)\u001b[0m\n",
       "    \u001b[1m]\u001b[0m,\n",
       "    \u001b[33mmemory_length\u001b[0m=\u001b[1;36m15\u001b[0m\n",
       "\u001b[1m)\u001b[0m\n"
      ]
     },
     "metadata": {},
     "output_type": "display_data"
    }
   ],
   "source": [
    "agent = Agent(\n",
    "    llm=LLM(\n",
    "        client=huggingface_hub.InferenceClient(api_key=CFG[\"HF_TOKEN\"]),\n",
    "        model=\"meta-llama/Meta-Llama-3-8B-Instruct\",\n",
    "    ),\n",
    "    instructions=AgentInstructions(\n",
    "        persona=\"You are a social media user responding to conversations. Keep your replies and tweets consistent with your previous writing style and the perspectives you've expressed earlier.\",\n",
    "        select_actions=\"Choose one or multiple of the following actions you would perform on the following post and return them separated by colons. Respond with the action names only.\",\n",
    "        comment=\"Write a reply to this conversation:\\n\\n\",\n",
    "        post=\"Write a tweet.\",\n",
    "    ),\n",
    "    memory=eval_data[0][\"messages\"][1:9],\n",
    "    memory_length=15,\n",
    ")\n",
    "rich.print(agent)"
   ]
  },
  {
   "cell_type": "code",
   "execution_count": 7,
   "id": "7763f13b",
   "metadata": {},
   "outputs": [
    {
     "data": {
      "text/html": [
       "<pre style=\"white-space:pre;overflow-x:auto;line-height:normal;font-family:Menlo,'DejaVu Sans Mono',consolas,'Courier New',monospace\"><span style=\"color: #800080; text-decoration-color: #800080; font-weight: bold\">Post</span><span style=\"font-weight: bold\">(</span>\n",
       "    <span style=\"color: #808000; text-decoration-color: #808000\">user</span>=<span style=\"color: #800080; text-decoration-color: #800080; font-weight: bold\">User</span><span style=\"font-weight: bold\">(</span><span style=\"color: #808000; text-decoration-color: #808000\">id</span>=<span style=\"color: #008000; text-decoration-color: #008000\">'user-2a8e365e-a3fc-4b81-93dc-14d281ceed54'</span><span style=\"font-weight: bold\">)</span>,\n",
       "    <span style=\"color: #808000; text-decoration-color: #808000\">content</span>=<span style=\"color: #008000; text-decoration-color: #008000\">\"Gas was $2.50 when Trump left office, now it's over $4\"</span>,\n",
       "    <span style=\"color: #808000; text-decoration-color: #808000\">interactions</span>=<span style=\"font-weight: bold\">[]</span>,\n",
       "    <span style=\"color: #808000; text-decoration-color: #808000\">comments</span>=<span style=\"font-weight: bold\">[]</span>,\n",
       "    <span style=\"color: #808000; text-decoration-color: #808000\">id</span>=<span style=\"color: #008000; text-decoration-color: #008000\">'post-55a127df-e867-4a8a-ac18-bc5eff217da7'</span>,\n",
       "    <span style=\"color: #808000; text-decoration-color: #808000\">timestamp</span>=<span style=\"color: #800080; text-decoration-color: #800080; font-weight: bold\">datetime</span><span style=\"color: #800080; text-decoration-color: #800080; font-weight: bold\">.datetime</span><span style=\"font-weight: bold\">(</span><span style=\"color: #008080; text-decoration-color: #008080; font-weight: bold\">2025</span>, <span style=\"color: #008080; text-decoration-color: #008080; font-weight: bold\">8</span>, <span style=\"color: #008080; text-decoration-color: #008080; font-weight: bold\">20</span>, <span style=\"color: #008080; text-decoration-color: #008080; font-weight: bold\">15</span>, <span style=\"color: #008080; text-decoration-color: #008080; font-weight: bold\">56</span>, <span style=\"color: #008080; text-decoration-color: #008080; font-weight: bold\">59</span>, <span style=\"color: #008080; text-decoration-color: #008080; font-weight: bold\">643311</span><span style=\"font-weight: bold\">)</span>\n",
       "<span style=\"font-weight: bold\">)</span>\n",
       "</pre>\n"
      ],
      "text/plain": [
       "\u001b[1;35mPost\u001b[0m\u001b[1m(\u001b[0m\n",
       "    \u001b[33muser\u001b[0m=\u001b[1;35mUser\u001b[0m\u001b[1m(\u001b[0m\u001b[33mid\u001b[0m=\u001b[32m'user-2a8e365e-a3fc-4b81-93dc-14d281ceed54'\u001b[0m\u001b[1m)\u001b[0m,\n",
       "    \u001b[33mcontent\u001b[0m=\u001b[32m\"Gas\u001b[0m\u001b[32m was $2.50 when Trump left office, now it's over $4\"\u001b[0m,\n",
       "    \u001b[33minteractions\u001b[0m=\u001b[1m[\u001b[0m\u001b[1m]\u001b[0m,\n",
       "    \u001b[33mcomments\u001b[0m=\u001b[1m[\u001b[0m\u001b[1m]\u001b[0m,\n",
       "    \u001b[33mid\u001b[0m=\u001b[32m'post-55a127df-e867-4a8a-ac18-bc5eff217da7'\u001b[0m,\n",
       "    \u001b[33mtimestamp\u001b[0m=\u001b[1;35mdatetime\u001b[0m\u001b[1;35m.datetime\u001b[0m\u001b[1m(\u001b[0m\u001b[1;36m2025\u001b[0m, \u001b[1;36m8\u001b[0m, \u001b[1;36m20\u001b[0m, \u001b[1;36m15\u001b[0m, \u001b[1;36m56\u001b[0m, \u001b[1;36m59\u001b[0m, \u001b[1;36m643311\u001b[0m\u001b[1m)\u001b[0m\n",
       "\u001b[1m)\u001b[0m\n"
      ]
     },
     "metadata": {},
     "output_type": "display_data"
    }
   ],
   "source": [
    "post = Post(\n",
    "    user=User(),\n",
    "    content=\"Gas was $2.50 when Trump left office, now it's over $4\",\n",
    ")\n",
    "rich.print(post)"
   ]
  },
  {
   "cell_type": "code",
   "execution_count": 8,
   "id": "a70c60bf",
   "metadata": {},
   "outputs": [
    {
     "data": {
      "text/plain": [
       "{<AgentActions.comment: 'comment'>, <AgentActions.like: 'like'>}"
      ]
     },
     "execution_count": 8,
     "metadata": {},
     "output_type": "execute_result"
    }
   ],
   "source": [
    "agent.select_actions(post)"
   ]
  },
  {
   "cell_type": "code",
   "execution_count": 9,
   "id": "ea1efcc8",
   "metadata": {},
   "outputs": [
    {
     "data": {
      "text/plain": [
       "'yeah but have you seen the price of avocado toast'"
      ]
     },
     "execution_count": 9,
     "metadata": {},
     "output_type": "execute_result"
    }
   ],
   "source": [
    "agent.comment(post)"
   ]
  },
  {
   "cell_type": "code",
   "execution_count": 13,
   "id": "c945eb65",
   "metadata": {},
   "outputs": [
    {
     "data": {
      "text/plain": [
       "\"it's surreal watching the world scramble to cope with the consequences of what we've always known would happen\""
      ]
     },
     "execution_count": 13,
     "metadata": {},
     "output_type": "execute_result"
    }
   ],
   "source": [
    "agent.post()"
   ]
  },
  {
   "cell_type": "code",
   "execution_count": 12,
   "id": "f8c0aeb5",
   "metadata": {},
   "outputs": [
    {
     "data": {
      "text/plain": [
       "[Message(role='user', content='Write a tweet.'),\n",
       " Message(role='assistant', content='similar to what people do with chapsticks but more psychotic is i have a car birth control, a purse birth control, and an apartment birth control depending on where i am i can take it on time because they already come in three month packs i just open all of them'),\n",
       " Message(role='user', content='Write a tweet.'),\n",
       " Message(role='assistant', content='seeing matty healy sing robbers live on monday is going to rewire my brain like a lobotomy'),\n",
       " Message(role='user', content='Write a tweet.'),\n",
       " Message(role='assistant', content='normalize having your pinky toe nail fall off semi annually'),\n",
       " Message(role='user', content='Write a tweet.'),\n",
       " Message(role='assistant', content='why does the dad from the watcher talk like obama'),\n",
       " Message(role='user', content=\"Write a reply to this conversation:\\n\\nGas was $2.50 when Trump left office, now it's over $4\"),\n",
       " Message(role='assistant', content='yeah but have you seen the price of avocado toast'),\n",
       " Message(role='user', content='Write a tweet.'),\n",
       " Message(role='assistant', content=\"someone i know just got diagnosed with a rare disease and now they're considering starting a podcast about it\")]"
      ]
     },
     "execution_count": 12,
     "metadata": {},
     "output_type": "execute_result"
    }
   ],
   "source": [
    "agent.memory"
   ]
  },
  {
   "cell_type": "code",
   "execution_count": null,
   "id": "c646ded6",
   "metadata": {},
   "outputs": [],
   "source": []
  }
 ],
 "metadata": {
  "kernelspec": {
   "display_name": "twon-lss",
   "language": "python",
   "name": "python3"
  },
  "language_info": {
   "codemirror_mode": {
    "name": "ipython",
    "version": 3
   },
   "file_extension": ".py",
   "mimetype": "text/x-python",
   "name": "python",
   "nbconvert_exporter": "python",
   "pygments_lexer": "ipython3",
   "version": "3.10.12"
  }
 },
 "nbformat": 4,
 "nbformat_minor": 5
}
