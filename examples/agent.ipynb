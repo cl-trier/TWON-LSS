{
 "cells": [
  {
   "cell_type": "code",
   "execution_count": 1,
   "id": "39471720",
   "metadata": {},
   "outputs": [
    {
     "name": "stderr",
     "output_type": "stream",
     "text": [
      "/Users/simon/Repositories/TWON-Collection/TWON-LSS/.venv/lib/python3.10/site-packages/tqdm/auto.py:21: TqdmWarning: IProgress not found. Please update jupyter and ipywidgets. See https://ipywidgets.readthedocs.io/en/stable/user_install.html\n",
      "  from .autonotebook import tqdm as notebook_tqdm\n"
     ]
    }
   ],
   "source": [
    "import rich\n",
    "import dotenv\n",
    "\n",
    "import huggingface_hub\n",
    "\n",
    "from twon_lss.schemas import Post, User\n",
    "from twon_lss.utility import LLM\n",
    "\n",
    "from twon_lss.agent.twon_agent import Agent, AgentInstructions"
   ]
  },
  {
   "cell_type": "code",
   "execution_count": 2,
   "id": "aa142bd3",
   "metadata": {},
   "outputs": [],
   "source": [
    "CFG = dotenv.dotenv_values(\"../.env\")"
   ]
  },
  {
   "cell_type": "code",
   "execution_count": 3,
   "id": "eb2a1a9f",
   "metadata": {},
   "outputs": [
    {
     "data": {
      "text/html": [
       "<pre style=\"white-space:pre;overflow-x:auto;line-height:normal;font-family:Menlo,'DejaVu Sans Mono',consolas,'Courier New',monospace\"><span style=\"color: #800080; text-decoration-color: #800080; font-weight: bold\">Agent</span><span style=\"font-weight: bold\">(</span>\n",
       "    <span style=\"color: #808000; text-decoration-color: #808000\">llm</span>=<span style=\"color: #800080; text-decoration-color: #800080; font-weight: bold\">LLM</span><span style=\"font-weight: bold\">(</span><span style=\"color: #808000; text-decoration-color: #808000\">client</span>=<span style=\"font-weight: bold\">&lt;</span><span style=\"color: #800080; text-decoration-color: #800080; font-weight: bold\">InferenceClient</span><span style=\"color: #000000; text-decoration-color: #000000; font-weight: bold\">(</span><span style=\"color: #808000; text-decoration-color: #808000\">model</span><span style=\"color: #000000; text-decoration-color: #000000\">=</span><span style=\"color: #008000; text-decoration-color: #008000\">''</span><span style=\"color: #000000; text-decoration-color: #000000\">, </span><span style=\"color: #808000; text-decoration-color: #808000\">timeout</span><span style=\"color: #000000; text-decoration-color: #000000\">=</span><span style=\"color: #800080; text-decoration-color: #800080; font-style: italic\">None</span><span style=\"color: #000000; text-decoration-color: #000000; font-weight: bold\">)</span><span style=\"color: #000000; text-decoration-color: #000000\">&gt;, </span><span style=\"color: #808000; text-decoration-color: #808000\">model</span><span style=\"color: #000000; text-decoration-color: #000000\">=</span><span style=\"color: #008000; text-decoration-color: #008000\">'meta-llama/Meta-Llama-3-8B-Instruct'</span><span style=\"color: #000000; text-decoration-color: #000000; font-weight: bold\">)</span><span style=\"color: #000000; text-decoration-color: #000000\">,</span>\n",
       "<span style=\"color: #000000; text-decoration-color: #000000\">    </span><span style=\"color: #808000; text-decoration-color: #808000\">instructions</span><span style=\"color: #000000; text-decoration-color: #000000\">=</span><span style=\"color: #800080; text-decoration-color: #800080; font-weight: bold\">AgentInstructions</span><span style=\"color: #000000; text-decoration-color: #000000; font-weight: bold\">(</span>\n",
       "<span style=\"color: #000000; text-decoration-color: #000000\">        </span><span style=\"color: #808000; text-decoration-color: #808000\">persona</span><span style=\"color: #000000; text-decoration-color: #000000\">=</span><span style=\"color: #008000; text-decoration-color: #008000\">'Act as a social media user who embodies mainstream American conservative viewpoints. Your </span>\n",
       "<span style=\"color: #008000; text-decoration-color: #008000\">character should have a consistent posting and commenting history.'</span><span style=\"color: #000000; text-decoration-color: #000000\">,</span>\n",
       "<span style=\"color: #000000; text-decoration-color: #000000\">        </span><span style=\"color: #808000; text-decoration-color: #808000\">select_actions</span><span style=\"color: #000000; text-decoration-color: #000000\">=</span><span style=\"color: #008000; text-decoration-color: #008000\">'Choose one or multiple of the following actions you would perform on the following post and</span>\n",
       "<span style=\"color: #008000; text-decoration-color: #008000\">return them separated by colons. Respond with the action names only.'</span><span style=\"color: #000000; text-decoration-color: #000000\">,</span>\n",
       "<span style=\"color: #000000; text-decoration-color: #000000\">        </span><span style=\"color: #808000; text-decoration-color: #808000\">comment</span><span style=\"color: #000000; text-decoration-color: #000000\">=</span><span style=\"color: #008000; text-decoration-color: #008000\">'Write a short comment considering the following original post and past comments.'</span><span style=\"color: #000000; text-decoration-color: #000000\">,</span>\n",
       "<span style=\"color: #000000; text-decoration-color: #000000\">        </span><span style=\"color: #808000; text-decoration-color: #808000\">post</span><span style=\"color: #000000; text-decoration-color: #000000\">=</span><span style=\"color: #008000; text-decoration-color: #008000\">'Write a independent post considering the following content.'</span>\n",
       "<span style=\"color: #000000; text-decoration-color: #000000\">    </span><span style=\"color: #000000; text-decoration-color: #000000; font-weight: bold\">)</span><span style=\"color: #000000; text-decoration-color: #000000\">,</span>\n",
       "<span style=\"color: #000000; text-decoration-color: #000000\">    </span><span style=\"color: #808000; text-decoration-color: #808000\">action_likelihoods</span><span style=\"color: #000000; text-decoration-color: #000000\">=</span><span style=\"color: #000000; text-decoration-color: #000000; font-weight: bold\">{</span>\n",
       "<span style=\"color: #000000; text-decoration-color: #000000\">        &lt;AgentActions.read: </span><span style=\"color: #008000; text-decoration-color: #008000\">'read'</span><span style=\"color: #000000; text-decoration-color: #000000\">&gt;: </span><span style=\"color: #008080; text-decoration-color: #008080; font-weight: bold\">1.0</span><span style=\"color: #000000; text-decoration-color: #000000\">,</span>\n",
       "<span style=\"color: #000000; text-decoration-color: #000000\">        &lt;AgentActions.like: </span><span style=\"color: #008000; text-decoration-color: #008000\">'like'</span><span style=\"color: #000000; text-decoration-color: #000000\">&gt;: </span><span style=\"color: #008080; text-decoration-color: #008080; font-weight: bold\">1.0</span><span style=\"color: #000000; text-decoration-color: #000000\">,</span>\n",
       "<span style=\"color: #000000; text-decoration-color: #000000\">        &lt;AgentActions.comment: </span><span style=\"color: #008000; text-decoration-color: #008000\">'comment'</span><span style=\"color: #000000; text-decoration-color: #000000\">&gt;: </span><span style=\"color: #008080; text-decoration-color: #008080; font-weight: bold\">1.0</span><span style=\"color: #000000; text-decoration-color: #000000\">,</span>\n",
       "<span style=\"color: #000000; text-decoration-color: #000000\">        &lt;AgentActions.post: </span><span style=\"color: #008000; text-decoration-color: #008000\">'post'</span><span style=\"font-weight: bold\">&gt;</span>: <span style=\"color: #008080; text-decoration-color: #008080; font-weight: bold\">1.0</span>\n",
       "    <span style=\"font-weight: bold\">}</span>,\n",
       "    <span style=\"color: #808000; text-decoration-color: #808000\">memory</span>=<span style=\"font-weight: bold\">[]</span>,\n",
       "    <span style=\"color: #808000; text-decoration-color: #808000\">memory_length</span>=<span style=\"color: #008080; text-decoration-color: #008080; font-weight: bold\">4</span>\n",
       "<span style=\"font-weight: bold\">)</span>\n",
       "</pre>\n"
      ],
      "text/plain": [
       "\u001b[1;35mAgent\u001b[0m\u001b[1m(\u001b[0m\n",
       "    \u001b[33mllm\u001b[0m=\u001b[1;35mLLM\u001b[0m\u001b[1m(\u001b[0m\u001b[33mclient\u001b[0m=\u001b[1m<\u001b[0m\u001b[1;35mInferenceClient\u001b[0m\u001b[1;39m(\u001b[0m\u001b[33mmodel\u001b[0m\u001b[39m=\u001b[0m\u001b[32m''\u001b[0m\u001b[39m, \u001b[0m\u001b[33mtimeout\u001b[0m\u001b[39m=\u001b[0m\u001b[3;35mNone\u001b[0m\u001b[1;39m)\u001b[0m\u001b[39m>, \u001b[0m\u001b[33mmodel\u001b[0m\u001b[39m=\u001b[0m\u001b[32m'meta-llama/Meta-Llama-3-8B-Instruct'\u001b[0m\u001b[1;39m)\u001b[0m\u001b[39m,\u001b[0m\n",
       "\u001b[39m    \u001b[0m\u001b[33minstructions\u001b[0m\u001b[39m=\u001b[0m\u001b[1;35mAgentInstructions\u001b[0m\u001b[1;39m(\u001b[0m\n",
       "\u001b[39m        \u001b[0m\u001b[33mpersona\u001b[0m\u001b[39m=\u001b[0m\u001b[32m'Act as a social media user who embodies mainstream American conservative viewpoints. Your \u001b[0m\n",
       "\u001b[32mcharacter should have a consistent posting and commenting history.'\u001b[0m\u001b[39m,\u001b[0m\n",
       "\u001b[39m        \u001b[0m\u001b[33mselect_actions\u001b[0m\u001b[39m=\u001b[0m\u001b[32m'Choose one or multiple of the following actions you would perform on the following post and\u001b[0m\n",
       "\u001b[32mreturn them separated by colons. Respond with the action names only.'\u001b[0m\u001b[39m,\u001b[0m\n",
       "\u001b[39m        \u001b[0m\u001b[33mcomment\u001b[0m\u001b[39m=\u001b[0m\u001b[32m'Write a short comment considering the following original post and past comments.'\u001b[0m\u001b[39m,\u001b[0m\n",
       "\u001b[39m        \u001b[0m\u001b[33mpost\u001b[0m\u001b[39m=\u001b[0m\u001b[32m'Write a independent post considering the following content.'\u001b[0m\n",
       "\u001b[39m    \u001b[0m\u001b[1;39m)\u001b[0m\u001b[39m,\u001b[0m\n",
       "\u001b[39m    \u001b[0m\u001b[33maction_likelihoods\u001b[0m\u001b[39m=\u001b[0m\u001b[1;39m{\u001b[0m\n",
       "\u001b[39m        <AgentActions.read: \u001b[0m\u001b[32m'read'\u001b[0m\u001b[39m>: \u001b[0m\u001b[1;36m1.0\u001b[0m\u001b[39m,\u001b[0m\n",
       "\u001b[39m        <AgentActions.like: \u001b[0m\u001b[32m'like'\u001b[0m\u001b[39m>: \u001b[0m\u001b[1;36m1.0\u001b[0m\u001b[39m,\u001b[0m\n",
       "\u001b[39m        <AgentActions.comment: \u001b[0m\u001b[32m'comment'\u001b[0m\u001b[39m>: \u001b[0m\u001b[1;36m1.0\u001b[0m\u001b[39m,\u001b[0m\n",
       "\u001b[39m        <AgentActions.post: \u001b[0m\u001b[32m'post'\u001b[0m\u001b[1m>\u001b[0m: \u001b[1;36m1.0\u001b[0m\n",
       "    \u001b[1m}\u001b[0m,\n",
       "    \u001b[33mmemory\u001b[0m=\u001b[1m[\u001b[0m\u001b[1m]\u001b[0m,\n",
       "    \u001b[33mmemory_length\u001b[0m=\u001b[1;36m4\u001b[0m\n",
       "\u001b[1m)\u001b[0m\n"
      ]
     },
     "metadata": {},
     "output_type": "display_data"
    }
   ],
   "source": [
    "agent = Agent(\n",
    "    llm=LLM(\n",
    "        client=huggingface_hub.InferenceClient(api_key=CFG[\"HF_TOKEN\"]),\n",
    "        model=\"meta-llama/Meta-Llama-3-8B-Instruct\",\n",
    "    ),\n",
    "    instructions=AgentInstructions(\n",
    "        persona=\"Act as a social media user who embodies mainstream American conservative viewpoints. Your character should have a consistent posting and commenting history.\",\n",
    "        select_actions=\"Choose one or multiple of the following actions you would perform on the following post and return them separated by colons. Respond with the action names only.\",\n",
    "        comment=\"Write a short comment considering the following original post and past comments.\",\n",
    "        post=\"Write a independent post considering the following content.\",\n",
    "    ),\n",
    ")\n",
    "rich.print(agent)"
   ]
  },
  {
   "cell_type": "code",
   "execution_count": null,
   "id": "7763f13b",
   "metadata": {},
   "outputs": [
    {
     "data": {
      "text/html": [
       "<pre style=\"white-space:pre;overflow-x:auto;line-height:normal;font-family:Menlo,'DejaVu Sans Mono',consolas,'Courier New',monospace\"><span style=\"color: #800080; text-decoration-color: #800080; font-weight: bold\">Post</span><span style=\"font-weight: bold\">(</span>\n",
       "    <span style=\"color: #808000; text-decoration-color: #808000\">id</span>=<span style=\"color: #008000; text-decoration-color: #008000\">'P0'</span>,\n",
       "    <span style=\"color: #808000; text-decoration-color: #808000\">user</span>=<span style=\"color: #800080; text-decoration-color: #800080; font-weight: bold\">User</span><span style=\"font-weight: bold\">(</span><span style=\"color: #808000; text-decoration-color: #808000\">id</span>=<span style=\"color: #008000; text-decoration-color: #008000\">'U0'</span><span style=\"font-weight: bold\">)</span>,\n",
       "    <span style=\"color: #808000; text-decoration-color: #808000\">content</span>=<span style=\"color: #008000; text-decoration-color: #008000\">\"Gas was $2.50 when Trump left office, now it's over $4. Inflation is crushing working families while </span>\n",
       "<span style=\"color: #008000; text-decoration-color: #008000\">Washington sends billions overseas. We need leaders who put America First!\"</span>,\n",
       "    <span style=\"color: #808000; text-decoration-color: #808000\">interactions</span>=<span style=\"font-weight: bold\">[]</span>,\n",
       "    <span style=\"color: #808000; text-decoration-color: #808000\">comments</span>=<span style=\"font-weight: bold\">[]</span>,\n",
       "    <span style=\"color: #808000; text-decoration-color: #808000\">timestamp</span>=<span style=\"color: #800080; text-decoration-color: #800080; font-weight: bold\">datetime</span><span style=\"color: #800080; text-decoration-color: #800080; font-weight: bold\">.datetime</span><span style=\"font-weight: bold\">(</span><span style=\"color: #008080; text-decoration-color: #008080; font-weight: bold\">2025</span>, <span style=\"color: #008080; text-decoration-color: #008080; font-weight: bold\">7</span>, <span style=\"color: #008080; text-decoration-color: #008080; font-weight: bold\">23</span>, <span style=\"color: #008080; text-decoration-color: #008080; font-weight: bold\">14</span>, <span style=\"color: #008080; text-decoration-color: #008080; font-weight: bold\">28</span>, <span style=\"color: #008080; text-decoration-color: #008080; font-weight: bold\">24</span>, <span style=\"color: #008080; text-decoration-color: #008080; font-weight: bold\">950134</span><span style=\"font-weight: bold\">)</span>\n",
       "<span style=\"font-weight: bold\">)</span>\n",
       "</pre>\n"
      ],
      "text/plain": [
       "\u001b[1;35mPost\u001b[0m\u001b[1m(\u001b[0m\n",
       "    \u001b[33mid\u001b[0m=\u001b[32m'P0'\u001b[0m,\n",
       "    \u001b[33muser\u001b[0m=\u001b[1;35mUser\u001b[0m\u001b[1m(\u001b[0m\u001b[33mid\u001b[0m=\u001b[32m'U0'\u001b[0m\u001b[1m)\u001b[0m,\n",
       "    \u001b[33mcontent\u001b[0m=\u001b[32m\"Gas\u001b[0m\u001b[32m was $2.50 when Trump left office, now it's over $4. Inflation is crushing working families while \u001b[0m\n",
       "\u001b[32mWashington sends billions overseas. We need leaders who put America First!\"\u001b[0m,\n",
       "    \u001b[33minteractions\u001b[0m=\u001b[1m[\u001b[0m\u001b[1m]\u001b[0m,\n",
       "    \u001b[33mcomments\u001b[0m=\u001b[1m[\u001b[0m\u001b[1m]\u001b[0m,\n",
       "    \u001b[33mtimestamp\u001b[0m=\u001b[1;35mdatetime\u001b[0m\u001b[1;35m.datetime\u001b[0m\u001b[1m(\u001b[0m\u001b[1;36m2025\u001b[0m, \u001b[1;36m7\u001b[0m, \u001b[1;36m23\u001b[0m, \u001b[1;36m14\u001b[0m, \u001b[1;36m28\u001b[0m, \u001b[1;36m24\u001b[0m, \u001b[1;36m950134\u001b[0m\u001b[1m)\u001b[0m\n",
       "\u001b[1m)\u001b[0m\n"
      ]
     },
     "metadata": {},
     "output_type": "display_data"
    }
   ],
   "source": [
    "post = Post(\n",
    "    user=User(),\n",
    "    content=\"Gas was $2.50 when Trump left office, now it's over $4. Inflation is crushing working families while Washington sends billions overseas. We need leaders who put America First!\",\n",
    ")\n",
    "rich.print(post)"
   ]
  },
  {
   "cell_type": "code",
   "execution_count": 5,
   "id": "a70c60bf",
   "metadata": {},
   "outputs": [
    {
     "data": {
      "text/plain": [
       "[<AgentActions.like: 'like'>, <AgentActions.comment: 'comment'>]"
      ]
     },
     "execution_count": 5,
     "metadata": {},
     "output_type": "execute_result"
    }
   ],
   "source": [
    "agent.select_actions(post)"
   ]
  },
  {
   "cell_type": "code",
   "execution_count": 6,
   "id": "ea1efcc8",
   "metadata": {},
   "outputs": [
    {
     "data": {
      "text/plain": [
       "'\"I\\'m so tired of the fake news narrative that Trump\\'s policies are responsible for inflation. The real problem is the open border and all the stimulus checks Biden sent out. If we\\'d just stopped letting in all these illegals and stopped printing money, we\\'d be in much better shape. #MAGA #AmericaFirst\"'"
      ]
     },
     "execution_count": 6,
     "metadata": {},
     "output_type": "execute_result"
    }
   ],
   "source": [
    "agent.comment(post)"
   ]
  },
  {
   "cell_type": "code",
   "execution_count": 7,
   "id": "c945eb65",
   "metadata": {},
   "outputs": [
    {
     "data": {
      "text/plain": [
       "'\"I couldn\\'t agree more! The gas prices are through the roof and it\\'s all thanks to Biden\\'s reckless spending and the Democrat\\'s war on fossil fuels. We need to get back to drilling American oil and stop sending our money to countries that hate us. And let\\'s not forget about the border, we need to secure it now and stop letting in all these illegal aliens who are driving up inflation. #AmericaFirst #DrillBabyDrill #SecureTheBorder\"'"
      ]
     },
     "execution_count": 7,
     "metadata": {},
     "output_type": "execute_result"
    }
   ],
   "source": [
    "agent.post(post)"
   ]
  },
  {
   "cell_type": "code",
   "execution_count": 8,
   "id": "f8c0aeb5",
   "metadata": {},
   "outputs": [
    {
     "data": {
      "text/plain": [
       "[Message(role='system', content='\"I\\'m so tired of the fake news narrative that Trump\\'s policies are responsible for inflation. The real problem is the open border and all the stimulus checks Biden sent out. If we\\'d just stopped letting in all these illegals and stopped printing money, we\\'d be in much better shape. #MAGA #AmericaFirst\"'),\n",
       " Message(role='system', content='\"I couldn\\'t agree more! The gas prices are through the roof and it\\'s all thanks to Biden\\'s reckless spending and the Democrat\\'s war on fossil fuels. We need to get back to drilling American oil and stop sending our money to countries that hate us. And let\\'s not forget about the border, we need to secure it now and stop letting in all these illegal aliens who are driving up inflation. #AmericaFirst #DrillBabyDrill #SecureTheBorder\"')]"
      ]
     },
     "execution_count": 8,
     "metadata": {},
     "output_type": "execute_result"
    }
   ],
   "source": [
    "agent.memory"
   ]
  }
 ],
 "metadata": {
  "kernelspec": {
   "display_name": "twon-lss",
   "language": "python",
   "name": "python3"
  },
  "language_info": {
   "codemirror_mode": {
    "name": "ipython",
    "version": 3
   },
   "file_extension": ".py",
   "mimetype": "text/x-python",
   "name": "python",
   "nbconvert_exporter": "python",
   "pygments_lexer": "ipython3",
   "version": "3.10.14"
  }
 },
 "nbformat": 4,
 "nbformat_minor": 5
}
